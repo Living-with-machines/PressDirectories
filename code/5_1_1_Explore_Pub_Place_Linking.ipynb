{
 "metadata": {
  "language_info": {
   "codemirror_mode": {
    "name": "ipython",
    "version": 3
   },
   "file_extension": ".py",
   "mimetype": "text/x-python",
   "name": "python",
   "nbconvert_exporter": "python",
   "pygments_lexer": "ipython3",
   "version": "3.7.5"
  },
  "orig_nbformat": 2,
  "kernelspec": {
   "name": "python3",
   "display_name": "Python 3",
   "language": "python"
  }
 },
 "nbformat": 4,
 "nbformat_minor": 2,
 "cells": [
  {
   "cell_type": "code",
   "execution_count": 84,
   "metadata": {},
   "outputs": [
    {
     "output_type": "stream",
     "name": "stdout",
     "text": [
      "The autoreload extension is already loaded. To reload it, use:\n  %reload_ext autoreload\n"
     ]
    }
   ],
   "source": [
    "%load_ext autoreload\n",
    "%autoreload 2"
   ]
  },
  {
   "cell_type": "code",
   "execution_count": 85,
   "metadata": {},
   "outputs": [],
   "source": [
    "\n",
    "import pandas as pd "
   ]
  },
  {
   "source": [
    "# Link"
   ],
   "cell_type": "markdown",
   "metadata": {}
  },
  {
   "cell_type": "code",
   "execution_count": 86,
   "metadata": {},
   "outputs": [
    {
     "output_type": "stream",
     "name": "stderr",
     "text": [
      "/data/anaconda/envs/py37torch/lib/python3.7/site-packages/IPython/core/interactiveshell.py:3063: DtypeWarning: Columns (5,17,18,29,33,34,35,36,37) have mixed types.Specify dtype option on import or set low_memory=False.\n  interactivity=interactivity, compiler=compiler, result=result)\n"
     ]
    }
   ],
   "source": [
    "df_wiki = pd.read_csv('newspaper_metadata/british_isles_gazetteer.csv')\n",
    "df_wiki['english_label_lower'] = df_wiki.english_label.str.lower()\n",
    "df_wiki['description_set_str'] = df_wiki.description_set.apply(lambda x: ' '.join(eval(x)).lower())\n"
   ]
  },
  {
   "cell_type": "code",
   "execution_count": 87,
   "metadata": {},
   "outputs": [
    {
     "output_type": "execute_result",
     "data": {
      "text/plain": [
       "  wikidata_id             english_label instance_of  \\\n",
       "0   Q63607865             Kilberry Head   {Q185113}   \n",
       "1   Q63759247   Sandhurst Memorial Park    {Q22698}   \n",
       "2   Q63781193    Currie railway station    {Q55488}   \n",
       "3   Q63859929  Stannington War Memorial   {Q575759}   \n",
       "4   Q63860920            2 Darnley Road     {Q3947}   \n",
       "\n",
       "                                     description_set  \\\n",
       "0              {'cape in Argyll and Bute, Scotland'}   \n",
       "1          {'memorial park in Sandhurst, Berkshire'}   \n",
       "2  {'railway station in City of Edinburgh, Scotla...   \n",
       "3  {'war memorial in Stannington, Sheffield, Sout...   \n",
       "4                                 {'house in Leeds'}   \n",
       "\n",
       "                                          alias_dict nativelabel  \\\n",
       "0                          {'en': ['Kilberry Head']}         NaN   \n",
       "1                {'en': ['Sandhurst Memorial Park']}         NaN   \n",
       "2                 {'en': ['Currie railway station']}         NaN   \n",
       "3               {'en': ['Stannington War Memorial']}         NaN   \n",
       "4  {'en-gb': ['2 Darnley Road'], 'en': ['2 Darnle...         NaN   \n",
       "\n",
       "  population_dict area      hcounties date_opening  ... ukrailcode  \\\n",
       "0              {}  NaN    ['Q652539']          NaN  ...        NaN   \n",
       "1              {}  NaN  ['Q67284726']          NaN  ...        NaN   \n",
       "2              {}  NaN  ['Q67317221']          NaN  ...        NaN   \n",
       "3              {}  NaN       ['Q163']          NaN  ...        NaN   \n",
       "4              {}  NaN       ['Q163']          NaN  ...        NaN   \n",
       "\n",
       "  connectline connectservice getty heritage_designation ownedby   postal_code  \\\n",
       "0         NaN            NaN   NaN                  NaN     NaN           NaN   \n",
       "1         NaN            NaN   NaN                  NaN     NaN           NaN   \n",
       "2         NaN            NaN   NaN                  NaN     NaN           NaN   \n",
       "3         NaN            NaN   NaN            Q15700834     NaN           NaN   \n",
       "4         NaN            NaN   NaN                  NaN     NaN  ['LS16 5JF']   \n",
       "\n",
       "  street_located       english_label_lower  \\\n",
       "0            NaN             kilberry head   \n",
       "1            NaN   sandhurst memorial park   \n",
       "2            NaN    currie railway station   \n",
       "3            NaN  stannington war memorial   \n",
       "4            NaN            2 darnley road   \n",
       "\n",
       "                                 description_set_str  \n",
       "0                  cape in argyll and bute, scotland  \n",
       "1              memorial park in sandhurst, berkshire  \n",
       "2  railway station in city of edinburgh, scotland...  \n",
       "3  war memorial in stannington, sheffield, south ...  \n",
       "4                                     house in leeds  \n",
       "\n",
       "[5 rows x 44 columns]"
      ],
      "text/html": "<div>\n<style scoped>\n    .dataframe tbody tr th:only-of-type {\n        vertical-align: middle;\n    }\n\n    .dataframe tbody tr th {\n        vertical-align: top;\n    }\n\n    .dataframe thead th {\n        text-align: right;\n    }\n</style>\n<table border=\"1\" class=\"dataframe\">\n  <thead>\n    <tr style=\"text-align: right;\">\n      <th></th>\n      <th>wikidata_id</th>\n      <th>english_label</th>\n      <th>instance_of</th>\n      <th>description_set</th>\n      <th>alias_dict</th>\n      <th>nativelabel</th>\n      <th>population_dict</th>\n      <th>area</th>\n      <th>hcounties</th>\n      <th>date_opening</th>\n      <th>...</th>\n      <th>ukrailcode</th>\n      <th>connectline</th>\n      <th>connectservice</th>\n      <th>getty</th>\n      <th>heritage_designation</th>\n      <th>ownedby</th>\n      <th>postal_code</th>\n      <th>street_located</th>\n      <th>english_label_lower</th>\n      <th>description_set_str</th>\n    </tr>\n  </thead>\n  <tbody>\n    <tr>\n      <th>0</th>\n      <td>Q63607865</td>\n      <td>Kilberry Head</td>\n      <td>{Q185113}</td>\n      <td>{'cape in Argyll and Bute, Scotland'}</td>\n      <td>{'en': ['Kilberry Head']}</td>\n      <td>NaN</td>\n      <td>{}</td>\n      <td>NaN</td>\n      <td>['Q652539']</td>\n      <td>NaN</td>\n      <td>...</td>\n      <td>NaN</td>\n      <td>NaN</td>\n      <td>NaN</td>\n      <td>NaN</td>\n      <td>NaN</td>\n      <td>NaN</td>\n      <td>NaN</td>\n      <td>NaN</td>\n      <td>kilberry head</td>\n      <td>cape in argyll and bute, scotland</td>\n    </tr>\n    <tr>\n      <th>1</th>\n      <td>Q63759247</td>\n      <td>Sandhurst Memorial Park</td>\n      <td>{Q22698}</td>\n      <td>{'memorial park in Sandhurst, Berkshire'}</td>\n      <td>{'en': ['Sandhurst Memorial Park']}</td>\n      <td>NaN</td>\n      <td>{}</td>\n      <td>NaN</td>\n      <td>['Q67284726']</td>\n      <td>NaN</td>\n      <td>...</td>\n      <td>NaN</td>\n      <td>NaN</td>\n      <td>NaN</td>\n      <td>NaN</td>\n      <td>NaN</td>\n      <td>NaN</td>\n      <td>NaN</td>\n      <td>NaN</td>\n      <td>sandhurst memorial park</td>\n      <td>memorial park in sandhurst, berkshire</td>\n    </tr>\n    <tr>\n      <th>2</th>\n      <td>Q63781193</td>\n      <td>Currie railway station</td>\n      <td>{Q55488}</td>\n      <td>{'railway station in City of Edinburgh, Scotla...</td>\n      <td>{'en': ['Currie railway station']}</td>\n      <td>NaN</td>\n      <td>{}</td>\n      <td>NaN</td>\n      <td>['Q67317221']</td>\n      <td>NaN</td>\n      <td>...</td>\n      <td>NaN</td>\n      <td>NaN</td>\n      <td>NaN</td>\n      <td>NaN</td>\n      <td>NaN</td>\n      <td>NaN</td>\n      <td>NaN</td>\n      <td>NaN</td>\n      <td>currie railway station</td>\n      <td>railway station in city of edinburgh, scotland...</td>\n    </tr>\n    <tr>\n      <th>3</th>\n      <td>Q63859929</td>\n      <td>Stannington War Memorial</td>\n      <td>{Q575759}</td>\n      <td>{'war memorial in Stannington, Sheffield, Sout...</td>\n      <td>{'en': ['Stannington War Memorial']}</td>\n      <td>NaN</td>\n      <td>{}</td>\n      <td>NaN</td>\n      <td>['Q163']</td>\n      <td>NaN</td>\n      <td>...</td>\n      <td>NaN</td>\n      <td>NaN</td>\n      <td>NaN</td>\n      <td>NaN</td>\n      <td>Q15700834</td>\n      <td>NaN</td>\n      <td>NaN</td>\n      <td>NaN</td>\n      <td>stannington war memorial</td>\n      <td>war memorial in stannington, sheffield, south ...</td>\n    </tr>\n    <tr>\n      <th>4</th>\n      <td>Q63860920</td>\n      <td>2 Darnley Road</td>\n      <td>{Q3947}</td>\n      <td>{'house in Leeds'}</td>\n      <td>{'en-gb': ['2 Darnley Road'], 'en': ['2 Darnle...</td>\n      <td>NaN</td>\n      <td>{}</td>\n      <td>NaN</td>\n      <td>['Q163']</td>\n      <td>NaN</td>\n      <td>...</td>\n      <td>NaN</td>\n      <td>NaN</td>\n      <td>NaN</td>\n      <td>NaN</td>\n      <td>NaN</td>\n      <td>NaN</td>\n      <td>['LS16 5JF']</td>\n      <td>NaN</td>\n      <td>2 darnley road</td>\n      <td>house in leeds</td>\n    </tr>\n  </tbody>\n</table>\n<p>5 rows × 44 columns</p>\n</div>"
     },
     "metadata": {},
     "execution_count": 87
    }
   ],
   "source": [
    "df_wiki.instance_of.fillna('[]',inplace=True)\n",
    "df_wiki['instance_of'] = df_wiki.instance_of.apply(lambda x: set(eval(x)))\n",
    "df_wiki.head()"
   ]
  },
  {
   "cell_type": "code",
   "execution_count": 88,
   "metadata": {},
   "outputs": [
    {
     "output_type": "execute_result",
     "data": {
      "text/plain": [
       "  wikidata_id             english_label instance_of  \\\n",
       "0   Q63607865             Kilberry Head   {Q185113}   \n",
       "1   Q63759247   Sandhurst Memorial Park    {Q22698}   \n",
       "2   Q63781193    Currie railway station    {Q55488}   \n",
       "3   Q63859929  Stannington War Memorial   {Q575759}   \n",
       "4   Q63860920            2 Darnley Road     {Q3947}   \n",
       "\n",
       "                                     description_set  \\\n",
       "0              {'cape in Argyll and Bute, Scotland'}   \n",
       "1          {'memorial park in Sandhurst, Berkshire'}   \n",
       "2  {'railway station in City of Edinburgh, Scotla...   \n",
       "3  {'war memorial in Stannington, Sheffield, Sout...   \n",
       "4                                 {'house in Leeds'}   \n",
       "\n",
       "                                          alias_dict nativelabel  \\\n",
       "0                          {'en': ['Kilberry Head']}         NaN   \n",
       "1                {'en': ['Sandhurst Memorial Park']}         NaN   \n",
       "2                 {'en': ['Currie railway station']}         NaN   \n",
       "3               {'en': ['Stannington War Memorial']}         NaN   \n",
       "4  {'en-gb': ['2 Darnley Road'], 'en': ['2 Darnle...         NaN   \n",
       "\n",
       "  population_dict area      hcounties date_opening  ... connectline  \\\n",
       "0              {}  NaN    ['Q652539']          NaN  ...         NaN   \n",
       "1              {}  NaN  ['Q67284726']          NaN  ...         NaN   \n",
       "2              {}  NaN  ['Q67317221']          NaN  ...         NaN   \n",
       "3              {}  NaN       ['Q163']          NaN  ...         NaN   \n",
       "4              {}  NaN       ['Q163']          NaN  ...         NaN   \n",
       "\n",
       "  connectservice getty heritage_designation ownedby   postal_code  \\\n",
       "0            NaN   NaN                  NaN     NaN           NaN   \n",
       "1            NaN   NaN                  NaN     NaN           NaN   \n",
       "2            NaN   NaN                  NaN     NaN           NaN   \n",
       "3            NaN   NaN            Q15700834     NaN           NaN   \n",
       "4            NaN   NaN                  NaN     NaN  ['LS16 5JF']   \n",
       "\n",
       "  street_located       english_label_lower  \\\n",
       "0            NaN             kilberry head   \n",
       "1            NaN   sandhurst memorial park   \n",
       "2            NaN    currie railway station   \n",
       "3            NaN  stannington war memorial   \n",
       "4            NaN            2 darnley road   \n",
       "\n",
       "                                 description_set_str             alias_dict_en  \n",
       "0                  cape in argyll and bute, scotland             kilberry head  \n",
       "1              memorial park in sandhurst, berkshire   sandhurst memorial park  \n",
       "2  railway station in city of edinburgh, scotland...    currie railway station  \n",
       "3  war memorial in stannington, sheffield, south ...  stannington war memorial  \n",
       "4                                     house in leeds            2 darnley road  \n",
       "\n",
       "[5 rows x 45 columns]"
      ],
      "text/html": "<div>\n<style scoped>\n    .dataframe tbody tr th:only-of-type {\n        vertical-align: middle;\n    }\n\n    .dataframe tbody tr th {\n        vertical-align: top;\n    }\n\n    .dataframe thead th {\n        text-align: right;\n    }\n</style>\n<table border=\"1\" class=\"dataframe\">\n  <thead>\n    <tr style=\"text-align: right;\">\n      <th></th>\n      <th>wikidata_id</th>\n      <th>english_label</th>\n      <th>instance_of</th>\n      <th>description_set</th>\n      <th>alias_dict</th>\n      <th>nativelabel</th>\n      <th>population_dict</th>\n      <th>area</th>\n      <th>hcounties</th>\n      <th>date_opening</th>\n      <th>...</th>\n      <th>connectline</th>\n      <th>connectservice</th>\n      <th>getty</th>\n      <th>heritage_designation</th>\n      <th>ownedby</th>\n      <th>postal_code</th>\n      <th>street_located</th>\n      <th>english_label_lower</th>\n      <th>description_set_str</th>\n      <th>alias_dict_en</th>\n    </tr>\n  </thead>\n  <tbody>\n    <tr>\n      <th>0</th>\n      <td>Q63607865</td>\n      <td>Kilberry Head</td>\n      <td>{Q185113}</td>\n      <td>{'cape in Argyll and Bute, Scotland'}</td>\n      <td>{'en': ['Kilberry Head']}</td>\n      <td>NaN</td>\n      <td>{}</td>\n      <td>NaN</td>\n      <td>['Q652539']</td>\n      <td>NaN</td>\n      <td>...</td>\n      <td>NaN</td>\n      <td>NaN</td>\n      <td>NaN</td>\n      <td>NaN</td>\n      <td>NaN</td>\n      <td>NaN</td>\n      <td>NaN</td>\n      <td>kilberry head</td>\n      <td>cape in argyll and bute, scotland</td>\n      <td>kilberry head</td>\n    </tr>\n    <tr>\n      <th>1</th>\n      <td>Q63759247</td>\n      <td>Sandhurst Memorial Park</td>\n      <td>{Q22698}</td>\n      <td>{'memorial park in Sandhurst, Berkshire'}</td>\n      <td>{'en': ['Sandhurst Memorial Park']}</td>\n      <td>NaN</td>\n      <td>{}</td>\n      <td>NaN</td>\n      <td>['Q67284726']</td>\n      <td>NaN</td>\n      <td>...</td>\n      <td>NaN</td>\n      <td>NaN</td>\n      <td>NaN</td>\n      <td>NaN</td>\n      <td>NaN</td>\n      <td>NaN</td>\n      <td>NaN</td>\n      <td>sandhurst memorial park</td>\n      <td>memorial park in sandhurst, berkshire</td>\n      <td>sandhurst memorial park</td>\n    </tr>\n    <tr>\n      <th>2</th>\n      <td>Q63781193</td>\n      <td>Currie railway station</td>\n      <td>{Q55488}</td>\n      <td>{'railway station in City of Edinburgh, Scotla...</td>\n      <td>{'en': ['Currie railway station']}</td>\n      <td>NaN</td>\n      <td>{}</td>\n      <td>NaN</td>\n      <td>['Q67317221']</td>\n      <td>NaN</td>\n      <td>...</td>\n      <td>NaN</td>\n      <td>NaN</td>\n      <td>NaN</td>\n      <td>NaN</td>\n      <td>NaN</td>\n      <td>NaN</td>\n      <td>NaN</td>\n      <td>currie railway station</td>\n      <td>railway station in city of edinburgh, scotland...</td>\n      <td>currie railway station</td>\n    </tr>\n    <tr>\n      <th>3</th>\n      <td>Q63859929</td>\n      <td>Stannington War Memorial</td>\n      <td>{Q575759}</td>\n      <td>{'war memorial in Stannington, Sheffield, Sout...</td>\n      <td>{'en': ['Stannington War Memorial']}</td>\n      <td>NaN</td>\n      <td>{}</td>\n      <td>NaN</td>\n      <td>['Q163']</td>\n      <td>NaN</td>\n      <td>...</td>\n      <td>NaN</td>\n      <td>NaN</td>\n      <td>NaN</td>\n      <td>Q15700834</td>\n      <td>NaN</td>\n      <td>NaN</td>\n      <td>NaN</td>\n      <td>stannington war memorial</td>\n      <td>war memorial in stannington, sheffield, south ...</td>\n      <td>stannington war memorial</td>\n    </tr>\n    <tr>\n      <th>4</th>\n      <td>Q63860920</td>\n      <td>2 Darnley Road</td>\n      <td>{Q3947}</td>\n      <td>{'house in Leeds'}</td>\n      <td>{'en-gb': ['2 Darnley Road'], 'en': ['2 Darnle...</td>\n      <td>NaN</td>\n      <td>{}</td>\n      <td>NaN</td>\n      <td>['Q163']</td>\n      <td>NaN</td>\n      <td>...</td>\n      <td>NaN</td>\n      <td>NaN</td>\n      <td>NaN</td>\n      <td>NaN</td>\n      <td>NaN</td>\n      <td>['LS16 5JF']</td>\n      <td>NaN</td>\n      <td>2 darnley road</td>\n      <td>house in leeds</td>\n      <td>2 darnley road</td>\n    </tr>\n  </tbody>\n</table>\n<p>5 rows × 45 columns</p>\n</div>"
     },
     "metadata": {},
     "execution_count": 88
    }
   ],
   "source": [
    "df_wiki.alias_dict.fillna('{}',inplace=True)\n",
    "df_wiki['alias_dict_en'] = df_wiki.alias_dict.apply(lambda x: ' '.join(eval(x).get('en',[])).lower())\n",
    "df_wiki.head()"
   ]
  },
  {
   "cell_type": "code",
   "execution_count": 89,
   "metadata": {},
   "outputs": [
    {
     "output_type": "execute_result",
     "data": {
      "text/plain": [
       "                              original     district          county   wiki_id  \\\n",
       "0                               LONDON       london          london       Q84   \n",
       "1     ABERCARN . — ( Monmouthshire . )     abercarn   monmouthshire  Q1868842   \n",
       "2    ABERDARE . — ( Glamorganshire . )     aberdare  glamorganshire   Q319369   \n",
       "3  ABERGAVENNY . — ( Monmouthshire . )  abergavenny   monmouthshire   Q609161   \n",
       "4      ABERGELE . — ( Denbighshire . )     abergele    denbighshire  Q2771917   \n",
       "\n",
       "  district_first linking_code  \n",
       "0         london       manual  \n",
       "1       abercarn       manual  \n",
       "2       aberdare       manual  \n",
       "3    abergavenny       manual  \n",
       "4       abergele       manual  "
      ],
      "text/html": "<div>\n<style scoped>\n    .dataframe tbody tr th:only-of-type {\n        vertical-align: middle;\n    }\n\n    .dataframe tbody tr th {\n        vertical-align: top;\n    }\n\n    .dataframe thead th {\n        text-align: right;\n    }\n</style>\n<table border=\"1\" class=\"dataframe\">\n  <thead>\n    <tr style=\"text-align: right;\">\n      <th></th>\n      <th>original</th>\n      <th>district</th>\n      <th>county</th>\n      <th>wiki_id</th>\n      <th>district_first</th>\n      <th>linking_code</th>\n    </tr>\n  </thead>\n  <tbody>\n    <tr>\n      <th>0</th>\n      <td>LONDON</td>\n      <td>london</td>\n      <td>london</td>\n      <td>Q84</td>\n      <td>london</td>\n      <td>manual</td>\n    </tr>\n    <tr>\n      <th>1</th>\n      <td>ABERCARN . — ( Monmouthshire . )</td>\n      <td>abercarn</td>\n      <td>monmouthshire</td>\n      <td>Q1868842</td>\n      <td>abercarn</td>\n      <td>manual</td>\n    </tr>\n    <tr>\n      <th>2</th>\n      <td>ABERDARE . — ( Glamorganshire . )</td>\n      <td>aberdare</td>\n      <td>glamorganshire</td>\n      <td>Q319369</td>\n      <td>aberdare</td>\n      <td>manual</td>\n    </tr>\n    <tr>\n      <th>3</th>\n      <td>ABERGAVENNY . — ( Monmouthshire . )</td>\n      <td>abergavenny</td>\n      <td>monmouthshire</td>\n      <td>Q609161</td>\n      <td>abergavenny</td>\n      <td>manual</td>\n    </tr>\n    <tr>\n      <th>4</th>\n      <td>ABERGELE . — ( Denbighshire . )</td>\n      <td>abergele</td>\n      <td>denbighshire</td>\n      <td>Q2771917</td>\n      <td>abergele</td>\n      <td>manual</td>\n    </tr>\n  </tbody>\n</table>\n</div>"
     },
     "metadata": {},
     "execution_count": 89
    }
   ],
   "source": [
    "df = pd.read_csv('newspaper_metadata/district_names_with_wiki_final.csv',index_col=0)\n",
    "df['district_first'] = df.district.apply(lambda x: x.split('-')[0])\n",
    "df.head()"
   ]
  },
  {
   "cell_type": "code",
   "execution_count": 90,
   "metadata": {},
   "outputs": [
    {
     "output_type": "stream",
     "name": "stdout",
     "text": [
      "(174, 6) (955, 6)\n"
     ]
    }
   ],
   "source": [
    "# separate the already linked from the unlinked\n",
    "df_wo_wiki = df[df.linking_code!='manual']\n",
    "df_has_wiki = df[df.linking_code=='manual']\n",
    "print(df_has_wiki.shape,df_wo_wiki.shape)\n"
   ]
  },
  {
   "cell_type": "code",
   "execution_count": 91,
   "metadata": {},
   "outputs": [
    {
     "output_type": "stream",
     "name": "stderr",
     "text": [
      "/data/anaconda/envs/py37torch/lib/python3.7/site-packages/ipykernel_launcher.py:50: SettingWithCopyWarning: \n",
      "A value is trying to be set on a copy of a slice from a DataFrame.\n",
      "Try using .loc[row_indexer,col_indexer] = value instead\n",
      "\n",
      "See the caveats in the documentation: https://pandas.pydata.org/pandas-docs/stable/user_guide/indexing.html#returning-a-view-versus-a-copy\n",
      "/data/anaconda/envs/py37torch/lib/python3.7/site-packages/ipykernel_launcher.py:51: SettingWithCopyWarning: \n",
      "A value is trying to be set on a copy of a slice from a DataFrame.\n",
      "Try using .loc[row_indexer,col_indexer] = value instead\n",
      "\n",
      "See the caveats in the documentation: https://pandas.pydata.org/pandas-docs/stable/user_guide/indexing.html#returning-a-view-versus-a-copy\n",
      "/data/anaconda/envs/py37torch/lib/python3.7/site-packages/ipykernel_launcher.py:59: SettingWithCopyWarning: \n",
      "A value is trying to be set on a copy of a slice from a DataFrame.\n",
      "Try using .loc[row_indexer,col_indexer] = value instead\n",
      "\n",
      "See the caveats in the documentation: https://pandas.pydata.org/pandas-docs/stable/user_guide/indexing.html#returning-a-view-versus-a-copy\n",
      "/data/anaconda/envs/py37torch/lib/python3.7/site-packages/ipykernel_launcher.py:61: SettingWithCopyWarning: \n",
      "A value is trying to be set on a copy of a slice from a DataFrame.\n",
      "Try using .loc[row_indexer,col_indexer] = value instead\n",
      "\n",
      "See the caveats in the documentation: https://pandas.pydata.org/pandas-docs/stable/user_guide/indexing.html#returning-a-view-versus-a-copy\n",
      "/data/anaconda/envs/py37torch/lib/python3.7/site-packages/ipykernel_launcher.py:63: SettingWithCopyWarning: \n",
      "A value is trying to be set on a copy of a slice from a DataFrame.\n",
      "Try using .loc[row_indexer,col_indexer] = value instead\n",
      "\n",
      "See the caveats in the documentation: https://pandas.pydata.org/pandas-docs/stable/user_guide/indexing.html#returning-a-view-versus-a-copy\n"
     ]
    }
   ],
   "source": [
    "# objects used for disambiguating names, these take preference, especially if there is a town\n",
    "# Q3957: town\n",
    "# Q2755753: area of London\n",
    "# Q1115575: civil parish \n",
    "# Q1549591: big city\n",
    "# Q515: city\n",
    "# Q1637706: city with millions of inhabitants\n",
    "# Q18511725: market town\n",
    "\n",
    "# entities that we prefer when multiple candidate are available\n",
    "wiki_objects = {'Q3957','Q2755753','Q1115575','Q1549591', 'Q18511725','Q515','Q1637706'}\n",
    "#altnames = {'westmorland':'cumbria','dorsetshire':'dorset'}\n",
    "# checks if row contains overlap with selected wikidata entities\n",
    "overlapping_set = lambda x, wiki_objects: True if x.intersection(wiki_objects) else False\n",
    "# checks if string x contains substring y\n",
    "contains_string = lambda x, y: True if y in x else False \n",
    "\n",
    "\n",
    "for i,row in df_wo_wiki.iterrows():\n",
    "    \n",
    "\n",
    "    # firstly we try to find match based on the english label column\n",
    "    candidates = df_wiki[df_wiki.english_label_lower==row.district]\n",
    "    \n",
    "    # if no candidate is found check if place name appears in the string\n",
    "    if len(candidates) == 0:\n",
    "        candidates['has_place_string'] = candidates.english_label_lower.apply(contains_string,y=row.district)\n",
    "        \n",
    "        candidates_sel = candidates[candidates.has_place_string==True]\n",
    "        if len(candidates_sel) == 0:\n",
    "            # check only the first part of the name for compounds like fleetwood-on-...\n",
    "            candidates_sel = df_wiki[df_wiki.english_label_lower==row.district_first]\n",
    "            if len(candidates_sel) == 0:\n",
    "                # if still not found continue\n",
    "                row.linking_code = 'na_no_match'\n",
    "                continue\n",
    "            else:\n",
    "                candidates = candidates_sel\n",
    "        else:\n",
    "            candidates = candidates_sel\n",
    "    \n",
    "    # check first if we find just one match for this place name\n",
    "    if len(candidates) == 1:\n",
    "        row.wiki_id =  candidates.wikidata_id.values[0]\n",
    "        row.linking_code = 'unique_match'\n",
    "\n",
    "    else:\n",
    "        # if more than one match reduce the candidates to towns etc\n",
    "        # and check again if there is more than one match\n",
    "        candidates['has_wiki_object'] = candidates.instance_of.apply(overlapping_set,wiki_objects=wiki_objects)\n",
    "        candidates['is_town'] = candidates.instance_of.apply(overlapping_set,wiki_objects={'Q3957'})\n",
    "        candidates_red = candidates[candidates.has_wiki_object==True]\n",
    "        if len(candidates_red) == 1:\n",
    "            row.wiki_id =  candidates_red.wikidata_id.values[0]\n",
    "            row.linking_code = 'unique_wiki_object_match'\n",
    "\n",
    "        else:\n",
    "            # check if county name appears in description\n",
    "            candidates['has_string'] = candidates.description_set_str.apply(contains_string,y=row.county)\n",
    "            # shorten county name dorsetshire -> dorset\n",
    "            candidates['has_string'] = candidates.description_set_str.apply(contains_string,y=row.county.rstrip('shire'))\n",
    "            # reduce county names to those that also contain the county name\n",
    "            candidates['has_alias'] = candidates.alias_dict_en.apply(contains_string,y=row.county)\n",
    "\n",
    "            candidates_red = candidates[(candidates.has_string==True)| (candidates.has_alias==True)]\n",
    "            if len(candidates_red) == 0:\n",
    "                row.linking_code = 'na_no_entity_match'\n",
    "            elif len(candidates_red) == 1:\n",
    "                row.wiki_id =  candidates_red.wikidata_id.values[0]\n",
    "                row.linking_code = 'unique_county_match'\n",
    "            else:\n",
    "                # if still more than one cadidate restrict to both entities and county name overlap\n",
    "                candidates_red = candidates[(candidates.has_wiki_object==True) & (candidates.has_string==True)]\n",
    "                if  len(candidates_red) == 1:\n",
    "                    row.wiki_id =  candidates_red.wikidata_id.values[0]\n",
    "                    row.linking_code = 'unique_county_wiki_object_match'\n",
    "\n",
    "                else: \n",
    "                    # if multiple candidates prefer towns\n",
    "                    candidates_red = candidates[(candidates.is_town==True) & (candidates.has_string==True)]\n",
    "                    if  len(candidates_red) == 1:\n",
    "                        row.wiki_id =  candidates_red.wikidata_id.values[0]\n",
    "                        row.linking_code = 'unique_town_wiki_object_match'\n",
    "                    else:\n",
    "                        row.wiki_id = 'na_no_match_at_close'\n",
    "    \n",
    "\n"
   ]
  },
  {
   "cell_type": "code",
   "execution_count": 92,
   "metadata": {},
   "outputs": [
    {
     "output_type": "execute_result",
     "data": {
      "text/plain": [
       "True"
      ]
     },
     "metadata": {},
     "execution_count": 92
    }
   ],
   "source": [
    "df_out = pd.concat([df_has_wiki,\n",
    "        df_wo_wiki[['original','district','county','district_first','linking_code','wiki_id']]])\n",
    "df_out.shape[0] == df.shape[0]\n",
    "#df_out.to_csv('newspaper_metadata/district_names_with_wiki_final.csv')"
   ]
  },
  {
   "source": [
    "# Merge Dataframes"
   ],
   "cell_type": "markdown",
   "metadata": {}
  },
  {
   "cell_type": "code",
   "execution_count": 2,
   "metadata": {},
   "outputs": [],
   "source": [
    "from tools.helpers import insert_wikidata_ids\n",
    "import pandas as pd"
   ]
  },
  {
   "cell_type": "code",
   "execution_count": 3,
   "metadata": {},
   "outputs": [
    {
     "output_type": "stream",
     "name": "stderr",
     "text": [
      "/data/anaconda/envs/py37torch/lib/python3.7/site-packages/IPython/core/interactiveshell.py:3254: DtypeWarning: Columns (5,17,18,29,33,34,35,36,37) have mixed types.Specify dtype option on import or set low_memory=False.\n",
      "  if (await self.run_code(code, result,  async_=asy)):\n",
      "Adding these to wikidata gazetteer\n",
      "{'Q104332506', 'Q1011096', 'Q7194082', 'Q104327315'}\n",
      "(43361, 18) (43380, 28)\n"
     ]
    }
   ],
   "source": [
    "district_authority_file_path = './newspaper_metadata/district_names_with_wiki_final.csv'\n",
    "npd_path = 'output_data/MPD_export_1846_1920.csv'\n",
    "wikidata_gazetter_path = 'newspaper_metadata/british_isles_gazetteer.csv'\n",
    "\n",
    "npd = insert_wikidata_ids(npd_path,district_authority_file_path,wikidata_gazetter_path)"
   ]
  },
  {
   "cell_type": "code",
   "execution_count": 4,
   "metadata": {},
   "outputs": [
    {
     "output_type": "execute_result",
     "data": {
      "text/plain": [
       "Series([], Name: latitude, dtype: float64)"
      ]
     },
     "metadata": {},
     "execution_count": 4
    }
   ],
   "source": [
    "npd[npd.wikidata_id=='Q104332506'].latitude "
   ]
  },
  {
   "cell_type": "code",
   "execution_count": 5,
   "metadata": {},
   "outputs": [],
   "source": [
    "for e in [['Q1011096',51.2225, 1.4017],\n",
    "        ['Q104327315',53.922622,-7.864148 ],\n",
    "        ['Q104332506', 53.617882, -9.236175],\n",
    "        ['Q7194082',53.5933, 2.2966]]:\n",
    "        w,lat,lon = e\n",
    "        npd[npd.wikidata_id==w].latitude = lat\n",
    "        npd[npd.wikidata_id==w].longitude = lon"
   ]
  },
  {
   "cell_type": "code",
   "execution_count": 6,
   "metadata": {},
   "outputs": [],
   "source": [
    "npd.to_csv('output_data/MPD_export_1846_1920_geo_coded.csv')"
   ]
  },
  {
   "source": [
    "# Write for visualisation"
   ],
   "cell_type": "markdown",
   "metadata": {}
  },
  {
   "cell_type": "code",
   "execution_count": 4,
   "metadata": {},
   "outputs": [],
   "source": [
    "import pandas as pd\n",
    "from pathlib import Path"
   ]
  },
  {
   "cell_type": "code",
   "execution_count": 5,
   "metadata": {},
   "outputs": [],
   "source": [
    "npd = pd.read_csv('output_data/MPD_export_1846_1920_geo_coded.csv',index_col=0)"
   ]
  },
  {
   "cell_type": "code",
   "execution_count": 6,
   "metadata": {},
   "outputs": [
    {
     "output_type": "execute_result",
     "data": {
      "text/plain": [
       "Index(['id', 'S-TITLE', 'S-POL', 'CATEGORY', 'DISTRICT', 'DISTRICT_PUB',\n",
       "       'COUNTY', 'S-PRICE', 'D-EST', 'D-PUB', 'E-LOC', 'E-ORG', 'E-PER',\n",
       "       'S-TITLE-ALT', 'TEXT', 'DISTRICT_DESCRIPTION', 'year', 'chain_id',\n",
       "       'original', 'district', 'county', 'wiki_id', 'district_first',\n",
       "       'linking_code', 'wikidata_id', 'latitude', 'longitude', 'hcounties'],\n",
       "      dtype='object')"
      ]
     },
     "metadata": {},
     "execution_count": 6
    }
   ],
   "source": [
    "npd_prov = npd[npd.CATEGORY.isin(['welsh','provincial','scottish','irish'])]\n",
    "npd_prov.columns"
   ]
  },
  {
   "cell_type": "code",
   "execution_count": 17,
   "metadata": {},
   "outputs": [],
   "source": [
    "pol_out = []\n",
    "for i,row in npd_prov[~npd_prov['S-POL'].isna()].iterrows():\n",
    "    pol_labels = row['S-POL'].split(';')\n",
    "    for pl in pol_labels:\n",
    "        pol_out.append((pl.strip(),row.year,row.DISTRICT,row.latitude,row.longitude))\n"
   ]
  },
  {
   "cell_type": "code",
   "execution_count": 18,
   "metadata": {},
   "outputs": [
    {
     "output_type": "execute_result",
     "data": {
      "text/plain": [
       "      pol_label  year                             DISTRICT   latitude  \\\n",
       "0       liberal  1846  aylesbury . — ( buckinghamshire . )  51.816800   \n",
       "1  conservative  1846  aylesbury . — ( buckinghamshire . )  51.816800   \n",
       "2       liberal  1846  aylesbury . — ( buckinghamshire . )  51.816800   \n",
       "3       neutral  1846        banbury . — ( oxfordshire . )  52.061389   \n",
       "4  conservative  1846      barnstaple . — ( devonshire . )  51.082300   \n",
       "\n",
       "   longitude  \n",
       "0  -0.812400  \n",
       "1  -0.812400  \n",
       "2  -0.812400  \n",
       "3  -1.339167  \n",
       "4  -4.048900  "
      ],
      "text/html": "<div>\n<style scoped>\n    .dataframe tbody tr th:only-of-type {\n        vertical-align: middle;\n    }\n\n    .dataframe tbody tr th {\n        vertical-align: top;\n    }\n\n    .dataframe thead th {\n        text-align: right;\n    }\n</style>\n<table border=\"1\" class=\"dataframe\">\n  <thead>\n    <tr style=\"text-align: right;\">\n      <th></th>\n      <th>pol_label</th>\n      <th>year</th>\n      <th>DISTRICT</th>\n      <th>latitude</th>\n      <th>longitude</th>\n    </tr>\n  </thead>\n  <tbody>\n    <tr>\n      <th>0</th>\n      <td>liberal</td>\n      <td>1846</td>\n      <td>aylesbury . — ( buckinghamshire . )</td>\n      <td>51.816800</td>\n      <td>-0.812400</td>\n    </tr>\n    <tr>\n      <th>1</th>\n      <td>conservative</td>\n      <td>1846</td>\n      <td>aylesbury . — ( buckinghamshire . )</td>\n      <td>51.816800</td>\n      <td>-0.812400</td>\n    </tr>\n    <tr>\n      <th>2</th>\n      <td>liberal</td>\n      <td>1846</td>\n      <td>aylesbury . — ( buckinghamshire . )</td>\n      <td>51.816800</td>\n      <td>-0.812400</td>\n    </tr>\n    <tr>\n      <th>3</th>\n      <td>neutral</td>\n      <td>1846</td>\n      <td>banbury . — ( oxfordshire . )</td>\n      <td>52.061389</td>\n      <td>-1.339167</td>\n    </tr>\n    <tr>\n      <th>4</th>\n      <td>conservative</td>\n      <td>1846</td>\n      <td>barnstaple . — ( devonshire . )</td>\n      <td>51.082300</td>\n      <td>-4.048900</td>\n    </tr>\n  </tbody>\n</table>\n</div>"
     },
     "metadata": {},
     "execution_count": 18
    }
   ],
   "source": [
    "out_path = Path('output_visualisation')\n",
    "out_path.mkdir(exist_ok=True)\n",
    "df_pol = pd.DataFrame(pol_out,columns=['pol_label','year','DISTRICT','latitude','longitude'])#.to_csv(out_path / \n",
    "df_pol.head()\n"
   ]
  },
  {
   "cell_type": "code",
   "execution_count": 51,
   "metadata": {},
   "outputs": [
    {
     "output_type": "execute_result",
     "data": {
      "text/plain": [
       "(33420, 5)"
      ]
     },
     "metadata": {},
     "execution_count": 51
    }
   ],
   "source": [
    "df_pol.shape"
   ]
  },
  {
   "cell_type": "code",
   "execution_count": 78,
   "metadata": {},
   "outputs": [],
   "source": [
    "lib = df_pol[df_pol.pol_label=='conservative'].groupby(['year','DISTRICT'])['pol_label'].count()\n",
    "total = df_pol.groupby(['year','DISTRICT'])['pol_label'].count()\n",
    "ratio = lib / total"
   ]
  },
  {
   "cell_type": "code",
   "execution_count": 79,
   "metadata": {},
   "outputs": [],
   "source": [
    "ratio.fillna(.0,inplace = True)"
   ]
  },
  {
   "cell_type": "code",
   "execution_count": 80,
   "metadata": {},
   "outputs": [
    {
     "output_type": "execute_result",
     "data": {
      "text/plain": [
       "(14626,)"
      ]
     },
     "metadata": {},
     "execution_count": 80
    }
   ],
   "source": [
    "ratio.shape"
   ]
  },
  {
   "cell_type": "code",
   "execution_count": 81,
   "metadata": {},
   "outputs": [
    {
     "output_type": "execute_result",
     "data": {
      "text/plain": [
       "       year                                           DISTRICT  pol_label  \\\n",
       "0      1846                   aberdeen . — ( aberdeenshire . )       0.20   \n",
       "1      1846  achill . — ( in the province of connaught and ...       1.00   \n",
       "2      1846                     arbroath . — ( forfarshire . )       0.00   \n",
       "3      1846  armagh. — ( in the province of ulster and the ...       1.00   \n",
       "4      1846  athlone . — ( in the province of leinster and ...       1.00   \n",
       "...     ...                                                ...        ...   \n",
       "14621  1920                     wrexham . — ( denbighshire . )       0.25   \n",
       "14622  1920                  wycombe . — ( buckinghamshire . )       0.00   \n",
       "14623  1920                         yarmouth . — ( norfolk . )       0.00   \n",
       "14624  1920                     yeovil . — ( somersetshire . )       0.00   \n",
       "14625  1920                           york . — ( yorkshire . )       0.00   \n",
       "\n",
       "       pol_label  \n",
       "0              5  \n",
       "1              1  \n",
       "2              1  \n",
       "3              1  \n",
       "4              1  \n",
       "...          ...  \n",
       "14621          4  \n",
       "14622          1  \n",
       "14623          3  \n",
       "14624          3  \n",
       "14625          3  \n",
       "\n",
       "[14626 rows x 4 columns]"
      ],
      "text/html": "<div>\n<style scoped>\n    .dataframe tbody tr th:only-of-type {\n        vertical-align: middle;\n    }\n\n    .dataframe tbody tr th {\n        vertical-align: top;\n    }\n\n    .dataframe thead th {\n        text-align: right;\n    }\n</style>\n<table border=\"1\" class=\"dataframe\">\n  <thead>\n    <tr style=\"text-align: right;\">\n      <th></th>\n      <th>year</th>\n      <th>DISTRICT</th>\n      <th>pol_label</th>\n      <th>pol_label</th>\n    </tr>\n  </thead>\n  <tbody>\n    <tr>\n      <th>0</th>\n      <td>1846</td>\n      <td>aberdeen . — ( aberdeenshire . )</td>\n      <td>0.20</td>\n      <td>5</td>\n    </tr>\n    <tr>\n      <th>1</th>\n      <td>1846</td>\n      <td>achill . — ( in the province of connaught and ...</td>\n      <td>1.00</td>\n      <td>1</td>\n    </tr>\n    <tr>\n      <th>2</th>\n      <td>1846</td>\n      <td>arbroath . — ( forfarshire . )</td>\n      <td>0.00</td>\n      <td>1</td>\n    </tr>\n    <tr>\n      <th>3</th>\n      <td>1846</td>\n      <td>armagh. — ( in the province of ulster and the ...</td>\n      <td>1.00</td>\n      <td>1</td>\n    </tr>\n    <tr>\n      <th>4</th>\n      <td>1846</td>\n      <td>athlone . — ( in the province of leinster and ...</td>\n      <td>1.00</td>\n      <td>1</td>\n    </tr>\n    <tr>\n      <th>...</th>\n      <td>...</td>\n      <td>...</td>\n      <td>...</td>\n      <td>...</td>\n    </tr>\n    <tr>\n      <th>14621</th>\n      <td>1920</td>\n      <td>wrexham . — ( denbighshire . )</td>\n      <td>0.25</td>\n      <td>4</td>\n    </tr>\n    <tr>\n      <th>14622</th>\n      <td>1920</td>\n      <td>wycombe . — ( buckinghamshire . )</td>\n      <td>0.00</td>\n      <td>1</td>\n    </tr>\n    <tr>\n      <th>14623</th>\n      <td>1920</td>\n      <td>yarmouth . — ( norfolk . )</td>\n      <td>0.00</td>\n      <td>3</td>\n    </tr>\n    <tr>\n      <th>14624</th>\n      <td>1920</td>\n      <td>yeovil . — ( somersetshire . )</td>\n      <td>0.00</td>\n      <td>3</td>\n    </tr>\n    <tr>\n      <th>14625</th>\n      <td>1920</td>\n      <td>york . — ( yorkshire . )</td>\n      <td>0.00</td>\n      <td>3</td>\n    </tr>\n  </tbody>\n</table>\n<p>14626 rows × 4 columns</p>\n</div>"
     },
     "metadata": {},
     "execution_count": 81
    }
   ],
   "source": [
    "df_merged = pd.concat([ratio,total],axis=1).reset_index()\n",
    "df_merged"
   ]
  },
  {
   "cell_type": "code",
   "execution_count": 82,
   "metadata": {},
   "outputs": [
    {
     "output_type": "stream",
     "name": "stdout",
     "text": [
      "(14626, 6)\n"
     ]
    },
    {
     "output_type": "execute_result",
     "data": {
      "text/plain": [
       "   year                                           DISTRICT  pol_label  \\\n",
       "0  1846                   aberdeen . — ( aberdeenshire . )        0.2   \n",
       "1  1846  achill . — ( in the province of connaught and ...        1.0   \n",
       "2  1846                     arbroath . — ( forfarshire . )        0.0   \n",
       "3  1846  armagh. — ( in the province of ulster and the ...        1.0   \n",
       "4  1846  athlone . — ( in the province of leinster and ...        1.0   \n",
       "\n",
       "   pol_label   latitude  longitude  \n",
       "0          5  57.150000  -2.100000  \n",
       "1          1  53.958889 -10.038889  \n",
       "2          1  56.561386  -2.585706  \n",
       "3          1  54.349444  -6.654444  \n",
       "4          1  53.423611  -7.942500  "
      ],
      "text/html": "<div>\n<style scoped>\n    .dataframe tbody tr th:only-of-type {\n        vertical-align: middle;\n    }\n\n    .dataframe tbody tr th {\n        vertical-align: top;\n    }\n\n    .dataframe thead th {\n        text-align: right;\n    }\n</style>\n<table border=\"1\" class=\"dataframe\">\n  <thead>\n    <tr style=\"text-align: right;\">\n      <th></th>\n      <th>year</th>\n      <th>DISTRICT</th>\n      <th>pol_label</th>\n      <th>pol_label</th>\n      <th>latitude</th>\n      <th>longitude</th>\n    </tr>\n  </thead>\n  <tbody>\n    <tr>\n      <th>0</th>\n      <td>1846</td>\n      <td>aberdeen . — ( aberdeenshire . )</td>\n      <td>0.2</td>\n      <td>5</td>\n      <td>57.150000</td>\n      <td>-2.100000</td>\n    </tr>\n    <tr>\n      <th>1</th>\n      <td>1846</td>\n      <td>achill . — ( in the province of connaught and ...</td>\n      <td>1.0</td>\n      <td>1</td>\n      <td>53.958889</td>\n      <td>-10.038889</td>\n    </tr>\n    <tr>\n      <th>2</th>\n      <td>1846</td>\n      <td>arbroath . — ( forfarshire . )</td>\n      <td>0.0</td>\n      <td>1</td>\n      <td>56.561386</td>\n      <td>-2.585706</td>\n    </tr>\n    <tr>\n      <th>3</th>\n      <td>1846</td>\n      <td>armagh. — ( in the province of ulster and the ...</td>\n      <td>1.0</td>\n      <td>1</td>\n      <td>54.349444</td>\n      <td>-6.654444</td>\n    </tr>\n    <tr>\n      <th>4</th>\n      <td>1846</td>\n      <td>athlone . — ( in the province of leinster and ...</td>\n      <td>1.0</td>\n      <td>1</td>\n      <td>53.423611</td>\n      <td>-7.942500</td>\n    </tr>\n  </tbody>\n</table>\n</div>"
     },
     "metadata": {},
     "execution_count": 82
    }
   ],
   "source": [
    "df_merged = df_merged.merge(df_pol[['DISTRICT','latitude','longitude']].drop_duplicates(),left_on=['DISTRICT'],right_on=['DISTRICT'],how='left')\n",
    "print(df_merged.shape)\n",
    "df_merged.head()"
   ]
  },
  {
   "cell_type": "code",
   "execution_count": 83,
   "metadata": {},
   "outputs": [],
   "source": [
    "df_merged.columns = ['year','DISTRICT','ratio','count','latitude','longitude']\n",
    "df_merged.to_csv(out_path / 'pol_con_landscape.csv')"
   ]
  },
  {
   "cell_type": "code",
   "execution_count": null,
   "metadata": {},
   "outputs": [],
   "source": []
  },
  {
   "cell_type": "code",
   "execution_count": 49,
   "metadata": {},
   "outputs": [
    {
     "output_type": "execute_result",
     "data": {
      "text/plain": [
       "    pol_label_x  year                             DISTRICT  latitude  \\\n",
       "0       liberal  1846  aylesbury . — ( buckinghamshire . )   51.8168   \n",
       "1  conservative  1846  aylesbury . — ( buckinghamshire . )   51.8168   \n",
       "2       liberal  1846  aylesbury . — ( buckinghamshire . )   51.8168   \n",
       "3  conservative  1846      barnstaple . — ( devonshire . )   51.0823   \n",
       "4       liberal  1846      barnstaple . — ( devonshire . )   51.0823   \n",
       "\n",
       "   longitude  pol_label_y  pol_label  \n",
       "0    -0.8124     0.666667          2  \n",
       "1    -0.8124     0.666667          2  \n",
       "2    -0.8124     0.666667          2  \n",
       "3    -4.0489     0.500000          1  \n",
       "4    -4.0489     0.500000          1  "
      ],
      "text/html": "<div>\n<style scoped>\n    .dataframe tbody tr th:only-of-type {\n        vertical-align: middle;\n    }\n\n    .dataframe tbody tr th {\n        vertical-align: top;\n    }\n\n    .dataframe thead th {\n        text-align: right;\n    }\n</style>\n<table border=\"1\" class=\"dataframe\">\n  <thead>\n    <tr style=\"text-align: right;\">\n      <th></th>\n      <th>pol_label_x</th>\n      <th>year</th>\n      <th>DISTRICT</th>\n      <th>latitude</th>\n      <th>longitude</th>\n      <th>pol_label_y</th>\n      <th>pol_label</th>\n    </tr>\n  </thead>\n  <tbody>\n    <tr>\n      <th>0</th>\n      <td>liberal</td>\n      <td>1846</td>\n      <td>aylesbury . — ( buckinghamshire . )</td>\n      <td>51.8168</td>\n      <td>-0.8124</td>\n      <td>0.666667</td>\n      <td>2</td>\n    </tr>\n    <tr>\n      <th>1</th>\n      <td>conservative</td>\n      <td>1846</td>\n      <td>aylesbury . — ( buckinghamshire . )</td>\n      <td>51.8168</td>\n      <td>-0.8124</td>\n      <td>0.666667</td>\n      <td>2</td>\n    </tr>\n    <tr>\n      <th>2</th>\n      <td>liberal</td>\n      <td>1846</td>\n      <td>aylesbury . — ( buckinghamshire . )</td>\n      <td>51.8168</td>\n      <td>-0.8124</td>\n      <td>0.666667</td>\n      <td>2</td>\n    </tr>\n    <tr>\n      <th>3</th>\n      <td>conservative</td>\n      <td>1846</td>\n      <td>barnstaple . — ( devonshire . )</td>\n      <td>51.0823</td>\n      <td>-4.0489</td>\n      <td>0.500000</td>\n      <td>1</td>\n    </tr>\n    <tr>\n      <th>4</th>\n      <td>liberal</td>\n      <td>1846</td>\n      <td>barnstaple . — ( devonshire . )</td>\n      <td>51.0823</td>\n      <td>-4.0489</td>\n      <td>0.500000</td>\n      <td>1</td>\n    </tr>\n  </tbody>\n</table>\n</div>"
     },
     "metadata": {},
     "execution_count": 49
    }
   ],
   "source": [
    "df_merged.head()"
   ]
  },
  {
   "cell_type": "code",
   "execution_count": null,
   "metadata": {},
   "outputs": [],
   "source": []
  }
 ]
}