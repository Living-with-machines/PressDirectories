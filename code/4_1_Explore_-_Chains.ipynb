{
 "metadata": {
  "language_info": {
   "codemirror_mode": {
    "name": "ipython",
    "version": 3
   },
   "file_extension": ".py",
   "mimetype": "text/x-python",
   "name": "python",
   "nbconvert_exporter": "python",
   "pygments_lexer": "ipython3",
   "version": "3.7.5"
  },
  "orig_nbformat": 2,
  "kernelspec": {
   "name": "python3",
   "display_name": "Python 3",
   "language": "python"
  }
 },
 "nbformat": 4,
 "nbformat_minor": 2,
 "cells": [
  {
   "cell_type": "code",
   "execution_count": 7,
   "metadata": {},
   "outputs": [
    {
     "output_type": "stream",
     "name": "stdout",
     "text": [
      "The autoreload extension is already loaded. To reload it, use:\n  %reload_ext autoreload\n"
     ]
    }
   ],
   "source": [
    "%load_ext autoreload\n",
    "%autoreload 2"
   ]
  },
  {
   "cell_type": "code",
   "execution_count": 8,
   "metadata": {},
   "outputs": [],
   "source": [
    "from pathlib import Path\n",
    "import pickle\n",
    "from tools.record_tools import LinkChainer, sort_pickled"
   ]
  },
  {
   "cell_type": "code",
   "execution_count": 9,
   "metadata": {},
   "outputs": [],
   "source": [
    "csv_dump_path = Path('./csv_dump_final/')\n",
    "link_predictions_path = Path('./link_dump/predictions/')"
   ]
  },
  {
   "cell_type": "code",
   "execution_count": 10,
   "metadata": {},
   "outputs": [],
   "source": [
    "pickled_links = list(link_predictions_path.glob(\"**/*.pickle\")) \n",
    "pickled_sorted = sort_pickled(pickled_links)"
   ]
  },
  {
   "cell_type": "code",
   "execution_count": 11,
   "metadata": {},
   "outputs": [
    {
     "output_type": "stream",
     "name": "stdout",
     "text": [
      "< LinkChainer Object with 461 root elements. >\n"
     ]
    }
   ],
   "source": [
    "linkchainer = LinkChainer()\n",
    "first_path = pickled_sorted[0]\n",
    "subsequent_paths = pickled_sorted[1:]\n",
    "\n",
    "with open(first_path,'rb') as in_pickle:\n",
    "    links = pickle.load(in_pickle)\n",
    "    linkchainer.initiate(links)\n",
    "\n",
    "print(linkchainer)"
   ]
  },
  {
   "cell_type": "code",
   "execution_count": 12,
   "metadata": {},
   "outputs": [
    {
     "output_type": "stream",
     "name": "stdout",
     "text": [
      "< LinkChainer Object with 511 root elements. >\n",
      "< LinkChainer Object with 610 root elements. >\n",
      "< LinkChainer Object with 845 root elements. >\n",
      "< LinkChainer Object with 981 root elements. >\n",
      "< LinkChainer Object with 1200 root elements. >\n",
      "< LinkChainer Object with 1482 root elements. >\n",
      "< LinkChainer Object with 1629 root elements. >\n",
      "< LinkChainer Object with 1829 root elements. >\n",
      "< LinkChainer Object with 1990 root elements. >\n",
      "< LinkChainer Object with 2262 root elements. >\n",
      "< LinkChainer Object with 2429 root elements. >\n",
      "< LinkChainer Object with 2707 root elements. >\n",
      "< LinkChainer Object with 2880 root elements. >\n",
      "< LinkChainer Object with 3176 root elements. >\n",
      "< LinkChainer Object with 3395 root elements. >\n",
      "< LinkChainer Object with 3713 root elements. >\n",
      "< LinkChainer Object with 3913 root elements. >\n",
      "< LinkChainer Object with 4285 root elements. >\n",
      "< LinkChainer Object with 4465 root elements. >\n",
      "< LinkChainer Object with 4782 root elements. >\n",
      "< LinkChainer Object with 4970 root elements. >\n",
      "< LinkChainer Object with 5305 root elements. >\n",
      "< LinkChainer Object with 5586 root elements. >\n",
      "< LinkChainer Object with 5922 root elements. >\n"
     ]
    }
   ],
   "source": [
    "for path in subsequent_paths:\n",
    "    with open(path,'rb') as in_pickle:\n",
    "        links = pickle.load(in_pickle)\n",
    "        linkchainer.add_objects(links)\n",
    "        print(linkchainer)"
   ]
  },
  {
   "source": [
    "## Inspect Chains"
   ],
   "cell_type": "markdown",
   "metadata": {}
  },
  {
   "cell_type": "code",
   "execution_count": 13,
   "metadata": {},
   "outputs": [
    {
     "output_type": "stream",
     "name": "stdout",
     "text": [
      "['MPD_1846_141', 'MPD_1847_142', 'MPD_1851_136', 'MPD_1856_169', 'MPD_1858_186', 'MPD_1860_217', 'MPD_1863_261', 'MPD_1865_248', 'MPD_1868_287', 'MPD_1870_295', 'MPD_1873_325', 'MPD_1875_337', 'MPD_1878_376', 'MPD_1880_421', 'MPD_1883_450', 'MPD_1885_475', 'MPD_1888_545', 'MPD_1890_484', 'MPD_1893_527', 'MPD_1895_543', 'MPD_1898_538', 'MPD_1900_530', 'MPD_1905_542', 'MPD_1910_502', 'MPD_1915_555', 'MPD_1920_530']\n"
     ]
    }
   ],
   "source": [
    "chain = linkchainer.__sort__()[4][1].chain; print(chain)\n"
   ]
  },
  {
   "cell_type": "code",
   "execution_count": 20,
   "metadata": {},
   "outputs": [
    {
     "output_type": "execute_result",
     "data": {
      "text/plain": [
       "       index            id                    S-TITLE    S-POL    CATEGORY  \\\n",
       "141      141  MPD_1846_141       BERWICK ADVERTISER .  liberal  provincial   \n",
       "680      142  MPD_1847_142       BERWICK ADVERTISER .  liberal  provincial   \n",
       "1222     136  MPD_1851_136       BERWICK ADVERTISER .  liberal  provincial   \n",
       "1814     169  MPD_1856_169       BERWICK ADVERTISER .  liberal  provincial   \n",
       "2629     186  MPD_1858_186       BERWICK ADVERTISER .  liberal  provincial   \n",
       "3510     217  MPD_1860_217       BERWICK ADVERTISER .  liberal  provincial   \n",
       "4560     261  MPD_1863_261       BERWICK ADVERTISER .  liberal  provincial   \n",
       "5719     248  MPD_1865_248       BERWICK ADVERTISER .  liberal  provincial   \n",
       "6994     287  MPD_1868_287       BERWICK ADVERTISER .  liberal  provincial   \n",
       "8317     295  MPD_1870_295       BERWICK ADVERTISER .  liberal  provincial   \n",
       "9683     325  MPD_1873_325       BERWICK ADVERTISER .  liberal  provincial   \n",
       "11189    337  MPD_1875_337       BERWICK ADVERTISER .  liberal  provincial   \n",
       "12798    376  MPD_1878_376       BERWICK ADVERTISER .  liberal  provincial   \n",
       "14547    421  MPD_1880_421       BERWICK ADVERTISER .  liberal  provincial   \n",
       "16381    450  MPD_1883_450       BERWICK ADVERTISER .  liberal  provincial   \n",
       "18340    475  MPD_1885_475       BERWICK ADVERTISER .  liberal  provincial   \n",
       "20448    545  MPD_1888_545       BERWICK ADVERTISER .  liberal  provincial   \n",
       "22590    484  MPD_1890_484       BERWICK ADVERTISER .  liberal  provincial   \n",
       "24824    527  MPD_1893_527       BERWICK ADVERTISER .  liberal  provincial   \n",
       "27150    543  MPD_1895_543  BERWICKSHIRE ADVERTISER .  liberal  provincial   \n",
       "29468    538  MPD_1898_538       BERWICK ADVERTISER .  liberal  provincial   \n",
       "31907    530  MPD_1900_530       BERWICK ADVERTISER .  liberal  provincial   \n",
       "34413    542  MPD_1905_542       BERWICK ADVERTISER .  liberal  provincial   \n",
       "36879    502  MPD_1910_502       BERWICK ADVERTISER .  liberal  provincial   \n",
       "39249    555  MPD_1915_555       BERWICK ADVERTISER .  liberal  provincial   \n",
       "41635    530  MPD_1920_530       BERWICK ADVERTISER .  liberal  provincial   \n",
       "\n",
       "                                          DISTRICT        DISTRICT_PUB  \\\n",
       "141               berwick . — ( northumberland . )             berwick   \n",
       "680               berwick . — ( northumberland . )             berwick   \n",
       "1222              berwick . — ( northumberland . )             berwick   \n",
       "1814              berwick . — ( northumberland . )             berwick   \n",
       "2629              berwick . — ( northumberland . )             berwick   \n",
       "3510              berwick . — ( northumberland . )             berwick   \n",
       "4560              berwick . — ( northumberland . )             berwick   \n",
       "5719              berwick . — ( northumberland . )             berwick   \n",
       "6994              berwick . — ( northumberland . )             berwick   \n",
       "8317              berwick . — ( northumberland . )             berwick   \n",
       "9683              berwick . — ( northumberland . )             berwick   \n",
       "11189             berwick . — ( northumberland . )             berwick   \n",
       "12798             berwick . — ( northumberland . )             berwick   \n",
       "14547             berwick . — ( northumberland . )             berwick   \n",
       "16381             berwick . — ( northumberland . )             berwick   \n",
       "18340             berwick . — ( northumberland . )             berwick   \n",
       "20448             berwick . — ( northumberland . )             berwick   \n",
       "22590             alnwick . — ( northumberland . )             alnwick   \n",
       "24824             berwick . — ( northumberland . )             berwick   \n",
       "27150             berwick . — ( northumberland . )             berwick   \n",
       "29468             berwick . — ( northumberland . )             berwick   \n",
       "31907             berwick . — ( northumberland . )             berwick   \n",
       "34413  berwick-upon-tweed . — ( northumberland . )  berwick-upon-tweed   \n",
       "36879  berwick-upon-tweed . — ( northumberland . )  berwick-upon-tweed   \n",
       "39249  berwick-upon-tweed . — ( northumberland . )  berwick-upon-tweed   \n",
       "41635  berwick-upon-tweed . — ( northumberland . )  berwick-upon-tweed   \n",
       "\n",
       "               COUNTY          S-PRICE             D-EST     D-PUB  \\\n",
       "141    northumberland            4 ½ d  January 2 , 1808  Saturday   \n",
       "680    northumberland            4 ½ d  January 2 , 1808  Saturday   \n",
       "1222   northumberland            4 ½ d  January 2 , 1808  Saturday   \n",
       "1814   northumberland  3 ½ d<SEP>4 ½ d  January 2 , 1808  Saturday   \n",
       "2629   northumberland  3 ½ d<SEP>4 ½ d  January 2 , 1808  Saturday   \n",
       "3510   northumberland  3 ½ d<SEP>4 ½ d  January 2 , 1808  Saturday   \n",
       "4560   northumberland  3 ½ d<SEP>4 ½ d  January 2 , 1808  Saturday   \n",
       "5719   northumberland        3d<SEP>4d  January 2 , 1808  Saturday   \n",
       "6994   northumberland        3d<SEP>4d  January 2 , 1808  Saturday   \n",
       "8317   northumberland        2d<SEP>3d  January 2 , 1808    Friday   \n",
       "9683   northumberland               2d  January 2 , 1808    Friday   \n",
       "11189  northumberland               2d  January 2 , 1808    Friday   \n",
       "12798  northumberland               2d  January 2 , 1808    Friday   \n",
       "14547  northumberland               2d  January 2 , 1808    Friday   \n",
       "16381  northumberland               2d  January 2 , 1808    Friday   \n",
       "18340  northumberland               1d  January 2 , 1808    Friday   \n",
       "20448  northumberland               1d  January 2 , 1808    Friday   \n",
       "22590  northumberland               1d  January 2 , 1808    Friday   \n",
       "24824  northumberland               1d  January 2 , 1808    Friday   \n",
       "27150  northumberland               1d  January 2 , 1808   Tuesday   \n",
       "29468  northumberland               1d  January 2 , 1808    Friday   \n",
       "31907  northumberland               1d  January 2 , 1808    Friday   \n",
       "34413  northumberland               1d  January 2 , 1808    Friday   \n",
       "36879  northumberland               1d  January 2 , 1808    Friday   \n",
       "39249  northumberland               1d  January 2 , 1808    Friday   \n",
       "41635  northumberland               1d  January 2 , 1808    Friday   \n",
       "\n",
       "                                                   E-LOC E-ORG  \\\n",
       "141    Berwick<SEP>Alnwick<SEP>Wooler<SEP>Cold - stre...   NaN   \n",
       "680    Berwick<SEP>Anwick<SEP>Wooler<SEP>Cold - Sstre...   NaN   \n",
       "1222   Berwick<SEP>Alnwick<SEP>Belford<SEP>Wooler<SEP...   NaN   \n",
       "1814   Toun<SEP>Berwick<SEP>Alnwick<SEP>Belford<SEP>W...   NaN   \n",
       "2629   Berwick<SEP>Alnwick<SEP>Belford<SEP>Wooler<SEP...   NaN   \n",
       "3510   Berwick<SEP>Alnwick<SEP>Belford<SEP>Wooler<SEP...   NaN   \n",
       "4560   Berwick<SEP>Alnwick<SEP>Belford<SEP>Wooler<SEP...   NaN   \n",
       "5719   Berwick<SEP>Alnwick<SEP>Belford<SEP>Wooler<SEP...   NaN   \n",
       "6994   Berwick<SEP>Alnwick<SEP>Belford<SEP>Wooler<SEP...   NaN   \n",
       "8317   Berwick<SEP>Alnwick<SEP>Belford<SEP>Wooler<SEP...   NaN   \n",
       "9683   Berwick<SEP>Alnwick<SEP>Belford<SEP>Wooler<SEP...   NaN   \n",
       "11189                    Berwick<SEP>Alnwick<SEP>Belford   NaN   \n",
       "12798  Berwick<SEP>Alnwick<SEP>Belford<SEP>Wooler<SEP...   NaN   \n",
       "14547  Berwick<SEP>Alnwick<SEP>Belford<SEP>Wooler<SEP...   NaN   \n",
       "16381  Derwick<SEP>Alnwick<SEP>Belford<SEP>Wooler<SEP...   NaN   \n",
       "18340  Berwick<SEP>Alnwick<SEP>Belford<SEP>Wooler<SEP...   NaN   \n",
       "20448  Berwick<SEP>Alnwick<SEP>Belford<SEP>Wooler<SEP...   NaN   \n",
       "22590  Berwick<SEP>Alnwick<SEP>Belford<SEP>Wooler<SEP...   NaN   \n",
       "24824  Berwick<SEP>Alnwick<SEP>Belford<SEP>Wooler<SEP...   NaN   \n",
       "27150  Berwick<SEP>Alnwick<SEP>Belford<SEP>Wooler<SEP...   NaN   \n",
       "29468  Berwick<SEP>Alnwick<SEP>Belford<SEP>Wooler<SEP...   NaN   \n",
       "31907  Berwick<SEP>Alnwick<SEP>Belford<SEP>Wooler<SEP...   NaN   \n",
       "34413  Berwick<SEP>Alnwick<SEP>Belford<SEP>Wooler<SEP...   NaN   \n",
       "36879  Berwick<SEP>Alnwick<SEP>Betford<SEP>Wooler<SEP...   NaN   \n",
       "39249  Berwick<SEP>Alnwick<SEP>Belford<SEP>Wooler<SEP...   NaN   \n",
       "41635  Berwick<SEP>Alnwick<SEP>Belford<SEP>Wooler<SEP...   NaN   \n",
       "\n",
       "                        E-PER S-TITLE-ALT  \\\n",
       "141      Catherine Richardson         NaN   \n",
       "680      Catherine Richardson         NaN   \n",
       "1222     Catherine Richardson         NaN   \n",
       "1814            Andrew Robson         NaN   \n",
       "2629            Andrew Robson         NaN   \n",
       "3510            Andrew Robson         NaN   \n",
       "4560            Andrew Robson         NaN   \n",
       "5719          Alexander Paton         NaN   \n",
       "6994          Alexander Paton         NaN   \n",
       "8317   Henry Richardson Smail         NaN   \n",
       "9683   Henry Richardson Smail         NaN   \n",
       "11189                     NaN         NaN   \n",
       "12798  Henry Richardson Smail         NaN   \n",
       "14547  Henry Richardson Smail         NaN   \n",
       "16381  Henry Richardson Smail         NaN   \n",
       "18340  Henry Richardson Smail         NaN   \n",
       "20448  Henry Richardson Smail         NaN   \n",
       "22590  Henry Richardson Smail         NaN   \n",
       "24824  Henry Richardson Smail         NaN   \n",
       "27150  Henry Richardson Smail         NaN   \n",
       "29468  Henry Richardson Smail         NaN   \n",
       "31907  Henry Richardson Smail         NaN   \n",
       "34413  Henry Richardson Smail         NaN   \n",
       "36879  Henry Richardson Smail         NaN   \n",
       "39249  Henry Richardson Smail         NaN   \n",
       "41635  Henry Richardson Smail         NaN   \n",
       "\n",
       "                                                    TEXT  \\\n",
       "141    BERWICK ADVERTISER . Saturday , Price 4 ½ d . ...   \n",
       "680    BERWICK ADVERTISER . Saturday , Price 4 ½ d . ...   \n",
       "1222   BERWICK ADVERTISER . Saturday , Price 4 ½ d . ...   \n",
       "1814   BERWICK ADVERTISER . Saturday , 3 ½ d . & 4 ½ ...   \n",
       "2629   BERWICK ADVERTISER . Saturday , 3 ½ d . & 4 ½ ...   \n",
       "3510   BERWICK ADVERTISER . Saturday , 3 ½ d . and 4 ...   \n",
       "4560   BERWICK ADVERTISER . Saturday , 3 ½ d . and 4 ...   \n",
       "5719   BERWICK ADVERTISER . Saturday , 3d . and 4d . ...   \n",
       "6994   BERWICK ADVERTISER . Saturday , 3d . and 4d . ...   \n",
       "8317   BERWICK ADVERTISER . Friday , 2d . and 3d . IN...   \n",
       "9683   BERWICK ADVERTISER . Friday , 2d . WH Liberal ...   \n",
       "11189  BERWICK ADVERTISER . Friday , 2d . T Liberal ....   \n",
       "12798  BERWICK ADVERTISER . Friday , 2d . ILiberal . ...   \n",
       "14547  BERWICK ADVERTISER . Friday , 2d . Liberal . —...   \n",
       "16381  BERWICK ADVERTISER . Friday , 2d . — Liberal ....   \n",
       "18340  BERWICK ADVERTISER . Friday , 1d . Liberal . —...   \n",
       "20448  BERWICK ADVERTISER . Friday , 1d . Liberal . —...   \n",
       "22590  BERWICK ADVERTISER . Friday , 1d . — Liberal ....   \n",
       "24824  BERWICK ADVERTISER . Friday , 1d . IILiberal ....   \n",
       "27150  BERWICKSHIRE ADVERTISER . Tuesday , 1d . LILib...   \n",
       "29468  BERWICK ADVERTISER . Friday , 1d . — Liberal ....   \n",
       "31907  BERWICK ADVERTISER . Friday , 1d . Liberal . —...   \n",
       "34413  BERWICK ADVERTISER . Friday , 1d . — Liberal ....   \n",
       "36879  BERWICK ADVERTISER . Friday , 1d . ILiberal . ...   \n",
       "39249  BERWICK ADVERTISER . Friday , 1d . R Liberal ....   \n",
       "41635  BERWICK ADVERTISER . Friday , 1d . LLiberal . ...   \n",
       "\n",
       "                                    DISTRICT_DESCRIPTION  year    chain_id  \n",
       "141    The population is chiefly Agricultural . A con...  1846  CID_000004  \n",
       "680    The population is chiefly agricultural . A con...  1847  CID_000004  \n",
       "1222   The population is cheefly agricultural . A con...  1851  CID_000004  \n",
       "1814   The population is ch efly agricultural . A con...  1856  CID_000004  \n",
       "2629   The population is chiefly agricultural . A con...  1858  CID_000004  \n",
       "3510   Is u patliamentary and municipal borough , wit...  1860  CID_000004  \n",
       "4560   Is a parliamentary and municipal borough , wit...  1863  CID_000004  \n",
       "5719   Is d parliamentary and municipal borough , wit...  1865  CID_000004  \n",
       "6994   Is a parliamentary and municipal borough , wit...  1868  CID_000004  \n",
       "8317   Is a parliamentary and municipal borough , wit...  1870  CID_000004  \n",
       "9683   Is a parliamentary and municipal borough , wit...  1873  CID_000004  \n",
       "11189  Is a parliamentary and municipal borough , wit...  1875  CID_000004  \n",
       "12798  Is a parliamentary and municipal borough , wit...  1878  CID_000004  \n",
       "14547  Is a parliamentary and municipal borough , wit...  1880  CID_000004  \n",
       "16381  Is a parliamentary and municipal borough , wit...  1883  CID_000004  \n",
       "18340  Is a parliamentary and municipal borough , wit...  1885  CID_000004  \n",
       "20448  Is a municipal borough , with a population chi...  1888  CID_000004  \n",
       "22590  Is a municipal borough , with a population chi...  1890  CID_000004  \n",
       "24824  Is a municipal borough , with a population chi...  1893  CID_000004  \n",
       "27150  Is a municipal borough , with a population chi...  1895  CID_000004  \n",
       "29468  Is a municipal borough , with a population chi...  1898  CID_000004  \n",
       "31907  Is a municipal borough , with a population chi...  1900  CID_000004  \n",
       "34413  Is a municipal borough , with a population chi...  1905  CID_000004  \n",
       "36879  Is a municipal borongh , with a population chi...  1910  CID_000004  \n",
       "39249  Is a municipal borough , with a population chi...  1915  CID_000004  \n",
       "41635  Is a muicipal borough and important garrison t...  1920  CID_000004  "
      ],
      "text/html": "<div>\n<style scoped>\n    .dataframe tbody tr th:only-of-type {\n        vertical-align: middle;\n    }\n\n    .dataframe tbody tr th {\n        vertical-align: top;\n    }\n\n    .dataframe thead th {\n        text-align: right;\n    }\n</style>\n<table border=\"1\" class=\"dataframe\">\n  <thead>\n    <tr style=\"text-align: right;\">\n      <th></th>\n      <th>index</th>\n      <th>id</th>\n      <th>S-TITLE</th>\n      <th>S-POL</th>\n      <th>CATEGORY</th>\n      <th>DISTRICT</th>\n      <th>DISTRICT_PUB</th>\n      <th>COUNTY</th>\n      <th>S-PRICE</th>\n      <th>D-EST</th>\n      <th>D-PUB</th>\n      <th>E-LOC</th>\n      <th>E-ORG</th>\n      <th>E-PER</th>\n      <th>S-TITLE-ALT</th>\n      <th>TEXT</th>\n      <th>DISTRICT_DESCRIPTION</th>\n      <th>year</th>\n      <th>chain_id</th>\n    </tr>\n  </thead>\n  <tbody>\n    <tr>\n      <th>141</th>\n      <td>141</td>\n      <td>MPD_1846_141</td>\n      <td>BERWICK ADVERTISER .</td>\n      <td>liberal</td>\n      <td>provincial</td>\n      <td>berwick . — ( northumberland . )</td>\n      <td>berwick</td>\n      <td>northumberland</td>\n      <td>4 ½ d</td>\n      <td>January 2 , 1808</td>\n      <td>Saturday</td>\n      <td>Berwick&lt;SEP&gt;Alnwick&lt;SEP&gt;Wooler&lt;SEP&gt;Cold - stre...</td>\n      <td>NaN</td>\n      <td>Catherine Richardson</td>\n      <td>NaN</td>\n      <td>BERWICK ADVERTISER . Saturday , Price 4 ½ d . ...</td>\n      <td>The population is chiefly Agricultural . A con...</td>\n      <td>1846</td>\n      <td>CID_000004</td>\n    </tr>\n    <tr>\n      <th>680</th>\n      <td>142</td>\n      <td>MPD_1847_142</td>\n      <td>BERWICK ADVERTISER .</td>\n      <td>liberal</td>\n      <td>provincial</td>\n      <td>berwick . — ( northumberland . )</td>\n      <td>berwick</td>\n      <td>northumberland</td>\n      <td>4 ½ d</td>\n      <td>January 2 , 1808</td>\n      <td>Saturday</td>\n      <td>Berwick&lt;SEP&gt;Anwick&lt;SEP&gt;Wooler&lt;SEP&gt;Cold - Sstre...</td>\n      <td>NaN</td>\n      <td>Catherine Richardson</td>\n      <td>NaN</td>\n      <td>BERWICK ADVERTISER . Saturday , Price 4 ½ d . ...</td>\n      <td>The population is chiefly agricultural . A con...</td>\n      <td>1847</td>\n      <td>CID_000004</td>\n    </tr>\n    <tr>\n      <th>1222</th>\n      <td>136</td>\n      <td>MPD_1851_136</td>\n      <td>BERWICK ADVERTISER .</td>\n      <td>liberal</td>\n      <td>provincial</td>\n      <td>berwick . — ( northumberland . )</td>\n      <td>berwick</td>\n      <td>northumberland</td>\n      <td>4 ½ d</td>\n      <td>January 2 , 1808</td>\n      <td>Saturday</td>\n      <td>Berwick&lt;SEP&gt;Alnwick&lt;SEP&gt;Belford&lt;SEP&gt;Wooler&lt;SEP...</td>\n      <td>NaN</td>\n      <td>Catherine Richardson</td>\n      <td>NaN</td>\n      <td>BERWICK ADVERTISER . Saturday , Price 4 ½ d . ...</td>\n      <td>The population is cheefly agricultural . A con...</td>\n      <td>1851</td>\n      <td>CID_000004</td>\n    </tr>\n    <tr>\n      <th>1814</th>\n      <td>169</td>\n      <td>MPD_1856_169</td>\n      <td>BERWICK ADVERTISER .</td>\n      <td>liberal</td>\n      <td>provincial</td>\n      <td>berwick . — ( northumberland . )</td>\n      <td>berwick</td>\n      <td>northumberland</td>\n      <td>3 ½ d&lt;SEP&gt;4 ½ d</td>\n      <td>January 2 , 1808</td>\n      <td>Saturday</td>\n      <td>Toun&lt;SEP&gt;Berwick&lt;SEP&gt;Alnwick&lt;SEP&gt;Belford&lt;SEP&gt;W...</td>\n      <td>NaN</td>\n      <td>Andrew Robson</td>\n      <td>NaN</td>\n      <td>BERWICK ADVERTISER . Saturday , 3 ½ d . &amp; 4 ½ ...</td>\n      <td>The population is ch efly agricultural . A con...</td>\n      <td>1856</td>\n      <td>CID_000004</td>\n    </tr>\n    <tr>\n      <th>2629</th>\n      <td>186</td>\n      <td>MPD_1858_186</td>\n      <td>BERWICK ADVERTISER .</td>\n      <td>liberal</td>\n      <td>provincial</td>\n      <td>berwick . — ( northumberland . )</td>\n      <td>berwick</td>\n      <td>northumberland</td>\n      <td>3 ½ d&lt;SEP&gt;4 ½ d</td>\n      <td>January 2 , 1808</td>\n      <td>Saturday</td>\n      <td>Berwick&lt;SEP&gt;Alnwick&lt;SEP&gt;Belford&lt;SEP&gt;Wooler&lt;SEP...</td>\n      <td>NaN</td>\n      <td>Andrew Robson</td>\n      <td>NaN</td>\n      <td>BERWICK ADVERTISER . Saturday , 3 ½ d . &amp; 4 ½ ...</td>\n      <td>The population is chiefly agricultural . A con...</td>\n      <td>1858</td>\n      <td>CID_000004</td>\n    </tr>\n    <tr>\n      <th>3510</th>\n      <td>217</td>\n      <td>MPD_1860_217</td>\n      <td>BERWICK ADVERTISER .</td>\n      <td>liberal</td>\n      <td>provincial</td>\n      <td>berwick . — ( northumberland . )</td>\n      <td>berwick</td>\n      <td>northumberland</td>\n      <td>3 ½ d&lt;SEP&gt;4 ½ d</td>\n      <td>January 2 , 1808</td>\n      <td>Saturday</td>\n      <td>Berwick&lt;SEP&gt;Alnwick&lt;SEP&gt;Belford&lt;SEP&gt;Wooler&lt;SEP...</td>\n      <td>NaN</td>\n      <td>Andrew Robson</td>\n      <td>NaN</td>\n      <td>BERWICK ADVERTISER . Saturday , 3 ½ d . and 4 ...</td>\n      <td>Is u patliamentary and municipal borough , wit...</td>\n      <td>1860</td>\n      <td>CID_000004</td>\n    </tr>\n    <tr>\n      <th>4560</th>\n      <td>261</td>\n      <td>MPD_1863_261</td>\n      <td>BERWICK ADVERTISER .</td>\n      <td>liberal</td>\n      <td>provincial</td>\n      <td>berwick . — ( northumberland . )</td>\n      <td>berwick</td>\n      <td>northumberland</td>\n      <td>3 ½ d&lt;SEP&gt;4 ½ d</td>\n      <td>January 2 , 1808</td>\n      <td>Saturday</td>\n      <td>Berwick&lt;SEP&gt;Alnwick&lt;SEP&gt;Belford&lt;SEP&gt;Wooler&lt;SEP...</td>\n      <td>NaN</td>\n      <td>Andrew Robson</td>\n      <td>NaN</td>\n      <td>BERWICK ADVERTISER . Saturday , 3 ½ d . and 4 ...</td>\n      <td>Is a parliamentary and municipal borough , wit...</td>\n      <td>1863</td>\n      <td>CID_000004</td>\n    </tr>\n    <tr>\n      <th>5719</th>\n      <td>248</td>\n      <td>MPD_1865_248</td>\n      <td>BERWICK ADVERTISER .</td>\n      <td>liberal</td>\n      <td>provincial</td>\n      <td>berwick . — ( northumberland . )</td>\n      <td>berwick</td>\n      <td>northumberland</td>\n      <td>3d&lt;SEP&gt;4d</td>\n      <td>January 2 , 1808</td>\n      <td>Saturday</td>\n      <td>Berwick&lt;SEP&gt;Alnwick&lt;SEP&gt;Belford&lt;SEP&gt;Wooler&lt;SEP...</td>\n      <td>NaN</td>\n      <td>Alexander Paton</td>\n      <td>NaN</td>\n      <td>BERWICK ADVERTISER . Saturday , 3d . and 4d . ...</td>\n      <td>Is d parliamentary and municipal borough , wit...</td>\n      <td>1865</td>\n      <td>CID_000004</td>\n    </tr>\n    <tr>\n      <th>6994</th>\n      <td>287</td>\n      <td>MPD_1868_287</td>\n      <td>BERWICK ADVERTISER .</td>\n      <td>liberal</td>\n      <td>provincial</td>\n      <td>berwick . — ( northumberland . )</td>\n      <td>berwick</td>\n      <td>northumberland</td>\n      <td>3d&lt;SEP&gt;4d</td>\n      <td>January 2 , 1808</td>\n      <td>Saturday</td>\n      <td>Berwick&lt;SEP&gt;Alnwick&lt;SEP&gt;Belford&lt;SEP&gt;Wooler&lt;SEP...</td>\n      <td>NaN</td>\n      <td>Alexander Paton</td>\n      <td>NaN</td>\n      <td>BERWICK ADVERTISER . Saturday , 3d . and 4d . ...</td>\n      <td>Is a parliamentary and municipal borough , wit...</td>\n      <td>1868</td>\n      <td>CID_000004</td>\n    </tr>\n    <tr>\n      <th>8317</th>\n      <td>295</td>\n      <td>MPD_1870_295</td>\n      <td>BERWICK ADVERTISER .</td>\n      <td>liberal</td>\n      <td>provincial</td>\n      <td>berwick . — ( northumberland . )</td>\n      <td>berwick</td>\n      <td>northumberland</td>\n      <td>2d&lt;SEP&gt;3d</td>\n      <td>January 2 , 1808</td>\n      <td>Friday</td>\n      <td>Berwick&lt;SEP&gt;Alnwick&lt;SEP&gt;Belford&lt;SEP&gt;Wooler&lt;SEP...</td>\n      <td>NaN</td>\n      <td>Henry Richardson Smail</td>\n      <td>NaN</td>\n      <td>BERWICK ADVERTISER . Friday , 2d . and 3d . IN...</td>\n      <td>Is a parliamentary and municipal borough , wit...</td>\n      <td>1870</td>\n      <td>CID_000004</td>\n    </tr>\n    <tr>\n      <th>9683</th>\n      <td>325</td>\n      <td>MPD_1873_325</td>\n      <td>BERWICK ADVERTISER .</td>\n      <td>liberal</td>\n      <td>provincial</td>\n      <td>berwick . — ( northumberland . )</td>\n      <td>berwick</td>\n      <td>northumberland</td>\n      <td>2d</td>\n      <td>January 2 , 1808</td>\n      <td>Friday</td>\n      <td>Berwick&lt;SEP&gt;Alnwick&lt;SEP&gt;Belford&lt;SEP&gt;Wooler&lt;SEP...</td>\n      <td>NaN</td>\n      <td>Henry Richardson Smail</td>\n      <td>NaN</td>\n      <td>BERWICK ADVERTISER . Friday , 2d . WH Liberal ...</td>\n      <td>Is a parliamentary and municipal borough , wit...</td>\n      <td>1873</td>\n      <td>CID_000004</td>\n    </tr>\n    <tr>\n      <th>11189</th>\n      <td>337</td>\n      <td>MPD_1875_337</td>\n      <td>BERWICK ADVERTISER .</td>\n      <td>liberal</td>\n      <td>provincial</td>\n      <td>berwick . — ( northumberland . )</td>\n      <td>berwick</td>\n      <td>northumberland</td>\n      <td>2d</td>\n      <td>January 2 , 1808</td>\n      <td>Friday</td>\n      <td>Berwick&lt;SEP&gt;Alnwick&lt;SEP&gt;Belford</td>\n      <td>NaN</td>\n      <td>NaN</td>\n      <td>NaN</td>\n      <td>BERWICK ADVERTISER . Friday , 2d . T Liberal ....</td>\n      <td>Is a parliamentary and municipal borough , wit...</td>\n      <td>1875</td>\n      <td>CID_000004</td>\n    </tr>\n    <tr>\n      <th>12798</th>\n      <td>376</td>\n      <td>MPD_1878_376</td>\n      <td>BERWICK ADVERTISER .</td>\n      <td>liberal</td>\n      <td>provincial</td>\n      <td>berwick . — ( northumberland . )</td>\n      <td>berwick</td>\n      <td>northumberland</td>\n      <td>2d</td>\n      <td>January 2 , 1808</td>\n      <td>Friday</td>\n      <td>Berwick&lt;SEP&gt;Alnwick&lt;SEP&gt;Belford&lt;SEP&gt;Wooler&lt;SEP...</td>\n      <td>NaN</td>\n      <td>Henry Richardson Smail</td>\n      <td>NaN</td>\n      <td>BERWICK ADVERTISER . Friday , 2d . ILiberal . ...</td>\n      <td>Is a parliamentary and municipal borough , wit...</td>\n      <td>1878</td>\n      <td>CID_000004</td>\n    </tr>\n    <tr>\n      <th>14547</th>\n      <td>421</td>\n      <td>MPD_1880_421</td>\n      <td>BERWICK ADVERTISER .</td>\n      <td>liberal</td>\n      <td>provincial</td>\n      <td>berwick . — ( northumberland . )</td>\n      <td>berwick</td>\n      <td>northumberland</td>\n      <td>2d</td>\n      <td>January 2 , 1808</td>\n      <td>Friday</td>\n      <td>Berwick&lt;SEP&gt;Alnwick&lt;SEP&gt;Belford&lt;SEP&gt;Wooler&lt;SEP...</td>\n      <td>NaN</td>\n      <td>Henry Richardson Smail</td>\n      <td>NaN</td>\n      <td>BERWICK ADVERTISER . Friday , 2d . Liberal . —...</td>\n      <td>Is a parliamentary and municipal borough , wit...</td>\n      <td>1880</td>\n      <td>CID_000004</td>\n    </tr>\n    <tr>\n      <th>16381</th>\n      <td>450</td>\n      <td>MPD_1883_450</td>\n      <td>BERWICK ADVERTISER .</td>\n      <td>liberal</td>\n      <td>provincial</td>\n      <td>berwick . — ( northumberland . )</td>\n      <td>berwick</td>\n      <td>northumberland</td>\n      <td>2d</td>\n      <td>January 2 , 1808</td>\n      <td>Friday</td>\n      <td>Derwick&lt;SEP&gt;Alnwick&lt;SEP&gt;Belford&lt;SEP&gt;Wooler&lt;SEP...</td>\n      <td>NaN</td>\n      <td>Henry Richardson Smail</td>\n      <td>NaN</td>\n      <td>BERWICK ADVERTISER . Friday , 2d . — Liberal ....</td>\n      <td>Is a parliamentary and municipal borough , wit...</td>\n      <td>1883</td>\n      <td>CID_000004</td>\n    </tr>\n    <tr>\n      <th>18340</th>\n      <td>475</td>\n      <td>MPD_1885_475</td>\n      <td>BERWICK ADVERTISER .</td>\n      <td>liberal</td>\n      <td>provincial</td>\n      <td>berwick . — ( northumberland . )</td>\n      <td>berwick</td>\n      <td>northumberland</td>\n      <td>1d</td>\n      <td>January 2 , 1808</td>\n      <td>Friday</td>\n      <td>Berwick&lt;SEP&gt;Alnwick&lt;SEP&gt;Belford&lt;SEP&gt;Wooler&lt;SEP...</td>\n      <td>NaN</td>\n      <td>Henry Richardson Smail</td>\n      <td>NaN</td>\n      <td>BERWICK ADVERTISER . Friday , 1d . Liberal . —...</td>\n      <td>Is a parliamentary and municipal borough , wit...</td>\n      <td>1885</td>\n      <td>CID_000004</td>\n    </tr>\n    <tr>\n      <th>20448</th>\n      <td>545</td>\n      <td>MPD_1888_545</td>\n      <td>BERWICK ADVERTISER .</td>\n      <td>liberal</td>\n      <td>provincial</td>\n      <td>berwick . — ( northumberland . )</td>\n      <td>berwick</td>\n      <td>northumberland</td>\n      <td>1d</td>\n      <td>January 2 , 1808</td>\n      <td>Friday</td>\n      <td>Berwick&lt;SEP&gt;Alnwick&lt;SEP&gt;Belford&lt;SEP&gt;Wooler&lt;SEP...</td>\n      <td>NaN</td>\n      <td>Henry Richardson Smail</td>\n      <td>NaN</td>\n      <td>BERWICK ADVERTISER . Friday , 1d . Liberal . —...</td>\n      <td>Is a municipal borough , with a population chi...</td>\n      <td>1888</td>\n      <td>CID_000004</td>\n    </tr>\n    <tr>\n      <th>22590</th>\n      <td>484</td>\n      <td>MPD_1890_484</td>\n      <td>BERWICK ADVERTISER .</td>\n      <td>liberal</td>\n      <td>provincial</td>\n      <td>alnwick . — ( northumberland . )</td>\n      <td>alnwick</td>\n      <td>northumberland</td>\n      <td>1d</td>\n      <td>January 2 , 1808</td>\n      <td>Friday</td>\n      <td>Berwick&lt;SEP&gt;Alnwick&lt;SEP&gt;Belford&lt;SEP&gt;Wooler&lt;SEP...</td>\n      <td>NaN</td>\n      <td>Henry Richardson Smail</td>\n      <td>NaN</td>\n      <td>BERWICK ADVERTISER . Friday , 1d . — Liberal ....</td>\n      <td>Is a municipal borough , with a population chi...</td>\n      <td>1890</td>\n      <td>CID_000004</td>\n    </tr>\n    <tr>\n      <th>24824</th>\n      <td>527</td>\n      <td>MPD_1893_527</td>\n      <td>BERWICK ADVERTISER .</td>\n      <td>liberal</td>\n      <td>provincial</td>\n      <td>berwick . — ( northumberland . )</td>\n      <td>berwick</td>\n      <td>northumberland</td>\n      <td>1d</td>\n      <td>January 2 , 1808</td>\n      <td>Friday</td>\n      <td>Berwick&lt;SEP&gt;Alnwick&lt;SEP&gt;Belford&lt;SEP&gt;Wooler&lt;SEP...</td>\n      <td>NaN</td>\n      <td>Henry Richardson Smail</td>\n      <td>NaN</td>\n      <td>BERWICK ADVERTISER . Friday , 1d . IILiberal ....</td>\n      <td>Is a municipal borough , with a population chi...</td>\n      <td>1893</td>\n      <td>CID_000004</td>\n    </tr>\n    <tr>\n      <th>27150</th>\n      <td>543</td>\n      <td>MPD_1895_543</td>\n      <td>BERWICKSHIRE ADVERTISER .</td>\n      <td>liberal</td>\n      <td>provincial</td>\n      <td>berwick . — ( northumberland . )</td>\n      <td>berwick</td>\n      <td>northumberland</td>\n      <td>1d</td>\n      <td>January 2 , 1808</td>\n      <td>Tuesday</td>\n      <td>Berwick&lt;SEP&gt;Alnwick&lt;SEP&gt;Belford&lt;SEP&gt;Wooler&lt;SEP...</td>\n      <td>NaN</td>\n      <td>Henry Richardson Smail</td>\n      <td>NaN</td>\n      <td>BERWICKSHIRE ADVERTISER . Tuesday , 1d . LILib...</td>\n      <td>Is a municipal borough , with a population chi...</td>\n      <td>1895</td>\n      <td>CID_000004</td>\n    </tr>\n    <tr>\n      <th>29468</th>\n      <td>538</td>\n      <td>MPD_1898_538</td>\n      <td>BERWICK ADVERTISER .</td>\n      <td>liberal</td>\n      <td>provincial</td>\n      <td>berwick . — ( northumberland . )</td>\n      <td>berwick</td>\n      <td>northumberland</td>\n      <td>1d</td>\n      <td>January 2 , 1808</td>\n      <td>Friday</td>\n      <td>Berwick&lt;SEP&gt;Alnwick&lt;SEP&gt;Belford&lt;SEP&gt;Wooler&lt;SEP...</td>\n      <td>NaN</td>\n      <td>Henry Richardson Smail</td>\n      <td>NaN</td>\n      <td>BERWICK ADVERTISER . Friday , 1d . — Liberal ....</td>\n      <td>Is a municipal borough , with a population chi...</td>\n      <td>1898</td>\n      <td>CID_000004</td>\n    </tr>\n    <tr>\n      <th>31907</th>\n      <td>530</td>\n      <td>MPD_1900_530</td>\n      <td>BERWICK ADVERTISER .</td>\n      <td>liberal</td>\n      <td>provincial</td>\n      <td>berwick . — ( northumberland . )</td>\n      <td>berwick</td>\n      <td>northumberland</td>\n      <td>1d</td>\n      <td>January 2 , 1808</td>\n      <td>Friday</td>\n      <td>Berwick&lt;SEP&gt;Alnwick&lt;SEP&gt;Belford&lt;SEP&gt;Wooler&lt;SEP...</td>\n      <td>NaN</td>\n      <td>Henry Richardson Smail</td>\n      <td>NaN</td>\n      <td>BERWICK ADVERTISER . Friday , 1d . Liberal . —...</td>\n      <td>Is a municipal borough , with a population chi...</td>\n      <td>1900</td>\n      <td>CID_000004</td>\n    </tr>\n    <tr>\n      <th>34413</th>\n      <td>542</td>\n      <td>MPD_1905_542</td>\n      <td>BERWICK ADVERTISER .</td>\n      <td>liberal</td>\n      <td>provincial</td>\n      <td>berwick-upon-tweed . — ( northumberland . )</td>\n      <td>berwick-upon-tweed</td>\n      <td>northumberland</td>\n      <td>1d</td>\n      <td>January 2 , 1808</td>\n      <td>Friday</td>\n      <td>Berwick&lt;SEP&gt;Alnwick&lt;SEP&gt;Belford&lt;SEP&gt;Wooler&lt;SEP...</td>\n      <td>NaN</td>\n      <td>Henry Richardson Smail</td>\n      <td>NaN</td>\n      <td>BERWICK ADVERTISER . Friday , 1d . — Liberal ....</td>\n      <td>Is a municipal borough , with a population chi...</td>\n      <td>1905</td>\n      <td>CID_000004</td>\n    </tr>\n    <tr>\n      <th>36879</th>\n      <td>502</td>\n      <td>MPD_1910_502</td>\n      <td>BERWICK ADVERTISER .</td>\n      <td>liberal</td>\n      <td>provincial</td>\n      <td>berwick-upon-tweed . — ( northumberland . )</td>\n      <td>berwick-upon-tweed</td>\n      <td>northumberland</td>\n      <td>1d</td>\n      <td>January 2 , 1808</td>\n      <td>Friday</td>\n      <td>Berwick&lt;SEP&gt;Alnwick&lt;SEP&gt;Betford&lt;SEP&gt;Wooler&lt;SEP...</td>\n      <td>NaN</td>\n      <td>Henry Richardson Smail</td>\n      <td>NaN</td>\n      <td>BERWICK ADVERTISER . Friday , 1d . ILiberal . ...</td>\n      <td>Is a municipal borongh , with a population chi...</td>\n      <td>1910</td>\n      <td>CID_000004</td>\n    </tr>\n    <tr>\n      <th>39249</th>\n      <td>555</td>\n      <td>MPD_1915_555</td>\n      <td>BERWICK ADVERTISER .</td>\n      <td>liberal</td>\n      <td>provincial</td>\n      <td>berwick-upon-tweed . — ( northumberland . )</td>\n      <td>berwick-upon-tweed</td>\n      <td>northumberland</td>\n      <td>1d</td>\n      <td>January 2 , 1808</td>\n      <td>Friday</td>\n      <td>Berwick&lt;SEP&gt;Alnwick&lt;SEP&gt;Belford&lt;SEP&gt;Wooler&lt;SEP...</td>\n      <td>NaN</td>\n      <td>Henry Richardson Smail</td>\n      <td>NaN</td>\n      <td>BERWICK ADVERTISER . Friday , 1d . R Liberal ....</td>\n      <td>Is a municipal borough , with a population chi...</td>\n      <td>1915</td>\n      <td>CID_000004</td>\n    </tr>\n    <tr>\n      <th>41635</th>\n      <td>530</td>\n      <td>MPD_1920_530</td>\n      <td>BERWICK ADVERTISER .</td>\n      <td>liberal</td>\n      <td>provincial</td>\n      <td>berwick-upon-tweed . — ( northumberland . )</td>\n      <td>berwick-upon-tweed</td>\n      <td>northumberland</td>\n      <td>1d</td>\n      <td>January 2 , 1808</td>\n      <td>Friday</td>\n      <td>Berwick&lt;SEP&gt;Alnwick&lt;SEP&gt;Belford&lt;SEP&gt;Wooler&lt;SEP...</td>\n      <td>NaN</td>\n      <td>Henry Richardson Smail</td>\n      <td>NaN</td>\n      <td>BERWICK ADVERTISER . Friday , 1d . LLiberal . ...</td>\n      <td>Is a muicipal borough and important garrison t...</td>\n      <td>1920</td>\n      <td>CID_000004</td>\n    </tr>\n  </tbody>\n</table>\n</div>"
     },
     "metadata": {},
     "execution_count": 20
    }
   ],
   "source": [
    "df = linkchainer.print_chain(chain, csv_dump=Path(\"./csv_dump_final/\")); df"
   ]
  },
  {
   "source": [
    "## Created Linked Data"
   ],
   "cell_type": "markdown",
   "metadata": {}
  },
  {
   "cell_type": "code",
   "execution_count": 19,
   "metadata": {},
   "outputs": [
    {
     "output_type": "display_data",
     "data": {
      "text/plain": "HBox(children=(FloatProgress(value=1.0, bar_style='info', max=1.0), HTML(value='')))",
      "application/vnd.jupyter.widget-view+json": {
       "version_major": 2,
       "version_minor": 0,
       "model_id": "ffe966c106c14592be4933b613a8f9f6"
      }
     },
     "metadata": {}
    },
    {
     "output_type": "stream",
     "name": "stdout",
     "text": [
      "\n"
     ]
    }
   ],
   "source": [
    "linkchainer.create_linked_dataset(Path('./csv_dump_final'),Path('./output_data'))"
   ]
  },
  {
   "cell_type": "code",
   "execution_count": 21,
   "metadata": {},
   "outputs": [
    {
     "output_type": "execute_result",
     "data": {
      "text/plain": [
       "(43361, 19)"
      ]
     },
     "metadata": {},
     "execution_count": 21
    }
   ],
   "source": [
    "linkchainer.dataframe.shape"
   ]
  },
  {
   "cell_type": "code",
   "execution_count": 22,
   "metadata": {},
   "outputs": [
    {
     "output_type": "execute_result",
     "data": {
      "text/plain": [
       "   index          id               S-TITLE                S-POL CATEGORY  \\\n",
       "0      0  MPD_1846_0  MORNING ADVERTISER .              liberal   london   \n",
       "1      1  MPD_1846_1    MORNING CHRONILE .           moderate;    london   \n",
       "2      2  MPD_1846_2          DAILY NEWS .  liberal; democratic   london   \n",
       "\n",
       "  DISTRICT DISTRICT_PUB  COUNTY S-PRICE              D-EST  D-PUB  \\\n",
       "0   london       london  london      5d  February 8 , 1793  Daily   \n",
       "1   london       london  london      5d               1770  Daily   \n",
       "2   london       london  london      5d  January 21 , 1846  Daily   \n",
       "\n",
       "                                           E-LOC E-ORG  \\\n",
       "0                                            NaN   NaN   \n",
       "1                                      ,<SEP>332   NaN   \n",
       "2   to . The leading minds in have not re ceived   the   \n",
       "\n",
       "                     E-PER S-TITLE-ALT  \\\n",
       "0                    David         NaN   \n",
       "1  Henry<SEP>William Wills         NaN   \n",
       "2        particular France         NaN   \n",
       "\n",
       "                                                TEXT DISTRICT_DESCRIPTION  \\\n",
       "0  MORNING ADVERTISER . Daily , Price 5d . Establ...               London   \n",
       "1  MORNING CHRONILE . Daily , Price 5d . Establis...               London   \n",
       "2  DAILY NEWS . Daily , Price 5d . Established Ja...               London   \n",
       "\n",
       "   year    chain_id  \n",
       "0  1846  CID_004463  \n",
       "1  1846  CID_004464  \n",
       "2  1846              "
      ],
      "text/html": "<div>\n<style scoped>\n    .dataframe tbody tr th:only-of-type {\n        vertical-align: middle;\n    }\n\n    .dataframe tbody tr th {\n        vertical-align: top;\n    }\n\n    .dataframe thead th {\n        text-align: right;\n    }\n</style>\n<table border=\"1\" class=\"dataframe\">\n  <thead>\n    <tr style=\"text-align: right;\">\n      <th></th>\n      <th>index</th>\n      <th>id</th>\n      <th>S-TITLE</th>\n      <th>S-POL</th>\n      <th>CATEGORY</th>\n      <th>DISTRICT</th>\n      <th>DISTRICT_PUB</th>\n      <th>COUNTY</th>\n      <th>S-PRICE</th>\n      <th>D-EST</th>\n      <th>D-PUB</th>\n      <th>E-LOC</th>\n      <th>E-ORG</th>\n      <th>E-PER</th>\n      <th>S-TITLE-ALT</th>\n      <th>TEXT</th>\n      <th>DISTRICT_DESCRIPTION</th>\n      <th>year</th>\n      <th>chain_id</th>\n    </tr>\n  </thead>\n  <tbody>\n    <tr>\n      <th>0</th>\n      <td>0</td>\n      <td>MPD_1846_0</td>\n      <td>MORNING ADVERTISER .</td>\n      <td>liberal</td>\n      <td>london</td>\n      <td>london</td>\n      <td>london</td>\n      <td>london</td>\n      <td>5d</td>\n      <td>February 8 , 1793</td>\n      <td>Daily</td>\n      <td>NaN</td>\n      <td>NaN</td>\n      <td>David</td>\n      <td>NaN</td>\n      <td>MORNING ADVERTISER . Daily , Price 5d . Establ...</td>\n      <td>London</td>\n      <td>1846</td>\n      <td>CID_004463</td>\n    </tr>\n    <tr>\n      <th>1</th>\n      <td>1</td>\n      <td>MPD_1846_1</td>\n      <td>MORNING CHRONILE .</td>\n      <td>moderate;</td>\n      <td>london</td>\n      <td>london</td>\n      <td>london</td>\n      <td>london</td>\n      <td>5d</td>\n      <td>1770</td>\n      <td>Daily</td>\n      <td>,&lt;SEP&gt;332</td>\n      <td>NaN</td>\n      <td>Henry&lt;SEP&gt;William Wills</td>\n      <td>NaN</td>\n      <td>MORNING CHRONILE . Daily , Price 5d . Establis...</td>\n      <td>London</td>\n      <td>1846</td>\n      <td>CID_004464</td>\n    </tr>\n    <tr>\n      <th>2</th>\n      <td>2</td>\n      <td>MPD_1846_2</td>\n      <td>DAILY NEWS .</td>\n      <td>liberal; democratic</td>\n      <td>london</td>\n      <td>london</td>\n      <td>london</td>\n      <td>london</td>\n      <td>5d</td>\n      <td>January 21 , 1846</td>\n      <td>Daily</td>\n      <td>to . The leading minds in have not re ceived</td>\n      <td>the</td>\n      <td>particular France</td>\n      <td>NaN</td>\n      <td>DAILY NEWS . Daily , Price 5d . Established Ja...</td>\n      <td>London</td>\n      <td>1846</td>\n      <td></td>\n    </tr>\n  </tbody>\n</table>\n</div>"
     },
     "metadata": {},
     "execution_count": 22
    }
   ],
   "source": [
    "linkchainer.dataframe.head(3)"
   ]
  },
  {
   "cell_type": "code",
   "execution_count": 24,
   "metadata": {},
   "outputs": [
    {
     "output_type": "execute_result",
     "data": {
      "text/plain": [
       "index                                                                 355\n",
       "id                                                           MPD_1856_355\n",
       "S-TITLE                                                  EUROPEAN TIMES .\n",
       "S-POL                                                             neutral\n",
       "CATEGORY                                                       provincial\n",
       "DISTRICT                                   liverpool . — ( lancashire . )\n",
       "DISTRICT_PUB                                                    liverpool\n",
       "COUNTY                                                         lancashire\n",
       "S-PRICE                                             United<SEP>2l<SEP>24s\n",
       "D-EST                                           States<SEP>Jan . 4 , 1843\n",
       "D-PUB                   Saturday the 1st and 16th of every month 1dth ...\n",
       "E-LOC                   West India Southern Islands<SEP>Liverpool<SEP>...\n",
       "E-ORG                                                                 NaN\n",
       "E-PER                                                   Willmer and Smith\n",
       "S-TITLE-ALT                                                           NaN\n",
       "TEXT                    EUROPEAN TIMES . The United States and Canada ...\n",
       "DISTRICT_DESCRIPTION                                                  NaN\n",
       "year                                                                 1856\n",
       "chain_id                                                       CID_002286\n",
       "Name: 2000, dtype: object"
      ]
     },
     "metadata": {},
     "execution_count": 24
    }
   ],
   "source": [
    "linkchainer.dataframe.loc[2000]"
   ]
  },
  {
   "cell_type": "code",
   "execution_count": 23,
   "metadata": {},
   "outputs": [
    {
     "output_type": "execute_result",
     "data": {
      "text/plain": [
       "       index             id               S-TITLE        S-POL CATEGORY  \\\n",
       "3268     825   MPD_1858_825  TIPPERRAY ADVOCATE .      liberal    irish   \n",
       "4266     973   MPD_1860_973  TIPPERARY ADVOCATE .  independent    irish   \n",
       "5439    1140  MPD_1863_1140  TIPPERARY ADVOCATE .  independent    irish   \n",
       "6667    1196  MPD_1865_1196  TIPPERARY ADVOCATE .  independent    irish   \n",
       "7980    1273  MPD_1868_1273  TIPPERARY ADVOCATE .  independent    irish   \n",
       "9339    1317  MPD_1870_1317  TIPPERARY ADVOCATE .  independent    irish   \n",
       "10820   1462  MPD_1873_1462  TIPPERARY ADVOCATE .   republican    irish   \n",
       "12391   1539  MPD_1875_1539  TIPPERARY ADVOCATE .   republican    irish   \n",
       "14093   1671  MPD_1878_1671  TIPPERARY ADVOCATE .   republican    irish   \n",
       "15897   1771  MPD_1880_1771  TIPPERARY ADVOCATE .   republican    irish   \n",
       "17826   1895  MPD_1883_1895  TIPPERARY ADVOCATE .   republican    irish   \n",
       "19864   1999  MPD_1885_1999  TIPPERARY ADVOCATE .   republican    irish   \n",
       "22066   2163  MPD_1888_2163  TIPPERARY ADVOCATE .   republican    irish   \n",
       "24241   2135  MPD_1890_2135  TIPPERARY ADVOCATE .   republican    irish   \n",
       "\n",
       "                                                DISTRICT DISTRICT_PUB  \\\n",
       "3268   nenagh . — ( in the province of munster and co...       nenagh   \n",
       "4266   nenagh . — ( in the province of munster and co...       nenagh   \n",
       "5439   nenagh . — ( in the province of munster and co...       nenagh   \n",
       "6667   nenagh . — ( in the province of munster and co...       nenagh   \n",
       "7980   nenagh . — ( in the province of munster and co...       nenagh   \n",
       "9339   nenagh . — ( in the province of munster and co...       nenagh   \n",
       "10820  nenagh . — ( in the province of munster and co...       nenagh   \n",
       "12391  nenagh . — ( in the province of munster and co...       nenagh   \n",
       "14093  nenagh . — ( in the province of munster and co...       nenagh   \n",
       "15897  nenagh . — ( in the province of munster and co...       nenagh   \n",
       "17826  nenagh . — ( in the province of munster and co...       nenagh   \n",
       "19864  nenagh . — ( in the province of munster and co...       nenagh   \n",
       "22066  nenagh . — ( in the province of munster and co...       nenagh   \n",
       "24241  nenagh . — ( in the province of munster and co...       nenagh   \n",
       "\n",
       "                                                COUNTY              S-PRICE  \\\n",
       "3268   in the province of munster and county tipperary          £<SEP>1 per   \n",
       "4266   in the province of munster and county tipperary                  16s   \n",
       "5439   in the province of munster and county tipperary  £<SEP>1 per<SEP>16s   \n",
       "6667   in the province of munster and county tipperary  £<SEP>1 per<SEP>16s   \n",
       "7980   in the province of munster and county tipperary       L1 per<SEP>16s   \n",
       "9339   in the province of munster and county tipperary            4d<SEP>5d   \n",
       "10820  in the province of munster and county tipperary                   4d   \n",
       "12391  in the province of munster and county tipperary                   4d   \n",
       "14093  in the province of munster and county tipperary                   4d   \n",
       "15897  in the province of munster and county tipperary                   4d   \n",
       "17826  in the province of munster and county tipperary                   4d   \n",
       "19864  in the province of munster and county tipperary                   4d   \n",
       "22066  in the province of munster and county tipperary                   4d   \n",
       "24241  in the province of munster and county tipperary                   4d   \n",
       "\n",
       "      D-EST     D-PUB                                              E-LOC  \\\n",
       "3268   1857  Saturday                   Nenagh<SEP>Roscrea<SEP>Tipperary   \n",
       "4266   1857  Saturday                   Nenagh<SEP>Roscrea<SEP>Tipperary   \n",
       "5439   1857  Saturday                   Nenagh<SEP>Roscrea<SEP>Tipperary   \n",
       "6667   1857  Saturday                   Nenagh<SEP>Roscrea<SEP>Tipperary   \n",
       "7980   1857  Saturday  Tipperary<SEP>Clarc<SEP>Limerick<SEP>King 's a...   \n",
       "9339   1857  Saturday  Tipperary<SEP>Clare<SEP>Limerick<SEP>King 's a...   \n",
       "10820  1857  Saturday  Tipperary<SEP>Clare<SEP>Limerick<SEP>King 's a...   \n",
       "12391  1857  Saturday  Tipperary<SEP>Clare<SEP>Limerick<SEP>King 's a...   \n",
       "14093  1857  Saturday  Tipperary<SEP>Clare<SEP>Limerick<SEP>King 's a...   \n",
       "15897  1857  Saturday  Tipperary<SEP>Clare<SEP>Limerick<SEP>King 's a...   \n",
       "17826  1857  Saturday  Tipperary<SEP>Clare<SEP>Limerick<SEP>King 's a...   \n",
       "19864  1857  Saturday  Tipperary<SEP>Clare<SEP>Limerick<SEP>King 's a...   \n",
       "22066  1857  Saturday  Tipperary<SEP>Clare<SEP>Limerick<SEP>King 's a...   \n",
       "24241  1857  Saturday  Tipperary<SEP>Clare<SEP>Limerick<SEP>King 's a...   \n",
       "\n",
       "      E-ORG          E-PER S-TITLE-ALT  \\\n",
       "3268    NaN   P . E . Gill         NaN   \n",
       "4266    NaN   P . E . Gill         NaN   \n",
       "5439    NaN        P . Gil         NaN   \n",
       "6667    NaN   P . E . Gill         NaN   \n",
       "7980    NaN   P . E . Gill         NaN   \n",
       "9339    NaN   P . E . Gill         NaN   \n",
       "10820   NaN   P . E . Gill         NaN   \n",
       "12391   NaN   P . E . Gill         NaN   \n",
       "14093   NaN  DP . E . Gill         NaN   \n",
       "15897   NaN   P . E . Gill         NaN   \n",
       "17826   NaN   P . E . Gill         NaN   \n",
       "19864   NaN   P . E . Gill         NaN   \n",
       "22066   NaN   P . E . Gill         NaN   \n",
       "24241   NaN   P . E . Gill         NaN   \n",
       "\n",
       "                                                    TEXT  \\\n",
       "3268   TIPPERRAY ADVOCATE . Saturday , Subscription £...   \n",
       "4266   NEWRY COMMERCIAL TELEGRAPH . Tuesday , — Thurs...   \n",
       "5439   TIPPERARY ADVOCATE . Saturday , Subscription £...   \n",
       "6667   TIPPERARY ADVOCATE . Saturday , Subscription £...   \n",
       "7980   TIPPERARY ADVOCATE . Saturday , Subscription L...   \n",
       "9339   TIPPERARY ADVOCATE . Saturday , 4d . and 5d . ...   \n",
       "10820  TIPPERARY ADVOCATE . Saturday , 4d . Republica...   \n",
       "12391  TIPPERARY ADVOCATE . Saturday , 4d . CRepublia...   \n",
       "14093  TIPPERARY ADVOCATE . Saturday , 4d . Republica...   \n",
       "15897  TIPPERARY ADVOCATE . Saturday , 4d . Republica...   \n",
       "17826  TIPPERARY ADVOCATE . Saturday , 4d . Republica...   \n",
       "19864  TIPPERARY ADVOCATE . Saturday , 4d . Republica...   \n",
       "22066  TIPPERARY ADVOCATE . Saturday , 4d . — Republi...   \n",
       "24241  TIPPERARY ADVOCATE . Saturday , 4d . Republica...   \n",
       "\n",
       "                                    DISTRICT_DESCRIPTION  year    chain_id  \n",
       "3268                                                 NaN  1858  CID_000826  \n",
       "4266   Is a populous parliamentary borough and port o...  1860  CID_000826  \n",
       "5439   Is a market , post , and fair town of North Ti...  1863  CID_000826  \n",
       "6667   ½ Is a market , post , and fair town of North ...  1865  CID_000826  \n",
       "7980   Is a market , post , and fair town of North Ti...  1868  CID_000826  \n",
       "9339   Is a market , post , and fair town of North Ti...  1870  CID_000826  \n",
       "10820  Is a market , post , and fair town of North Ti...  1873  CID_000826  \n",
       "12391  Is a market , post , and fair town of North Ti...  1875  CID_000826  \n",
       "14093  Is a market , post , and fair town of North Ti...  1878  CID_000826  \n",
       "15897  latket , post , and fair town of North Tippera...  1880  CID_000826  \n",
       "17826  Is a market , post , and fair town of North Ti...  1883  CID_000826  \n",
       "19864  Is a market , post , and fair town of North Ti...  1885  CID_000826  \n",
       "22066  Riding are held here . A considerable trade is...  1888  CID_000826  \n",
       "24241  Is a market , post , and fair town of North Ti...  1890  CID_000826  "
      ],
      "text/html": "<div>\n<style scoped>\n    .dataframe tbody tr th:only-of-type {\n        vertical-align: middle;\n    }\n\n    .dataframe tbody tr th {\n        vertical-align: top;\n    }\n\n    .dataframe thead th {\n        text-align: right;\n    }\n</style>\n<table border=\"1\" class=\"dataframe\">\n  <thead>\n    <tr style=\"text-align: right;\">\n      <th></th>\n      <th>index</th>\n      <th>id</th>\n      <th>S-TITLE</th>\n      <th>S-POL</th>\n      <th>CATEGORY</th>\n      <th>DISTRICT</th>\n      <th>DISTRICT_PUB</th>\n      <th>COUNTY</th>\n      <th>S-PRICE</th>\n      <th>D-EST</th>\n      <th>D-PUB</th>\n      <th>E-LOC</th>\n      <th>E-ORG</th>\n      <th>E-PER</th>\n      <th>S-TITLE-ALT</th>\n      <th>TEXT</th>\n      <th>DISTRICT_DESCRIPTION</th>\n      <th>year</th>\n      <th>chain_id</th>\n    </tr>\n  </thead>\n  <tbody>\n    <tr>\n      <th>3268</th>\n      <td>825</td>\n      <td>MPD_1858_825</td>\n      <td>TIPPERRAY ADVOCATE .</td>\n      <td>liberal</td>\n      <td>irish</td>\n      <td>nenagh . — ( in the province of munster and co...</td>\n      <td>nenagh</td>\n      <td>in the province of munster and county tipperary</td>\n      <td>£&lt;SEP&gt;1 per</td>\n      <td>1857</td>\n      <td>Saturday</td>\n      <td>Nenagh&lt;SEP&gt;Roscrea&lt;SEP&gt;Tipperary</td>\n      <td>NaN</td>\n      <td>P . E . Gill</td>\n      <td>NaN</td>\n      <td>TIPPERRAY ADVOCATE . Saturday , Subscription £...</td>\n      <td>NaN</td>\n      <td>1858</td>\n      <td>CID_000826</td>\n    </tr>\n    <tr>\n      <th>4266</th>\n      <td>973</td>\n      <td>MPD_1860_973</td>\n      <td>TIPPERARY ADVOCATE .</td>\n      <td>independent</td>\n      <td>irish</td>\n      <td>nenagh . — ( in the province of munster and co...</td>\n      <td>nenagh</td>\n      <td>in the province of munster and county tipperary</td>\n      <td>16s</td>\n      <td>1857</td>\n      <td>Saturday</td>\n      <td>Nenagh&lt;SEP&gt;Roscrea&lt;SEP&gt;Tipperary</td>\n      <td>NaN</td>\n      <td>P . E . Gill</td>\n      <td>NaN</td>\n      <td>NEWRY COMMERCIAL TELEGRAPH . Tuesday , — Thurs...</td>\n      <td>Is a populous parliamentary borough and port o...</td>\n      <td>1860</td>\n      <td>CID_000826</td>\n    </tr>\n    <tr>\n      <th>5439</th>\n      <td>1140</td>\n      <td>MPD_1863_1140</td>\n      <td>TIPPERARY ADVOCATE .</td>\n      <td>independent</td>\n      <td>irish</td>\n      <td>nenagh . — ( in the province of munster and co...</td>\n      <td>nenagh</td>\n      <td>in the province of munster and county tipperary</td>\n      <td>£&lt;SEP&gt;1 per&lt;SEP&gt;16s</td>\n      <td>1857</td>\n      <td>Saturday</td>\n      <td>Nenagh&lt;SEP&gt;Roscrea&lt;SEP&gt;Tipperary</td>\n      <td>NaN</td>\n      <td>P . Gil</td>\n      <td>NaN</td>\n      <td>TIPPERARY ADVOCATE . Saturday , Subscription £...</td>\n      <td>Is a market , post , and fair town of North Ti...</td>\n      <td>1863</td>\n      <td>CID_000826</td>\n    </tr>\n    <tr>\n      <th>6667</th>\n      <td>1196</td>\n      <td>MPD_1865_1196</td>\n      <td>TIPPERARY ADVOCATE .</td>\n      <td>independent</td>\n      <td>irish</td>\n      <td>nenagh . — ( in the province of munster and co...</td>\n      <td>nenagh</td>\n      <td>in the province of munster and county tipperary</td>\n      <td>£&lt;SEP&gt;1 per&lt;SEP&gt;16s</td>\n      <td>1857</td>\n      <td>Saturday</td>\n      <td>Nenagh&lt;SEP&gt;Roscrea&lt;SEP&gt;Tipperary</td>\n      <td>NaN</td>\n      <td>P . E . Gill</td>\n      <td>NaN</td>\n      <td>TIPPERARY ADVOCATE . Saturday , Subscription £...</td>\n      <td>½ Is a market , post , and fair town of North ...</td>\n      <td>1865</td>\n      <td>CID_000826</td>\n    </tr>\n    <tr>\n      <th>7980</th>\n      <td>1273</td>\n      <td>MPD_1868_1273</td>\n      <td>TIPPERARY ADVOCATE .</td>\n      <td>independent</td>\n      <td>irish</td>\n      <td>nenagh . — ( in the province of munster and co...</td>\n      <td>nenagh</td>\n      <td>in the province of munster and county tipperary</td>\n      <td>L1 per&lt;SEP&gt;16s</td>\n      <td>1857</td>\n      <td>Saturday</td>\n      <td>Tipperary&lt;SEP&gt;Clarc&lt;SEP&gt;Limerick&lt;SEP&gt;King 's a...</td>\n      <td>NaN</td>\n      <td>P . E . Gill</td>\n      <td>NaN</td>\n      <td>TIPPERARY ADVOCATE . Saturday , Subscription L...</td>\n      <td>Is a market , post , and fair town of North Ti...</td>\n      <td>1868</td>\n      <td>CID_000826</td>\n    </tr>\n    <tr>\n      <th>9339</th>\n      <td>1317</td>\n      <td>MPD_1870_1317</td>\n      <td>TIPPERARY ADVOCATE .</td>\n      <td>independent</td>\n      <td>irish</td>\n      <td>nenagh . — ( in the province of munster and co...</td>\n      <td>nenagh</td>\n      <td>in the province of munster and county tipperary</td>\n      <td>4d&lt;SEP&gt;5d</td>\n      <td>1857</td>\n      <td>Saturday</td>\n      <td>Tipperary&lt;SEP&gt;Clare&lt;SEP&gt;Limerick&lt;SEP&gt;King 's a...</td>\n      <td>NaN</td>\n      <td>P . E . Gill</td>\n      <td>NaN</td>\n      <td>TIPPERARY ADVOCATE . Saturday , 4d . and 5d . ...</td>\n      <td>Is a market , post , and fair town of North Ti...</td>\n      <td>1870</td>\n      <td>CID_000826</td>\n    </tr>\n    <tr>\n      <th>10820</th>\n      <td>1462</td>\n      <td>MPD_1873_1462</td>\n      <td>TIPPERARY ADVOCATE .</td>\n      <td>republican</td>\n      <td>irish</td>\n      <td>nenagh . — ( in the province of munster and co...</td>\n      <td>nenagh</td>\n      <td>in the province of munster and county tipperary</td>\n      <td>4d</td>\n      <td>1857</td>\n      <td>Saturday</td>\n      <td>Tipperary&lt;SEP&gt;Clare&lt;SEP&gt;Limerick&lt;SEP&gt;King 's a...</td>\n      <td>NaN</td>\n      <td>P . E . Gill</td>\n      <td>NaN</td>\n      <td>TIPPERARY ADVOCATE . Saturday , 4d . Republica...</td>\n      <td>Is a market , post , and fair town of North Ti...</td>\n      <td>1873</td>\n      <td>CID_000826</td>\n    </tr>\n    <tr>\n      <th>12391</th>\n      <td>1539</td>\n      <td>MPD_1875_1539</td>\n      <td>TIPPERARY ADVOCATE .</td>\n      <td>republican</td>\n      <td>irish</td>\n      <td>nenagh . — ( in the province of munster and co...</td>\n      <td>nenagh</td>\n      <td>in the province of munster and county tipperary</td>\n      <td>4d</td>\n      <td>1857</td>\n      <td>Saturday</td>\n      <td>Tipperary&lt;SEP&gt;Clare&lt;SEP&gt;Limerick&lt;SEP&gt;King 's a...</td>\n      <td>NaN</td>\n      <td>P . E . Gill</td>\n      <td>NaN</td>\n      <td>TIPPERARY ADVOCATE . Saturday , 4d . CRepublia...</td>\n      <td>Is a market , post , and fair town of North Ti...</td>\n      <td>1875</td>\n      <td>CID_000826</td>\n    </tr>\n    <tr>\n      <th>14093</th>\n      <td>1671</td>\n      <td>MPD_1878_1671</td>\n      <td>TIPPERARY ADVOCATE .</td>\n      <td>republican</td>\n      <td>irish</td>\n      <td>nenagh . — ( in the province of munster and co...</td>\n      <td>nenagh</td>\n      <td>in the province of munster and county tipperary</td>\n      <td>4d</td>\n      <td>1857</td>\n      <td>Saturday</td>\n      <td>Tipperary&lt;SEP&gt;Clare&lt;SEP&gt;Limerick&lt;SEP&gt;King 's a...</td>\n      <td>NaN</td>\n      <td>DP . E . Gill</td>\n      <td>NaN</td>\n      <td>TIPPERARY ADVOCATE . Saturday , 4d . Republica...</td>\n      <td>Is a market , post , and fair town of North Ti...</td>\n      <td>1878</td>\n      <td>CID_000826</td>\n    </tr>\n    <tr>\n      <th>15897</th>\n      <td>1771</td>\n      <td>MPD_1880_1771</td>\n      <td>TIPPERARY ADVOCATE .</td>\n      <td>republican</td>\n      <td>irish</td>\n      <td>nenagh . — ( in the province of munster and co...</td>\n      <td>nenagh</td>\n      <td>in the province of munster and county tipperary</td>\n      <td>4d</td>\n      <td>1857</td>\n      <td>Saturday</td>\n      <td>Tipperary&lt;SEP&gt;Clare&lt;SEP&gt;Limerick&lt;SEP&gt;King 's a...</td>\n      <td>NaN</td>\n      <td>P . E . Gill</td>\n      <td>NaN</td>\n      <td>TIPPERARY ADVOCATE . Saturday , 4d . Republica...</td>\n      <td>latket , post , and fair town of North Tippera...</td>\n      <td>1880</td>\n      <td>CID_000826</td>\n    </tr>\n    <tr>\n      <th>17826</th>\n      <td>1895</td>\n      <td>MPD_1883_1895</td>\n      <td>TIPPERARY ADVOCATE .</td>\n      <td>republican</td>\n      <td>irish</td>\n      <td>nenagh . — ( in the province of munster and co...</td>\n      <td>nenagh</td>\n      <td>in the province of munster and county tipperary</td>\n      <td>4d</td>\n      <td>1857</td>\n      <td>Saturday</td>\n      <td>Tipperary&lt;SEP&gt;Clare&lt;SEP&gt;Limerick&lt;SEP&gt;King 's a...</td>\n      <td>NaN</td>\n      <td>P . E . Gill</td>\n      <td>NaN</td>\n      <td>TIPPERARY ADVOCATE . Saturday , 4d . Republica...</td>\n      <td>Is a market , post , and fair town of North Ti...</td>\n      <td>1883</td>\n      <td>CID_000826</td>\n    </tr>\n    <tr>\n      <th>19864</th>\n      <td>1999</td>\n      <td>MPD_1885_1999</td>\n      <td>TIPPERARY ADVOCATE .</td>\n      <td>republican</td>\n      <td>irish</td>\n      <td>nenagh . — ( in the province of munster and co...</td>\n      <td>nenagh</td>\n      <td>in the province of munster and county tipperary</td>\n      <td>4d</td>\n      <td>1857</td>\n      <td>Saturday</td>\n      <td>Tipperary&lt;SEP&gt;Clare&lt;SEP&gt;Limerick&lt;SEP&gt;King 's a...</td>\n      <td>NaN</td>\n      <td>P . E . Gill</td>\n      <td>NaN</td>\n      <td>TIPPERARY ADVOCATE . Saturday , 4d . Republica...</td>\n      <td>Is a market , post , and fair town of North Ti...</td>\n      <td>1885</td>\n      <td>CID_000826</td>\n    </tr>\n    <tr>\n      <th>22066</th>\n      <td>2163</td>\n      <td>MPD_1888_2163</td>\n      <td>TIPPERARY ADVOCATE .</td>\n      <td>republican</td>\n      <td>irish</td>\n      <td>nenagh . — ( in the province of munster and co...</td>\n      <td>nenagh</td>\n      <td>in the province of munster and county tipperary</td>\n      <td>4d</td>\n      <td>1857</td>\n      <td>Saturday</td>\n      <td>Tipperary&lt;SEP&gt;Clare&lt;SEP&gt;Limerick&lt;SEP&gt;King 's a...</td>\n      <td>NaN</td>\n      <td>P . E . Gill</td>\n      <td>NaN</td>\n      <td>TIPPERARY ADVOCATE . Saturday , 4d . — Republi...</td>\n      <td>Riding are held here . A considerable trade is...</td>\n      <td>1888</td>\n      <td>CID_000826</td>\n    </tr>\n    <tr>\n      <th>24241</th>\n      <td>2135</td>\n      <td>MPD_1890_2135</td>\n      <td>TIPPERARY ADVOCATE .</td>\n      <td>republican</td>\n      <td>irish</td>\n      <td>nenagh . — ( in the province of munster and co...</td>\n      <td>nenagh</td>\n      <td>in the province of munster and county tipperary</td>\n      <td>4d</td>\n      <td>1857</td>\n      <td>Saturday</td>\n      <td>Tipperary&lt;SEP&gt;Clare&lt;SEP&gt;Limerick&lt;SEP&gt;King 's a...</td>\n      <td>NaN</td>\n      <td>P . E . Gill</td>\n      <td>NaN</td>\n      <td>TIPPERARY ADVOCATE . Saturday , 4d . Republica...</td>\n      <td>Is a market , post , and fair town of North Ti...</td>\n      <td>1890</td>\n      <td>CID_000826</td>\n    </tr>\n  </tbody>\n</table>\n</div>"
     },
     "metadata": {},
     "execution_count": 23
    }
   ],
   "source": [
    "linkchainer.retrieve_by_chain_id('CID_000826')"
   ]
  },
  {
   "cell_type": "code",
   "execution_count": null,
   "metadata": {},
   "outputs": [],
   "source": [
    "## Handle Missing Information"
   ]
  },
  {
   "cell_type": "code",
   "execution_count": null,
   "metadata": {},
   "outputs": [],
   "source": []
  },
  {
   "source": [
    "## Fin"
   ],
   "cell_type": "markdown",
   "metadata": {}
  },
  {
   "cell_type": "code",
   "execution_count": null,
   "metadata": {},
   "outputs": [],
   "source": []
  }
 ]
}