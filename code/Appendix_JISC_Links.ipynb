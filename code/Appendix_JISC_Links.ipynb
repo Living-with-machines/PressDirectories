{
 "cells": [
  {
   "cell_type": "markdown",
   "id": "afd46953",
   "metadata": {},
   "source": [
    "# The contours of the JISC Corpus\n",
    "\n",
    "As the JISC corpus is not readily available to everyone, we provide a list of the titles.\n",
    "This notebook explains which newspapers have categorized as belonging to JISC Corpus and to which entry in Michell's they are associated.."
   ]
  },
  {
   "cell_type": "code",
   "execution_count": null,
   "id": "cf517b6d",
   "metadata": {},
   "outputs": [],
   "source": [
    "from pathlib import Path\n",
    "import pandas as pd\n",
    "import pickle"
   ]
  },
  {
   "cell_type": "markdown",
   "id": "0aa2422d",
   "metadata": {},
   "source": [
    "## Load data"
   ]
  },
  {
   "cell_type": "code",
   "execution_count": null,
   "id": "05883ec1",
   "metadata": {},
   "outputs": [],
   "source": [
    "#!unzip ../data/Press_Directories_1846_1920_JISC_final.csv.zip -d ../data"
   ]
  },
  {
   "cell_type": "code",
   "execution_count": null,
   "id": "55b21668",
   "metadata": {},
   "outputs": [],
   "source": [
    "path = Path('../data/Press_Directories_1846_1920_JISC_final.csv')\n",
    "df = pd.read_csv(path,index_col=0)"
   ]
  },
  {
   "cell_type": "code",
   "execution_count": null,
   "id": "ace98091",
   "metadata": {},
   "outputs": [],
   "source": [
    "jisc_meta = pd.read_excel('../data/JISC_TitleList.xlsx', sheet_name='Titles')\n",
    "jisc_meta.head(2)"
   ]
  },
  {
   "cell_type": "markdown",
   "id": "862cb074",
   "metadata": {},
   "source": [
    "# Select Title\n",
    "\n",
    "For the paper we only looked at provincial (in the sense of non-Metropolitan titles) after 1846 (when the first edition of Mitchell's appeared.)"
   ]
  },
  {
   "cell_type": "code",
   "execution_count": null,
   "id": "254d73be",
   "metadata": {},
   "outputs": [],
   "source": [
    "jsp = jisc_meta[jisc_meta.CATEGORY.isin(['scottish','welsh','provincial','irish']) & (jisc_meta.End_year >= 1846)]\n",
    "list(jsp['Newspaper Title'])"
   ]
  },
  {
   "cell_type": "markdown",
   "id": "75058308",
   "metadata": {},
   "source": [
    "Below we list the titles that were categorized as being in JISC."
   ]
  },
  {
   "cell_type": "code",
   "execution_count": null,
   "id": "b6256e7a",
   "metadata": {},
   "outputs": [],
   "source": [
    "sorted(df[df.IN_JISC > 0].TITLE.unique())"
   ]
  },
  {
   "cell_type": "markdown",
   "id": "f992081a",
   "metadata": {},
   "source": [
    "The folder `../data/jisc_links` contain annotations where we manually labeled pairs of titles (JISC and Mitchells) as referring to the same newspaper (labelled as \"same\") or (labelled as \"different\"). We then extended the same BL System ID to all other entries with the same `NEWSPAPER ID`. Below we create a table that allows you to compare the JISC title and the corresponding entry in Mitchells."
   ]
  },
  {
   "cell_type": "code",
   "execution_count": null,
   "id": "5b3ff67d",
   "metadata": {},
   "outputs": [],
   "source": [
    "\n",
    "def get_links(pickle_path):\n",
    "    year = pickle_path.stem.split('_')[-1]\n",
    "    annotations = pickle.load(open(pickle_path,'rb'))\n",
    "    same = [a for a in annotations if a[-1]=='same']\n",
    "    links = []\n",
    "    for obs,l in same:\n",
    "        jisc_title = jisc_meta[jisc_meta['System ID']==obs[1]]['Newspaper Title'].values[0]\n",
    "        mitchell_title = df[df.id==obs[2]]['TITLE'].values[0]\n",
    "        chain_titles = df[(df.NEWSPAPER_ID==obs[3]) & (df.YEAR > int(year)) & \\\n",
    "                      (df.YEAR <= jisc_meta[jisc_meta['System ID']==obs[1]]['End_year'].values[0])]['TITLE'].values\n",
    "        links.append(['manual',obs[1],obs[2],jisc_title,mitchell_title])\n",
    "        links.extend([['newspaper_id',obs[1],obs[3],jisc_title,title] for title in chain_titles])\n",
    "    return links"
   ]
  },
  {
   "cell_type": "code",
   "execution_count": null,
   "id": "9b380c10",
   "metadata": {},
   "outputs": [],
   "source": [
    "annotation_files = list(Path('../data/jisc_links/').glob('*.pickle'))\n",
    "links = []\n",
    "for af in annotation_files:\n",
    "    links.extend(get_links(af))\n",
    "\n",
    "jisc_link_df = pd.DataFrame(links,columns=['LINKING_METHOD','BL_SYSTEM_ID',\"NPD_ID\",'JISC_TITLE','MITCHELL_TITEL'])\n",
    "jisc_link_df.sort_values(by=['BL_SYSTEM_ID'])\n",
    "jisc_link_df.to_csv('../data/jisc_links.csv')"
   ]
  },
  {
   "cell_type": "code",
   "execution_count": null,
   "id": "d1cafc67",
   "metadata": {},
   "outputs": [],
   "source": [
    "print('All done!')"
   ]
  },
  {
   "cell_type": "markdown",
   "id": "5123e1c5",
   "metadata": {},
   "source": [
    "# Fin."
   ]
  },
  {
   "cell_type": "code",
   "execution_count": null,
   "id": "ecacf0f2",
   "metadata": {},
   "outputs": [],
   "source": []
  }
 ],
 "metadata": {
  "kernelspec": {
   "display_name": "Python 3 (ipykernel)",
   "language": "python",
   "name": "python3"
  },
  "language_info": {
   "codemirror_mode": {
    "name": "ipython",
    "version": 3
   },
   "file_extension": ".py",
   "mimetype": "text/x-python",
   "name": "python",
   "nbconvert_exporter": "python",
   "pygments_lexer": "ipython3",
   "version": "3.9.7"
  }
 },
 "nbformat": 4,
 "nbformat_minor": 5
}
