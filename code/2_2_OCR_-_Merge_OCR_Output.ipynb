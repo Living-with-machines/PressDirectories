{
 "cells": [
  {
   "cell_type": "code",
   "execution_count": 1,
   "metadata": {},
   "outputs": [],
   "source": [
    "from pathlib import Path\n",
    "from collections import deque"
   ]
  },
  {
   "cell_type": "code",
   "execution_count": 2,
   "metadata": {},
   "outputs": [
    {
     "output_type": "execute_result",
     "data": {
      "text/plain": [
       "'/deezy_datadrive/kaspar-playground/Living-with-Machines-code/sources-lab-mro/npd_pipeline/npd_final'"
      ]
     },
     "metadata": {},
     "execution_count": 2
    }
   ],
   "source": [
    "pwd"
   ]
  },
  {
   "cell_type": "code",
   "execution_count": 2,
   "metadata": {},
   "outputs": [],
   "source": [
    "root = Path('/deezy_datadrive/kaspar-playground/npd/Data/Original')#Path('../images/')"
   ]
  },
  {
   "cell_type": "code",
   "execution_count": 3,
   "metadata": {},
   "outputs": [
    {
     "output_type": "stream",
     "name": "stdout",
     "text": [
      "MPD_1846  MPD_1862  MPD_1871  MPD_1881\tMPD_1891  MPD_1901  MPD_1910  MPD_1919\nMPD_1847  MPD_1863  MPD_1872  MPD_1882\tMPD_1893  MPD_1902  MPD_1911  MPD_1920\nMPD_1851  MPD_1864  MPD_1873  MPD_1883\tMPD_1894  MPD_1903  MPD_1912\nMPD_1855  MPD_1865  MPD_1874  MPD_1884\tMPD_1895  MPD_1904  MPD_1913\nMPD_1856  MPD_1866  MPD_1875  MPD_1885\tMPD_1896  MPD_1905  MPD_1914\nMPD_1857  MPD_1867  MPD_1877  MPD_1886\tMPD_1897  MPD_1906  MPD_1915\nMPD_1858  MPD_1868  MPD_1878  MPD_1888\tMPD_1898  MPD_1907  MPD_1916\nMPD_1860  MPD_1869  MPD_1879  MPD_1889\tMPD_1899  MPD_1908  MPD_1917\nMPD_1861  MPD_1870  MPD_1880  MPD_1890\tMPD_1900  MPD_1909  MPD_1918\n"
     ]
    }
   ],
   "source": [
    "!ls {root}"
   ]
  },
  {
   "cell_type": "code",
   "execution_count": 4,
   "metadata": {},
   "outputs": [],
   "source": [
    "editions = list(root.glob('MPD_*'))\n",
    "#list(editions)"
   ]
  },
  {
   "cell_type": "code",
   "execution_count": 5,
   "metadata": {},
   "outputs": [],
   "source": [
    "def merge(left_col_path):\n",
    "    prefix,year,page,direction = left_col_path.stem.split('_')\n",
    "    right_col_path = left_col_path.parent / f\"{prefix}_{year}_{page}_right.txt\"\n",
    "    \n",
    "    out_folder = left_col_path.parent.parent / 'Plain Text'\n",
    "    out_folder.mkdir(exist_ok=True)\n",
    "    out_path = out_folder / f\"{prefix}_{year}_{page}.txt\"\n",
    "    \n",
    "    page = ''\n",
    "    for p in [left_col_path,right_col_path]:\n",
    "        try:\n",
    "            with open(p,'r') as in_file:\n",
    "                page+= (in_file.read() + '\\n')\n",
    "        except FileNotFoundError:\n",
    "            print(right_col_path)\n",
    "    \n",
    "    with open(out_path,'w') as out_file:\n",
    "        out_file.write(page)\n",
    "\n"
   ]
  },
  {
   "cell_type": "code",
   "execution_count": 6,
   "metadata": {
    "tags": []
   },
   "outputs": [
    {
     "output_type": "stream",
     "name": "stdout",
     "text": [
      "/deezy_datadrive/kaspar-playground/npd/Data/Original/MPD_1886/Plain Text 2/MPD_1886_130_right.txt\n",
      "/deezy_datadrive/kaspar-playground/npd/Data/Original/MPD_1910/Plain Text 2/MPD_1910_104_right.txt\n",
      "/deezy_datadrive/kaspar-playground/npd/Data/Original/MPD_1891/Plain Text 2/MPD_1891_171_right.txt\n",
      "/deezy_datadrive/kaspar-playground/npd/Data/Original/MPD_1874/Plain Text 2/MPD_1874_108_right.txt\n",
      "/deezy_datadrive/kaspar-playground/npd/Data/Original/MPD_1881/Plain Text 2/MPD_1881_032_right.txt\n",
      "/deezy_datadrive/kaspar-playground/npd/Data/Original/MPD_1917/Plain Text 2/MPD_1917_140_right.txt\n"
     ]
    }
   ],
   "source": [
    "\n",
    "\n",
    "for ed in editions:\n",
    "    year = int(str(ed).split(\"_\")[-1])\n",
    "    if year >= 1855:\n",
    "        left_cols = list((ed / 'Plain Text 2').glob('*_left.txt'))\n",
    "        deque(map(merge,left_cols))\n",
    "\n",
    "    # this hasn't been tested yet\n",
    "    #in_folder = ed / 'Plain Text'\n",
    "    #in_folder.rename('Plain Text 2')\n",
    "    #out_folder = ed / 'Plain Text Merged  \n",
    "    #out_folder.rename('Plain Text')\n",
    "    \n",
    "    \n"
   ]
  },
  {
   "cell_type": "markdown",
   "metadata": {},
   "source": [
    "## Fin."
   ]
  },
  {
   "cell_type": "code",
   "execution_count": null,
   "metadata": {},
   "outputs": [],
   "source": []
  }
 ],
 "metadata": {
  "kernelspec": {
   "display_name": "Python 3",
   "language": "python",
   "name": "python3"
  },
  "language_info": {
   "codemirror_mode": {
    "name": "ipython",
    "version": 3
   },
   "file_extension": ".py",
   "mimetype": "text/x-python",
   "name": "python",
   "nbconvert_exporter": "python",
   "pygments_lexer": "ipython3",
   "version": "3.7.5-final"
  }
 },
 "nbformat": 4,
 "nbformat_minor": 4
}