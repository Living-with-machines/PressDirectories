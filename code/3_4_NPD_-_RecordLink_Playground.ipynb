{
 "cells": [
  {
   "cell_type": "code",
   "execution_count": 1,
   "metadata": {},
   "outputs": [],
   "source": [
    "%load_ext autoreload"
   ]
  },
  {
   "cell_type": "code",
   "execution_count": 2,
   "metadata": {},
   "outputs": [],
   "source": [
    "%autoreload 2"
   ]
  },
  {
   "cell_type": "code",
   "execution_count": 3,
   "metadata": {},
   "outputs": [
    {
     "output_type": "stream",
     "name": "stderr",
     "text": [
      "/data/anaconda/envs/py37torch/lib/python3.7/site-packages/tensorflow/python/framework/dtypes.py:526: FutureWarning: Passing (type, 1) or '1type' as a synonym of type is deprecated; in a future version of numpy, it will be understood as (type, (1,)) / '(1,)type'.\n  _np_qint8 = np.dtype([(\"qint8\", np.int8, 1)])\n/data/anaconda/envs/py37torch/lib/python3.7/site-packages/tensorflow/python/framework/dtypes.py:527: FutureWarning: Passing (type, 1) or '1type' as a synonym of type is deprecated; in a future version of numpy, it will be understood as (type, (1,)) / '(1,)type'.\n  _np_quint8 = np.dtype([(\"quint8\", np.uint8, 1)])\n/data/anaconda/envs/py37torch/lib/python3.7/site-packages/tensorflow/python/framework/dtypes.py:528: FutureWarning: Passing (type, 1) or '1type' as a synonym of type is deprecated; in a future version of numpy, it will be understood as (type, (1,)) / '(1,)type'.\n  _np_qint16 = np.dtype([(\"qint16\", np.int16, 1)])\n/data/anaconda/envs/py37torch/lib/python3.7/site-packages/tensorflow/python/framework/dtypes.py:529: FutureWarning: Passing (type, 1) or '1type' as a synonym of type is deprecated; in a future version of numpy, it will be understood as (type, (1,)) / '(1,)type'.\n  _np_quint16 = np.dtype([(\"quint16\", np.uint16, 1)])\n/data/anaconda/envs/py37torch/lib/python3.7/site-packages/tensorflow/python/framework/dtypes.py:530: FutureWarning: Passing (type, 1) or '1type' as a synonym of type is deprecated; in a future version of numpy, it will be understood as (type, (1,)) / '(1,)type'.\n  _np_qint32 = np.dtype([(\"qint32\", np.int32, 1)])\n/data/anaconda/envs/py37torch/lib/python3.7/site-packages/tensorflow/python/framework/dtypes.py:535: FutureWarning: Passing (type, 1) or '1type' as a synonym of type is deprecated; in a future version of numpy, it will be understood as (type, (1,)) / '(1,)type'.\n  np_resource = np.dtype([(\"resource\", np.ubyte, 1)])\n"
     ]
    }
   ],
   "source": [
    "from tools.linking_tools import *\n",
    "from tools.collection_tools import Collection\n",
    "from tools.helpers import range_to_pagenumbers,clean_all_csv\n",
    "from pathlib import Path"
   ]
  },
  {
   "cell_type": "code",
   "execution_count": 4,
   "metadata": {},
   "outputs": [],
   "source": [
    "clean_all_csv()"
   ]
  },
  {
   "cell_type": "code",
   "execution_count": 5,
   "metadata": {},
   "outputs": [],
   "source": [
    "ROOT = Path(\"/deezy_datadrive/kaspar-playground/npd/\")\n",
    "DATA = ROOT / 'Data'\n",
    "IN_PATH = DATA / \"Original\"\n",
    "OUT_PATH = DATA /  \"Processed\"\n",
    "MODELS_PATH = ROOT / 'Models'"
   ]
  },
  {
   "cell_type": "code",
   "execution_count": 6,
   "metadata": {},
   "outputs": [],
   "source": [
    "editions_all = pickle.load(open('../editions_all.pickle','rb'))\n",
    "\n",
    "#selected_years = [int(p.name.split(\"_\")[1]) for p in list(IN_PATH.glob('MPD_*'))]\n",
    "\n",
    "selected_years = [1846,1847,1851,1856,1858,\n",
    "                  1860,1863,1865,1868,\n",
    "                  1870,1873,1875,1878,\n",
    "                  1880,1883,1885,1888,\n",
    "                  1890,1893,1895,1898,\n",
    "                  1900,1905,1910,1915,1920\n",
    "                 ]\n",
    "\n",
    "editions = {y:editions_all[y] for y in selected_years}\n",
    "editions = range_to_pagenumbers(editions)"
   ]
  },
  {
   "cell_type": "markdown",
   "metadata": {},
   "source": [
    "## Load and vectorize collection"
   ]
  },
  {
   "cell_type": "code",
   "execution_count": 7,
   "metadata": {},
   "outputs": [],
   "source": [
    "collection = Collection(editions,IN_PATH,OUT_PATH)\n",
    "#npd_collection = collection.load()"
   ]
  },
  {
   "cell_type": "code",
   "execution_count": 8,
   "metadata": {},
   "outputs": [],
   "source": [
    "#from tools.analysis_tools import clean_all_csv\n",
    "#clean_all_csv()"
   ]
  },
  {
   "cell_type": "code",
   "execution_count": 9,
   "metadata": {},
   "outputs": [
    {
     "output_type": "display_data",
     "data": {
      "text/plain": "HBox(children=(FloatProgress(value=0.0, max=26.0), HTML(value='')))",
      "application/vnd.jupyter.widget-view+json": {
       "version_major": 2,
       "version_minor": 0,
       "model_id": "98506ce6db7c4ac3a2d22d70acae22da"
      }
     },
     "metadata": {}
    },
    {
     "output_type": "stream",
     "name": "stdout",
     "text": [
      "\n"
     ]
    },
    {
     "output_type": "execute_result",
     "data": {
      "text/plain": [
       "(43361, 17)"
      ]
     },
     "metadata": {},
     "execution_count": 9
    }
   ],
   "source": [
    "npd_collection = collection.load_csv_from_path(path=Path('./csv_dump_final'),suffix='')\n",
    "npd_collection.shape"
   ]
  },
  {
   "cell_type": "code",
   "execution_count": 10,
   "metadata": {},
   "outputs": [
    {
     "output_type": "stream",
     "name": "stdout",
     "text": [
      "number of books in the collections:  26\n"
     ]
    }
   ],
   "source": [
    "recordlinker = RecordLinker(npd_collection)\n",
    "#recordlinker.collection_df.head()"
   ]
  },
  {
   "cell_type": "code",
   "execution_count": 11,
   "metadata": {},
   "outputs": [
    {
     "output_type": "stream",
     "name": "stdout",
     "text": [
      "number of entries in the collection:  43361\n"
     ]
    }
   ],
   "source": [
    "fields = ['S-TITLE', 'S-POL', 'DISTRICT',\n",
    "          'COUNTY', 'S-PRICE','D-EST', 'D-PUB', \n",
    "          'E-LOC', 'E-ORG', 'E-PER']\n",
    "recordlinker.vectorize(fields)"
   ]
  },
  {
   "cell_type": "markdown",
   "metadata": {},
   "source": [
    "## Annotate"
   ]
  },
  {
   "cell_type": "code",
   "execution_count": 12,
   "metadata": {},
   "outputs": [
    {
     "output_type": "stream",
     "name": "stdout",
     "text": [
      "Years in collection.\n[1846 1847 1851 1856 1858 1860 1863 1865 1868 1870 1873 1875 1878 1880\n 1883 1885 1888 1890 1893 1895 1898 1900 1905 1910 1915 1920]\n"
     ]
    }
   ],
   "source": [
    "print('Years in collection.')\n",
    "print(recordlinker.collection_df.YEAR.unique())"
   ]
  },
  {
   "cell_type": "code",
   "execution_count": 24,
   "metadata": {},
   "outputs": [
    {
     "output_type": "stream",
     "name": "stdout",
     "text": [
      "Data vectorized.\n",
      "(43361, 17)\n",
      "43361 2447\n",
      "Building Index!\n",
      "Finished!\n"
     ]
    }
   ],
   "source": [
    "annotator = Annotator(1895,1898,recordlinker)"
   ]
  },
  {
   "cell_type": "code",
   "execution_count": 25,
   "metadata": {},
   "outputs": [
    {
     "output_type": "display_data",
     "data": {
      "text/plain": "HTML(value='0 examples annotated, 151 examples left')",
      "application/vnd.jupyter.widget-view+json": {
       "version_major": 2,
       "version_minor": 0,
       "model_id": "5cb967189004446b8cb33ef8f01785a6"
      }
     },
     "metadata": {}
    },
    {
     "output_type": "display_data",
     "data": {
      "text/plain": "HBox(children=(Button(description='same', style=ButtonStyle()), Button(description='different', style=ButtonSt…",
      "application/vnd.jupyter.widget-view+json": {
       "version_major": 2,
       "version_minor": 0,
       "model_id": "1e76ff52295a47e78ae30cfca8b203b8"
      }
     },
     "metadata": {}
    },
    {
     "output_type": "display_data",
     "data": {
      "text/plain": "Output()",
      "application/vnd.jupyter.widget-view+json": {
       "version_major": 2,
       "version_minor": 0,
       "model_id": "94552b3bb5674b92a378a002540c41ec"
      }
     },
     "metadata": {}
    }
   ],
   "source": [
    "annotator.annotate_examples(30)"
   ]
  },
  {
   "cell_type": "code",
   "execution_count": 26,
   "metadata": {},
   "outputs": [],
   "source": [
    "annotator.add()"
   ]
  },
  {
   "cell_type": "code",
   "execution_count": 27,
   "metadata": {},
   "outputs": [
    {
     "output_type": "stream",
     "name": "stdout",
     "text": [
      "< Annotators with 150 annotations >\n"
     ]
    }
   ],
   "source": [
    "print(annotator)"
   ]
  },
  {
   "cell_type": "code",
   "execution_count": 28,
   "metadata": {},
   "outputs": [
    {
     "output_type": "stream",
     "name": "stdout",
     "text": [
      "Saved 150 annotation to link_dump/link_dump_173778.pickle\nRemoved previous annotations\n"
     ]
    }
   ],
   "source": [
    "annotator.save(link_dump_folder=Path('./link_dump'))"
   ]
  },
  {
   "cell_type": "markdown",
   "metadata": {},
   "source": [
    "## Train a model"
   ]
  },
  {
   "cell_type": "code",
   "execution_count": 29,
   "metadata": {},
   "outputs": [
    {
     "output_type": "stream",
     "name": "stdout",
     "text": [
      "Data vectorized.\n",
      "Loaded 3300 annotations\n",
      "(3300, 2)\n",
      "(3291, 2)\n"
     ]
    }
   ],
   "source": [
    "link_clf = RLModelTrainer(recordlinker)\n",
    "link_clf.load_annotations(annotations_dump=Path('./link_dump/'))\n",
    "link_clf.export_csv(save_to=Path('./link_dump/training'))\n"
   ]
  },
  {
   "cell_type": "code",
   "execution_count": 30,
   "metadata": {
    "tags": [
     "outputPrepend"
    ]
   },
   "outputs": [
    {
     "output_type": "stream",
     "name": "stdout",
     "text": [
      "                (dropout): Dropout(p=0.1, inplace=False)\n",
      "              )\n",
      "            )\n",
      "            (intermediate): BertIntermediate(\n",
      "              (dense): Linear(in_features=768, out_features=3072, bias=True)\n",
      "            )\n",
      "            (output): BertOutput(\n",
      "              (dense): Linear(in_features=3072, out_features=768, bias=True)\n",
      "              (LayerNorm): LayerNorm((768,), eps=1e-12, elementwise_affine=True)\n",
      "              (dropout): Dropout(p=0.1, inplace=False)\n",
      "            )\n",
      "          )\n",
      "          (10): BertLayer(\n",
      "            (attention): BertAttention(\n",
      "              (self): BertSelfAttention(\n",
      "                (query): Linear(in_features=768, out_features=768, bias=True)\n",
      "                (key): Linear(in_features=768, out_features=768, bias=True)\n",
      "                (value): Linear(in_features=768, out_features=768, bias=True)\n",
      "                (dropout): Dropout(p=0.1, inplace=False)\n",
      "              )\n",
      "              (output): BertSelfOutput(\n",
      "                (dense): Linear(in_features=768, out_features=768, bias=True)\n",
      "                (LayerNorm): LayerNorm((768,), eps=1e-12, elementwise_affine=True)\n",
      "                (dropout): Dropout(p=0.1, inplace=False)\n",
      "              )\n",
      "            )\n",
      "            (intermediate): BertIntermediate(\n",
      "              (dense): Linear(in_features=768, out_features=3072, bias=True)\n",
      "            )\n",
      "            (output): BertOutput(\n",
      "              (dense): Linear(in_features=3072, out_features=768, bias=True)\n",
      "              (LayerNorm): LayerNorm((768,), eps=1e-12, elementwise_affine=True)\n",
      "              (dropout): Dropout(p=0.1, inplace=False)\n",
      "            )\n",
      "          )\n",
      "          (11): BertLayer(\n",
      "            (attention): BertAttention(\n",
      "              (self): BertSelfAttention(\n",
      "                (query): Linear(in_features=768, out_features=768, bias=True)\n",
      "                (key): Linear(in_features=768, out_features=768, bias=True)\n",
      "                (value): Linear(in_features=768, out_features=768, bias=True)\n",
      "                (dropout): Dropout(p=0.1, inplace=False)\n",
      "              )\n",
      "              (output): BertSelfOutput(\n",
      "                (dense): Linear(in_features=768, out_features=768, bias=True)\n",
      "                (LayerNorm): LayerNorm((768,), eps=1e-12, elementwise_affine=True)\n",
      "                (dropout): Dropout(p=0.1, inplace=False)\n",
      "              )\n",
      "            )\n",
      "            (intermediate): BertIntermediate(\n",
      "              (dense): Linear(in_features=768, out_features=3072, bias=True)\n",
      "            )\n",
      "            (output): BertOutput(\n",
      "              (dense): Linear(in_features=3072, out_features=768, bias=True)\n",
      "              (LayerNorm): LayerNorm((768,), eps=1e-12, elementwise_affine=True)\n",
      "              (dropout): Dropout(p=0.1, inplace=False)\n",
      "            )\n",
      "          )\n",
      "        )\n",
      "      )\n",
      "      (pooler): BertPooler(\n",
      "        (dense): Linear(in_features=768, out_features=768, bias=True)\n",
      "        (activation): Tanh()\n",
      "      )\n",
      "    )\n",
      "  )\n",
      "  (decoder): Linear(in_features=768, out_features=2, bias=True)\n",
      "  (loss_function): CrossEntropyLoss()\n",
      "  (beta): 1.0\n",
      "  (weights): {'same': 2.0}\n",
      "  (weight_tensor) tensor([1., 2.], device='cuda:0')\n",
      ")\"\n",
      "2021-04-21 21:11:57,205 ----------------------------------------------------------------------------------------------------\n",
      "2021-04-21 21:11:57,206 Corpus: \"Corpus: 2317 train + 321 dev + 653 test sentences\"\n",
      "2021-04-21 21:11:57,206 ----------------------------------------------------------------------------------------------------\n",
      "2021-04-21 21:11:57,207 Parameters:\n",
      "2021-04-21 21:11:57,207  - learning_rate: \"0.05\"\n",
      "2021-04-21 21:11:57,208  - mini_batch_size: \"8\"\n",
      "2021-04-21 21:11:57,208  - patience: \"2\"\n",
      "2021-04-21 21:11:57,209  - anneal_factor: \"0.5\"\n",
      "2021-04-21 21:11:57,209  - max_epochs: \"10\"\n",
      "2021-04-21 21:11:57,210  - shuffle: \"True\"\n",
      "2021-04-21 21:11:57,210  - train_with_dev: \"False\"\n",
      "2021-04-21 21:11:57,210  - batch_growth_annealing: \"False\"\n",
      "2021-04-21 21:11:57,211 ----------------------------------------------------------------------------------------------------\n",
      "2021-04-21 21:11:57,211 Model training base path: \"/deezy_datadrive/kaspar-playground/npd/Models/link_classifier\"\n",
      "2021-04-21 21:11:57,212 ----------------------------------------------------------------------------------------------------\n",
      "2021-04-21 21:11:57,212 Device: cuda:0\n",
      "2021-04-21 21:11:57,213 ----------------------------------------------------------------------------------------------------\n",
      "2021-04-21 21:11:57,213 Embeddings storage mode: cpu\n",
      "2021-04-21 21:11:57,217 ----------------------------------------------------------------------------------------------------\n",
      "2021-04-21 21:12:04,090 epoch 1 - iter 29/290 - loss 1.61358617 - samples/sec: 34.85 - lr: 0.050000\n",
      "2021-04-21 21:12:10,812 epoch 1 - iter 58/290 - loss 1.10261309 - samples/sec: 35.87 - lr: 0.050000\n",
      "2021-04-21 21:12:17,266 epoch 1 - iter 87/290 - loss 1.01207419 - samples/sec: 36.24 - lr: 0.050000\n",
      "2021-04-21 21:12:23,697 epoch 1 - iter 116/290 - loss 0.84417623 - samples/sec: 36.35 - lr: 0.050000\n",
      "2021-04-21 21:12:30,363 epoch 1 - iter 145/290 - loss 0.75364994 - samples/sec: 35.97 - lr: 0.050000\n",
      "2021-04-21 21:12:36,889 epoch 1 - iter 174/290 - loss 0.67122923 - samples/sec: 35.81 - lr: 0.050000\n",
      "2021-04-21 21:12:43,484 epoch 1 - iter 203/290 - loss 0.64005697 - samples/sec: 35.46 - lr: 0.050000\n",
      "2021-04-21 21:12:50,283 epoch 1 - iter 232/290 - loss 0.68328859 - samples/sec: 35.24 - lr: 0.050000\n",
      "2021-04-21 21:12:56,824 epoch 1 - iter 261/290 - loss 0.64363308 - samples/sec: 35.73 - lr: 0.050000\n",
      "2021-04-21 21:13:03,518 epoch 1 - iter 290/290 - loss 0.63058958 - samples/sec: 35.78 - lr: 0.050000\n",
      "2021-04-21 21:13:03,576 ----------------------------------------------------------------------------------------------------\n",
      "2021-04-21 21:13:03,577 EPOCH 1 done: loss 0.6306 - lr 0.0500000\n",
      "2021-04-21 21:13:12,773 DEV : loss 0.6973322033882141 - score 0.8037\n",
      "2021-04-21 21:13:13,296 BAD EPOCHS (no improvement): 0\n",
      "saving best model\n",
      "2021-04-21 21:13:16,498 ----------------------------------------------------------------------------------------------------\n",
      "2021-04-21 21:13:23,398 epoch 2 - iter 29/290 - loss 0.62013995 - samples/sec: 34.77 - lr: 0.050000\n",
      "2021-04-21 21:13:30,086 epoch 2 - iter 58/290 - loss 0.99185742 - samples/sec: 36.05 - lr: 0.050000\n",
      "2021-04-21 21:13:36,653 epoch 2 - iter 87/290 - loss 0.90351861 - samples/sec: 35.59 - lr: 0.050000\n",
      "2021-04-21 21:13:43,362 epoch 2 - iter 116/290 - loss 0.70330213 - samples/sec: 35.69 - lr: 0.050000\n",
      "2021-04-21 21:13:49,916 epoch 2 - iter 145/290 - loss 0.98492479 - samples/sec: 35.59 - lr: 0.050000\n",
      "2021-04-21 21:13:56,578 epoch 2 - iter 174/290 - loss 0.90221535 - samples/sec: 35.06 - lr: 0.050000\n",
      "2021-04-21 21:14:03,270 epoch 2 - iter 203/290 - loss 0.87101703 - samples/sec: 35.74 - lr: 0.050000\n",
      "2021-04-21 21:14:09,782 epoch 2 - iter 232/290 - loss 0.82294272 - samples/sec: 35.88 - lr: 0.050000\n",
      "2021-04-21 21:14:16,347 epoch 2 - iter 261/290 - loss 0.78986026 - samples/sec: 35.58 - lr: 0.050000\n",
      "2021-04-21 21:14:23,137 epoch 2 - iter 290/290 - loss 0.82516385 - samples/sec: 35.27 - lr: 0.050000\n",
      "2021-04-21 21:14:23,173 ----------------------------------------------------------------------------------------------------\n",
      "2021-04-21 21:14:23,173 EPOCH 2 done: loss 0.8252 - lr 0.0500000\n",
      "2021-04-21 21:14:32,430 DEV : loss 0.1743203103542328 - score 0.9657\n",
      "2021-04-21 21:14:32,944 BAD EPOCHS (no improvement): 0\n",
      "saving best model\n",
      "2021-04-21 21:14:34,156 ----------------------------------------------------------------------------------------------------\n",
      "2021-04-21 21:14:41,116 epoch 3 - iter 29/290 - loss 1.52634821 - samples/sec: 35.60 - lr: 0.050000\n",
      "2021-04-21 21:14:47,663 epoch 3 - iter 58/290 - loss 1.26674947 - samples/sec: 35.67 - lr: 0.050000\n",
      "2021-04-21 21:14:54,436 epoch 3 - iter 87/290 - loss 1.00270332 - samples/sec: 35.30 - lr: 0.050000\n",
      "2021-04-21 21:15:01,146 epoch 3 - iter 116/290 - loss 0.78137870 - samples/sec: 34.80 - lr: 0.050000\n",
      "2021-04-21 21:15:07,771 epoch 3 - iter 145/290 - loss 0.68109183 - samples/sec: 35.24 - lr: 0.050000\n",
      "2021-04-21 21:15:14,545 epoch 3 - iter 174/290 - loss 0.64808424 - samples/sec: 35.25 - lr: 0.050000\n",
      "2021-04-21 21:15:21,130 epoch 3 - iter 203/290 - loss 0.73540359 - samples/sec: 35.45 - lr: 0.050000\n",
      "2021-04-21 21:15:27,834 epoch 3 - iter 232/290 - loss 0.69616217 - samples/sec: 35.67 - lr: 0.050000\n",
      "2021-04-21 21:15:34,436 epoch 3 - iter 261/290 - loss 0.67428595 - samples/sec: 35.39 - lr: 0.050000\n",
      "2021-04-21 21:15:40,849 epoch 3 - iter 290/290 - loss 0.68217167 - samples/sec: 36.39 - lr: 0.050000\n",
      "2021-04-21 21:15:40,893 ----------------------------------------------------------------------------------------------------\n",
      "2021-04-21 21:15:40,894 EPOCH 3 done: loss 0.6822 - lr 0.0500000\n",
      "2021-04-21 21:15:50,461 DEV : loss 0.1390969157218933 - score 0.972\n",
      "2021-04-21 21:15:50,976 BAD EPOCHS (no improvement): 0\n",
      "saving best model\n",
      "2021-04-21 21:15:52,189 ----------------------------------------------------------------------------------------------------\n",
      "2021-04-21 21:15:59,068 epoch 4 - iter 29/290 - loss 0.33796275 - samples/sec: 34.86 - lr: 0.050000\n",
      "2021-04-21 21:16:05,975 epoch 4 - iter 58/290 - loss 0.80728268 - samples/sec: 34.95 - lr: 0.050000\n",
      "2021-04-21 21:16:12,522 epoch 4 - iter 87/290 - loss 0.66769160 - samples/sec: 35.69 - lr: 0.050000\n",
      "2021-04-21 21:16:18,915 epoch 4 - iter 116/290 - loss 0.74183293 - samples/sec: 36.57 - lr: 0.050000\n",
      "2021-04-21 21:16:25,620 epoch 4 - iter 145/290 - loss 0.75932531 - samples/sec: 35.62 - lr: 0.050000\n",
      "2021-04-21 21:16:32,244 epoch 4 - iter 174/290 - loss 0.69507770 - samples/sec: 35.25 - lr: 0.050000\n",
      "2021-04-21 21:16:38,860 epoch 4 - iter 203/290 - loss 0.66716440 - samples/sec: 35.32 - lr: 0.050000\n",
      "2021-04-21 21:16:45,607 epoch 4 - iter 232/290 - loss 0.70997035 - samples/sec: 35.42 - lr: 0.050000\n",
      "2021-04-21 21:16:52,195 epoch 4 - iter 261/290 - loss 0.65827522 - samples/sec: 35.47 - lr: 0.050000\n",
      "2021-04-21 21:16:58,680 epoch 4 - iter 290/290 - loss 0.64456313 - samples/sec: 36.01 - lr: 0.050000\n",
      "2021-04-21 21:16:58,720 ----------------------------------------------------------------------------------------------------\n",
      "2021-04-21 21:16:58,722 EPOCH 4 done: loss 0.6446 - lr 0.0500000\n",
      "2021-04-21 21:17:08,214 DEV : loss 0.7391295433044434 - score 0.8224\n",
      "2021-04-21 21:17:08,726 BAD EPOCHS (no improvement): 1\n",
      "2021-04-21 21:17:08,727 ----------------------------------------------------------------------------------------------------\n",
      "2021-04-21 21:17:15,516 epoch 5 - iter 29/290 - loss 1.09022014 - samples/sec: 35.34 - lr: 0.050000\n",
      "2021-04-21 21:17:22,260 epoch 5 - iter 58/290 - loss 0.78302309 - samples/sec: 35.89 - lr: 0.050000\n",
      "2021-04-21 21:17:28,865 epoch 5 - iter 87/290 - loss 0.90629856 - samples/sec: 35.37 - lr: 0.050000\n",
      "2021-04-21 21:17:35,439 epoch 5 - iter 116/290 - loss 0.83165340 - samples/sec: 35.54 - lr: 0.050000\n",
      "2021-04-21 21:17:42,297 epoch 5 - iter 145/290 - loss 0.94463364 - samples/sec: 34.86 - lr: 0.050000\n",
      "2021-04-21 21:17:48,933 epoch 5 - iter 174/290 - loss 0.90938520 - samples/sec: 35.22 - lr: 0.050000\n",
      "2021-04-21 21:17:55,748 epoch 5 - iter 203/290 - loss 0.82017922 - samples/sec: 35.04 - lr: 0.050000\n",
      "2021-04-21 21:18:02,485 epoch 5 - iter 232/290 - loss 0.77512733 - samples/sec: 34.69 - lr: 0.050000\n",
      "2021-04-21 21:18:09,050 epoch 5 - iter 261/290 - loss 0.85843057 - samples/sec: 35.56 - lr: 0.050000\n",
      "2021-04-21 21:18:15,668 epoch 5 - iter 290/290 - loss 0.84870931 - samples/sec: 36.13 - lr: 0.050000\n",
      "2021-04-21 21:18:15,715 ----------------------------------------------------------------------------------------------------\n",
      "2021-04-21 21:18:15,716 EPOCH 5 done: loss 0.8487 - lr 0.0500000\n",
      "2021-04-21 21:18:24,976 DEV : loss 0.1954563856124878 - score 0.9782\n",
      "2021-04-21 21:18:25,485 BAD EPOCHS (no improvement): 0\n",
      "saving best model\n",
      "2021-04-21 21:18:27,720 ----------------------------------------------------------------------------------------------------\n",
      "2021-04-21 21:18:34,715 epoch 6 - iter 29/290 - loss 0.15111671 - samples/sec: 35.43 - lr: 0.050000\n",
      "2021-04-21 21:18:41,360 epoch 6 - iter 58/290 - loss 0.48948446 - samples/sec: 35.14 - lr: 0.050000\n",
      "2021-04-21 21:18:48,002 epoch 6 - iter 87/290 - loss 0.69787929 - samples/sec: 35.17 - lr: 0.050000\n",
      "2021-04-21 21:18:54,813 epoch 6 - iter 116/290 - loss 0.64244692 - samples/sec: 35.08 - lr: 0.050000\n",
      "2021-04-21 21:19:01,367 epoch 6 - iter 145/290 - loss 0.61080506 - samples/sec: 35.63 - lr: 0.050000\n",
      "2021-04-21 21:19:07,913 epoch 6 - iter 174/290 - loss 0.57230081 - samples/sec: 35.69 - lr: 0.050000\n",
      "2021-04-21 21:19:14,609 epoch 6 - iter 203/290 - loss 0.54904243 - samples/sec: 35.68 - lr: 0.050000\n",
      "2021-04-21 21:19:21,194 epoch 6 - iter 232/290 - loss 0.60548406 - samples/sec: 35.47 - lr: 0.050000\n",
      "2021-04-21 21:19:27,932 epoch 6 - iter 261/290 - loss 0.64646644 - samples/sec: 35.52 - lr: 0.050000\n",
      "2021-04-21 21:19:34,491 epoch 6 - iter 290/290 - loss 0.61959008 - samples/sec: 35.57 - lr: 0.050000\n",
      "2021-04-21 21:19:34,539 ----------------------------------------------------------------------------------------------------\n",
      "2021-04-21 21:19:34,541 EPOCH 6 done: loss 0.6196 - lr 0.0500000\n",
      "2021-04-21 21:19:43,854 DEV : loss 0.25556111335754395 - score 0.9782\n",
      "2021-04-21 21:19:44,371 BAD EPOCHS (no improvement): 1\n",
      "2021-04-21 21:19:44,372 ----------------------------------------------------------------------------------------------------\n",
      "2021-04-21 21:19:51,319 epoch 7 - iter 29/290 - loss 0.80018282 - samples/sec: 35.69 - lr: 0.050000\n",
      "2021-04-21 21:19:57,933 epoch 7 - iter 58/290 - loss 0.85480887 - samples/sec: 35.30 - lr: 0.050000\n",
      "2021-04-21 21:20:04,605 epoch 7 - iter 87/290 - loss 0.68993980 - samples/sec: 35.84 - lr: 0.050000\n",
      "2021-04-21 21:20:11,153 epoch 7 - iter 116/290 - loss 0.58972972 - samples/sec: 35.67 - lr: 0.050000\n",
      "2021-04-21 21:20:17,902 epoch 7 - iter 145/290 - loss 0.55400591 - samples/sec: 34.61 - lr: 0.050000\n",
      "2021-04-21 21:20:24,793 epoch 7 - iter 174/290 - loss 0.66069191 - samples/sec: 34.65 - lr: 0.050000\n",
      "2021-04-21 21:20:31,416 epoch 7 - iter 203/290 - loss 0.76256726 - samples/sec: 35.26 - lr: 0.050000\n",
      "2021-04-21 21:20:38,049 epoch 7 - iter 232/290 - loss 0.73676326 - samples/sec: 35.21 - lr: 0.050000\n",
      "2021-04-21 21:20:44,763 epoch 7 - iter 261/290 - loss 0.73669810 - samples/sec: 35.60 - lr: 0.050000\n",
      "2021-04-21 21:20:51,320 epoch 7 - iter 290/290 - loss 0.73998381 - samples/sec: 35.59 - lr: 0.050000\n",
      "2021-04-21 21:20:51,367 ----------------------------------------------------------------------------------------------------\n",
      "2021-04-21 21:20:51,369 EPOCH 7 done: loss 0.7400 - lr 0.0500000\n",
      "2021-04-21 21:21:00,873 DEV : loss 0.29151350259780884 - score 0.9782\n",
      "2021-04-21 21:21:01,386 BAD EPOCHS (no improvement): 2\n",
      "2021-04-21 21:21:01,388 ----------------------------------------------------------------------------------------------------\n",
      "2021-04-21 21:21:08,088 epoch 8 - iter 29/290 - loss 0.95175659 - samples/sec: 35.83 - lr: 0.050000\n",
      "2021-04-21 21:21:14,980 epoch 8 - iter 58/290 - loss 0.77709731 - samples/sec: 35.03 - lr: 0.050000\n",
      "2021-04-21 21:21:21,743 epoch 8 - iter 87/290 - loss 0.67258705 - samples/sec: 34.54 - lr: 0.050000\n",
      "2021-04-21 21:21:28,374 epoch 8 - iter 116/290 - loss 0.57756744 - samples/sec: 35.17 - lr: 0.050000\n",
      "2021-04-21 21:21:35,019 epoch 8 - iter 145/290 - loss 0.66646659 - samples/sec: 35.95 - lr: 0.050000\n",
      "2021-04-21 21:21:41,469 epoch 8 - iter 174/290 - loss 0.68079300 - samples/sec: 36.19 - lr: 0.050000\n",
      "2021-04-21 21:21:48,159 epoch 8 - iter 203/290 - loss 0.67901608 - samples/sec: 34.91 - lr: 0.050000\n",
      "2021-04-21 21:21:54,959 epoch 8 - iter 232/290 - loss 0.65557817 - samples/sec: 35.17 - lr: 0.050000\n",
      "2021-04-21 21:22:01,485 epoch 8 - iter 261/290 - loss 0.62161241 - samples/sec: 35.75 - lr: 0.050000\n",
      "2021-04-21 21:22:08,249 epoch 8 - iter 290/290 - loss 0.58931762 - samples/sec: 35.31 - lr: 0.050000\n",
      "2021-04-21 21:22:08,288 ----------------------------------------------------------------------------------------------------\n",
      "2021-04-21 21:22:08,289 EPOCH 8 done: loss 0.5893 - lr 0.0500000\n",
      "2021-04-21 21:22:17,570 DEV : loss 0.3477214276790619 - score 0.9782\n",
      "Epoch     8: reducing learning rate of group 0 to 2.5000e-02.\n",
      "2021-04-21 21:22:18,087 BAD EPOCHS (no improvement): 3\n",
      "2021-04-21 21:22:18,088 ----------------------------------------------------------------------------------------------------\n",
      "2021-04-21 21:22:25,090 epoch 9 - iter 29/290 - loss 1.17280366 - samples/sec: 35.38 - lr: 0.025000\n",
      "2021-04-21 21:22:31,641 epoch 9 - iter 58/290 - loss 0.88335206 - samples/sec: 35.63 - lr: 0.025000\n",
      "2021-04-21 21:22:38,265 epoch 9 - iter 87/290 - loss 0.72614293 - samples/sec: 35.25 - lr: 0.025000\n",
      "2021-04-21 21:22:44,946 epoch 9 - iter 116/290 - loss 0.70295656 - samples/sec: 35.80 - lr: 0.025000\n",
      "2021-04-21 21:22:51,487 epoch 9 - iter 145/290 - loss 0.71983898 - samples/sec: 35.72 - lr: 0.025000\n",
      "2021-04-21 21:22:58,051 epoch 9 - iter 174/290 - loss 0.62526836 - samples/sec: 35.56 - lr: 0.025000\n",
      "2021-04-21 21:23:04,808 epoch 9 - iter 203/290 - loss 0.54953876 - samples/sec: 35.37 - lr: 0.025000\n",
      "2021-04-21 21:23:11,472 epoch 9 - iter 232/290 - loss 0.55048903 - samples/sec: 35.05 - lr: 0.025000\n",
      "2021-04-21 21:23:18,202 epoch 9 - iter 261/290 - loss 0.52434238 - samples/sec: 35.51 - lr: 0.025000\n",
      "2021-04-21 21:23:24,919 epoch 9 - iter 290/290 - loss 0.51436403 - samples/sec: 34.75 - lr: 0.025000\n",
      "2021-04-21 21:23:24,972 ----------------------------------------------------------------------------------------------------\n",
      "2021-04-21 21:23:24,973 EPOCH 9 done: loss 0.5144 - lr 0.0250000\n",
      "2021-04-21 21:23:34,264 DEV : loss 0.18796592950820923 - score 0.9782\n",
      "2021-04-21 21:23:34,953 BAD EPOCHS (no improvement): 0\n",
      "saving best model\n",
      "2021-04-21 21:23:36,166 ----------------------------------------------------------------------------------------------------\n",
      "2021-04-21 21:23:42,867 epoch 10 - iter 29/290 - loss 0.69566923 - samples/sec: 35.78 - lr: 0.025000\n",
      "2021-04-21 21:23:49,422 epoch 10 - iter 58/290 - loss 0.52913391 - samples/sec: 35.69 - lr: 0.025000\n",
      "2021-04-21 21:23:56,259 epoch 10 - iter 87/290 - loss 0.52004309 - samples/sec: 35.25 - lr: 0.025000\n",
      "2021-04-21 21:24:02,810 epoch 10 - iter 116/290 - loss 0.42482157 - samples/sec: 35.65 - lr: 0.025000\n",
      "2021-04-21 21:24:09,447 epoch 10 - iter 145/290 - loss 0.37199956 - samples/sec: 35.14 - lr: 0.025000\n",
      "2021-04-21 21:24:16,151 epoch 10 - iter 174/290 - loss 0.51019691 - samples/sec: 35.61 - lr: 0.025000\n",
      "2021-04-21 21:24:22,876 epoch 10 - iter 203/290 - loss 0.47733437 - samples/sec: 34.72 - lr: 0.025000\n",
      "2021-04-21 21:24:29,681 epoch 10 - iter 232/290 - loss 0.48649641 - samples/sec: 35.15 - lr: 0.025000\n",
      "2021-04-21 21:24:36,278 epoch 10 - iter 261/290 - loss 0.46036505 - samples/sec: 35.37 - lr: 0.025000\n",
      "2021-04-21 21:24:42,849 epoch 10 - iter 290/290 - loss 0.42729108 - samples/sec: 35.55 - lr: 0.025000\n",
      "2021-04-21 21:24:42,905 ----------------------------------------------------------------------------------------------------\n",
      "2021-04-21 21:24:42,906 EPOCH 10 done: loss 0.4273 - lr 0.0250000\n",
      "2021-04-21 21:24:52,470 DEV : loss 0.19791202247142792 - score 0.9875\n",
      "2021-04-21 21:24:52,987 BAD EPOCHS (no improvement): 0\n",
      "saving best model\n",
      "2021-04-21 21:25:01,586 ----------------------------------------------------------------------------------------------------\n",
      "2021-04-21 21:25:01,587 Testing using best model ...\n",
      "2021-04-21 21:25:01,589 loading file /deezy_datadrive/kaspar-playground/npd/Models/link_classifier/best-model.pt\n",
      "2021-04-21 21:25:21,689 \t0.9816\n",
      "2021-04-21 21:25:21,690 \n",
      "Results:\n",
      "- F-score (micro) 0.9816\n",
      "- F-score (macro) 0.9662\n",
      "- Accuracy 0.9816\n",
      "\n",
      "By class:\n",
      "              precision    recall  f1-score   support\n",
      "\n",
      "   different     0.9783    1.0000    0.9890       541\n",
      "        same     1.0000    0.8929    0.9434       112\n",
      "\n",
      "   micro avg     0.9816    0.9816    0.9816       653\n",
      "   macro avg     0.9892    0.9464    0.9662       653\n",
      "weighted avg     0.9820    0.9816    0.9812       653\n",
      " samples avg     0.9816    0.9816    0.9816       653\n",
      "\n",
      "2021-04-21 21:25:21,691 ----------------------------------------------------------------------------------------------------\n"
     ]
    }
   ],
   "source": [
    "link_clf = RLModelTrainer(recordlinker)\n",
    "link_clf.train_with_transformer(MODELS_PATH, data_folder=Path('./link_dump/training'))"
   ]
  },
  {
   "cell_type": "markdown",
   "metadata": {},
   "source": [
    "## Apply a model"
   ]
  },
  {
   "cell_type": "code",
   "execution_count": 11,
   "metadata": {},
   "outputs": [
    {
     "output_type": "stream",
     "name": "stdout",
     "text": [
      "Data vectorized.\n",
      "(27272, 16)\n",
      "27272 1223\n",
      "Building Index!\n",
      "Finished!\n"
     ]
    }
   ],
   "source": [
    "annotator = Annotator(1860,1865,recordlinker)"
   ]
  },
  {
   "cell_type": "code",
   "execution_count": 17,
   "metadata": {},
   "outputs": [
    {
     "output_type": "stream",
     "name": "stdout",
     "text": [
      "2021-04-01 18:13:09,843 loading file /deezy_datadrive/kaspar-playground/npd/Models/link_classifier/best-model.pt\n"
     ]
    }
   ],
   "source": [
    "model = annotator.load_model(MODELS_PATH / 'link_classifier'/ 'best-model.pt')"
   ]
  },
  {
   "cell_type": "code",
   "execution_count": 18,
   "metadata": {
    "tags": [
     "outputPrepend"
    ]
   },
   "outputs": [
    {
     "output_type": "display_data",
     "data": {
      "text/plain": "HBox(children=(FloatProgress(value=0.0, max=1002.0), HTML(value='')))",
      "application/vnd.jupyter.widget-view+json": {
       "version_major": 2,
       "version_minor": 0,
       "model_id": "1a32ba09eef5428399092d7f1df206b9"
      }
     },
     "metadata": {}
    },
    {
     "output_type": "stream",
     "name": "stdout",
     "text": [
      "         None\n",
      "E-PER                                                   Edward S . Kenney\n",
      "S-TITLE-ALT                                                          None\n",
      "TEXT                    WATERFORD NEWS . Friday , Price 3d . and 4d . ...\n",
      "DISTRICT_DESCRIPTION    Is a city and large seaport , and is the capit...\n",
      "YEAR                                                                 1865\n",
      "Name: 4112, dtype: object\n",
      "----------\n",
      "\n",
      "\n",
      "----------\n",
      "id                                                          MPD_1860_1003\n",
      "S-TITLE                                            WEXFORD CONSTITUTION .\n",
      "S-POL                                                        conservative\n",
      "CATEGORY                                                            irish\n",
      "DISTRICT                wexford . — ( in the province of leinster and ...\n",
      "COUNTY                     in the province of leinster and county wexford\n",
      "S-PRICE                                                         4d<SEP>5d\n",
      "D-EST                                                                1858\n",
      "D-PUB                                              Wednesday<SEP>Saturday\n",
      "E-LOC                   Wexford<SEP>New Ross<SEP>Enniscorthy<SEP>Corey...\n",
      "E-ORG                                                                None\n",
      "E-PER                                                    Alexander Mackay\n",
      "S-TITLE-ALT                                                          None\n",
      "TEXT                    WEXFORD CONSTITUTION . Wednesday and Saturday ...\n",
      "DISTRICT_DESCRIPTION    Is a parliamentary borough , markeet , and pos...\n",
      "YEAR                                                                 1860\n",
      "Name: 2895, dtype: object\n",
      "->\n",
      "id                                                          MPD_1865_1222\n",
      "S-TITLE                                            WEXFORD CONSTITUTION .\n",
      "S-POL                                                        conservative\n",
      "CATEGORY                                                            irish\n",
      "DISTRICT                wexford . — ( in the province of leinster and ...\n",
      "COUNTY                     in the province of leinster and county wexford\n",
      "S-PRICE                                                         4d<SEP>5d\n",
      "D-EST                                                                1858\n",
      "D-PUB                                              Wednesday<SEP>Saturday\n",
      "E-LOC                   Wexford<SEP>New Ross<SEP>Enniscorthy<SEP>Corey...\n",
      "E-ORG                                                                None\n",
      "E-PER                                                    Alexander Mackay\n",
      "S-TITLE-ALT                                                          None\n",
      "TEXT                    WEXFORD CONSTITUTION . Wednesday and Saturday ...\n",
      "DISTRICT_DESCRIPTION    Is a parliamentary borough , market , and post...\n",
      "YEAR                                                                 1865\n",
      "Name: 4114, dtype: object\n",
      "----------\n",
      "\n",
      "\n",
      "----------\n",
      "id                                                          MPD_1860_1004\n",
      "S-TITLE                                                  WEXFORD HERALD ,\n",
      "S-POL                                                             neutral\n",
      "CATEGORY                                                            irish\n",
      "DISTRICT                wexford . — ( in the province of leinster and ...\n",
      "COUNTY                     in the province of leinster and county wexford\n",
      "S-PRICE                                                         2d<SEP>3d\n",
      "D-EST                                                       August , 1856\n",
      "D-PUB                                                            Saturday\n",
      "E-LOC                                                             Wexford\n",
      "E-ORG                                                                None\n",
      "E-PER                                                        James Anglin\n",
      "S-TITLE-ALT                                                          None\n",
      "TEXT                    WEXTORD HERALD , Saturday , Price 2d . & 3d . ...\n",
      "DISTRICT_DESCRIPTION    Is a parliamentary borough , markeet , and pos...\n",
      "YEAR                                                                 1860\n",
      "Name: 2896, dtype: object\n",
      "->\n",
      "id                                                          MPD_1865_1223\n",
      "S-TITLE                                                  WEXFORD HERALD .\n",
      "S-POL                                                             neutral\n",
      "CATEGORY                                                            irish\n",
      "DISTRICT                wexford . — ( in the province of leinster and ...\n",
      "COUNTY                     in the province of leinster and county wexford\n",
      "S-PRICE                                                         2d<SEP>3d\n",
      "D-EST                                                       August , 1856\n",
      "D-PUB                                                            Saturday\n",
      "E-LOC                                                             Wexford\n",
      "E-ORG                                                                None\n",
      "E-PER                                                        James Anglin\n",
      "S-TITLE-ALT                                                          None\n",
      "TEXT                    WEXFORD HERALD . Saturday , Price 2d . & 3d . ...\n",
      "DISTRICT_DESCRIPTION    Is a parliamentary borough , market , and post...\n",
      "YEAR                                                                 1865\n",
      "Name: 4115, dtype: object\n",
      "----------\n",
      "\n",
      "\n",
      "----------\n",
      "id                                                          MPD_1860_1008\n",
      "S-TITLE                                             WEXFORD INDEPENDENT .\n",
      "S-POL                                                             liberal\n",
      "CATEGORY                                                            irish\n",
      "DISTRICT                wexford . — ( in the province of leinster and ...\n",
      "COUNTY                     in the province of leinster and county wexford\n",
      "S-PRICE                                                         4d<SEP>5d\n",
      "D-EST                               October 26 , 1805<SEP>Dec . 17 , 1830\n",
      "D-PUB                                              Wednesday<SEP>Saturday\n",
      "E-LOC                   Wexford<SEP>Enniscorthy<SEP>Ross<SEP>Taghmon<S...\n",
      "E-ORG                                                                None\n",
      "E-PER                                                         John Greene\n",
      "S-TITLE-ALT                                               Weaford Journal\n",
      "TEXT                    WEXFORD INDEPENDENT . Wednesday and Saturday ,...\n",
      "DISTRICT_DESCRIPTION    Its length is about 30 miles , and its greates...\n",
      "YEAR                                                                 1860\n",
      "Name: 2897, dtype: object\n",
      "->\n",
      "id                                                          MPD_1865_1224\n",
      "S-TITLE                                             WEXFORD INDEPENDENT .\n",
      "S-POL                                                             liberal\n",
      "CATEGORY                                                            irish\n",
      "DISTRICT                wexford . — ( in the province of leinster and ...\n",
      "COUNTY                     in the province of leinster and county wexford\n",
      "S-PRICE                                                         4d<SEP>5d\n",
      "D-EST                               October 26 , 1805<SEP>Dec . 17 , 1830\n",
      "D-PUB                                              Wednesday<SEP>Saturday\n",
      "E-LOC                   Wextford<SEP>Enniscorthy<SEP>Ross<SEP>Gorey<SE...\n",
      "E-ORG                                                                None\n",
      "E-PER                                                         John Greene\n",
      "S-TITLE-ALT                                                       Journal\n",
      "TEXT                    WEXFORD INDEPENDENT . Wednesday and Saturday ,...\n",
      "DISTRICT_DESCRIPTION    Is a parliamentary borough , market , and post...\n",
      "YEAR                                                                 1865\n",
      "Name: 4116, dtype: object\n",
      "----------\n",
      "\n",
      "\n",
      "----------\n",
      "id                                                          MPD_1860_1009\n",
      "S-TITLE                                                      THE PEOPLE .\n",
      "S-POL                                                         independent\n",
      "CATEGORY                                                            irish\n",
      "DISTRICT                wexford . — ( in the province of leinster and ...\n",
      "COUNTY                     in the province of leinster and county wexford\n",
      "S-PRICE                                                         4d<SEP>5d\n",
      "D-EST                                     Jau . , 1853<SEP>January , 1857\n",
      "D-PUB                                                            Saturday\n",
      "E-LOC                   Wesxford<SEP>Kilkenny<SEP>Waterford<SEP>Carlow...\n",
      "E-ORG                                                                None\n",
      "E-PER                                                          Wm . Power\n",
      "S-TITLE-ALT                                                          None\n",
      "TEXT                    THE PEOPLE . Saturday , Price 4d . and 5d . In...\n",
      "DISTRICT_DESCRIPTION    Its length is about 30 miles , and its greates...\n",
      "YEAR                                                                 1860\n",
      "Name: 2898, dtype: object\n",
      "->\n",
      "id                                                          MPD_1865_1225\n",
      "S-TITLE                                                      THE PEOPLE .\n",
      "S-POL                                                         independent\n",
      "CATEGORY                                                            irish\n",
      "DISTRICT                wexford . — ( in the province of leinster and ...\n",
      "COUNTY                     in the province of leinster and county wexford\n",
      "S-PRICE                                                         4d<SEP>5d\n",
      "D-EST                                                        Jan . , 1853\n",
      "D-PUB                                                            Saturday\n",
      "E-LOC                                  Wexford<SEP>Kilkenny<SEP>Waterford\n",
      "E-ORG                                                                None\n",
      "E-PER                               M . J . Sutton<SEP>R . A . Fitzgerald\n",
      "S-TITLE-ALT                                                          None\n",
      "TEXT                    THE PEOPLE . Saturday , Price 4d . and 5d . In...\n",
      "DISTRICT_DESCRIPTION    Is a parliamentary borough , market , and post...\n",
      "YEAR                                                                 1865\n",
      "Name: 4117, dtype: object\n",
      "----------\n",
      "\n",
      "\n",
      "----------\n",
      "id                                                          MPD_1860_1010\n",
      "S-TITLE                                             WICKLOW NEWS LETTER .\n",
      "S-POL                                                             neutral\n",
      "CATEGORY                                                            irish\n",
      "DISTRICT                wicklow . — ( in the province of leinster and ...\n",
      "COUNTY                     in the province of leinster and county wicklow\n",
      "S-PRICE                                                         2d<SEP>3d\n",
      "D-EST                                                                1857\n",
      "D-PUB                                                            Saturday\n",
      "E-LOC                                      Wicklow<SEP>Wexford<SEP>Dublin\n",
      "E-ORG                                                                None\n",
      "E-PER                                                      William MPhail\n",
      "S-TITLE-ALT                                                          None\n",
      "TEXT                    WICKLOW NEWS LETTER . Saturday , 2d . & 3d . N...\n",
      "DISTRICT_DESCRIPTION    A sea-pori tewn , at the mouth of the Vartrey ...\n",
      "YEAR                                                                 1860\n",
      "Name: 2899, dtype: object\n",
      "->\n",
      "id                                                          MPD_1865_1231\n",
      "S-TITLE                                             WICKLOW NEWS LETTER .\n",
      "S-POL                                                             neutral\n",
      "CATEGORY                                                            isles\n",
      "DISTRICT                                 isle of man . — (isle of man . )\n",
      "COUNTY                                                        isle of man\n",
      "S-PRICE                                                         2d<SEP>3d\n",
      "D-EST                                                                1857\n",
      "D-PUB                                                            Saturday\n",
      "E-LOC                                      Wicklow<SEP>Wexford<SEP>Dublin\n",
      "E-ORG                                                                None\n",
      "E-PER                                                      William MPhail\n",
      "S-TITLE-ALT                                                          None\n",
      "TEXT                    WICKLOW NEWS LETTER . Saturday , 2d . & 3d . \"...\n",
      "DISTRICT_DESCRIPTION    A sea-port town , at the mouth of the Vartrey ...\n",
      "YEAR                                                                 1865\n",
      "Name: 4122, dtype: object\n",
      "----------\n",
      "\n",
      "\n",
      "----------\n",
      "id                                                          MPD_1860_1007\n",
      "S-TITLE                                                        MANX SUN .\n",
      "S-POL                                                        conservative\n",
      "CATEGORY                                                            isles\n",
      "DISTRICT                wexford . — ( in the province of leinster and ...\n",
      "COUNTY                     in the province of leinster and county wexford\n",
      "S-PRICE                                                         3d<SEP>4d\n",
      "D-EST                                                     April 24 , 1821\n",
      "D-PUB                                                            Saturday\n",
      "E-LOC                          Douglas<SEP>Castletown<SEP>Ramsey<SEP>Peel\n",
      "E-ORG                                                                None\n",
      "E-PER                                                   Harriett Curpheyr\n",
      "S-TITLE-ALT                                                          None\n",
      "TEXT                    MANX SUN . Saturday , Price 3d . and 4d . Cons...\n",
      "DISTRICT_DESCRIPTION    Its length is about 30 miles , and its greates...\n",
      "YEAR                                                                 1860\n",
      "Name: 2901, dtype: object\n",
      "->\n",
      "id                                                          MPD_1865_1227\n",
      "S-TITLE                                                       MANKX SUN .\n",
      "S-POL                                                        conservative\n",
      "CATEGORY                                                            isles\n",
      "DISTRICT                                 isle of man . — (isle of man . )\n",
      "COUNTY                                                        isle of man\n",
      "S-PRICE                                                         3d<SEP>4d\n",
      "D-EST                                                     April 24 , 1821\n",
      "D-PUB                                                            Saturday\n",
      "E-LOC                   Douglas<SEP>Castletown<SEP>Ramsey<SEP>Peel<SEP...\n",
      "E-ORG                                                                None\n",
      "E-PER                                                    Harriett Curphey\n",
      "S-TITLE-ALT                                                          None\n",
      "TEXT                    MANKX SUN . Saturday , Price 3d . and 4d . Con...\n",
      "DISTRICT_DESCRIPTION    Its lengthis about 30 miles , and its greatest...\n",
      "YEAR                                                                 1865\n",
      "Name: 4118, dtype: object\n",
      "----------\n",
      "\n",
      "\n",
      "----------\n",
      "id                                                          MPD_1860_1011\n",
      "S-TITLE                                                    MONAS HERALD .\n",
      "S-POL                                                             liberal\n",
      "CATEGORY                                                            isles\n",
      "DISTRICT                wicklow . — ( in the province of leinster and ...\n",
      "COUNTY                     in the province of leinster and county wicklow\n",
      "S-PRICE                                                         3d<SEP>4d\n",
      "D-EST                                                     August 3 , 1833\n",
      "D-PUB                                                           Wednesday\n",
      "E-LOC                                             Isle of Man<SEP>England\n",
      "E-ORG                                                                None\n",
      "E-PER                                                      Robert Fargher\n",
      "S-TITLE-ALT                                                          None\n",
      "TEXT                    E BRiSH BIES WMONAS HERALD . Wednesday , Price...\n",
      "DISTRICT_DESCRIPTION    A sea-pori tewn , at the mouth of the Vartrey ...\n",
      "YEAR                                                                 1860\n",
      "Name: 2902, dtype: object\n",
      "->\n",
      "id                                                          MPD_1865_1228\n",
      "S-TITLE                                                   MONA'S HERALD .\n",
      "S-POL                                                             liberal\n",
      "CATEGORY                                                            isles\n",
      "DISTRICT                                 isle of man . — (isle of man . )\n",
      "COUNTY                                                        isle of man\n",
      "S-PRICE                                                                3d\n",
      "D-EST                                                     August 3 , 1833\n",
      "D-PUB                                                           Wednesday\n",
      "E-LOC                                             Isle of Man<SEP>England\n",
      "E-ORG                                                                None\n",
      "E-PER                                                    John C . Fargher\n",
      "S-TITLE-ALT                                                          None\n",
      "TEXT                    MONA'S HERALD . Wednesday , Price 3d . WH Libe...\n",
      "DISTRICT_DESCRIPTION    Its lengthis about 30 miles , and its greatest...\n",
      "YEAR                                                                 1865\n",
      "Name: 4119, dtype: object\n",
      "----------\n",
      "\n",
      "\n",
      "----------\n",
      "id                                                          MPD_1860_1012\n",
      "S-TITLE                                     WEEKLY ADVERTISING CIRCULAR .\n",
      "S-POL                                                                None\n",
      "CATEGORY                                                            isles\n",
      "DISTRICT                wicklow . — ( in the province of leinster and ...\n",
      "COUNTY                     in the province of leinster and county wicklow\n",
      "S-PRICE                                                              None\n",
      "D-EST                                                    Feol . 10 , 1853\n",
      "D-PUB                                                            Thursday\n",
      "E-LOC                                                            Guernsey\n",
      "E-ORG                                                                None\n",
      "E-PER                                                  Robert H . Johnson\n",
      "S-TITLE-ALT                                                          None\n",
      "TEXT                    WEEKLY ADVERTISING CIRCULAR . Thursday . — ist...\n",
      "DISTRICT_DESCRIPTION    A sea-pori tewn , at the mouth of the Vartrey ...\n",
      "YEAR                                                                 1860\n",
      "Name: 2903, dtype: object\n",
      "->\n",
      "id                                                          MPD_1865_1230\n",
      "S-TITLE                                     WEEKLY ADVERTISING CIRCULAR .\n",
      "S-POL                                                                None\n",
      "CATEGORY                                                            isles\n",
      "DISTRICT                                 isle of man . — (isle of man . )\n",
      "COUNTY                                                        isle of man\n",
      "S-PRICE                                                              None\n",
      "D-EST                                                     Feb . 10 , 1853\n",
      "D-PUB                                                             Tuesday\n",
      "E-LOC                                                                None\n",
      "E-ORG                                                                None\n",
      "E-PER                                                  Robert H . Johnson\n",
      "S-TITLE-ALT                                                          None\n",
      "TEXT                    WEEKLY ADVERTISING CIRCULAR . Tuesday . Establ...\n",
      "DISTRICT_DESCRIPTION    Its lengthis about 30 miles , and its greatest...\n",
      "YEAR                                                                 1865\n",
      "Name: 4121, dtype: object\n",
      "----------\n",
      "\n",
      "\n",
      "\n"
     ]
    },
    {
     "output_type": "error",
     "ename": "FileNotFoundError",
     "evalue": "[Errno 2] No such file or directory: '../link_dump/predictions'",
     "traceback": [
      "\u001b[0;31m---------------------------------------------------------------------------\u001b[0m",
      "\u001b[0;31mFileNotFoundError\u001b[0m                         Traceback (most recent call last)",
      "\u001b[0;32m<ipython-input-18-9280a72e285b>\u001b[0m in \u001b[0;36m<module>\u001b[0;34m\u001b[0m\n\u001b[0;32m----> 1\u001b[0;31m \u001b[0mannotator\u001b[0m\u001b[0;34m.\u001b[0m\u001b[0mclassify\u001b[0m\u001b[0;34m(\u001b[0m\u001b[0mmodel\u001b[0m\u001b[0;34m,\u001b[0m\u001b[0mverbose\u001b[0m\u001b[0;34m=\u001b[0m\u001b[0;32mTrue\u001b[0m\u001b[0;34m)\u001b[0m\u001b[0;34m\u001b[0m\u001b[0;34m\u001b[0m\u001b[0m\n\u001b[0m",
      "\u001b[0;32m/deezy_datadrive/kaspar-playground/Living-with-Machines-code/sources-lab-mro/npd_pipeline/npd_final/code_refactored/tools/linking_tools.py\u001b[0m in \u001b[0;36mclassify\u001b[0;34m(self, model, n_candidates, verbose)\u001b[0m\n\u001b[1;32m    297\u001b[0m \u001b[0;34m\u001b[0m\u001b[0m\n\u001b[1;32m    298\u001b[0m         \u001b[0mto_folder\u001b[0m \u001b[0;34m=\u001b[0m \u001b[0mPath\u001b[0m\u001b[0;34m(\u001b[0m\u001b[0;34m'../link_dump/predictions/'\u001b[0m\u001b[0;34m)\u001b[0m\u001b[0;34m\u001b[0m\u001b[0;34m\u001b[0m\u001b[0m\n\u001b[0;32m--> 299\u001b[0;31m         \u001b[0mto_folder\u001b[0m\u001b[0;34m.\u001b[0m\u001b[0mmkdir\u001b[0m\u001b[0;34m(\u001b[0m\u001b[0mexist_ok\u001b[0m\u001b[0;34m=\u001b[0m\u001b[0;32mTrue\u001b[0m\u001b[0;34m)\u001b[0m\u001b[0;34m\u001b[0m\u001b[0;34m\u001b[0m\u001b[0m\n\u001b[0m\u001b[1;32m    300\u001b[0m \u001b[0;34m\u001b[0m\u001b[0m\n\u001b[1;32m    301\u001b[0m         \u001b[0;32mwith\u001b[0m \u001b[0mopen\u001b[0m\u001b[0;34m(\u001b[0m\u001b[0mto_folder\u001b[0m \u001b[0;34m/\u001b[0m \u001b[0;34mf'predictions_{self.source}_{self.target}.pickle'\u001b[0m\u001b[0;34m,\u001b[0m\u001b[0;34m'wb'\u001b[0m\u001b[0;34m)\u001b[0m \u001b[0;32mas\u001b[0m \u001b[0mout_pickle\u001b[0m\u001b[0;34m:\u001b[0m\u001b[0;34m\u001b[0m\u001b[0;34m\u001b[0m\u001b[0m\n",
      "\u001b[0;32m/data/anaconda/envs/py37torch/lib/python3.7/pathlib.py\u001b[0m in \u001b[0;36mmkdir\u001b[0;34m(self, mode, parents, exist_ok)\u001b[0m\n\u001b[1;32m   1256\u001b[0m             \u001b[0mself\u001b[0m\u001b[0;34m.\u001b[0m\u001b[0m_raise_closed\u001b[0m\u001b[0;34m(\u001b[0m\u001b[0;34m)\u001b[0m\u001b[0;34m\u001b[0m\u001b[0;34m\u001b[0m\u001b[0m\n\u001b[1;32m   1257\u001b[0m         \u001b[0;32mtry\u001b[0m\u001b[0;34m:\u001b[0m\u001b[0;34m\u001b[0m\u001b[0;34m\u001b[0m\u001b[0m\n\u001b[0;32m-> 1258\u001b[0;31m             \u001b[0mself\u001b[0m\u001b[0;34m.\u001b[0m\u001b[0m_accessor\u001b[0m\u001b[0;34m.\u001b[0m\u001b[0mmkdir\u001b[0m\u001b[0;34m(\u001b[0m\u001b[0mself\u001b[0m\u001b[0;34m,\u001b[0m \u001b[0mmode\u001b[0m\u001b[0;34m)\u001b[0m\u001b[0;34m\u001b[0m\u001b[0;34m\u001b[0m\u001b[0m\n\u001b[0m\u001b[1;32m   1259\u001b[0m         \u001b[0;32mexcept\u001b[0m \u001b[0mFileNotFoundError\u001b[0m\u001b[0;34m:\u001b[0m\u001b[0;34m\u001b[0m\u001b[0;34m\u001b[0m\u001b[0m\n\u001b[1;32m   1260\u001b[0m             \u001b[0;32mif\u001b[0m \u001b[0;32mnot\u001b[0m \u001b[0mparents\u001b[0m \u001b[0;32mor\u001b[0m \u001b[0mself\u001b[0m\u001b[0;34m.\u001b[0m\u001b[0mparent\u001b[0m \u001b[0;34m==\u001b[0m \u001b[0mself\u001b[0m\u001b[0;34m:\u001b[0m\u001b[0;34m\u001b[0m\u001b[0;34m\u001b[0m\u001b[0m\n",
      "\u001b[0;31mFileNotFoundError\u001b[0m: [Errno 2] No such file or directory: '../link_dump/predictions'"
     ]
    }
   ],
   "source": [
    "annotator.classify(model,verbose=True)"
   ]
  },
  {
   "cell_type": "markdown",
   "metadata": {},
   "source": [
    "## Create Chains"
   ]
  },
  {
   "cell_type": "code",
   "execution_count": 38,
   "metadata": {},
   "outputs": [],
   "source": [
    "stances = {'liberal-conservative':1,'liberal':1,'advanced-liberal':1,'whig':1,\n",
    "           \"conservative\":-1,\"tory\":-1,'tory ( old )':-1,\n",
    "           \"neutral\":0,\"independent\":0,}\n"
   ]
  },
  {
   "cell_type": "code",
   "execution_count": 39,
   "metadata": {},
   "outputs": [],
   "source": [
    "from functools import partial\n",
    "import Levenshtein\n",
    "\n",
    "canonical_forms = ['liberal','neutral','conservative','independent',\n",
    "                'liberal-conservative','independent-liberal',\n",
    "                'independent-conservative','constitutional',\n",
    "                'liberal-independent','radical','unionist','tory','whig',\n",
    "                'liberal-unionist','protestant-conservative','tory ( old )',\n",
    "                'advanced-liberal','conservative-independent']\n",
    "\n",
    "def normalize_token_by_levenshtein(token,canonical_forms):\n",
    "    \n",
    "    if token in canonical_forms:\n",
    "        return token\n",
    "    elif isinstance(token,np.float):\n",
    "        return 'None'\n",
    "    \n",
    "    f = partial(Levenshtein.distance,token.lower())\n",
    "    distances = list(map(f,canonical_forms))\n",
    "    min_dist_id = np.argmin(distances)\n",
    "    \n",
    "    if min(distances) <= 2:\n",
    "        return canonical_forms[min_dist_id]\n",
    "    return token.lower()\n"
   ]
  },
  {
   "cell_type": "code",
   "execution_count": 40,
   "metadata": {},
   "outputs": [],
   "source": [
    "from scipy.spatial.distance import euclidean \n",
    "def shift_in_political_leaning(df):\n",
    "    \n",
    "    pol = df['S-POL'].to_list()\n",
    "    years = df['year'].to_list()\n",
    "    year_dict = defaultdict(int)\n",
    "    \n",
    "    for i in range(len(pol)-1):\n",
    "        \n",
    "        if not(pol[i] and pol[i+1]): continue\n",
    "        p1,p2 = str(pol[i]).lower(),str(pol[i+1]).lower()\n",
    "        p1 = normalize_token_by_levenshtein(p1,canonical_forms)\n",
    "        p2 = normalize_token_by_levenshtein(p2,canonical_forms)\n",
    "        if p1 in stances and p2 in stances:\n",
    "            dist = euclidean(stances[p1],stances[p2])\n",
    "            if dist > 0:\n",
    "                if stances[p1] > stances[p2]:\n",
    "                    direction = 1 # from left to right\n",
    "                elif stances[p1] < stances[p2]:\n",
    "                    direction = -1 # from right to left\n",
    "            else:\n",
    "                direction = 0\n",
    "            \n",
    "            year_dict[years[i+1]] = dist * direction\n",
    "                        \n",
    "    return year_dict\n",
    "\n",
    "ydicts = []\n",
    "\n",
    "for chain in linkchainer.__sort__():\n",
    "   \n",
    "    df = linkchainer.print_chain(chain[1].chain)\n",
    "    ydicts.append(shift_in_political_leaning(df))\n",
    "        "
   ]
  },
  {
   "cell_type": "code",
   "execution_count": 41,
   "metadata": {},
   "outputs": [],
   "source": [
    "to_left, to_right = defaultdict(int),defaultdict(int)\n",
    "for yd in ydicts:\n",
    "    for y,s in sorted(yd.items(),key=lambda x: x[0]):\n",
    "        if s > 0:\n",
    "            to_left[y]+=1\n",
    "        elif s < 0:\n",
    "            to_right[y]-=1"
   ]
  },
  {
   "cell_type": "code",
   "execution_count": 42,
   "metadata": {},
   "outputs": [],
   "source": [
    "import seaborn as sns\n",
    "sns.set()"
   ]
  },
  {
   "cell_type": "code",
   "execution_count": 43,
   "metadata": {},
   "outputs": [
    {
     "data": {
      "text/plain": [
       "<matplotlib.axes._subplots.AxesSubplot at 0x7fe751df7f50>"
      ]
     },
     "execution_count": 43,
     "metadata": {},
     "output_type": "execute_result"
    },
    {
     "data": {
      "image/png": "[encoded data removed]",
      "text/plain": [
       "<Figure size 432x288 with 1 Axes>"
      ]
     },
     "metadata": {},
     "output_type": "display_data"
    }
   ],
   "source": [
    "pol_over_time = pd.DataFrame([to_left,to_right]).T\n",
    "pol_over_time.columns = ['moved to left','moved to right']\n",
    "pol_over_time.sort_index(inplace=True)\n",
    "pol_over_time.plot.area(rot=90,legend=False)"
   ]
  },
  {
   "cell_type": "code",
   "execution_count": 37,
   "metadata": {},
   "outputs": [
    {
     "data": {
      "text/plain": [
       "<matplotlib.axes._subplots.AxesSubplot at 0x7fe75b70e050>"
      ]
     },
     "execution_count": 37,
     "metadata": {},
     "output_type": "execute_result"
    },
    {
     "data": {
      "image/png": "[encoded data removed]",
      "text/plain": [
       "<Figure size 432x288 with 1 Axes>"
      ]
     },
     "metadata": {},
     "output_type": "display_data"
    }
   ],
   "source": [
    "pol_over_time['shift'] = pol_over_time['moved to left'] - pol_over_time['moved to right'].abs()\n",
    "pol_over_time[\"shift\"].plot(alpha=.5)\n",
    "pol_over_time[\"shift\"].rolling(3,center=True).mean().plot(color='blue')"
   ]
  },
  {
   "cell_type": "code",
   "execution_count": 44,
   "metadata": {},
   "outputs": [
    {
     "data": {
      "text/plain": [
       "Index(['Unnamed: 0', 'id', 'S-TITLE', 'D-PUB', 'S-PRICE', 'S-POL', 'D-EST',\n",
       "       'E-ORG', 'DISTRICT', 'TEXT', 'E-LOC', 'E-PER', 'S-ADV', 'S-TITLE-ALT',\n",
       "       'I-REL', 'I-SOC', 'I-POL', 'A-CLASS', 'I-ECON', 'year'],\n",
       "      dtype='object')"
      ]
     },
     "execution_count": 44,
     "metadata": {},
     "output_type": "execute_result"
    }
   ],
   "source": [
    "df.columns"
   ]
  },
  {
   "cell_type": "markdown",
   "metadata": {},
   "source": [
    "## Link to JISC"
   ]
  },
  {
   "cell_type": "code",
   "execution_count": 46,
   "metadata": {},
   "outputs": [
    {
     "data": {
      "text/html": [
       "<div>\n",
       "<style scoped>\n",
       "    .dataframe tbody tr th:only-of-type {\n",
       "        vertical-align: middle;\n",
       "    }\n",
       "\n",
       "    .dataframe tbody tr th {\n",
       "        vertical-align: top;\n",
       "    }\n",
       "\n",
       "    .dataframe thead th {\n",
       "        text-align: right;\n",
       "    }\n",
       "</style>\n",
       "<table border=\"1\" class=\"dataframe\">\n",
       "  <thead>\n",
       "    <tr style=\"text-align: right;\">\n",
       "      <th></th>\n",
       "      <th>Title ID</th>\n",
       "      <th>BNB number</th>\n",
       "      <th>ISSN</th>\n",
       "      <th>Publication title</th>\n",
       "      <th>Edition</th>\n",
       "      <th>Preceding title</th>\n",
       "      <th>Succeeding title</th>\n",
       "      <th>Country</th>\n",
       "      <th>Town/City</th>\n",
       "      <th>First geographical subject heading</th>\n",
       "      <th>Subsequent geographical subject heading</th>\n",
       "      <th>General area of coverage</th>\n",
       "      <th>Specific area of coverage</th>\n",
       "      <th>First year of pubication</th>\n",
       "      <th>Last year of publication</th>\n",
       "      <th>Publication dates - more information</th>\n",
       "      <th>First year held</th>\n",
       "      <th>Last year held</th>\n",
       "      <th>Holdings - more information</th>\n",
       "      <th>Online (all or part)</th>\n",
       "    </tr>\n",
       "  </thead>\n",
       "  <tbody>\n",
       "    <tr>\n",
       "      <th>0</th>\n",
       "      <td>002841953</td>\n",
       "      <td>NaN</td>\n",
       "      <td>NaN</td>\n",
       "      <td>Corante, or, Newes from Italy, Germany, Hungar...</td>\n",
       "      <td>NaN</td>\n",
       "      <td>NaN</td>\n",
       "      <td>NaN</td>\n",
       "      <td>England</td>\n",
       "      <td>London</td>\n",
       "      <td>NaN</td>\n",
       "      <td>NaN</td>\n",
       "      <td>NaN</td>\n",
       "      <td>NaN</td>\n",
       "      <td>1621</td>\n",
       "      <td>NaN</td>\n",
       "      <td>NaN</td>\n",
       "      <td>NaN</td>\n",
       "      <td>NaN</td>\n",
       "      <td>NaN</td>\n",
       "      <td>Y</td>\n",
       "    </tr>\n",
       "    <tr>\n",
       "      <th>1</th>\n",
       "      <td>002852602</td>\n",
       "      <td>NaN</td>\n",
       "      <td>NaN</td>\n",
       "      <td>A Relation of the late Occurrents which haue h...</td>\n",
       "      <td>NaN</td>\n",
       "      <td>NaN</td>\n",
       "      <td>NaN</td>\n",
       "      <td>England</td>\n",
       "      <td>London</td>\n",
       "      <td>NaN</td>\n",
       "      <td>NaN</td>\n",
       "      <td>NaN</td>\n",
       "      <td>NaN</td>\n",
       "      <td>1622</td>\n",
       "      <td>1622</td>\n",
       "      <td>NaN</td>\n",
       "      <td>NaN</td>\n",
       "      <td>NaN</td>\n",
       "      <td>NaN</td>\n",
       "      <td>Y</td>\n",
       "    </tr>\n",
       "    <tr>\n",
       "      <th>2</th>\n",
       "      <td>002852624</td>\n",
       "      <td>NaN</td>\n",
       "      <td>NaN</td>\n",
       "      <td>A Relation of the late Occurrents which haue h...</td>\n",
       "      <td>NaN</td>\n",
       "      <td>NaN</td>\n",
       "      <td>NaN</td>\n",
       "      <td>England</td>\n",
       "      <td>London</td>\n",
       "      <td>NaN</td>\n",
       "      <td>NaN</td>\n",
       "      <td>NaN</td>\n",
       "      <td>NaN</td>\n",
       "      <td>1622</td>\n",
       "      <td>1622</td>\n",
       "      <td>NaN</td>\n",
       "      <td>NaN</td>\n",
       "      <td>NaN</td>\n",
       "      <td>NaN</td>\n",
       "      <td>Y</td>\n",
       "    </tr>\n",
       "    <tr>\n",
       "      <th>3</th>\n",
       "      <td>002852630</td>\n",
       "      <td>NaN</td>\n",
       "      <td>NaN</td>\n",
       "      <td>A Relation of the late Occurrents which haue h...</td>\n",
       "      <td>NaN</td>\n",
       "      <td>NaN</td>\n",
       "      <td>NaN</td>\n",
       "      <td>England</td>\n",
       "      <td>London</td>\n",
       "      <td>NaN</td>\n",
       "      <td>NaN</td>\n",
       "      <td>NaN</td>\n",
       "      <td>NaN</td>\n",
       "      <td>1622</td>\n",
       "      <td>1622</td>\n",
       "      <td>NaN</td>\n",
       "      <td>NaN</td>\n",
       "      <td>NaN</td>\n",
       "      <td>NaN</td>\n",
       "      <td>Y</td>\n",
       "    </tr>\n",
       "    <tr>\n",
       "      <th>4</th>\n",
       "      <td>002852631</td>\n",
       "      <td>NaN</td>\n",
       "      <td>NaN</td>\n",
       "      <td>A Relation of the late Occurrents which haue h...</td>\n",
       "      <td>NaN</td>\n",
       "      <td>NaN</td>\n",
       "      <td>NaN</td>\n",
       "      <td>England</td>\n",
       "      <td>London</td>\n",
       "      <td>NaN</td>\n",
       "      <td>NaN</td>\n",
       "      <td>NaN</td>\n",
       "      <td>NaN</td>\n",
       "      <td>1622</td>\n",
       "      <td>1622</td>\n",
       "      <td>NaN</td>\n",
       "      <td>NaN</td>\n",
       "      <td>NaN</td>\n",
       "      <td>NaN</td>\n",
       "      <td>Y</td>\n",
       "    </tr>\n",
       "  </tbody>\n",
       "</table>\n",
       "</div>"
      ],
      "text/plain": [
       "    Title ID BNB number ISSN  \\\n",
       "0  002841953        NaN  NaN   \n",
       "1  002852602        NaN  NaN   \n",
       "2  002852624        NaN  NaN   \n",
       "3  002852630        NaN  NaN   \n",
       "4  002852631        NaN  NaN   \n",
       "\n",
       "                                   Publication title Edition Preceding title  \\\n",
       "0  Corante, or, Newes from Italy, Germany, Hungar...     NaN             NaN   \n",
       "1  A Relation of the late Occurrents which haue h...     NaN             NaN   \n",
       "2  A Relation of the late Occurrents which haue h...     NaN             NaN   \n",
       "3  A Relation of the late Occurrents which haue h...     NaN             NaN   \n",
       "4  A Relation of the late Occurrents which haue h...     NaN             NaN   \n",
       "\n",
       "  Succeeding title  Country Town/City First geographical subject heading  \\\n",
       "0              NaN  England    London                                NaN   \n",
       "1              NaN  England    London                                NaN   \n",
       "2              NaN  England    London                                NaN   \n",
       "3              NaN  England    London                                NaN   \n",
       "4              NaN  England    London                                NaN   \n",
       "\n",
       "  Subsequent geographical subject heading General area of coverage  \\\n",
       "0                                     NaN                      NaN   \n",
       "1                                     NaN                      NaN   \n",
       "2                                     NaN                      NaN   \n",
       "3                                     NaN                      NaN   \n",
       "4                                     NaN                      NaN   \n",
       "\n",
       "  Specific area of coverage First year of pubication Last year of publication  \\\n",
       "0                       NaN                     1621                      NaN   \n",
       "1                       NaN                     1622                     1622   \n",
       "2                       NaN                     1622                     1622   \n",
       "3                       NaN                     1622                     1622   \n",
       "4                       NaN                     1622                     1622   \n",
       "\n",
       "  Publication dates - more information First year held Last year held  \\\n",
       "0                                  NaN             NaN            NaN   \n",
       "1                                  NaN             NaN            NaN   \n",
       "2                                  NaN             NaN            NaN   \n",
       "3                                  NaN             NaN            NaN   \n",
       "4                                  NaN             NaN            NaN   \n",
       "\n",
       "  Holdings - more information Online (all or part)  \n",
       "0                         NaN                    Y  \n",
       "1                         NaN                    Y  \n",
       "2                         NaN                    Y  \n",
       "3                         NaN                    Y  \n",
       "4                         NaN                    Y  "
      ]
     },
     "execution_count": 46,
     "metadata": {},
     "output_type": "execute_result"
    }
   ],
   "source": [
    "bl_meta = pd.read_csv(\"../newspaper_metadata/BL newspaper holdings British and Irish titles v2a.csv\", \n",
    "                      dtype={'Title ID': object,\n",
    "                            \"First year of pubication\": object,\n",
    "                            \"Last year of publication\": object})\n",
    "bl_meta.head()"
   ]
  },
  {
   "cell_type": "code",
   "execution_count": 47,
   "metadata": {},
   "outputs": [
    {
     "data": {
      "text/html": [
       "<div>\n",
       "<style scoped>\n",
       "    .dataframe tbody tr th:only-of-type {\n",
       "        vertical-align: middle;\n",
       "    }\n",
       "\n",
       "    .dataframe tbody tr th {\n",
       "        vertical-align: top;\n",
       "    }\n",
       "\n",
       "    .dataframe thead th {\n",
       "        text-align: right;\n",
       "    }\n",
       "</style>\n",
       "<table border=\"1\" class=\"dataframe\">\n",
       "  <thead>\n",
       "    <tr style=\"text-align: right;\">\n",
       "      <th></th>\n",
       "      <th>Newspaper Title</th>\n",
       "      <th>System ID</th>\n",
       "      <th>NLP</th>\n",
       "      <th>JISC</th>\n",
       "      <th>Title</th>\n",
       "      <th>Normalised Title</th>\n",
       "      <th>Abbr</th>\n",
       "      <th>Start</th>\n",
       "      <th>Unnamed: 8</th>\n",
       "      <th>Unnamed: 9</th>\n",
       "      <th>End</th>\n",
       "      <th>Unnamed: 11</th>\n",
       "      <th>Unnamed: 12</th>\n",
       "      <th>Unnamed: 13</th>\n",
       "    </tr>\n",
       "  </thead>\n",
       "  <tbody>\n",
       "    <tr>\n",
       "      <th>0</th>\n",
       "      <td>The Aberdeen Journal and general advertiser fo...</td>\n",
       "      <td>013921360</td>\n",
       "      <td>31.0</td>\n",
       "      <td>JISC1</td>\n",
       "      <td>Aberdeen Journal</td>\n",
       "      <td>Aberdeen Journal</td>\n",
       "      <td>ANJO</td>\n",
       "      <td>1.0</td>\n",
       "      <td>Jan</td>\n",
       "      <td>1800.0</td>\n",
       "      <td>23.0</td>\n",
       "      <td>Aug</td>\n",
       "      <td>1876.0</td>\n",
       "      <td>NaN</td>\n",
       "    </tr>\n",
       "    <tr>\n",
       "      <th>1</th>\n",
       "      <td>Aberdeen Weekly Journal</td>\n",
       "      <td>013921362</td>\n",
       "      <td>32.0</td>\n",
       "      <td>JISC1</td>\n",
       "      <td>Aberdeen Weekly Journal</td>\n",
       "      <td>Aberdeen Journal</td>\n",
       "      <td>ANJO</td>\n",
       "      <td>30.0</td>\n",
       "      <td>Aug</td>\n",
       "      <td>1876.0</td>\n",
       "      <td>31.0</td>\n",
       "      <td>Dec</td>\n",
       "      <td>1900.0</td>\n",
       "      <td>NaN</td>\n",
       "    </tr>\n",
       "    <tr>\n",
       "      <th>2</th>\n",
       "      <td>Baner</td>\n",
       "      <td>013906328</td>\n",
       "      <td>36.0</td>\n",
       "      <td>JISC1</td>\n",
       "      <td>Baner Cymru</td>\n",
       "      <td>Baner</td>\n",
       "      <td>BNER</td>\n",
       "      <td>4.0</td>\n",
       "      <td>Mar</td>\n",
       "      <td>1857.0</td>\n",
       "      <td>28.0</td>\n",
       "      <td>Sep</td>\n",
       "      <td>1859.0</td>\n",
       "      <td>NaN</td>\n",
       "    </tr>\n",
       "    <tr>\n",
       "      <th>3</th>\n",
       "      <td>Baner ac Amserau Cymru</td>\n",
       "      <td>013906329</td>\n",
       "      <td>37.0</td>\n",
       "      <td>JISC1</td>\n",
       "      <td>Baner ac Amserau Cymru</td>\n",
       "      <td>Baner</td>\n",
       "      <td>BNER</td>\n",
       "      <td>5.0</td>\n",
       "      <td>Oct</td>\n",
       "      <td>1859.0</td>\n",
       "      <td>29.0</td>\n",
       "      <td>Dec</td>\n",
       "      <td>1900.0</td>\n",
       "      <td>NaN</td>\n",
       "    </tr>\n",
       "    <tr>\n",
       "      <th>4</th>\n",
       "      <td>Belfast News-Letter</td>\n",
       "      <td>013943744</td>\n",
       "      <td>38.0</td>\n",
       "      <td>JISC1</td>\n",
       "      <td>Belfast News-Letter</td>\n",
       "      <td>Belfast News-Letter</td>\n",
       "      <td>BNWL</td>\n",
       "      <td>1.0</td>\n",
       "      <td>Jan</td>\n",
       "      <td>1828.0</td>\n",
       "      <td>31.0</td>\n",
       "      <td>Dec</td>\n",
       "      <td>1900.0</td>\n",
       "      <td>NaN</td>\n",
       "    </tr>\n",
       "  </tbody>\n",
       "</table>\n",
       "</div>"
      ],
      "text/plain": [
       "                                     Newspaper Title  System ID   NLP   JISC  \\\n",
       "0  The Aberdeen Journal and general advertiser fo...  013921360  31.0  JISC1   \n",
       "1                          Aberdeen Weekly Journal    013921362  32.0  JISC1   \n",
       "2                                              Baner  013906328  36.0  JISC1   \n",
       "3                             Baner ac Amserau Cymru  013906329  37.0  JISC1   \n",
       "4                                Belfast News-Letter  013943744  38.0  JISC1   \n",
       "\n",
       "                     Title     Normalised Title  Abbr  Start Unnamed: 8  \\\n",
       "0         Aberdeen Journal     Aberdeen Journal  ANJO    1.0        Jan   \n",
       "1  Aberdeen Weekly Journal     Aberdeen Journal  ANJO   30.0        Aug   \n",
       "2              Baner Cymru                Baner  BNER    4.0        Mar   \n",
       "3   Baner ac Amserau Cymru                Baner  BNER    5.0        Oct   \n",
       "4      Belfast News-Letter  Belfast News-Letter  BNWL    1.0        Jan   \n",
       "\n",
       "   Unnamed: 9   End Unnamed: 11  Unnamed: 12  Unnamed: 13  \n",
       "0      1800.0  23.0         Aug       1876.0          NaN  \n",
       "1      1876.0  31.0         Dec       1900.0          NaN  \n",
       "2      1857.0  28.0         Sep       1859.0          NaN  \n",
       "3      1859.0  29.0         Dec       1900.0          NaN  \n",
       "4      1828.0  31.0         Dec       1900.0          NaN  "
      ]
     },
     "execution_count": 47,
     "metadata": {},
     "output_type": "execute_result"
    }
   ],
   "source": [
    "jisc_meta = pd.read_csv(\"../newspaper_metadata/JISCcombined_edited.csv\", dtype={'System ID': str})\n",
    "jisc_meta[\"System ID\"] = jisc_meta[\"System ID\"].str.strip()\n",
    "jisc_meta = jisc_meta.iloc[:114]\n",
    "jisc_meta.head()"
   ]
  },
  {
   "cell_type": "code",
   "execution_count": 48,
   "metadata": {},
   "outputs": [
    {
     "name": "stdout",
     "output_type": "stream",
     "text": [
      "(114, 14) (114, 22)\n"
     ]
    }
   ],
   "source": [
    "jisc_merged = jisc_meta[['Newspaper Title', \"System ID\"]].merge(bl_meta, \n",
    "                                                                left_on='System ID',\n",
    "                                                                right_on=\"Title ID\",\n",
    "                                                               how='left')\n",
    "print(jisc_meta.shape,jisc_merged.shape)"
   ]
  },
  {
   "cell_type": "code",
   "execution_count": 49,
   "metadata": {},
   "outputs": [
    {
     "data": {
      "text/plain": [
       "Index(['Newspaper Title', 'System ID', 'Title ID', 'BNB number', 'ISSN',\n",
       "       'Publication title', 'Edition', 'Preceding title', 'Succeeding title',\n",
       "       'Country', 'Town/City', 'First geographical subject heading',\n",
       "       'Subsequent geographical subject heading', 'General area of coverage',\n",
       "       'Specific area of coverage', 'First year of pubication',\n",
       "       'Last year of publication', 'Publication dates - more information',\n",
       "       'First year held', 'Last year held', 'Holdings - more information',\n",
       "       'Online (all or part)'],\n",
       "      dtype='object')"
      ]
     },
     "execution_count": 49,
     "metadata": {},
     "output_type": "execute_result"
    }
   ],
   "source": [
    "jisc_merged.columns"
   ]
  },
  {
   "cell_type": "code",
   "execution_count": 50,
   "metadata": {},
   "outputs": [],
   "source": [
    "jisc_merged['First year of pubication'] = jisc_merged['First year of pubication'].fillna('0').astype(dtype=np.int64)\n",
    "jisc_merged['Last year of publication'] = jisc_merged['Last year of publication'].fillna('2020').astype(dtype=np.int64)"
   ]
  },
  {
   "cell_type": "code",
   "execution_count": 51,
   "metadata": {},
   "outputs": [
    {
     "data": {
      "text/html": [
       "<div>\n",
       "<style scoped>\n",
       "    .dataframe tbody tr th:only-of-type {\n",
       "        vertical-align: middle;\n",
       "    }\n",
       "\n",
       "    .dataframe tbody tr th {\n",
       "        vertical-align: top;\n",
       "    }\n",
       "\n",
       "    .dataframe thead th {\n",
       "        text-align: right;\n",
       "    }\n",
       "</style>\n",
       "<table border=\"1\" class=\"dataframe\">\n",
       "  <thead>\n",
       "    <tr style=\"text-align: right;\">\n",
       "      <th></th>\n",
       "      <th>Newspaper Title</th>\n",
       "      <th>System ID</th>\n",
       "      <th>Title ID</th>\n",
       "      <th>BNB number</th>\n",
       "      <th>ISSN</th>\n",
       "      <th>Publication title</th>\n",
       "      <th>Edition</th>\n",
       "      <th>Preceding title</th>\n",
       "      <th>Succeeding title</th>\n",
       "      <th>Country</th>\n",
       "      <th>...</th>\n",
       "      <th>Subsequent geographical subject heading</th>\n",
       "      <th>General area of coverage</th>\n",
       "      <th>Specific area of coverage</th>\n",
       "      <th>First year of pubication</th>\n",
       "      <th>Last year of publication</th>\n",
       "      <th>Publication dates - more information</th>\n",
       "      <th>First year held</th>\n",
       "      <th>Last year held</th>\n",
       "      <th>Holdings - more information</th>\n",
       "      <th>Online (all or part)</th>\n",
       "    </tr>\n",
       "  </thead>\n",
       "  <tbody>\n",
       "    <tr>\n",
       "      <th>0</th>\n",
       "      <td>The Aberdeen Journal and general advertiser fo...</td>\n",
       "      <td>013921360</td>\n",
       "      <td>013921360</td>\n",
       "      <td>NaN</td>\n",
       "      <td>NaN</td>\n",
       "      <td>The Aberdeen Journal and General Advertiser fo...</td>\n",
       "      <td>NaN</td>\n",
       "      <td>Aberdeen Journal. no. 1774-2589 (7 Jan. 1782-...</td>\n",
       "      <td>Aberdeen Weekly Journal and General Advertiser...</td>\n",
       "      <td>Scotland</td>\n",
       "      <td>...</td>\n",
       "      <td>Grampian (Scotland)</td>\n",
       "      <td>Scotland--Grampian</td>\n",
       "      <td>Aberdeen</td>\n",
       "      <td>1797</td>\n",
       "      <td>1876</td>\n",
       "      <td>NaN</td>\n",
       "      <td>1797</td>\n",
       "      <td>1876</td>\n",
       "      <td>number 2590-6711 (29 August 1797-23 August 1876)</td>\n",
       "      <td>Y</td>\n",
       "    </tr>\n",
       "    <tr>\n",
       "      <th>1</th>\n",
       "      <td>Aberdeen Weekly Journal</td>\n",
       "      <td>013921362</td>\n",
       "      <td>013921362</td>\n",
       "      <td>NaN</td>\n",
       "      <td>NaN</td>\n",
       "      <td>Aberdeen Weekly Journal and General Advertiser...</td>\n",
       "      <td>NaN</td>\n",
       "      <td>The Aberdeen Journal and General Advertiser f...</td>\n",
       "      <td>Aberdeen Weekly Journal. no. 8137-10792 (23 De...</td>\n",
       "      <td>Scotland</td>\n",
       "      <td>...</td>\n",
       "      <td>Grampian (Scotland)</td>\n",
       "      <td>Scotland--Grampian</td>\n",
       "      <td>Aberdeen</td>\n",
       "      <td>1876</td>\n",
       "      <td>1903</td>\n",
       "      <td>NaN</td>\n",
       "      <td>1876</td>\n",
       "      <td>1903</td>\n",
       "      <td>number 6712-8136 (30 August 1876-16 December 1...</td>\n",
       "      <td>Y</td>\n",
       "    </tr>\n",
       "    <tr>\n",
       "      <th>2</th>\n",
       "      <td>Baner</td>\n",
       "      <td>013906328</td>\n",
       "      <td>013906328</td>\n",
       "      <td>NaN</td>\n",
       "      <td>NaN</td>\n",
       "      <td>Baner Cymru</td>\n",
       "      <td>NaN</td>\n",
       "      <td>NaN</td>\n",
       "      <td>Baner ac Amserau Cymru. cyf.3.rhif.136, etc (5...</td>\n",
       "      <td>Wales</td>\n",
       "      <td>...</td>\n",
       "      <td>Denbighshire (Wales)</td>\n",
       "      <td>Wales--Clwyd</td>\n",
       "      <td>Denbigh</td>\n",
       "      <td>1857</td>\n",
       "      <td>1859</td>\n",
       "      <td>NaN</td>\n",
       "      <td>1857</td>\n",
       "      <td>1859</td>\n",
       "      <td>cyf 1 rhif 1 - cyf 3 rhif 135 (4 March 1857 - ...</td>\n",
       "      <td>Y</td>\n",
       "    </tr>\n",
       "    <tr>\n",
       "      <th>3</th>\n",
       "      <td>Baner ac Amserau Cymru</td>\n",
       "      <td>013906329</td>\n",
       "      <td>013906329</td>\n",
       "      <td>NaN</td>\n",
       "      <td>NaN</td>\n",
       "      <td>Baner ac Amserau Cymru</td>\n",
       "      <td>NaN</td>\n",
       "      <td>Baner Cymru. cyf.1.rhif.1 - cyf.3.rhif.135 (4...</td>\n",
       "      <td>Faner. 7 Jan.1972-17 April 1992</td>\n",
       "      <td>Wales</td>\n",
       "      <td>...</td>\n",
       "      <td>Denbighshire (Wales)</td>\n",
       "      <td>Wales--Clwyd</td>\n",
       "      <td>Denbigh</td>\n",
       "      <td>1859</td>\n",
       "      <td>1971</td>\n",
       "      <td>NaN</td>\n",
       "      <td>1859</td>\n",
       "      <td>1971</td>\n",
       "      <td>cyf 3 rhif 136, etc (5 October 1859 - 30 Decem...</td>\n",
       "      <td>Y</td>\n",
       "    </tr>\n",
       "    <tr>\n",
       "      <th>4</th>\n",
       "      <td>Belfast News-Letter</td>\n",
       "      <td>013943744</td>\n",
       "      <td>013943744</td>\n",
       "      <td>NaN</td>\n",
       "      <td>NaN</td>\n",
       "      <td>The Belfast News-Letter</td>\n",
       "      <td>NaN</td>\n",
       "      <td>Belfast News-Letter and General Advertiser. 1...</td>\n",
       "      <td>News Letter. 3 Sept. 1962-</td>\n",
       "      <td>Northern Ireland</td>\n",
       "      <td>...</td>\n",
       "      <td>Northern Ireland</td>\n",
       "      <td>Ireland</td>\n",
       "      <td>Belfast</td>\n",
       "      <td>1792</td>\n",
       "      <td>1962</td>\n",
       "      <td>NaN</td>\n",
       "      <td>1792</td>\n",
       "      <td>1962</td>\n",
       "      <td>21/25 December 1792; 29 January 1799; 21 May 1...</td>\n",
       "      <td>Y</td>\n",
       "    </tr>\n",
       "  </tbody>\n",
       "</table>\n",
       "<p>5 rows × 22 columns</p>\n",
       "</div>"
      ],
      "text/plain": [
       "                                     Newspaper Title  System ID   Title ID  \\\n",
       "0  The Aberdeen Journal and general advertiser fo...  013921360  013921360   \n",
       "1                          Aberdeen Weekly Journal    013921362  013921362   \n",
       "2                                              Baner  013906328  013906328   \n",
       "3                             Baner ac Amserau Cymru  013906329  013906329   \n",
       "4                                Belfast News-Letter  013943744  013943744   \n",
       "\n",
       "  BNB number ISSN                                  Publication title Edition  \\\n",
       "0        NaN  NaN  The Aberdeen Journal and General Advertiser fo...     NaN   \n",
       "1        NaN  NaN  Aberdeen Weekly Journal and General Advertiser...     NaN   \n",
       "2        NaN  NaN                                        Baner Cymru     NaN   \n",
       "3        NaN  NaN                             Baner ac Amserau Cymru     NaN   \n",
       "4        NaN  NaN                            The Belfast News-Letter     NaN   \n",
       "\n",
       "                                     Preceding title  \\\n",
       "0   Aberdeen Journal. no. 1774-2589 (7 Jan. 1782-...   \n",
       "1   The Aberdeen Journal and General Advertiser f...   \n",
       "2                                                NaN   \n",
       "3   Baner Cymru. cyf.1.rhif.1 - cyf.3.rhif.135 (4...   \n",
       "4   Belfast News-Letter and General Advertiser. 1...   \n",
       "\n",
       "                                    Succeeding title           Country  ...  \\\n",
       "0  Aberdeen Weekly Journal and General Advertiser...          Scotland  ...   \n",
       "1  Aberdeen Weekly Journal. no. 8137-10792 (23 De...          Scotland  ...   \n",
       "2  Baner ac Amserau Cymru. cyf.3.rhif.136, etc (5...             Wales  ...   \n",
       "3                    Faner. 7 Jan.1972-17 April 1992             Wales  ...   \n",
       "4                         News Letter. 3 Sept. 1962-  Northern Ireland  ...   \n",
       "\n",
       "  Subsequent geographical subject heading General area of coverage  \\\n",
       "0                     Grampian (Scotland)       Scotland--Grampian   \n",
       "1                     Grampian (Scotland)       Scotland--Grampian   \n",
       "2                    Denbighshire (Wales)             Wales--Clwyd   \n",
       "3                    Denbighshire (Wales)             Wales--Clwyd   \n",
       "4                        Northern Ireland                  Ireland   \n",
       "\n",
       "  Specific area of coverage First year of pubication Last year of publication  \\\n",
       "0                  Aberdeen                     1797                     1876   \n",
       "1                  Aberdeen                     1876                     1903   \n",
       "2                   Denbigh                     1857                     1859   \n",
       "3                   Denbigh                     1859                     1971   \n",
       "4                   Belfast                     1792                     1962   \n",
       "\n",
       "   Publication dates - more information  First year held Last year held  \\\n",
       "0                                   NaN             1797           1876   \n",
       "1                                   NaN             1876           1903   \n",
       "2                                   NaN             1857           1859   \n",
       "3                                   NaN             1859           1971   \n",
       "4                                   NaN             1792           1962   \n",
       "\n",
       "                         Holdings - more information Online (all or part)  \n",
       "0   number 2590-6711 (29 August 1797-23 August 1876)                    Y  \n",
       "1  number 6712-8136 (30 August 1876-16 December 1...                    Y  \n",
       "2  cyf 1 rhif 1 - cyf 3 rhif 135 (4 March 1857 - ...                    Y  \n",
       "3  cyf 3 rhif 136, etc (5 October 1859 - 30 Decem...                    Y  \n",
       "4  21/25 December 1792; 29 January 1799; 21 May 1...                    Y  \n",
       "\n",
       "[5 rows x 22 columns]"
      ]
     },
     "execution_count": 51,
     "metadata": {},
     "output_type": "execute_result"
    }
   ],
   "source": [
    "jisc_merged.head()"
   ]
  },
  {
   "cell_type": "code",
   "execution_count": 53,
   "metadata": {},
   "outputs": [],
   "source": [
    "# has to be published before 1900\n",
    "# needs at least one publication after 1855\n",
    "mask = np.array((jisc_merged[\"Country\"] == \"England\") & \\\n",
    "        (jisc_merged['First year of pubication'] < 1900) & \\\n",
    "        (jisc_merged['Last year of publication'] > 1855) & \\\n",
    "        (jisc_merged['Specific area of coverage'] != \"London\"))"
   ]
  },
  {
   "cell_type": "code",
   "execution_count": 54,
   "metadata": {},
   "outputs": [
    {
     "data": {
      "text/plain": [
       "(40, 22)"
      ]
     },
     "execution_count": 54,
     "metadata": {},
     "output_type": "execute_result"
    }
   ],
   "source": [
    "jisc = jisc_merged.loc[mask]\n",
    "jisc.shape"
   ]
  },
  {
   "cell_type": "code",
   "execution_count": 55,
   "metadata": {},
   "outputs": [
    {
     "data": {
      "text/plain": [
       "5                                  Birmingham Daily Post\n",
       "8                               The Bristol Mercury, etc\n",
       "9      The Bristol Mercury and Daily Post, Western Co...\n",
       "21                                     The Derby Mercury\n",
       "31               Hampshire Telegraph and Naval Chronicle\n",
       "32        Hampshire Telegraph, and Sussex Chronicle, etc\n",
       "36                The Hull Packet; and East Riding Times\n",
       "40                                   The Ipswich Journal\n",
       "41                              Jackson's Oxford Journal\n",
       "42                              Jackson's Oxford Journal\n",
       "43                                     The Leeds Mercury\n",
       "44                                Liverpool Mercury, etc\n",
       "51                            The Newcastle Courant, etc\n",
       "52                          The Newcastle Weekly Courant\n",
       "54                                         Northern Echo\n",
       "61                       Oxford Journal and Country News\n",
       "65       The Preston Chronicle and Lancashire Advertiser\n",
       "71     Trewman's Exeter Flying Post, or, Plymouth and...\n",
       "74                            Berrow's Worcester Journal\n",
       "75             The Blackburn Standard and Weekly Express\n",
       "76                                The Blackburn Standard\n",
       "77     The Blackburn Standard, Darwen Observer, and N...\n",
       "78                                 The Bradford Observer\n",
       "79                             The Bury and Norwich Post\n",
       "80                                     Cheshire Observer\n",
       "81     Cheshire Observer and General Advertiser for C...\n",
       "89                        The Essex County Standard, etc\n",
       "90                               The Essex Standard, etc\n",
       "92     The Huddersfield Chronicle and West Yorkshire ...\n",
       "94          The Isle of Man Times and General Advertiser\n",
       "95                                Isle of Wight Observer\n",
       "97     The Leeds Intelligencer and Yorkshire General ...\n",
       "98     The Leicester Chronicle and Leicestershire Mer...\n",
       "99     Leicester Chronicle, or Commercial and Agricul...\n",
       "102                      The North-Eastern Daily Gazette\n",
       "103    The Nottinghamshire Guardian, and Midland Coun...\n",
       "104                      The Royal Cornwall Gazette, etc\n",
       "107                  Sheffield and Rotherham Independent\n",
       "110                                             The Star\n",
       "111                      The Weekly Standard and Express\n",
       "Name: Publication title, dtype: object"
      ]
     },
     "execution_count": 55,
     "metadata": {},
     "output_type": "execute_result"
    }
   ],
   "source": [
    "jisc[\"Publication title\"]"
   ]
  },
  {
   "cell_type": "code",
   "execution_count": 56,
   "metadata": {},
   "outputs": [],
   "source": [
    "from collections import Counter\n",
    "all_titles = []\n",
    "id = 0\n",
    "for ch in linkchainer.__sort__():\n",
    "    df = linkchainer.print_chain(ch[1].chain)\n",
    "    titles = Counter(df['S-TITLE'])\n",
    "    years = list(df['year'])\n",
    "    n_ids = list(df[\"id\"])\n",
    "    meta = years[0],years[-1],id,n_ids\n",
    "    \n",
    "    for t in list(titles.items()):\n",
    "        t = list(t)\n",
    "        t.extend(meta)\n",
    "        all_titles.append(t)\n",
    "    id+=1"
   ]
  },
  {
   "cell_type": "code",
   "execution_count": 57,
   "metadata": {},
   "outputs": [
    {
     "data": {
      "text/html": [
       "<div>\n",
       "<style scoped>\n",
       "    .dataframe tbody tr th:only-of-type {\n",
       "        vertical-align: middle;\n",
       "    }\n",
       "\n",
       "    .dataframe tbody tr th {\n",
       "        vertical-align: top;\n",
       "    }\n",
       "\n",
       "    .dataframe thead th {\n",
       "        text-align: right;\n",
       "    }\n",
       "</style>\n",
       "<table border=\"1\" class=\"dataframe\">\n",
       "  <thead>\n",
       "    <tr style=\"text-align: right;\">\n",
       "      <th></th>\n",
       "      <th>TITLE</th>\n",
       "      <th>FREQ</th>\n",
       "      <th>BEGIN</th>\n",
       "      <th>END</th>\n",
       "      <th>ID</th>\n",
       "      <th>NIDS</th>\n",
       "    </tr>\n",
       "  </thead>\n",
       "  <tbody>\n",
       "    <tr>\n",
       "      <th>0</th>\n",
       "      <td>BERWICK ADVERTISER</td>\n",
       "      <td>21</td>\n",
       "      <td>1855</td>\n",
       "      <td>1895</td>\n",
       "      <td>0</td>\n",
       "      <td>[MPD_1855_24, MPD_1856_29, MPD_1857_23, MPD_18...</td>\n",
       "    </tr>\n",
       "    <tr>\n",
       "      <th>1</th>\n",
       "      <td>PAPERS</td>\n",
       "      <td>1</td>\n",
       "      <td>1855</td>\n",
       "      <td>1895</td>\n",
       "      <td>0</td>\n",
       "      <td>[MPD_1855_24, MPD_1856_29, MPD_1857_23, MPD_18...</td>\n",
       "    </tr>\n",
       "    <tr>\n",
       "      <th>2</th>\n",
       "      <td>\" BERWICK ADVERTISER</td>\n",
       "      <td>1</td>\n",
       "      <td>1855</td>\n",
       "      <td>1895</td>\n",
       "      <td>0</td>\n",
       "      <td>[MPD_1855_24, MPD_1856_29, MPD_1857_23, MPD_18...</td>\n",
       "    </tr>\n",
       "    <tr>\n",
       "      <th>3</th>\n",
       "      <td>distric BERWICK ADVERTISER</td>\n",
       "      <td>1</td>\n",
       "      <td>1855</td>\n",
       "      <td>1895</td>\n",
       "      <td>0</td>\n",
       "      <td>[MPD_1855_24, MPD_1856_29, MPD_1857_23, MPD_18...</td>\n",
       "    </tr>\n",
       "    <tr>\n",
       "      <th>4</th>\n",
       "      <td>BERWICKSHIRE ADVERTISER</td>\n",
       "      <td>1</td>\n",
       "      <td>1855</td>\n",
       "      <td>1895</td>\n",
       "      <td>0</td>\n",
       "      <td>[MPD_1855_24, MPD_1856_29, MPD_1857_23, MPD_18...</td>\n",
       "    </tr>\n",
       "  </tbody>\n",
       "</table>\n",
       "</div>"
      ],
      "text/plain": [
       "                        TITLE  FREQ  BEGIN   END  ID  \\\n",
       "0          BERWICK ADVERTISER    21   1855  1895   0   \n",
       "1                      PAPERS     1   1855  1895   0   \n",
       "2        \" BERWICK ADVERTISER     1   1855  1895   0   \n",
       "3  distric BERWICK ADVERTISER     1   1855  1895   0   \n",
       "4     BERWICKSHIRE ADVERTISER     1   1855  1895   0   \n",
       "\n",
       "                                                NIDS  \n",
       "0  [MPD_1855_24, MPD_1856_29, MPD_1857_23, MPD_18...  \n",
       "1  [MPD_1855_24, MPD_1856_29, MPD_1857_23, MPD_18...  \n",
       "2  [MPD_1855_24, MPD_1856_29, MPD_1857_23, MPD_18...  \n",
       "3  [MPD_1855_24, MPD_1856_29, MPD_1857_23, MPD_18...  \n",
       "4  [MPD_1855_24, MPD_1856_29, MPD_1857_23, MPD_18...  "
      ]
     },
     "execution_count": 57,
     "metadata": {},
     "output_type": "execute_result"
    }
   ],
   "source": [
    "df_all_titles = pd.DataFrame(all_titles, columns=['TITLE',\"FREQ\",\"BEGIN\",\"END\",\"ID\",\"NIDS\"])\n",
    "df_all_titles.TITLE.fillna('NAN',inplace=True)\n",
    "df_all_titles.head()"
   ]
  },
  {
   "cell_type": "code",
   "execution_count": 58,
   "metadata": {},
   "outputs": [],
   "source": [
    "from sklearn.feature_extraction.text import TfidfVectorizer\n",
    "vectorizer = TfidfVectorizer(min_df=10,max_df=.9,analyzer='char', ngram_range=(1,4))\n",
    "X = vectorizer.fit_transform(df_all_titles.TITLE)"
   ]
  },
  {
   "cell_type": "code",
   "execution_count": 59,
   "metadata": {},
   "outputs": [
    {
     "data": {
      "text/plain": [
       "True"
      ]
     },
     "execution_count": 59,
     "metadata": {},
     "output_type": "execute_result"
    }
   ],
   "source": [
    "from annoy import AnnoyIndex\n",
    "index = AnnoyIndex(X.shape[1], metric='euclidean')\n",
    "\n",
    "for i,v in enumerate(X):\n",
    "    index.add_item(i, v.todense().T)\n",
    "index.build(50)\n"
   ]
  },
  {
   "cell_type": "code",
   "execution_count": 60,
   "metadata": {},
   "outputs": [],
   "source": [
    "from pigeon import annotate\n",
    "row_idx = 0\n",
    "all_annotations = []"
   ]
  },
  {
   "cell_type": "code",
   "execution_count": 70,
   "metadata": {},
   "outputs": [
    {
     "name": "stdout",
     "output_type": "stream",
     "text": [
      "at 4 of 40 newspapers\n",
      "Newspaper Title                                      Hampshire Telegraph and Naval Chronicle\n",
      "System ID                                                                          013924140\n",
      "Title ID                                                                           013924140\n",
      "BNB number                                                                               NaN\n",
      "ISSN                                                                                     NaN\n",
      "Publication title                                    Hampshire Telegraph and Naval Chronicle\n",
      "Edition                                                                                  NaN\n",
      "Preceding title                             Hampshire Telegraph, and Sussex Chronicle, et...\n",
      "Succeeding title                           Hampshire Telegraph & Post and Naval Chronicle...\n",
      "Country                                                                              England\n",
      "Town/City                                                                                NaN\n",
      "First geographical subject heading                                       Hampshire (England)\n",
      "Subsequent geographical subject heading                                 Portsmouth (England)\n",
      "General area of coverage                                                  England--Hampshire\n",
      "Specific area of coverage                                                         Portsmouth\n",
      "First year of pubication                                                                1899\n",
      "Last year of publication                                                                1914\n",
      "Publication dates - more information                                                     NaN\n",
      "First year held                                                                         1899\n",
      "Last year held                                                                          1914\n",
      "Holdings - more information                number 6160-6893 (14 October 1899-9 January 1914)\n",
      "Online (all or part)                                                                       Y\n",
      "Name: 31, dtype: object\n"
     ]
    },
    {
     "data": {
      "application/vnd.jupyter.widget-view+json": {
       "model_id": "1d86a7b1aa45441bba7c11be18714160",
       "version_major": 2,
       "version_minor": 0
      },
      "text/plain": [
       "HTML(value='0 examples annotated, 11 examples left')"
      ]
     },
     "metadata": {},
     "output_type": "display_data"
    },
    {
     "data": {
      "application/vnd.jupyter.widget-view+json": {
       "model_id": "e20f9c8604b649ffaee5a76b94150cd9",
       "version_major": 2,
       "version_minor": 0
      },
      "text/plain": [
       "HBox(children=(Button(description='same', style=ButtonStyle()), Button(description='different', style=ButtonSt…"
      ]
     },
     "metadata": {},
     "output_type": "display_data"
    },
    {
     "data": {
      "application/vnd.jupyter.widget-view+json": {
       "model_id": "85a28965336440ba85b4183e97811e5f",
       "version_major": 2,
       "version_minor": 0
      },
      "text/plain": [
       "Output()"
      ]
     },
     "metadata": {},
     "output_type": "display_data"
    },
    {
     "name": "stdout",
     "output_type": "stream",
     "text": [
      "Annotation done.\n"
     ]
    }
   ],
   "source": [
    "if row_idx > jisc.shape[0]:\n",
    "    print('Done.')\n",
    "else:\n",
    "    print(f\"at {row_idx} of {jisc.shape[0]} newspapers\")\n",
    "    row = jisc.iloc[row_idx]\n",
    "    title = row[\"Publication title\"]\n",
    "    print(row)\n",
    "\n",
    "    #print(title.upper())\n",
    "    vector = vectorizer.transform([title]).todense().reshape(-1).T\n",
    "    candidates = index.get_nns_by_vector(vector,10)\n",
    "    annotations = annotate(\n",
    "      [(title.upper(),df_all_titles.iloc[c].TITLE,row[\"System ID\"],df_all_titles.iloc[c].NIDS) for c in candidates],\n",
    "      options=['same', 'different']\n",
    "        )\n"
   ]
  },
  {
   "cell_type": "code",
   "execution_count": 69,
   "metadata": {},
   "outputs": [
    {
     "data": {
      "text/plain": [
       "40"
      ]
     },
     "execution_count": 69,
     "metadata": {},
     "output_type": "execute_result"
    }
   ],
   "source": [
    "row_idx+=1\n",
    "all_annotations.extend(annotations)\n",
    "len(all_annotations)"
   ]
  },
  {
   "cell_type": "code",
   "execution_count": null,
   "metadata": {},
   "outputs": [],
   "source": [
    "all_annotations[0]"
   ]
  },
  {
   "cell_type": "code",
   "execution_count": null,
   "metadata": {},
   "outputs": [],
   "source": [
    "# with open(\"../link_dump/jisc_links/jisc_links.pickle\",'wb') as out_pickle:\n",
    "#     pickle.dump(all_annotations,out_pickle)"
   ]
  },
  {
   "cell_type": "code",
   "execution_count": null,
   "metadata": {},
   "outputs": [],
   "source": [
    "with open(\"../link_dump/jisc_links/jisc_links.pickle\",'rb') as in_pickle:\n",
    "    jisc_annotations = pickle.load(in_pickle)"
   ]
  },
  {
   "cell_type": "code",
   "execution_count": null,
   "metadata": {},
   "outputs": [],
   "source": [
    "def add_identifiers(jisc_annotations,jisc_df,csv_path=\"../csv_dump/\"):\n",
    "    links = defaultdict(list)\n",
    "    for ((t1, t2, j_id, npd_ids), anno) in jisc_annotations:\n",
    "        start = int(jisc_df[jisc_df['System ID']==j_id]['First year of pubication'])\n",
    "        end = int(jisc_df[jisc_df['System ID']==j_id]['Last year of publication'])\n",
    "        if anno == \"same\":\n",
    "            for npd_id in npd_ids:\n",
    "                _, year, id = npd_id.split(\"_\")\n",
    "                if int(year) in range(start, end + 1):\n",
    "                    links[year].append([npd_id,j_id])\n",
    "    return links\n",
    "\n",
    "links = add_identifiers(jisc_annotations,jisc)\n"
   ]
  },
  {
   "cell_type": "code",
   "execution_count": null,
   "metadata": {},
   "outputs": [],
   "source": [
    "\n",
    "csv_path= Path(\"../csv_dump\")\n",
    "\n",
    "csv_path_out = Path(\"../csv_dump_out/\")\n",
    "csv_path_out.mkdir(exist_ok=True)\n",
    "for year, link_list in tqdm(links.items()):\n",
    "    ## code is missing here\n",
    "    ## filter links\n",
    "    seen = [] ### !!!! important duplicate links use set() on link list link_list, or something\n",
    "    unique_links = []\n",
    "    for l1,l2 in link_list:\n",
    "        if l1 not in seen:\n",
    "            unique_links.append([l1,l2])\n",
    "            seen.append(l1)\n",
    "        \n",
    "    df = pd.read_csv(csv_path / f\"MPD_{year}.csv\")\n",
    "    df_links = pd.DataFrame(unique_links,columns=['npd_id','jisc_id'])\n",
    "    df_merged = df.merge(df_links,left_on='id',right_on='npd_id',how=\"left\")\n",
    "    \n",
    "    df_merged['politics'] = df_merged['S-POL'].apply(normalize_token_by_levenshtein,\n",
    "                                                    canonical_forms=canonical_forms)\n",
    "    \n",
    "    \n",
    "    df_merged.to_csv(csv_path_out / f\"MPD_{year}.csv\")\n",
    "    "
   ]
  },
  {
   "cell_type": "code",
   "execution_count": null,
   "metadata": {},
   "outputs": [],
   "source": [
    "df_merged.head(3)"
   ]
  },
  {
   "cell_type": "markdown",
   "metadata": {},
   "source": [
    "## Timeline"
   ]
  },
  {
   "cell_type": "code",
   "execution_count": null,
   "metadata": {},
   "outputs": [],
   "source": [
    "\n",
    "\n",
    "def bias_by_over_time(csv_path_out,labels):\n",
    "    rows = []\n",
    "    for p in csv_path_out.glob(\"**/*.csv\"):\n",
    "        year = int(p.stem.split(\"_\")[-1])\n",
    "        df = pd.read_csv(p)\n",
    "        ratioLib = df[df.politics.isin(labels)].shape[0] / df.shape[0]\n",
    "        jisc_np = df[~df.jisc_id.isnull()]\n",
    "        ratioLibJisc = jisc_np[jisc_np.politics.isin(labels)].shape[0] / jisc_np.shape[0]\n",
    "        rows.append([year,ratioLib,ratioLibJisc])\n",
    "        \n",
    "    pol_df = pd.DataFrame(rows,columns=['year','all',\"jisc\"])\n",
    "    pol_df.set_index('year',inplace=True)\n",
    "    pol_df.sort_index(inplace=True)\n",
    "    return pol_df\n",
    "\n",
    "pol_df = bias_by_over_time(csv_path_out,['liberal','liberal-conservative','liberal-unionist']) \n",
    "# ['neutral','independent']\n",
    "# ['conservative','tory']"
   ]
  },
  {
   "cell_type": "code",
   "execution_count": null,
   "metadata": {},
   "outputs": [],
   "source": [
    "pol_df.plot()"
   ]
  },
  {
   "cell_type": "code",
   "execution_count": null,
   "metadata": {},
   "outputs": [],
   "source": [
    "lib_df = bias_by_over_time(csv_path_out,['liberal','liberal-conservative','liberal-unionist']) \n",
    "\n",
    "con_df = bias_by_over_time(csv_path_out,['conservative','tory']) \n",
    "lib_df['diff'] = lib_df['jisc'] - lib_df['all']\n",
    "\n",
    "con_df['diff'] = con_df['jisc'] - con_df['all']\n",
    "lib_df['diff'].rolling(5).mean().plot()\n",
    "con_df['diff'].rolling(5).mean().plot()"
   ]
  },
  {
   "cell_type": "markdown",
   "metadata": {},
   "source": [
    "## stuff lost"
   ]
  },
  {
   "cell_type": "code",
   "execution_count": null,
   "metadata": {},
   "outputs": [],
   "source": []
  },
  {
   "cell_type": "markdown",
   "metadata": {},
   "source": [
    "## Text"
   ]
  },
  {
   "cell_type": "code",
   "execution_count": 171,
   "metadata": {},
   "outputs": [
    {
     "data": {
      "text/plain": [
       "'(?:working classes|working class|working men|working-man|rights of labour|working people|working population|labouring classes)'"
      ]
     },
     "execution_count": 171,
     "metadata": {},
     "output_type": "execute_result"
    }
   ],
   "source": [
    "query_tokens = ['working classes','working class','working men',\n",
    "                'working-man','rights of labour',\n",
    "                'working people','working population',\n",
    "                'labouring classes']\n",
    "query_expr = r\"(?:{})\".format('|'.join(query_tokens))\n",
    "query_expr"
   ]
  },
  {
   "cell_type": "code",
   "execution_count": 173,
   "metadata": {},
   "outputs": [],
   "source": [
    "import re\n",
    "pattern = re.compile(query_expr)\n",
    "is_hit = lambda x, pattern: 1 if pattern.findall(x) else 0"
   ]
  },
  {
   "cell_type": "code",
   "execution_count": 178,
   "metadata": {},
   "outputs": [],
   "source": [
    "recode_pol = {\n",
    "    'conservative':'conservative',\n",
    "    'constitutional':'conservative',\n",
    "    'czlconservative':'conservative',\n",
    "    'independent':'neutral',\n",
    "    'independent-conservative':'neutral',\n",
    "    'independent-liberal':'neutral',\n",
    "    'liberal-conservative':'liberal',\n",
    "    'liberal-independent':'liberal',\n",
    "    'liberal':'liberal',\n",
    "    'liberal<sep>amal':'liberal',\n",
    "    'neutral':'neutral',\n",
    "    'protestant-conservative':'conservative',\n",
    "    'radical':'radical',\n",
    "    'tory':'conservative',\n",
    "    'whig':'liberal',\n",
    "    'ependent':'neutral',\n",
    "    'neduautral':'neutral',\n",
    "    'liberal<sep>conservative':'liberal',\n",
    "    #'liberal-unionist':'liberal',\n",
    "    'tory ( old )':'conservative',\n",
    "    'advanced-liberal':'liberal',\n",
    "    'protestant<sep>conservative':'conservative',\n",
    "    'non-party':'neutral',\n",
    "    'protestant':'conservative',\n",
    "    'liberal<sep>liberal':'liberal',\n",
    "    'liberal<sep>independent':'liberal'\n",
    "}"
   ]
  },
  {
   "cell_type": "code",
   "execution_count": 184,
   "metadata": {},
   "outputs": [],
   "source": [
    "csv_path_out = Path(\"../csv_dump_out/\")\n",
    "result = defaultdict(dict)\n",
    "\n",
    "for p in csv_path_out.glob(\"**/*.csv\"):\n",
    "    year = int(p.stem.split(\"_\")[-1])\n",
    "    if not year in period: continue\n",
    "    df = pd.read_csv(csv_path_out / f\"MPD_{year}.csv\")\n",
    "    df.replace({'politics':recode_pol},inplace=True)\n",
    "    df[\"hits\"] = df.TEXT.str.lower().apply(is_hit,pattern=pattern)\n",
    "    df = df[df.politics.isin(['liberal','conservative','neutral'])]\n",
    "    result[year] = (100*df.groupby('politics')['hits'].sum() / df.groupby('politics')['hits'].count()).to_dict()\n",
    "\n"
   ]
  },
  {
   "cell_type": "code",
   "execution_count": 186,
   "metadata": {},
   "outputs": [
    {
     "data": {
      "text/plain": [
       "<matplotlib.axes._subplots.AxesSubplot at 0x7f96f2d2a090>"
      ]
     },
     "execution_count": 186,
     "metadata": {},
     "output_type": "execute_result"
    },
    {
     "data": {
      "image/png": "[encoded data removed]",
      "text/plain": [
       "<Figure size 432x288 with 1 Axes>"
      ]
     },
     "metadata": {
      "needs_background": "light"
     },
     "output_type": "display_data"
    }
   ],
   "source": [
    "df_pol = pd.DataFrame.from_dict(result,orient='index')\n",
    "df_pol.head()\n",
    "df_pol.sort_index(inplace=True)\n",
    "df_pol.rolling(3,center=True).mean().plot()"
   ]
  },
  {
   "cell_type": "markdown",
   "metadata": {},
   "source": [
    "## Place"
   ]
  },
  {
   "cell_type": "code",
   "execution_count": 30,
   "metadata": {},
   "outputs": [],
   "source": [
    "with open(\"/deezy_datadrive/kaspar-playground/other/wikigaz_en.pkl\",'rb') as in_pickle:\n",
    "    wikigaz = pickle.load(in_pickle)"
   ]
  },
  {
   "cell_type": "code",
   "execution_count": 31,
   "metadata": {},
   "outputs": [],
   "source": [
    "uk_bb_coord = (-7.57216793459, 49.959999905, 1.68153079591, 58.6350001085)"
   ]
  },
  {
   "cell_type": "code",
   "execution_count": 39,
   "metadata": {},
   "outputs": [],
   "source": [
    "ukgaz_mask =  (wikigaz.lon > -7.57216793459) & (wikigaz.lon < 1.68153079591) & \\\n",
    "              (wikigaz.lat > 49.959999905) & (wikigaz.lat < 58.6350001085) "
   ]
  },
  {
   "cell_type": "code",
   "execution_count": 40,
   "metadata": {},
   "outputs": [],
   "source": [
    "ukgaz =wikigaz[ukgaz_mask]"
   ]
  },
  {
   "cell_type": "code",
   "execution_count": 41,
   "metadata": {},
   "outputs": [
    {
     "data": {
      "text/html": [
       "<div>\n",
       "<style scoped>\n",
       "    .dataframe tbody tr th:only-of-type {\n",
       "        vertical-align: middle;\n",
       "    }\n",
       "\n",
       "    .dataframe tbody tr th {\n",
       "        vertical-align: top;\n",
       "    }\n",
       "\n",
       "    .dataframe thead th {\n",
       "        text-align: right;\n",
       "    }\n",
       "</style>\n",
       "<table border=\"1\" class=\"dataframe\">\n",
       "  <thead>\n",
       "    <tr style=\"text-align: right;\">\n",
       "      <th></th>\n",
       "      <th>altname</th>\n",
       "      <th>pid</th>\n",
       "      <th>lat</th>\n",
       "      <th>lon</th>\n",
       "    </tr>\n",
       "  </thead>\n",
       "  <tbody>\n",
       "    <tr>\n",
       "      <th>355703</th>\n",
       "      <td>Durham</td>\n",
       "      <td>List_of_youth_hostels_in_England_and_Wales</td>\n",
       "      <td>54.7732</td>\n",
       "      <td>-1.57460</td>\n",
       "    </tr>\n",
       "    <tr>\n",
       "      <th>360306</th>\n",
       "      <td>Durham</td>\n",
       "      <td>Durham_(Gilesgate)_railway_station</td>\n",
       "      <td>54.7787</td>\n",
       "      <td>-1.56300</td>\n",
       "    </tr>\n",
       "    <tr>\n",
       "      <th>430265</th>\n",
       "      <td>Durham</td>\n",
       "      <td>HM_Prison_Durham</td>\n",
       "      <td>54.7733</td>\n",
       "      <td>-1.56806</td>\n",
       "    </tr>\n",
       "    <tr>\n",
       "      <th>586246</th>\n",
       "      <td>Durham</td>\n",
       "      <td>Durham_District</td>\n",
       "      <td>54.7815</td>\n",
       "      <td>-1.51880</td>\n",
       "    </tr>\n",
       "    <tr>\n",
       "      <th>688113</th>\n",
       "      <td>Durham</td>\n",
       "      <td>City_of_Durham_(UK_Parliament_constituency)</td>\n",
       "      <td>54.7770</td>\n",
       "      <td>-1.55600</td>\n",
       "    </tr>\n",
       "    <tr>\n",
       "      <th>1086523</th>\n",
       "      <td>Durham</td>\n",
       "      <td>County_Durham</td>\n",
       "      <td>54.6667</td>\n",
       "      <td>-1.83333</td>\n",
       "    </tr>\n",
       "    <tr>\n",
       "      <th>1218216</th>\n",
       "      <td>Durham</td>\n",
       "      <td>Durham,_England</td>\n",
       "      <td>54.7761</td>\n",
       "      <td>-1.57330</td>\n",
       "    </tr>\n",
       "  </tbody>\n",
       "</table>\n",
       "</div>"
      ],
      "text/plain": [
       "        altname                                          pid      lat      lon\n",
       "355703   Durham   List_of_youth_hostels_in_England_and_Wales  54.7732 -1.57460\n",
       "360306   Durham           Durham_(Gilesgate)_railway_station  54.7787 -1.56300\n",
       "430265   Durham                             HM_Prison_Durham  54.7733 -1.56806\n",
       "586246   Durham                              Durham_District  54.7815 -1.51880\n",
       "688113   Durham  City_of_Durham_(UK_Parliament_constituency)  54.7770 -1.55600\n",
       "1086523  Durham                                County_Durham  54.6667 -1.83333\n",
       "1218216  Durham                              Durham,_England  54.7761 -1.57330"
      ]
     },
     "execution_count": 41,
     "metadata": {},
     "output_type": "execute_result"
    }
   ],
   "source": [
    "ukgaz[ukgaz.altname=='Durham']"
   ]
  },
  {
   "cell_type": "code",
   "execution_count": 42,
   "metadata": {},
   "outputs": [
    {
     "name": "stderr",
     "output_type": "stream",
     "text": [
      "/data/anaconda/envs/py37torch/lib/python3.7/site-packages/ipykernel_launcher.py:1: SettingWithCopyWarning: \n",
      "A value is trying to be set on a copy of a slice from a DataFrame.\n",
      "Try using .loc[row_indexer,col_indexer] = value instead\n",
      "\n",
      "See the caveats in the documentation: https://pandas.pydata.org/pandas-docs/stable/user_guide/indexing.html#returning-a-view-versus-a-copy\n",
      "  \"\"\"Entry point for launching an IPython kernel.\n",
      "/data/anaconda/envs/py37torch/lib/python3.7/site-packages/ipykernel_launcher.py:2: SettingWithCopyWarning: \n",
      "A value is trying to be set on a copy of a slice from a DataFrame.\n",
      "Try using .loc[row_indexer,col_indexer] = value instead\n",
      "\n",
      "See the caveats in the documentation: https://pandas.pydata.org/pandas-docs/stable/user_guide/indexing.html#returning-a-view-versus-a-copy\n",
      "  \n"
     ]
    }
   ],
   "source": [
    "ukgaz['name'] = ukgaz.altname.str.lower()\n",
    "ukgaz['pid_lower'] = ukgaz.pid.str.lower()"
   ]
  },
  {
   "cell_type": "code",
   "execution_count": null,
   "metadata": {},
   "outputs": [],
   "source": []
  },
  {
   "cell_type": "code",
   "execution_count": 164,
   "metadata": {},
   "outputs": [],
   "source": [
    "def create_coord_df(target_lab,contrast_labels,col='politics'):\n",
    "\n",
    "\n",
    "    target,contrast = [],[]\n",
    "\n",
    "    csv_path_out = Path(\"../csv_dump_out/\")\n",
    "    for p in csv_path_out.glob(\"**/*.csv\"):\n",
    "        year = int(p.stem.split(\"_\")[-1])\n",
    "        if not year in period: continue\n",
    "        \n",
    "        df = pd.read_csv(csv_path_out / f\"MPD_{year}.csv\")\n",
    "        df['in_jisc'] = df.jisc_id.apply(lambda x: 'in_jisc' if x else 'not_in_jisc')\n",
    "        target.extend(df[df[col]==target_lab][\"E-LOC\"])\n",
    "        contrast.extend(df[df[col].isin(contrast_labels)][\"E-LOC\"])\n",
    "        \n",
    "    target = [' '.join(l.split(\"<SEP>\")) for l in target if isinstance(l,str)]\n",
    "    contrast = [' '.join(l.split(\"<SEP>\")) for l in contrast if isinstance(l,str)]\n",
    "    \n",
    "    vectorizer = CountVectorizer(min_df=5,max_df=.9)\n",
    "    counts = vectorizer.fit_transform(target+contrast)\n",
    "    \n",
    "    z_scores = fightin_words(vectorizer,counts,range(len(target)))\n",
    "    places = return_topn(z_scores,100)\n",
    "    \n",
    "    results = []\n",
    "    #not_found = 0\n",
    "    for pl, score in places:\n",
    "        if score <= 0.0: continue\n",
    "        coords = get_coordinates(pl,ukgaz)\n",
    "        if coords:\n",
    "            results.append([pl,target_lab,score] + coords)\n",
    "        #else:\n",
    "        #    not_found+=1\n",
    "        \n",
    "    #not_found      \n",
    "    return pd.DataFrame(results,columns=[\"place\",\"target_lab\",\"score\",\"lat\",\"lon\"])"
   ]
  },
  {
   "cell_type": "code",
   "execution_count": 165,
   "metadata": {},
   "outputs": [],
   "source": [
    "from sklearn.feature_extraction.text import CountVectorizer \n",
    "\n",
    "def fightin_words(vectorizer, counts, target_indices,prior = 0.05):\n",
    "    \"\"\"\n",
    "    Implementation of the Monroe et al., 2008 feature selection algorithm.\n",
    "    \"\"\"\n",
    "    compl_indices = [i for i in range(counts.shape[0]) if i not in target_indices]\n",
    "    \n",
    "    index_to_term = {v: k for k, v in vectorizer.vocabulary_.items()}\n",
    "    vocab_size = len(vectorizer.vocabulary_)\n",
    "    \n",
    "    priors = np.array([prior for i in range(vocab_size)])\n",
    "    #z_scores = np.empty(priors.shape[0])\n",
    "    z_scores = {}\n",
    "    count_matrix = np.empty([2, vocab_size], dtype=np.float32)\n",
    "\n",
    "    count_matrix[0, :] = np.sum(counts[target_indices, :], axis=0)\n",
    "    count_matrix[1, :] = np.sum(counts[compl_indices, :], axis=0) # \n",
    "\n",
    "    a0 = np.sum(priors)\n",
    "\n",
    "    n1 = np.sum(count_matrix[0, :], dtype=np.float32)\n",
    "    n2 = np.sum(count_matrix[1, :], dtype=np.float32)\n",
    "\n",
    "    for i in range(vocab_size):\n",
    "        # Compute delta\n",
    "        term1 = np.log((count_matrix[0, i] + priors[i]) / (n1 + a0 - count_matrix[0, i] - priors[i]))\n",
    "        term2 = np.log((count_matrix[1, i] + priors[i]) / (n2 + a0 - count_matrix[1, i] - priors[i]))\n",
    "        delta = term1 - term2\n",
    "\n",
    "        # Compute variance and standardize the z-score\n",
    "        var = 1 / (count_matrix[0, i] + priors[i]) + 1 / (count_matrix[1, i] + priors[i])\n",
    "        z_scores[index_to_term[i]] = delta / np.sqrt(var)\n",
    "\n",
    "    return z_scores\n",
    "\n",
    "def print_topn(z_scores,topn=25):\n",
    "    \"\"\"\n",
    "    Print the most overrepreseent words.\n",
    "    \"\"\"\n",
    "    topn = sorted(z_scores.items(),key = lambda x: x[1],reverse=True)[:topn]\n",
    "    print('\\n'.join('{:7.2f}\\t{:15s}'.format(s,w) for w,s in topn))\n",
    "    \n",
    "def return_topn(z_scores,topn=25):\n",
    "    \"\"\"\n",
    "    Print the most overrepreseent words.\n",
    "    \"\"\"\n",
    "    return sorted(z_scores.items(),key = lambda x: x[1],reverse=True)[:topn]\n",
    "    "
   ]
  },
  {
   "cell_type": "code",
   "execution_count": 166,
   "metadata": {},
   "outputs": [
    {
     "data": {
      "text/plain": [
       "[54.7761, -1.5733]"
      ]
     },
     "execution_count": 166,
     "metadata": {},
     "output_type": "execute_result"
    }
   ],
   "source": [
    "def get_coordinates(name,gazetteer,ext=\",_england\"):\n",
    "    q1 = gazetteer[(gazetteer.name==name) & (gazetteer.pid_lower==name+ext)]\n",
    "   \n",
    "    if q1.shape[0] >= 1:\n",
    "        return list(q1[['lat','lon']].values[0])\n",
    "    \n",
    "    q2 = gazetteer[(gazetteer.name==name) & (gazetteer.pid_lower)]\n",
    "    if q2.shape[0] >= 1:\n",
    "        return list(q2[['lat','lon']].values[0])\n",
    "    return None\n",
    "\n",
    "get_coordinates('durham',ukgaz)"
   ]
  },
  {
   "cell_type": "code",
   "execution_count": 124,
   "metadata": {},
   "outputs": [],
   "source": [
    "df_lib = create_coord_df('liberal',['conservative','neutral'])\n",
    "df_con = create_coord_df('conservative',['liberal','neutral'])\n",
    "df = pd.concat([df_lib[:50],df_con[:50]])\n",
    "df.to_csv('/deezy_datadrive/kaspar-playground/other/politics.csv',index=False)"
   ]
  },
  {
   "cell_type": "code",
   "execution_count": 169,
   "metadata": {},
   "outputs": [],
   "source": [
    "df_jisc = create_coord_df('in_jisc',['not_in_jisc'],col='in_jisc')\n",
    "df_not_jisc = create_coord_df('not_in_jisc',['in_jisc'],col='in_jisc')\n",
    "df = pd.concat([df_jisc,df_not_jisc])\n",
    "df.to_csv('/deezy_datadrive/kaspar-playground/other/jisc_geo.csv',index=False)"
   ]
  },
  {
   "cell_type": "code",
   "execution_count": 123,
   "metadata": {},
   "outputs": [
    {
     "data": {
      "text/plain": [
       "(50, 5)"
      ]
     },
     "execution_count": 123,
     "metadata": {},
     "output_type": "execute_result"
    }
   ],
   "source": [
    "df_con[:50].shape"
   ]
  },
  {
   "cell_type": "markdown",
   "metadata": {},
   "source": [
    "## Text + Place"
   ]
  },
  {
   "cell_type": "code",
   "execution_count": null,
   "metadata": {},
   "outputs": [],
   "source": [
    "query_tokens = ['working classes','working class','working men',\n",
    "                'working-man','rights of labour',\n",
    "                'working people','working population',\n",
    "                'labouring classes']\n",
    "query_expr = r\"(?:{})\".format('|'.join(query_tokens))\n",
    "query_expr"
   ]
  },
  {
   "cell_type": "code",
   "execution_count": null,
   "metadata": {},
   "outputs": [],
   "source": [
    "import re\n",
    "pattern = re.compile(query_expr)\n",
    "is_hit = lambda x, pattern: 1 if pattern.findall(x) else 0"
   ]
  },
  {
   "cell_type": "code",
   "execution_count": 208,
   "metadata": {},
   "outputs": [
    {
     "data": {
      "application/vnd.jupyter.widget-view+json": {
       "model_id": "43aa643b72d7481c8a620f30d2d5d0af",
       "version_major": 2,
       "version_minor": 0
      },
      "text/plain": [
       "HBox(children=(FloatProgress(value=0.0, max=235.0), HTML(value='')))"
      ]
     },
     "metadata": {},
     "output_type": "display_data"
    },
    {
     "name": "stdout",
     "output_type": "stream",
     "text": [
      "\n"
     ]
    }
   ],
   "source": [
    "def create_coord_by_text_df(target_label,contrast_label,pattern):\n",
    "\n",
    "    \n",
    "    target,contrast = [],[]\n",
    "\n",
    "    csv_path_out = Path(\"../csv_dump_out/\")\n",
    "    \n",
    "    for p in csv_path_out.glob(\"**/*.csv\"):\n",
    "        year = int(p.stem.split(\"_\")[-1])\n",
    "        if not year in period: continue\n",
    "        \n",
    "        df = pd.read_csv(csv_path_out / f\"MPD_{year}.csv\")\n",
    "        df['in_jisc'] = df.jisc_id.apply(lambda x: 'in_jisc' if x else 'not_in_jisc')\n",
    "        df['hits'] = df.TEXT.str.lower().apply(is_hit,pattern=pattern)\n",
    "    \n",
    "        target.extend(df[(df.hits==1) & (df.politics==target_label)][\"E-LOC\"])\n",
    "        contrast.extend(df[(df.hits==1)  & (df.politics==contrast_label)][\"E-LOC\"])\n",
    "        \n",
    "    target = [(target_label,p) for l in target for p in str(l).lower().split(\"<sep>\")  if isinstance(l,str)]\n",
    "    contrast = [(contrast_label,p) for l in contrast for p in str(l).lower().split(\"<sep>\")  if isinstance(l,str)]\n",
    "    \n",
    "    places = Counter(target) + Counter(contrast)\n",
    "    results = []\n",
    "    for (lab, pl), count in tqdm(places.items()):\n",
    "        \n",
    "        coords = get_coordinates(pl,ukgaz)\n",
    "        #print(pl)\n",
    "        if coords:\n",
    "            #print(pl)\n",
    "            results.append([lab,pl,count] + coords)\n",
    "    #return results\n",
    "    return pd.DataFrame(results,columns=[\"target_lab\",\"place\",'count',\"lat\",\"lon\"])\n",
    "\n",
    "df = create_coord_by_text_df('liberal','conservative',pattern)"
   ]
  },
  {
   "cell_type": "code",
   "execution_count": 209,
   "metadata": {},
   "outputs": [
    {
     "data": {
      "text/html": [
       "<div>\n",
       "<style scoped>\n",
       "    .dataframe tbody tr th:only-of-type {\n",
       "        vertical-align: middle;\n",
       "    }\n",
       "\n",
       "    .dataframe tbody tr th {\n",
       "        vertical-align: top;\n",
       "    }\n",
       "\n",
       "    .dataframe thead th {\n",
       "        text-align: right;\n",
       "    }\n",
       "</style>\n",
       "<table border=\"1\" class=\"dataframe\">\n",
       "  <thead>\n",
       "    <tr style=\"text-align: right;\">\n",
       "      <th></th>\n",
       "      <th>target_lab</th>\n",
       "      <th>place</th>\n",
       "      <th>count</th>\n",
       "      <th>lat</th>\n",
       "      <th>lon</th>\n",
       "    </tr>\n",
       "  </thead>\n",
       "  <tbody>\n",
       "    <tr>\n",
       "      <th>0</th>\n",
       "      <td>liberal</td>\n",
       "      <td>worcestershire</td>\n",
       "      <td>7</td>\n",
       "      <td>52.2000</td>\n",
       "      <td>-2.16667</td>\n",
       "    </tr>\n",
       "    <tr>\n",
       "      <th>1</th>\n",
       "      <td>liberal</td>\n",
       "      <td>staffordshire</td>\n",
       "      <td>8</td>\n",
       "      <td>52.8333</td>\n",
       "      <td>-2.00000</td>\n",
       "    </tr>\n",
       "    <tr>\n",
       "      <th>2</th>\n",
       "      <td>liberal</td>\n",
       "      <td>salop</td>\n",
       "      <td>6</td>\n",
       "      <td>52.6167</td>\n",
       "      <td>-2.71667</td>\n",
       "    </tr>\n",
       "    <tr>\n",
       "      <th>3</th>\n",
       "      <td>liberal</td>\n",
       "      <td>congleton</td>\n",
       "      <td>20</td>\n",
       "      <td>53.1620</td>\n",
       "      <td>-2.21700</td>\n",
       "    </tr>\n",
       "    <tr>\n",
       "      <th>4</th>\n",
       "      <td>liberal</td>\n",
       "      <td>macclesfield</td>\n",
       "      <td>19</td>\n",
       "      <td>53.2639</td>\n",
       "      <td>-2.12415</td>\n",
       "    </tr>\n",
       "  </tbody>\n",
       "</table>\n",
       "</div>"
      ],
      "text/plain": [
       "  target_lab           place  count      lat      lon\n",
       "0    liberal  worcestershire      7  52.2000 -2.16667\n",
       "1    liberal   staffordshire      8  52.8333 -2.00000\n",
       "2    liberal           salop      6  52.6167 -2.71667\n",
       "3    liberal       congleton     20  53.1620 -2.21700\n",
       "4    liberal    macclesfield     19  53.2639 -2.12415"
      ]
     },
     "execution_count": 209,
     "metadata": {},
     "output_type": "execute_result"
    }
   ],
   "source": [
    "df.head()"
   ]
  },
  {
   "cell_type": "code",
   "execution_count": 210,
   "metadata": {},
   "outputs": [],
   "source": [
    "df.to_csv('/deezy_datadrive/kaspar-playground/other/working_class_geo.csv',index=False)"
   ]
  },
  {
   "cell_type": "markdown",
   "metadata": {},
   "source": [
    "### Fin."
   ]
  },
  {
   "cell_type": "code",
   "execution_count": null,
   "metadata": {},
   "outputs": [],
   "source": []
  }
 ],
 "metadata": {
  "kernelspec": {
   "display_name": "Python 3",
   "language": "python",
   "name": "python3"
  },
  "language_info": {
   "codemirror_mode": {
    "name": "ipython",
    "version": 3
   },
   "file_extension": ".py",
   "mimetype": "text/x-python",
   "name": "python",
   "nbconvert_exporter": "python",
   "pygments_lexer": "ipython3",
   "version": "3.7.5"
  }
 },
 "nbformat": 4,
 "nbformat_minor": 2
}