{
 "cells": [
  {
   "cell_type": "code",
   "execution_count": 1,
   "metadata": {},
   "outputs": [],
   "source": [
    "%load_ext autoreload"
   ]
  },
  {
   "cell_type": "code",
   "execution_count": 2,
   "metadata": {},
   "outputs": [],
   "source": [
    "%autoreload 2"
   ]
  },
  {
   "cell_type": "code",
   "execution_count": 3,
   "metadata": {},
   "outputs": [
    {
     "output_type": "stream",
     "name": "stderr",
     "text": [
      "/data/anaconda/envs/py37torch/lib/python3.7/site-packages/tensorflow/python/framework/dtypes.py:526: FutureWarning: Passing (type, 1) or '1type' as a synonym of type is deprecated; in a future version of numpy, it will be understood as (type, (1,)) / '(1,)type'.\n  _np_qint8 = np.dtype([(\"qint8\", np.int8, 1)])\n/data/anaconda/envs/py37torch/lib/python3.7/site-packages/tensorflow/python/framework/dtypes.py:527: FutureWarning: Passing (type, 1) or '1type' as a synonym of type is deprecated; in a future version of numpy, it will be understood as (type, (1,)) / '(1,)type'.\n  _np_quint8 = np.dtype([(\"quint8\", np.uint8, 1)])\n/data/anaconda/envs/py37torch/lib/python3.7/site-packages/tensorflow/python/framework/dtypes.py:528: FutureWarning: Passing (type, 1) or '1type' as a synonym of type is deprecated; in a future version of numpy, it will be understood as (type, (1,)) / '(1,)type'.\n  _np_qint16 = np.dtype([(\"qint16\", np.int16, 1)])\n/data/anaconda/envs/py37torch/lib/python3.7/site-packages/tensorflow/python/framework/dtypes.py:529: FutureWarning: Passing (type, 1) or '1type' as a synonym of type is deprecated; in a future version of numpy, it will be understood as (type, (1,)) / '(1,)type'.\n  _np_quint16 = np.dtype([(\"quint16\", np.uint16, 1)])\n/data/anaconda/envs/py37torch/lib/python3.7/site-packages/tensorflow/python/framework/dtypes.py:530: FutureWarning: Passing (type, 1) or '1type' as a synonym of type is deprecated; in a future version of numpy, it will be understood as (type, (1,)) / '(1,)type'.\n  _np_qint32 = np.dtype([(\"qint32\", np.int32, 1)])\n/data/anaconda/envs/py37torch/lib/python3.7/site-packages/tensorflow/python/framework/dtypes.py:535: FutureWarning: Passing (type, 1) or '1type' as a synonym of type is deprecated; in a future version of numpy, it will be understood as (type, (1,)) / '(1,)type'.\n  np_resource = np.dtype([(\"resource\", np.ubyte, 1)])\n"
     ]
    }
   ],
   "source": [
    "from tools.collection_tools import Collection\n",
    "from pathlib import Path\n",
    "import pandas as pd\n",
    "import pickle\n",
    "from tools.annotation_env import AnnotationEnv\n",
    "from tools.helpers import range_to_pagenumbers\n",
    "#from tools.document_tools import TXTProcessor, WebAnnoProcessor\n",
    "from tools.book_tools import NPD, Book"
   ]
  },
  {
   "cell_type": "markdown",
   "metadata": {},
   "source": [
    "## Process corpus"
   ]
  },
  {
   "cell_type": "code",
   "execution_count": 4,
   "metadata": {},
   "outputs": [],
   "source": [
    "ROOT = Path(\"/deezy_datadrive/kaspar-playground/npd/\")\n",
    "DATA = ROOT / 'Data'\n",
    "IN_PATH = DATA / \"Original\"\n",
    "OUT_PATH = DATA /  \"Processed\"\n",
    "MODELS_PATH = ROOT / 'Models'"
   ]
  },
  {
   "cell_type": "code",
   "execution_count": 5,
   "metadata": {},
   "outputs": [],
   "source": [
    "editions_all = pickle.load(open('../editions_all.pickle','rb'))"
   ]
  },
  {
   "cell_type": "code",
   "execution_count": 6,
   "metadata": {},
   "outputs": [],
   "source": [
    "selected_years = [int(p.name.split(\"_\")[1]) for p in list(IN_PATH.glob('MPD_*'))]\n",
    "selected_years = [1846,1847,1851,1856,1858,\n",
    "                  1860,1863,1865,1868,1870,\n",
    "                  1873,1875,1878,1880,1883,\n",
    "                  1885,1888,1890,1893,1895,\n",
    "                  1898,1900,1903,1905,1908,\n",
    "                  1910,1913,1915,1918,1920\n",
    "                 ]\n",
    "\n",
    "#selected_years = [1846,1910]\n",
    "editions = {y:editions_all[y] for y in selected_years}"
   ]
  },
  {
   "cell_type": "code",
   "execution_count": 7,
   "metadata": {},
   "outputs": [],
   "source": [
    "editions = range_to_pagenumbers(editions)"
   ]
  },
  {
   "cell_type": "code",
   "execution_count": 8,
   "metadata": {},
   "outputs": [
    {
     "output_type": "execute_result",
     "data": {
      "text/plain": [
       "dict_keys([1846, 1847, 1851, 1856, 1858, 1860, 1863, 1865, 1868, 1870, 1873, 1875, 1878, 1880, 1883, 1885, 1888, 1890, 1893, 1895, 1898, 1900, 1903, 1905, 1908, 1910, 1913, 1915, 1918, 1920])"
      ]
     },
     "metadata": {},
     "execution_count": 8
    }
   ],
   "source": [
    "editions.keys()"
   ]
  },
  {
   "cell_type": "code",
   "execution_count": 9,
   "metadata": {},
   "outputs": [],
   "source": [
    "#g=editions.pop(1855)"
   ]
  },
  {
   "cell_type": "markdown",
   "metadata": {},
   "source": [
    "## Export Content for a specific year"
   ]
  },
  {
   "cell_type": "code",
   "execution_count": 17,
   "metadata": {},
   "outputs": [],
   "source": [
    "year = 1875\n",
    "#print(editions[year][:10])"
   ]
  },
  {
   "cell_type": "code",
   "execution_count": 20,
   "metadata": {},
   "outputs": [
    {
     "name": "stdout",
     "output_type": "stream",
     "text": [
      "__________________________________________________\n",
      "\n",
      "MPD_1875\n",
      "to_annotate_lemmas 30\n",
      "annotated_lemmas 15\n",
      "to_annotate_structure 21\n",
      "annotated_structure 12\n",
      "lemmas_raw 1596\n",
      "structure_raw 203155\n"
     ]
    }
   ],
   "source": [
    "npd = NPD(year,IN_PATH,OUT_PATH,\n",
    "          editions[year],\n",
    "          verbosity=1)"
   ]
  },
  {
   "cell_type": "code",
   "execution_count": 21,
   "metadata": {},
   "outputs": [],
   "source": [
    "npd.to_csv()"
   ]
  },
  {
   "cell_type": "markdown",
   "metadata": {},
   "source": [
    "## Export Content at the Collection level"
   ]
  },
  {
   "cell_type": "code",
   "execution_count": 28,
   "metadata": {},
   "outputs": [],
   "source": [
    "#selected_years = [int(p.name.split(\"_\")[1]) for p in list(IN_PATH.glob('MPD_*'))]\n",
    "#editions = {y:editions_all[y] for y in selected_years}"
   ]
  },
  {
   "cell_type": "code",
   "execution_count": 10,
   "metadata": {},
   "outputs": [
    {
     "output_type": "stream",
     "name": "stdout",
     "text": [
      "__________________________________________________\n",
      "\n",
      "MPD_1846\n",
      "to_annotate_lemmas 25\n",
      "annotated_lemmas 23\n",
      "to_annotate_structure 12\n",
      "annotated_structure 12\n",
      "lemmas_raw 539\n",
      "structure_raw 106907\n",
      "__________________________________________________\n",
      "\n",
      "MPD_1847\n",
      "to_annotate_lemmas 0\n",
      "annotated_lemmas 0\n",
      "to_annotate_structure 0\n",
      "annotated_structure 0\n",
      "lemmas_raw 547\n",
      "structure_raw 117705\n",
      "__________________________________________________\n",
      "\n",
      "MPD_1851\n",
      "to_annotate_lemmas 24\n",
      "annotated_lemmas 23\n",
      "to_annotate_structure 12\n",
      "annotated_structure 12\n",
      "lemmas_raw 567\n",
      "structure_raw 122554\n",
      "__________________________________________________\n",
      "\n",
      "MPD_1856\n",
      "to_annotate_lemmas 26\n",
      "annotated_lemmas 15\n",
      "to_annotate_structure 12\n",
      "annotated_structure 12\n",
      "lemmas_raw 819\n",
      "structure_raw 136545\n",
      "__________________________________________________\n",
      "\n",
      "MPD_1858\n",
      "to_annotate_lemmas 0\n",
      "annotated_lemmas 0\n",
      "to_annotate_structure 0\n",
      "annotated_structure 0\n",
      "lemmas_raw 863\n",
      "structure_raw 145373\n",
      "__________________________________________________\n",
      "\n",
      "MPD_1860\n",
      "to_annotate_lemmas 29\n",
      "annotated_lemmas 28\n",
      "to_annotate_structure 12\n",
      "annotated_structure 12\n",
      "lemmas_raw 1014\n",
      "structure_raw 153706\n",
      "__________________________________________________\n",
      "\n",
      "MPD_1863\n",
      "to_annotate_lemmas 0\n",
      "annotated_lemmas 0\n",
      "to_annotate_structure 0\n",
      "annotated_structure 0\n",
      "lemmas_raw 1168\n",
      "structure_raw 171365\n",
      "__________________________________________________\n",
      "\n",
      "MPD_1865\n",
      "to_annotate_lemmas 29\n",
      "annotated_lemmas 15\n",
      "to_annotate_structure 12\n",
      "annotated_structure 12\n",
      "lemmas_raw 1238\n",
      "structure_raw 176680\n",
      "__________________________________________________\n",
      "\n",
      "MPD_1868\n",
      "to_annotate_lemmas 0\n",
      "annotated_lemmas 0\n",
      "to_annotate_structure 0\n",
      "annotated_structure 0\n",
      "lemmas_raw 1321\n",
      "structure_raw 183616\n",
      "__________________________________________________\n",
      "\n",
      "MPD_1870\n",
      "to_annotate_lemmas 30\n",
      "annotated_lemmas 30\n",
      "to_annotate_structure 12\n",
      "annotated_structure 12\n",
      "lemmas_raw 1340\n",
      "structure_raw 183490\n",
      "__________________________________________________\n",
      "\n",
      "MPD_1873\n",
      "to_annotate_lemmas 0\n",
      "annotated_lemmas 0\n",
      "to_annotate_structure 0\n",
      "annotated_structure 0\n",
      "lemmas_raw 1497\n",
      "structure_raw 194858\n",
      "__________________________________________________\n",
      "\n",
      "MPD_1875\n",
      "to_annotate_lemmas 30\n",
      "annotated_lemmas 15\n",
      "to_annotate_structure 21\n",
      "annotated_structure 12\n",
      "lemmas_raw 1584\n",
      "structure_raw 203155\n",
      "__________________________________________________\n",
      "\n",
      "MPD_1878\n",
      "to_annotate_lemmas 0\n",
      "annotated_lemmas 0\n",
      "to_annotate_structure 0\n",
      "annotated_structure 0\n",
      "lemmas_raw 1708\n",
      "structure_raw 213371\n",
      "__________________________________________________\n",
      "\n",
      "MPD_1880\n",
      "to_annotate_lemmas 29\n",
      "annotated_lemmas 29\n",
      "to_annotate_structure 12\n",
      "annotated_structure 12\n",
      "lemmas_raw 1805\n",
      "structure_raw 223452\n",
      "__________________________________________________\n",
      "\n",
      "MPD_1883\n",
      "to_annotate_lemmas 0\n",
      "annotated_lemmas 0\n",
      "to_annotate_structure 0\n",
      "annotated_structure 0\n",
      "lemmas_raw 1951\n",
      "structure_raw 236663\n",
      "__________________________________________________\n",
      "\n",
      "MPD_1885\n",
      "to_annotate_lemmas 26\n",
      "annotated_lemmas 15\n",
      "to_annotate_structure 12\n",
      "annotated_structure 11\n",
      "lemmas_raw 2040\n",
      "structure_raw 245044\n",
      "__________________________________________________\n",
      "\n",
      "MPD_1888\n",
      "to_annotate_lemmas 0\n",
      "annotated_lemmas 0\n",
      "to_annotate_structure 0\n",
      "annotated_structure 0\n",
      "lemmas_raw 2213\n",
      "structure_raw 255548\n",
      "__________________________________________________\n",
      "\n",
      "MPD_1890\n",
      "to_annotate_lemmas 29\n",
      "annotated_lemmas 24\n",
      "to_annotate_structure 12\n",
      "annotated_structure 10\n",
      "lemmas_raw 2211\n",
      "structure_raw 254814\n",
      "__________________________________________________\n",
      "\n",
      "MPD_1893\n",
      "to_annotate_lemmas 0\n",
      "annotated_lemmas 0\n",
      "to_annotate_structure 0\n",
      "annotated_structure 0\n",
      "lemmas_raw 2302\n",
      "structure_raw 264700\n",
      "__________________________________________________\n",
      "\n",
      "MPD_1895\n",
      "to_annotate_lemmas 30\n",
      "annotated_lemmas 15\n",
      "to_annotate_structure 12\n",
      "annotated_structure 9\n",
      "lemmas_raw 2328\n",
      "structure_raw 264186\n",
      "__________________________________________________\n",
      "\n",
      "MPD_1898\n",
      "to_annotate_lemmas 0\n",
      "annotated_lemmas 0\n",
      "to_annotate_structure 0\n",
      "annotated_structure 0\n",
      "lemmas_raw 2448\n",
      "structure_raw 273748\n",
      "__________________________________________________\n",
      "\n",
      "MPD_1900\n",
      "to_annotate_lemmas 29\n",
      "annotated_lemmas 29\n",
      "to_annotate_structure 12\n",
      "annotated_structure 11\n",
      "lemmas_raw 2516\n",
      "structure_raw 276400\n",
      "__________________________________________________\n",
      "\n",
      "MPD_1903\n",
      "to_annotate_lemmas 0\n",
      "annotated_lemmas 0\n",
      "to_annotate_structure 0\n",
      "annotated_structure 0\n",
      "lemmas_raw 2470\n",
      "structure_raw 272023\n",
      "__________________________________________________\n",
      "\n",
      "MPD_1905\n",
      "to_annotate_lemmas 27\n",
      "annotated_lemmas 10\n",
      "to_annotate_structure 12\n",
      "annotated_structure 12\n",
      "lemmas_raw 2520\n",
      "structure_raw 275548\n",
      "__________________________________________________\n",
      "\n",
      "MPD_1908\n",
      "to_annotate_lemmas 0\n",
      "annotated_lemmas 0\n",
      "to_annotate_structure 0\n",
      "annotated_structure 0\n",
      "lemmas_raw 2280\n",
      "structure_raw 233375\n",
      "__________________________________________________\n",
      "\n",
      "MPD_1910\n",
      "to_annotate_lemmas 30\n",
      "annotated_lemmas 29\n",
      "to_annotate_structure 11\n",
      "annotated_structure 9\n",
      "lemmas_raw 2325\n",
      "structure_raw 227409\n",
      "__________________________________________________\n",
      "\n",
      "MPD_1913\n",
      "to_annotate_lemmas 0\n",
      "annotated_lemmas 0\n",
      "to_annotate_structure 0\n",
      "annotated_structure 0\n",
      "lemmas_raw 2376\n",
      "structure_raw 231424\n",
      "__________________________________________________\n",
      "\n",
      "MPD_1915\n",
      "to_annotate_lemmas 30\n",
      "annotated_lemmas 15\n",
      "to_annotate_structure 12\n",
      "annotated_structure 11\n",
      "lemmas_raw 2393\n",
      "structure_raw 240543\n",
      "__________________________________________________\n",
      "\n",
      "MPD_1918\n",
      "to_annotate_lemmas 0\n",
      "annotated_lemmas 0\n",
      "to_annotate_structure 0\n",
      "annotated_structure 0\n",
      "lemmas_raw 2352\n",
      "structure_raw 240953\n",
      "__________________________________________________\n",
      "\n",
      "MPD_1920\n",
      "to_annotate_lemmas 30\n",
      "annotated_lemmas 30\n",
      "to_annotate_structure 12\n",
      "annotated_structure 12\n",
      "lemmas_raw 2259\n",
      "structure_raw 234158\n"
     ]
    }
   ],
   "source": [
    "collection = Collection(editions,IN_PATH,OUT_PATH)\n",
    "collection.to_csv()"
   ]
  },
  {
   "cell_type": "code",
   "execution_count": null,
   "metadata": {},
   "outputs": [],
   "source": [
    "collection.to_excel()"
   ]
  },
  {
   "cell_type": "markdown",
   "metadata": {},
   "source": [
    "## Inspect CSV output"
   ]
  },
  {
   "cell_type": "code",
   "execution_count": null,
   "metadata": {},
   "outputs": [],
   "source": [
    "editions.keys()"
   ]
  },
  {
   "cell_type": "code",
   "execution_count": null,
   "metadata": {},
   "outputs": [],
   "source": [
    "year = 1856\n",
    "path = f\"/deezy_datadrive/kaspar-playground/npd/Data/Processed/MPD_{year}/MPD_{year}_0.csv\""
   ]
  },
  {
   "cell_type": "code",
   "execution_count": null,
   "metadata": {},
   "outputs": [],
   "source": [
    "df = pd.read_csv(path,index_col=0)\n",
    "df.head(50)"
   ]
  },
  {
   "cell_type": "code",
   "execution_count": null,
   "metadata": {},
   "outputs": [],
   "source": [
    "df.shape"
   ]
  },
  {
   "cell_type": "markdown",
   "metadata": {},
   "source": [
    "## Copy CSV output"
   ]
  },
  {
   "cell_type": "code",
   "execution_count": 40,
   "metadata": {},
   "outputs": [],
   "source": [
    "!cp /deezy_datadrive/kaspar-playground/npd/Data/Processed/MPD_*/*.csv ../csv_dump/"
   ]
  },
  {
   "cell_type": "code",
   "execution_count": 12,
   "metadata": {},
   "outputs": [],
   "source": [
    "!cp /deezy_datadrive/kaspar-playground/npd/Data/Processed/MPD_*/*.csv ./csv_dump/"
   ]
  },
  {
   "cell_type": "code",
   "execution_count": 13,
   "metadata": {},
   "outputs": [
    {
     "output_type": "stream",
     "name": "stdout",
     "text": [
      "total 90952\ndrwxrwxrwx  2 kbeelen   kbeelen      4096 Feb 27 11:16 .\ndrwxrwxrwx 11 kbeelen   kbeelen      4096 Mar 19 17:21 ..\n-rwxrwxrwx  1 khosseini khosseini  702186 Mar 19 17:35 MPD_1846.csv\n-rwxrwxrwx  1 khosseini khosseini  794359 Mar 19 17:35 MPD_1847.csv\n-rwxrwxrwx  1 khosseini khosseini  800092 Mar 19 17:35 MPD_1851.csv\n-rwxrwxrwx  1 kbeelen   kbeelen    266884 Nov 18 18:25 MPD_1855.csv\n-rwxrwxrwx  1 kbeelen   kbeelen   1022494 Mar 19 17:35 MPD_1856.csv\n-rwxrwxrwx  1 kbeelen   kbeelen    631293 Mar 19 17:35 MPD_1857.csv\n-rwxrwxrwx  1 kbeelen   kbeelen   1097503 Mar 19 17:35 MPD_1858.csv\n-rwxrwxrwx  1 kbeelen   kbeelen   1228235 Mar 19 17:35 MPD_1860.csv\n-rwxrwxrwx  1 kbeelen   kbeelen    805581 Mar 19 17:35 MPD_1861.csv\n-rwxrwxrwx  1 khosseini khosseini  867011 Mar 19 17:35 MPD_1862.csv\n-rwxrwxrwx  1 khosseini khosseini 1333848 Mar 19 17:35 MPD_1863.csv\n-rwxrwxrwx  1 khosseini khosseini  869929 Mar 19 17:35 MPD_1864.csv\n-rwxrwxrwx  1 kbeelen   kbeelen   1371571 Mar 19 17:35 MPD_1865.csv\n-rwxrwxrwx  1 kbeelen   kbeelen    853971 Mar 19 17:35 MPD_1866.csv\n-rwxrwxrwx  1 kbeelen   kbeelen    859580 Mar 19 17:35 MPD_1867.csv\n-rwxrwxrwx  1 kbeelen   kbeelen   1406761 Mar 19 17:35 MPD_1868.csv\n-rwxrwxrwx  1 kbeelen   kbeelen    924730 Mar 19 17:35 MPD_1869.csv\n-rwxrwxrwx  1 kbeelen   kbeelen   1433757 Mar 19 17:35 MPD_1870.csv\n-rwxrwxrwx  1 kbeelen   kbeelen    939050 Mar 19 17:35 MPD_1871.csv\n-rwxrwxrwx  1 khosseini khosseini  957484 Mar 19 17:35 MPD_1872.csv\n-rwxrwxrwx  1 kbeelen   kbeelen   1536793 Mar 19 17:35 MPD_1873.csv\n-rwxrwxrwx  1 khosseini khosseini  990248 Mar 19 17:35 MPD_1874.csv\n-rwxrwxrwx  1 kbeelen   kbeelen   1650686 Mar 19 17:35 MPD_1875.csv\n-rwxrwxrwx  1 kbeelen   kbeelen   1049948 Mar 19 17:35 MPD_1877.csv\n-rwxrwxrwx  1 kbeelen   kbeelen   1697814 Mar 19 17:35 MPD_1878.csv\n-rwxrwxrwx  1 khosseini khosseini 1107773 Mar 19 17:35 MPD_1879.csv\n-rwxrwxrwx  1 kbeelen   kbeelen   1813378 Mar 19 17:35 MPD_1880.csv\n-rwxrwxrwx  1 khosseini khosseini 1199935 Mar 19 17:35 MPD_1881.csv\n-rwxrwxrwx  1 kbeelen   kbeelen   1216821 Mar 19 17:35 MPD_1882.csv\n-rwxrwxrwx  1 khosseini khosseini 1971343 Mar 19 17:35 MPD_1883.csv\n-rwxrwxrwx  1 khosseini khosseini 1274853 Mar 19 17:35 MPD_1884.csv\n-rwxrwxrwx  1 kbeelen   kbeelen   2106299 Mar 19 17:35 MPD_1885.csv\n-rwxrwxrwx  1 kbeelen   kbeelen   1348066 Mar 19 17:35 MPD_1886.csv\n-rwxrwxrwx  1 khosseini khosseini 2213175 Mar 19 17:35 MPD_1888.csv\n-rwxrwxrwx  1 kbeelen   kbeelen   1354928 Mar 19 17:35 MPD_1889.csv\n-rwxrwxrwx  1 khosseini khosseini 2243054 Mar 19 17:35 MPD_1890.csv\n-rwxrwxrwx  1 kbeelen   kbeelen   1436278 Mar 19 17:35 MPD_1891.csv\n-rwxrwxrwx  1 kbeelen   kbeelen   2285612 Mar 19 17:35 MPD_1893.csv\n-rwxrwxrwx  1 khosseini khosseini 1400337 Mar 19 17:35 MPD_1894.csv\n-rwxrwxrwx  1 kbeelen   kbeelen   2283096 Mar 19 17:35 MPD_1895.csv\n-rwxrwxrwx  1 khosseini khosseini 1152707 Mar 19 17:35 MPD_1896.csv\n-rwxrwxrwx  1 khosseini khosseini 1475912 Mar 19 17:35 MPD_1897.csv\n-rwxrwxrwx  1 khosseini khosseini 2335426 Mar 19 17:35 MPD_1898.csv\n-rwxrwxrwx  1 khosseini khosseini 1461818 Mar 19 17:35 MPD_1899.csv\n-rwxrwxrwx  1 khosseini khosseini 2438332 Mar 19 17:35 MPD_1900.csv\n-rwxrwxrwx  1 khosseini khosseini 1484422 Mar 19 17:35 MPD_1901.csv\n-rwxrwxrwx  1 khosseini khosseini 1461395 Mar 19 17:35 MPD_1902.csv\n-rwxrwxrwx  1 khosseini khosseini 2355528 Mar 19 17:35 MPD_1903.csv\n-rwxrwxrwx  1 khosseini khosseini 1397169 Mar 19 17:35 MPD_1904.csv\n-rwxrwxrwx  1 khosseini khosseini 2379357 Mar 19 17:35 MPD_1905.csv\n-rwxrwxrwx  1 khosseini khosseini 1421959 Mar 19 17:35 MPD_1906.csv\n-rwxrwxrwx  1 khosseini khosseini 1269697 Mar 19 17:35 MPD_1907.csv\n-rwxrwxrwx  1 khosseini khosseini 2033945 Mar 19 17:35 MPD_1908.csv\n-rwxrwxrwx  1 khosseini khosseini 1239563 Mar 19 17:35 MPD_1909.csv\n-rwxrwxrwx  1 khosseini khosseini 2005976 Mar 19 17:35 MPD_1910.csv\n-rwxrwxrwx  1 khosseini khosseini 1212704 Mar 19 17:35 MPD_1911.csv\n-rwxrwxrwx  1 khosseini khosseini 1220543 Mar 19 17:35 MPD_1912.csv\n-rwxrwxrwx  1 khosseini khosseini 2066582 Mar 19 17:35 MPD_1913.csv\n-rwxrwxrwx  1 khosseini khosseini 1223280 Mar 19 17:35 MPD_1914.csv\n-rwxrwxrwx  1 khosseini khosseini 2096781 Mar 19 17:35 MPD_1915.csv\n-rwxrwxrwx  1 khosseini khosseini 1287513 Mar 19 17:35 MPD_1916.csv\n-rwxrwxrwx  1 khosseini khosseini 1269932 Mar 19 17:35 MPD_1917.csv\n-rwxrwxrwx  1 khosseini khosseini 2067256 Mar 19 17:35 MPD_1918.csv\n-rwxrwxrwx  1 khosseini khosseini 1253529 Mar 19 17:35 MPD_1919.csv\n-rwxrwxrwx  1 khosseini khosseini 2038146 Mar 19 17:35 MPD_1920.csv\n"
     ]
    }
   ],
   "source": [
    "!ls -la ./csv_dump/"
   ]
  },
  {
   "cell_type": "code",
   "execution_count": 60,
   "metadata": {},
   "outputs": [],
   "source": [
    "#!ls -la ../csv_dump/"
   ]
  },
  {
   "cell_type": "code",
   "execution_count": null,
   "metadata": {},
   "outputs": [],
   "source": [
    "!cp /deezy_datadrive/kaspar-playground/npd/Data/Processed/MPD_*/*.xlsx ../excel_dump/"
   ]
  },
  {
   "cell_type": "markdown",
   "metadata": {},
   "source": [
    "# Debug"
   ]
  },
  {
   "cell_type": "code",
   "execution_count": 16,
   "metadata": {},
   "outputs": [
    {
     "name": "stdout",
     "output_type": "stream",
     "text": [
      "__________________________________________________\n",
      "\n",
      "MPD_1875\n",
      "to_annotate_lemmas 30\n",
      "annotated_lemmas 15\n",
      "to_annotate_structure 21\n",
      "annotated_structure 8\n",
      "lemmas_raw 1554\n",
      "structure_raw 184281\n"
     ]
    }
   ],
   "source": [
    "npd = NPD(year,IN_PATH,OUT_PATH,\n",
    "          editions[year],\n",
    "          verbosity=1)\n",
    "\n",
    "\n",
    "content = npd.load_pickle()"
   ]
  },
  {
   "cell_type": "code",
   "execution_count": 61,
   "metadata": {},
   "outputs": [
    {
     "name": "stdout",
     "output_type": "stream",
     "text": [
      "1554\n",
      "1599\n"
     ]
    }
   ],
   "source": [
    "from collections import defaultdict\n",
    "#items = [parse_entry_test(district,idx,[(t.text,t.get_tag(\"lemmas\").value) for t in entry])\n",
    "#                        for district, entries in content.items() for idx,entry in entries]\n",
    "\n",
    "\n",
    "items_nested = [parse_entry(district,idx,[(t.text,t.get_tag(\"lemmas\").value) for t in entry])\n",
    "                        for district, entries in content.items() for idx,entry in entries]\n",
    "print(len(items_nested))\n",
    "items = [item for items in items_nested for item in items]\n",
    "print(len(items))"
   ]
  },
  {
   "cell_type": "code",
   "execution_count": 33,
   "metadata": {},
   "outputs": [],
   "source": [
    "#items[3]"
   ]
  },
  {
   "cell_type": "code",
   "execution_count": 59,
   "metadata": {},
   "outputs": [
    {
     "data": {
      "text/plain": [
       "[defaultdict(str,\n",
       "             {'id': 'MPD_1875_3',\n",
       "              'S-TITLE': 'DAILY<CON>TELEGRAPH<CON>.',\n",
       "              'D-PUB': 'Daily',\n",
       "              'S-PRICE': '14d',\n",
       "              'D-EST': 'June<CON>29<CON>,<CON>1855',\n",
       "              'S-POL': 'Liberal',\n",
       "              'E-PER': 'Joseph<CON>Ellis',\n",
       "              'E-LOC': '135<CON>,<CON>Fleet<CON>Strest<CON>E',\n",
       "              'TEXT': 'DAILY TELEGRAPH . Daily , 14d . Established I June 29 , 1855 . Principles : Liberal . The Daily Telegraph , a morning journal which , while thoroughly devoted to the large interests of the Liberal cause , has not unfrequently taken an indepen - dent course on the merits of particular questions . Over and above its recognised political position as the popular exponent of Liberal views , it has acquired an unequalled celebrity through the promptitude , the fulness , and the variety of its telegraphic advices ; the enterprise which its conductors have shown when events of great national or international interest deomanded early and ample description ; and the novelty and irteshness of the social articles , which are a constant feature of the paper , both in its leading columns and elsewhere . The popularity and influence of the Daily Telegraph are alike very great ; and it has for a number of years claimed the enjoyment of the largest daily circulation in the world . Published by Joseph Ellis , 135 , Fleet Strest , E . C .'}),\n",
       " defaultdict(str,\n",
       "             {'id': 'MPD_1875_3_1',\n",
       "              'S-TITLE': 'FINANCIER',\n",
       "              'S-PRICE': '2d<SEP>1d',\n",
       "              'D-EST': 'March , 18<SEP>March 24 1873',\n",
       "              'E-LOC': '2<SEP>Royal Exchange Bdass E .',\n",
       "              'S-POL': 'HOUR<SEP>Conservative',\n",
       "              'DISTRICT': 'London',\n",
       "              'TEXT': \"FINANCIER , 2d . Established March , 18 . CPrunciples : Neutral , Itisdevoted entirely to the financial and commercial interests of the country , and gives an accurate record of all news and prices interesting to mvestors and Sshareholders . Leading Articles on financial and commercial YODIES . Liditorial Offices , 2 , Royal Exchange Bdass . , E . C . ( Ad . , p . 148 . ) HOUR . 1d . Sistablished March 24 , 1873 . Pacirles : Conservative . The motto of this paper is industry , liberty , and religion ; and its leading articles on political and social topics , all keep in mind these great prin - ciples . It appeals to both parties as Englishmen to support them as the true sources of prosperity , order , and happiness . Special articles and foreign correspondence are important features . The day 's news is full and complete . FPublished byT . H . Walker , 176 , Fleet Strect , E . C . ( Ad . p . 148 . ) LiuLoydsLIST\"})]"
      ]
     },
     "execution_count": 59,
     "metadata": {},
     "output_type": "execute_result"
    }
   ],
   "source": [
    "parse_entry(*items[3])"
   ]
  },
  {
   "cell_type": "code",
   "execution_count": 57,
   "metadata": {},
   "outputs": [],
   "source": [
    "\n",
    "def parse_entry(district,idx,entry):\n",
    "    \"\"\"returns entries as a mapping from tags to text\n",
    "    \"\"\"\n",
    "\n",
    "    tag2texts = []\n",
    "\n",
    "    # remove BIOES tags\n",
    "    tag2text, tokens = defaultdict(str), []\n",
    "    added_entries = 1\n",
    "    for i,(token,bio_tag) in enumerate(entry):\n",
    "        if bio_tag == \"B-S-TITLE\":\n",
    "            if not tag2text:\n",
    "                #tag2text = defaultdict(str)\n",
    "                tag2text['id'] = idx\n",
    "            elif tag2text: \n",
    "                tag2text['TEXT'] = ' '.join(tokens)\n",
    "                tag2texts.append(tag2text)\n",
    "                tag2text, tokens = defaultdict(str), []\n",
    "                tag2text['id'] = f\"{idx}_{added_entries}\"\n",
    "                added_entries+=1\n",
    "        \n",
    "        tokens.append(token)\n",
    "\n",
    "        if bio_tag == 'O':\n",
    "            continue\n",
    "        \n",
    "        \n",
    "        elements = bio_tag.split('-')\n",
    "        bioes,tag = elements[0],'-'.join(elements[1:])#bio_tag.split('-')\n",
    "        \n",
    "        if bioes == 'B':\n",
    "            \n",
    "            if tag2text[tag]:\n",
    "                tag2text[tag] += ('<SEP>' + token)\n",
    "            else:\n",
    "                tag2text[tag] += token\n",
    "        elif bioes != 'B':\n",
    "            tag2text[tag] += ('<CON>' + token)\n",
    "            \n",
    "    for tag, string in tag2text.items():\n",
    "        tag2text[tag] = '<SEP>'.join([' '.join(e.split('<CON>')) for e in string.split('<SEP>')])\n",
    "    \n",
    "    # add district\n",
    "    tag2text['DISTRICT'] = district\n",
    "    tag2text['TEXT'] = ' '.join(tokens)\n",
    "    tag2texts.append(tag2text)\n",
    "    #tag2text['TEXT'] = ' '.join([t for t,bt in entry])\n",
    "    return tag2texts"
   ]
  },
  {
   "cell_type": "code",
   "execution_count": null,
   "metadata": {},
   "outputs": [],
   "source": []
  },
  {
   "cell_type": "code",
   "execution_count": null,
   "metadata": {},
   "outputs": [],
   "source": []
  }
 ],
 "metadata": {
  "kernelspec": {
   "display_name": "Python 3",
   "language": "python",
   "name": "python3"
  },
  "language_info": {
   "codemirror_mode": {
    "name": "ipython",
    "version": 3
   },
   "file_extension": ".py",
   "mimetype": "text/x-python",
   "name": "python",
   "nbconvert_exporter": "python",
   "pygments_lexer": "ipython3",
   "version": "3.7.5-final"
  }
 },
 "nbformat": 4,
 "nbformat_minor": 2
}