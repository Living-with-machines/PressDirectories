{
 "cells": [
  {
   "cell_type": "code",
   "execution_count": 1,
   "metadata": {},
   "outputs": [],
   "source": [
    "# preformatting remove later\n",
    "#df = pd.read_csv('../data/Press_Directories_1846_1920_JISC.csv', index_col=0)\n",
    "#df.rename({'S-TITLE':'TITLE','S-POL':'POLITICS',\n",
    "#           'COUNTY':'COUNTY_PUB','S-PRICE':'PRICE',\n",
    "#           'D-EST':'ESTABLISHED_DATE','D-PUB':'PUBLICATION_DAY','E-LOC':'LOCATIONS',\n",
    "#           'E-PER':'PERSONS','E-ORG':'ORGANISATIONS',\n",
    "#           'year':'YEAR','chain_id':'NEWSPAPER_ID','JISC':'IN_JISC',\n",
    "#           'TEXT':'TEXT_ORIGINAL'},axis=1, inplace=True)\n",
    "#df.drop(['S-TITLE-ALT'],axis=1,inplace=True)\n",
    "#df.to_csv('../data/Press_Directories_1846_1920_JISC_final.csv')"
   ]
  },
  {
   "cell_type": "markdown",
   "metadata": {},
   "source": [
    "# Sources and Data\n",
    "\n",
    "Code for reproducing images for the section \"Sources and Data\". \n",
    "Notebook that generally describes the outline of both Mitchell and JISC corpus."
   ]
  },
  {
   "cell_type": "markdown",
   "metadata": {},
   "source": [
    "## Load data and import packages"
   ]
  },
  {
   "cell_type": "code",
   "execution_count": 2,
   "metadata": {},
   "outputs": [],
   "source": [
    "%matplotlib inline\n",
    "import pandas as pd\n",
    "import seaborn as sns\n",
    "from pathlib import Path\n",
    "sns.set()"
   ]
  },
  {
   "cell_type": "code",
   "execution_count": 3,
   "metadata": {},
   "outputs": [
    {
     "data": {
      "text/html": [
       "<div>\n",
       "<style scoped>\n",
       "    .dataframe tbody tr th:only-of-type {\n",
       "        vertical-align: middle;\n",
       "    }\n",
       "\n",
       "    .dataframe tbody tr th {\n",
       "        vertical-align: top;\n",
       "    }\n",
       "\n",
       "    .dataframe thead th {\n",
       "        text-align: right;\n",
       "    }\n",
       "</style>\n",
       "<table border=\"1\" class=\"dataframe\">\n",
       "  <thead>\n",
       "    <tr style=\"text-align: right;\">\n",
       "      <th></th>\n",
       "      <th>index</th>\n",
       "      <th>id</th>\n",
       "      <th>TITLE</th>\n",
       "      <th>POLITICS</th>\n",
       "      <th>CATEGORY</th>\n",
       "      <th>DISTRICT</th>\n",
       "      <th>DISTRICT_PUB</th>\n",
       "      <th>COUNTY_PUB</th>\n",
       "      <th>PRICE</th>\n",
       "      <th>ESTABLISHED_DATE</th>\n",
       "      <th>PUBLICATION_DAY</th>\n",
       "      <th>LOCATIONS</th>\n",
       "      <th>ORGANISATIONS</th>\n",
       "      <th>PERSONS</th>\n",
       "      <th>TEXT_ORIGINAL</th>\n",
       "      <th>DISTRICT_DESCRIPTION</th>\n",
       "      <th>YEAR</th>\n",
       "      <th>NEWSPAPER_ID</th>\n",
       "      <th>IN_JISC</th>\n",
       "    </tr>\n",
       "  </thead>\n",
       "  <tbody>\n",
       "    <tr>\n",
       "      <th>0</th>\n",
       "      <td>0</td>\n",
       "      <td>MPD_1846_0</td>\n",
       "      <td>MORNING ADVERTISER .</td>\n",
       "      <td>liberal</td>\n",
       "      <td>london</td>\n",
       "      <td>london</td>\n",
       "      <td>london</td>\n",
       "      <td>london</td>\n",
       "      <td>5d</td>\n",
       "      <td>February 8 , 1793</td>\n",
       "      <td>Daily</td>\n",
       "      <td>NaN</td>\n",
       "      <td>NaN</td>\n",
       "      <td>David</td>\n",
       "      <td>MORNING ADVERTISER . Daily , Price 5d . Establ...</td>\n",
       "      <td>London</td>\n",
       "      <td>1846</td>\n",
       "      <td>CID_000570</td>\n",
       "      <td>0</td>\n",
       "    </tr>\n",
       "    <tr>\n",
       "      <th>1</th>\n",
       "      <td>1</td>\n",
       "      <td>MPD_1846_1</td>\n",
       "      <td>MORNING CHRONILE .</td>\n",
       "      <td>moderate;</td>\n",
       "      <td>london</td>\n",
       "      <td>london</td>\n",
       "      <td>london</td>\n",
       "      <td>london</td>\n",
       "      <td>5d</td>\n",
       "      <td>1770</td>\n",
       "      <td>Daily</td>\n",
       "      <td>,&lt;SEP&gt;332</td>\n",
       "      <td>NaN</td>\n",
       "      <td>Henry&lt;SEP&gt;William Wills</td>\n",
       "      <td>MORNING CHRONILE . Daily , Price 5d . Establis...</td>\n",
       "      <td>London</td>\n",
       "      <td>1846</td>\n",
       "      <td>CID_004428</td>\n",
       "      <td>0</td>\n",
       "    </tr>\n",
       "  </tbody>\n",
       "</table>\n",
       "</div>"
      ],
      "text/plain": [
       "   index          id                 TITLE    POLITICS CATEGORY DISTRICT  \\\n",
       "0      0  MPD_1846_0  MORNING ADVERTISER .     liberal   london   london   \n",
       "1      1  MPD_1846_1    MORNING CHRONILE .  moderate;    london   london   \n",
       "\n",
       "  DISTRICT_PUB COUNTY_PUB PRICE   ESTABLISHED_DATE PUBLICATION_DAY  \\\n",
       "0       london     london    5d  February 8 , 1793           Daily   \n",
       "1       london     london    5d               1770           Daily   \n",
       "\n",
       "    LOCATIONS ORGANISATIONS                  PERSONS  \\\n",
       "0         NaN           NaN                    David   \n",
       "1   ,<SEP>332           NaN  Henry<SEP>William Wills   \n",
       "\n",
       "                                       TEXT_ORIGINAL DISTRICT_DESCRIPTION  \\\n",
       "0  MORNING ADVERTISER . Daily , Price 5d . Establ...               London   \n",
       "1  MORNING CHRONILE . Daily , Price 5d . Establis...               London   \n",
       "\n",
       "   YEAR NEWSPAPER_ID  IN_JISC  \n",
       "0  1846   CID_000570        0  \n",
       "1  1846   CID_004428        0  "
      ]
     },
     "execution_count": 3,
     "metadata": {},
     "output_type": "execute_result"
    }
   ],
   "source": [
    "df = pd.read_csv('../data/Press_Directories_1846_1920_JISC_final.csv', index_col=0)\n",
    "df.head(2)"
   ]
  },
  {
   "cell_type": "code",
   "execution_count": 4,
   "metadata": {},
   "outputs": [
    {
     "data": {
      "text/html": [
       "<div>\n",
       "<style scoped>\n",
       "    .dataframe tbody tr th:only-of-type {\n",
       "        vertical-align: middle;\n",
       "    }\n",
       "\n",
       "    .dataframe tbody tr th {\n",
       "        vertical-align: top;\n",
       "    }\n",
       "\n",
       "    .dataframe thead th {\n",
       "        text-align: right;\n",
       "    }\n",
       "</style>\n",
       "<table border=\"1\" class=\"dataframe\">\n",
       "  <thead>\n",
       "    <tr style=\"text-align: right;\">\n",
       "      <th></th>\n",
       "      <th>Newspaper Title</th>\n",
       "      <th>System ID</th>\n",
       "      <th>NLP</th>\n",
       "      <th>CATEGORY</th>\n",
       "      <th>JISC</th>\n",
       "      <th>Normalised Title</th>\n",
       "      <th>Abbr</th>\n",
       "      <th>Start_day</th>\n",
       "      <th>Start_month</th>\n",
       "      <th>Start_year</th>\n",
       "      <th>End_day</th>\n",
       "      <th>End_month</th>\n",
       "      <th>End_year</th>\n",
       "    </tr>\n",
       "  </thead>\n",
       "  <tbody>\n",
       "    <tr>\n",
       "      <th>0</th>\n",
       "      <td>Aberdeen Journal and general advertiser for th...</td>\n",
       "      <td>13921360</td>\n",
       "      <td>31</td>\n",
       "      <td>scottish</td>\n",
       "      <td>JISC1</td>\n",
       "      <td>Aberdeen Journal</td>\n",
       "      <td>ANJO</td>\n",
       "      <td>1</td>\n",
       "      <td>Jan</td>\n",
       "      <td>1800</td>\n",
       "      <td>23</td>\n",
       "      <td>Aug</td>\n",
       "      <td>1876</td>\n",
       "    </tr>\n",
       "    <tr>\n",
       "      <th>1</th>\n",
       "      <td>Aberdeen Weekly Journal and general advertiser...</td>\n",
       "      <td>13921362</td>\n",
       "      <td>32</td>\n",
       "      <td>scottish</td>\n",
       "      <td>JISC1</td>\n",
       "      <td>Aberdeen Journal</td>\n",
       "      <td>ANJO</td>\n",
       "      <td>30</td>\n",
       "      <td>Aug</td>\n",
       "      <td>1876</td>\n",
       "      <td>31</td>\n",
       "      <td>Dec</td>\n",
       "      <td>1900</td>\n",
       "    </tr>\n",
       "  </tbody>\n",
       "</table>\n",
       "</div>"
      ],
      "text/plain": [
       "                                     Newspaper Title  System ID  NLP  \\\n",
       "0  Aberdeen Journal and general advertiser for th...   13921360   31   \n",
       "1  Aberdeen Weekly Journal and general advertiser...   13921362   32   \n",
       "\n",
       "   CATEGORY   JISC  Normalised Title  Abbr  Start_day Start_month  Start_year  \\\n",
       "0  scottish  JISC1  Aberdeen Journal  ANJO          1         Jan        1800   \n",
       "1  scottish  JISC1  Aberdeen Journal  ANJO         30         Aug        1876   \n",
       "\n",
       "   End_day End_month  End_year  \n",
       "0       23       Aug      1876  \n",
       "1       31       Dec      1900  "
      ]
     },
     "execution_count": 4,
     "metadata": {},
     "output_type": "execute_result"
    }
   ],
   "source": [
    "jisc_meta = pd.read_excel('../data/JISC_TitleList.xlsx', sheet_name='Titles')\n",
    "jisc_meta.head(2)"
   ]
  },
  {
   "cell_type": "code",
   "execution_count": 5,
   "metadata": {},
   "outputs": [],
   "source": [
    "# set path for storing the images\n",
    "figures_path = Path('figures')\n",
    "figures_path.mkdir(exist_ok=True)"
   ]
  },
  {
   "cell_type": "markdown",
   "metadata": {},
   "source": [
    "## Figure 3"
   ]
  },
  {
   "cell_type": "code",
   "execution_count": 6,
   "metadata": {},
   "outputs": [],
   "source": [
    "df_london = df[df.CATEGORY=='london']"
   ]
  },
  {
   "cell_type": "code",
   "execution_count": 7,
   "metadata": {},
   "outputs": [
    {
     "data": {
      "image/png": "[encoded data removed]",
      "text/plain": [
       "<Figure size 432x288 with 1 Axes>"
      ]
     },
     "metadata": {},
     "output_type": "display_data"
    }
   ],
   "source": [
    "df_prov = df[df.CATEGORY.isin(['irish','welsh','provincial','scottish'])]\n",
    "df_prov.groupby('YEAR')['id'].count().plot(ylim=(0,2200))\n",
    "fig = df_london.groupby('YEAR')['id'].count().plot().get_figure()\n",
    "\n",
    "fig.savefig(figures_path / 'figure_3.png')"
   ]
  },
  {
   "cell_type": "markdown",
   "metadata": {},
   "source": [
    "## Figure 4"
   ]
  },
  {
   "cell_type": "code",
   "execution_count": 8,
   "metadata": {},
   "outputs": [],
   "source": [
    "year2jisc_counts = {}\n",
    "\n",
    "jsp = jisc_meta[jisc_meta.CATEGORY.isin(['scottish','welsh','provincial','irish'])]\n",
    "for y in df_prov.YEAR.unique():\n",
    "    if y <= 1900:\n",
    "        year2jisc_counts[y] = jsp[(jsp.Start_year < y) &  (jsp.End_year >= y) ].shape[0]"
   ]
  },
  {
   "cell_type": "code",
   "execution_count": 9,
   "metadata": {},
   "outputs": [
    {
     "data": {
      "image/png": "[encoded data removed]",
      "text/plain": [
       "<Figure size 432x288 with 1 Axes>"
      ]
     },
     "metadata": {},
     "output_type": "display_data"
    }
   ],
   "source": [
    "pd.Series(year2jisc_counts).plot(ylim=(0,45))\n",
    "fig = df_prov[(df_prov.IN_JISC > 0) & (df_prov.YEAR <= 1900)].groupby('YEAR').id.count().plot().get_figure()\n",
    "fig.savefig(figures_path / 'figure_4_l.png')"
   ]
  },
  {
   "cell_type": "code",
   "execution_count": 10,
   "metadata": {},
   "outputs": [
    {
     "data": {
      "text/plain": [
       "YEAR\n",
       "1846    31\n",
       "1847    31\n",
       "1851    32\n",
       "1856    34\n",
       "1858    34\n",
       "1860    34\n",
       "1863    35\n",
       "1865    36\n",
       "1868    34\n",
       "1870    38\n",
       "1873    38\n",
       "1875    38\n",
       "1878    39\n",
       "1880    39\n",
       "1883    37\n",
       "1885    39\n",
       "1888    37\n",
       "1890    36\n",
       "1893    37\n",
       "1895    35\n",
       "1898    34\n",
       "1900    33\n",
       "Name: id, dtype: int64"
      ]
     },
     "execution_count": 10,
     "metadata": {},
     "output_type": "execute_result"
    }
   ],
   "source": [
    "df_prov[(df_prov.IN_JISC > 0) & (df_prov.YEAR <= 1900)].groupby('YEAR').id.count()"
   ]
  },
  {
   "cell_type": "code",
   "execution_count": 11,
   "metadata": {},
   "outputs": [
    {
     "data": {
      "image/png": "[encoded data removed]",
      "text/plain": [
       "<Figure size 432x288 with 1 Axes>"
      ]
     },
     "metadata": {},
     "output_type": "display_data"
    }
   ],
   "source": [
    "nom = df_prov[(df_prov.IN_JISC > 0) & (df_prov.YEAR <= 1900)].groupby('YEAR')['id'].count() \n",
    "denom = df_prov[~(df_prov.IN_JISC > 0) & (df_prov.YEAR <= 1900)].groupby('YEAR')['id'].count() \n",
    "fig = ((nom / denom )* 100).plot(ylim=(0,10)).get_figure()\n",
    "fig.savefig(figures_path / 'figure_4_r.png')"
   ]
  },
  {
   "cell_type": "code",
   "execution_count": 12,
   "metadata": {},
   "outputs": [
    {
     "name": "stdout",
     "output_type": "stream",
     "text": [
      "All done!\n"
     ]
    }
   ],
   "source": [
    "print('All done!')"
   ]
  },
  {
   "cell_type": "markdown",
   "metadata": {},
   "source": [
    "# Fin."
   ]
  },
  {
   "cell_type": "code",
   "execution_count": null,
   "metadata": {},
   "outputs": [],
   "source": []
  }
 ],
 "metadata": {
  "interpreter": {
   "hash": "5d002d29fc59799ec58342307c50be960f7297ba8a27d201097020f600ad239f"
  },
  "kernelspec": {
   "display_name": "Python 3 (ipykernel)",
   "language": "python",
   "name": "python3"
  },
  "language_info": {
   "codemirror_mode": {
    "name": "ipython",
    "version": 3
   },
   "file_extension": ".py",
   "mimetype": "text/x-python",
   "name": "python",
   "nbconvert_exporter": "python",
   "pygments_lexer": "ipython3",
   "version": "3.9.7"
  },
  "metadata": {
   "interpreter": {
    "hash": "5d002d29fc59799ec58342307c50be960f7297ba8a27d201097020f600ad239f"
   }
  }
 },
 "nbformat": 4,
 "nbformat_minor": 2
}
