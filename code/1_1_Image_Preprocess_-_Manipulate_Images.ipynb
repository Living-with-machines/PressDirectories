{
 "cells": [
  {
   "cell_type": "code",
   "execution_count": 1,
   "metadata": {},
   "outputs": [],
   "source": [
    "%load_ext autoreload\n",
    "%autoreload 2"
   ]
  },
  {
   "cell_type": "code",
   "execution_count": 2,
   "metadata": {},
   "outputs": [],
   "source": [
    "from tools.image_tools import save_capitals, save_columns, check_year\n",
    "from fastai.vision import *\n",
    "from fastai.callbacks.hooks import *\n",
    "from fastai.utils.mem import *\n",
    "from random import shuffle"
   ]
  },
  {
   "cell_type": "markdown",
   "metadata": {},
   "source": [
    "# Move data from blobststorage"
   ]
  },
  {
   "cell_type": "code",
   "execution_count": null,
   "metadata": {},
   "outputs": [],
   "source": [
    "# path to blob storage\n",
    "DATA = Path(\"/home/kbeelen/blobstore\")\n",
    "\n",
    "with open('../editions_all.pickle','rb') as in_pickle:\n",
    "    editions_all = pickle.load(in_pickle)\n",
    "len(editions_all)\n",
    "\n",
    "editions = range_to_pagenumbers(editions_all)\n",
    "\n",
    "pages = to_pages(editions, DATA)\n",
    "\n",
    "\n",
    "root_folder = Path(\"/deezy_datadrive/kaspar-playground/npd/Data/Original\")\n",
    "\n",
    "for p in tqdm(pages):\n",
    "    move_selected_from_blobstore_image(p,root_folder=root_folder)"
   ]
  },
  {
   "cell_type": "markdown",
   "metadata": {},
   "source": [
    "# Train models for column and capital detection\n",
    "\n",
    "go to \n",
    "- Image_Preprocess_Detect_Column.ipynb\n",
    "- Image_Preprocess_Detect_Pages.ipynb\n",
    "- Image_Preprocess_Detect_Capital.ipynb\n",
    "\n",
    "Run cells below to output a random sample for annotation. Annotation can be done in VIA.\n",
    "\n",
    "\n"
   ]
  },
  {
   "cell_type": "markdown",
   "metadata": {},
   "source": [
    "# Output for Column annotation"
   ]
  },
  {
   "cell_type": "code",
   "execution_count": 3,
   "metadata": {},
   "outputs": [
    {
     "name": "stdout",
     "output_type": "stream",
     "text": [
      "8226\n"
     ]
    }
   ],
   "source": [
    "image_paths = list(Path(\"/deezy_datadrive/kaspar-playground/npd/Data/Original/\").glob(\"**/Images/*.png\"))\n",
    "print(len(image_paths))\n",
    "image_paths = [p for p in image_paths if check_year(p) >= 1855]\n",
    "shuffle(image_paths)\n",
    "selected_images = image_paths[:200]\n",
    "ocr_path = Path('/deezy_datadrive/kaspar-playground/npd/Column')\n",
    "ocr_path.mkdir(exist_ok=True)\n",
    "for img in selected_images:\n",
    "    shutil.copy(img, ocr_path / img.name)"
   ]
  },
  {
   "cell_type": "code",
   "execution_count": 59,
   "metadata": {},
   "outputs": [
    {
     "name": "stdout",
     "output_type": "stream",
     "text": [
      "8226\n"
     ]
    }
   ],
   "source": [
    "image_paths = list(Path(\"/deezy_datadrive/kaspar-playground/npd/Data/Original/\").glob(\"**/Images/*.png\"))\n",
    "print(len(image_paths))\n",
    "image_paths = [p for p in image_paths if check_year(p) < 1855]\n",
    "shuffle(image_paths)\n",
    "selected_images = image_paths[:100]\n",
    "ocr_path = Path('/deezy_datadrive/kaspar-playground/npd/Page')\n",
    "ocr_path.mkdir(exist_ok=True)\n",
    "for img in selected_images:\n",
    "    shutil.copy(img, ocr_path / img.name)"
   ]
  },
  {
   "cell_type": "markdown",
   "metadata": {},
   "source": [
    "# Crop and split in columns"
   ]
  },
  {
   "cell_type": "markdown",
   "metadata": {},
   "source": [
    "## [WARNING] Use code_refactored/Image_Preprocess_Detect_Columns.ipynb to train model\n"
   ]
  },
  {
   "cell_type": "code",
   "execution_count": 54,
   "metadata": {},
   "outputs": [],
   "source": [
    "model_folder = Path('/deezy_datadrive/kaspar-playground/page_segment/models/columns')\n",
    "learn = load_learner(model_folder)"
   ]
  },
  {
   "cell_type": "code",
   "execution_count": 57,
   "metadata": {},
   "outputs": [
    {
     "name": "stdout",
     "output_type": "stream",
     "text": [
      "8226\n"
     ]
    }
   ],
   "source": [
    "image_paths = list(Path(\"/deezy_datadrive/kaspar-playground/npd/Data/Original/\").glob(\"**/Images/*.png\"))\n",
    "print(len(image_paths))\n",
    "image_paths = [p for p in image_paths if check_year(p) >= 1855]"
   ]
  },
  {
   "cell_type": "code",
   "execution_count": 51,
   "metadata": {},
   "outputs": [],
   "source": [
    "ignore_files = ['/deezy_datadrive/kaspar-playground/npd/Data/Original/MPD_1870/Images/MPD_1870_033.png',]\n",
    "save_columns(image_paths, learn,ignore_files=ignore_files)"
   ]
  },
  {
   "source": [
    "# Crop pages\n",
    "\n",
    "## [WARNING] Use code_refactored/Image_Preprocess_Detect_Pages.ipynb to train model"
   ],
   "cell_type": "markdown",
   "metadata": {}
  },
  {
   "cell_type": "code",
   "execution_count": 4,
   "metadata": {},
   "outputs": [],
   "source": [
    "model_folder = Path('/deezy_datadrive/kaspar-playground/page_segment/models/pages')\n",
    "learn = load_learner(model_folder)"
   ]
  },
  {
   "cell_type": "code",
   "execution_count": 5,
   "metadata": {},
   "outputs": [
    {
     "output_type": "stream",
     "name": "stdout",
     "text": [
      "8226\n819\n"
     ]
    }
   ],
   "source": [
    "image_paths = list(Path(\"/deezy_datadrive/kaspar-playground/npd/Data/Original/\").glob(\"**/Images/*.png\"))\n",
    "print(len(image_paths))\n",
    "image_paths = [p for p in image_paths if check_year(p) < 1855]\n",
    "print(len(image_paths))\n"
   ]
  },
  {
   "cell_type": "code",
   "execution_count": 9,
   "metadata": {},
   "outputs": [
    {
     "output_type": "display_data",
     "data": {
      "text/plain": "HBox(children=(FloatProgress(value=0.0, max=819.0), HTML(value='')))",
      "application/vnd.jupyter.widget-view+json": {
       "version_major": 2,
       "version_minor": 0,
       "model_id": "0e7e66a33c804be9bc32fc3f8523f19c"
      }
     },
     "metadata": {}
    },
    {
     "output_type": "stream",
     "name": "stdout",
     "text": [
      "\n"
     ]
    }
   ],
   "source": [
    "save_columns(image_paths, learn,split=False)\n"
   ]
  },
  {
   "cell_type": "markdown",
   "metadata": {},
   "source": [
    "# Output for Capital Annotation"
   ]
  },
  {
   "cell_type": "code",
   "execution_count": 6,
   "metadata": {},
   "outputs": [
    {
     "name": "stdout",
     "output_type": "stream",
     "text": [
      "14802\n"
     ]
    }
   ],
   "source": [
    "image_paths = list(Path(\"/deezy_datadrive/kaspar-playground/npd/Data/Original/\").glob(\"**/Image_processed/*.png\"))\n",
    "print(len(image_paths))\n",
    "image_paths = [p for p in image_paths if check_year(p) >= 1860]\n",
    "shuffle(image_paths)\n",
    "selected_images = image_paths[:200]\n",
    "ocr_path = Path('/deezy_datadrive/kaspar-playground/npd/Capital')\n",
    "ocr_path.mkdir(exist_ok=True)\n",
    "for img in selected_images:\n",
    "    shutil.copy(img, ocr_path / img.name)"
   ]
  },
  {
   "cell_type": "markdown",
   "metadata": {},
   "source": [
    "# Adjust capitals\n",
    "\n",
    "## [WARNING] Use code_refactored/Image_Preprocess_Detect_Capitals.ipynb to train model\n"
   ]
  },
  {
   "cell_type": "code",
   "execution_count": null,
   "metadata": {},
   "outputs": [],
   "source": [
    "model_folder = Path('/deezy_datadrive/kaspar-playground/page_segment/models/capitals')\n",
    "learn = load_learner(model_folder)\n",
    "image_paths = list(Path(\"/deezy_datadrive/kaspar-playground/npd/Data/Original/\").glob(\"**/Image_processed/*.png\"))\n",
    "print(len(image_paths))\n",
    "image_paths = [p for p in image_paths if check_year(p) >= 1860]\n",
    "save_capitals(image_paths, learn,ignore_files=[])"
   ]
  },
  {
   "cell_type": "markdown",
   "metadata": {},
   "source": [
    "## Move files without dropping capitals but with columns"
   ]
  },
  {
   "cell_type": "code",
   "execution_count": 11,
   "metadata": {},
   "outputs": [
    {
     "output_type": "stream",
     "name": "stdout",
     "text": [
      "15513\n1277\n"
     ]
    }
   ],
   "source": [
    "image_paths = list(Path(\"/deezy_datadrive/kaspar-playground/npd/Data/Original/\").glob(\"**/Image_processed/*.png\"))\n",
    "print(len(image_paths))\n",
    "image_paths = [p for p in image_paths if check_year(p) < 1860]\n",
    "print(len(image_paths))\n",
    "\n",
    "for img in image_paths:\n",
    "    \n",
    "    to_folder = img.parent.parent / 'Image_processed_final' \n",
    "    to_folder.mkdir(exist_ok=True)\n",
    "    shutil.copy(img, to_folder / img.name)"
   ]
  },
  {
   "cell_type": "markdown",
   "metadata": {},
   "source": [
    "# Output for OCR Transcription"
   ]
  },
  {
   "cell_type": "code",
   "execution_count": 58,
   "metadata": {},
   "outputs": [
    {
     "name": "stdout",
     "output_type": "stream",
     "text": [
      "14668\n"
     ]
    }
   ],
   "source": [
    "image_paths = list(Path(\"/deezy_datadrive/kaspar-playground/npd/Data/Original/\").glob(\"**/Image_processed_final/*.png\"))\n",
    "print(len(image_paths))"
   ]
  },
  {
   "cell_type": "code",
   "execution_count": null,
   "metadata": {},
   "outputs": [],
   "source": [
    "image_paths = list(Path(\"/deezy_datadrive/kaspar-playground/npd/Data/Original/\").glob(\"**/Image_processed_final/*.png\"))\n",
    "print(len(image_paths))\n",
    "#image_paths = [p for p in image_paths if check_year(p) >= 1855]\n",
    "shuffle(image_paths)\n",
    "selected_images = image_paths[:100]\n",
    "ocr_path = Path('/deezy_datadrive/kaspar-playground/npd/OCR')\n",
    "ocr_path.mkdir(exist_ok=True)\n",
    "for img in selected_images:\n",
    "    shutil.copy(img, ocr_path / img.name)"
   ]
  }
 ],
 "metadata": {
  "kernelspec": {
   "display_name": "Python 3",
   "language": "python",
   "name": "python3"
  },
  "language_info": {
   "codemirror_mode": {
    "name": "ipython",
    "version": 3
   },
   "file_extension": ".py",
   "mimetype": "text/x-python",
   "name": "python",
   "nbconvert_exporter": "python",
   "pygments_lexer": "ipython3",
   "version": "3.7.5-final"
  }
 },
 "nbformat": 4,
 "nbformat_minor": 2
}