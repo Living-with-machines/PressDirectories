{
 "metadata": {
  "language_info": {
   "codemirror_mode": {
    "name": "ipython",
    "version": 3
   },
   "file_extension": ".py",
   "mimetype": "text/x-python",
   "name": "python",
   "nbconvert_exporter": "python",
   "pygments_lexer": "ipython3",
   "version": "3.7.5"
  },
  "orig_nbformat": 2,
  "kernelspec": {
   "name": "python3",
   "display_name": "Python 3",
   "language": "python"
  }
 },
 "nbformat": 4,
 "nbformat_minor": 2,
 "cells": [
  {
   "cell_type": "code",
   "execution_count": 1,
   "metadata": {},
   "outputs": [],
   "source": [
    "%load_ext autoreload\n",
    "%autoreload 2"
   ]
  },
  {
   "cell_type": "code",
   "execution_count": 2,
   "metadata": {},
   "outputs": [],
   "source": [
    "import pandas as pd\n",
    "import numpy as np\n",
    "from pathlib import Path\n",
    "from sklearn.feature_extraction.text import TfidfVectorizer\n",
    "from annoy import AnnoyIndex\n",
    "from tqdm.notebook import tqdm\n",
    "from tools.record_tools import insert_annotations\n",
    "from pigeon import annotate\n",
    "import pickle\n"
   ]
  },
  {
   "source": [],
   "cell_type": "markdown",
   "metadata": {}
  },
  {
   "cell_type": "code",
   "execution_count": null,
   "metadata": {},
   "outputs": [],
   "source": []
  },
  {
   "cell_type": "code",
   "execution_count": 3,
   "metadata": {},
   "outputs": [],
   "source": [
    "jisc_meta = pd.read_excel('./newspaper_metadata/JISC1+2CombinedTitleList_v1_15052020.xlsx', sheet_name='Titles')\n",
    "bl_meta = pd.read_csv('./newspaper_metadata/BL newspaper holdings British and Irish titles v2a.csv')\n"
   ]
  },
  {
   "cell_type": "code",
   "execution_count": 4,
   "metadata": {},
   "outputs": [
    {
     "output_type": "execute_result",
     "data": {
      "text/plain": [
       "(143, 14)"
      ]
     },
     "metadata": {},
     "execution_count": 4
    }
   ],
   "source": [
    "columns = ['Title ID','First geographical subject heading']\n",
    "meta_merged = jisc_meta.merge(bl_meta[columns],left_on='System ID',right_on='Title ID',how= 'left')\n",
    "meta_merged['First geographical subject heading'].fillna('',inplace=True)\n",
    "meta_merged.shape"
   ]
  },
  {
   "cell_type": "code",
   "execution_count": 5,
   "metadata": {},
   "outputs": [],
   "source": [
    "iteration = 0\n",
    "years = [1846,1847,1851,1856,1858,\n",
    "        1860,1863,1865,1868,\n",
    "        1870,1873,1875,1878,\n",
    "        1880,1883,1885,1888,\n",
    "        1890,1893,1895,1898,\n",
    "        1900,1905,1910,1915,1920]\n"
   ]
  },
  {
   "source": [
    "# Begining of annotation: yearly loop"
   ],
   "cell_type": "markdown",
   "metadata": {}
  },
  {
   "cell_type": "code",
   "execution_count": 582,
   "metadata": {},
   "outputs": [
    {
     "output_type": "stream",
     "name": "stdout",
     "text": [
      "1900\n"
     ]
    }
   ],
   "source": [
    "target_year = years[iteration]\n",
    "print(target_year)"
   ]
  },
  {
   "cell_type": "code",
   "execution_count": 583,
   "metadata": {},
   "outputs": [
    {
     "output_type": "execute_result",
     "data": {
      "text/plain": [
       "(43361, 20)"
      ]
     },
     "metadata": {},
     "execution_count": 583
    }
   ],
   "source": [
    "if iteration:\n",
    "    npd_data = pd.read_csv('./output_data/MPD_export_1846_1920_JISC.csv',index_col=0,dtype={'JISC':str})\n",
    "else:\n",
    "    npd_data = pd.read_csv('./output_data/MPD_export_1846_1920.csv',index_col=0)\n",
    "    npd_data.to_csv('./output_data/MPD_export_1846_1920_JISC.csv')\n",
    "npd_data['S-TITLE'].fillna('',inplace=True)\n",
    "npd_data['DISTRICT'].fillna('',inplace=True)\n",
    "npd_data.shape"
   ]
  },
  {
   "cell_type": "code",
   "execution_count": 584,
   "metadata": {},
   "outputs": [],
   "source": [
    "\n",
    "meta_merged_sel = meta_merged[(meta_merged.Start_year <= target_year) & (meta_merged.End_year >=  target_year)]\n",
    "\n",
    "npd_data_red = npd_data[npd_data.year==target_year]\n",
    "npd_data_red.reset_index(inplace=True)\n"
   ]
  },
  {
   "cell_type": "code",
   "execution_count": null,
   "metadata": {},
   "outputs": [],
   "source": []
  },
  {
   "cell_type": "code",
   "execution_count": 585,
   "metadata": {},
   "outputs": [
    {
     "output_type": "stream",
     "name": "stdout",
     "text": [
      "Alread linked 38\nAnnotating 11 more entries\n"
     ]
    }
   ],
   "source": [
    "if iteration:\n",
    "    observed_newspaper_ids = [int(eval(w)) for w in npd_data_red['JISC'].unique() if isinstance(w,str)]\n",
    "    #print(observed_newspaper_ids)\n",
    "    print(f\"Alread linked {meta_merged_sel[meta_merged_sel['System ID'].isin(observed_newspaper_ids)].shape[0]}\")\n",
    "    meta_merged_sel = meta_merged_sel[~meta_merged_sel['System ID'].isin(observed_newspaper_ids)]\n",
    "    meta_merged_sel.reset_index(inplace=True)\n",
    "    print(f'Annotating {meta_merged_sel.shape[0]} more entries')\n"
   ]
  },
  {
   "cell_type": "code",
   "execution_count": 586,
   "metadata": {},
   "outputs": [
    {
     "output_type": "execute_result",
     "data": {
      "text/plain": [
       "0            Weekly Standard and Express, The\n",
       "1                                  Daily News\n",
       "2                      Courier and Argus, The\n",
       "3     Hampshire Telegraph and Naval Chronicle\n",
       "4                             Ipswich Journal\n",
       "5               Isle of Man Weekly Times, The\n",
       "6                    Jackson's Oxford Journal\n",
       "7                           Morning Post, The\n",
       "8                               Standard, The\n",
       "9                      Star, The   (Guernsey)\n",
       "10                          Wrexam Advertiser\n",
       "Name: Newspaper Title, dtype: object"
      ]
     },
     "metadata": {},
     "execution_count": 586
    }
   ],
   "source": [
    "meta_merged_sel['Newspaper Title']"
   ]
  },
  {
   "cell_type": "code",
   "execution_count": 587,
   "metadata": {},
   "outputs": [
    {
     "output_type": "display_data",
     "data": {
      "text/plain": "HBox(children=(FloatProgress(value=1.0, bar_style='info', max=1.0), HTML(value='')))",
      "application/vnd.jupyter.widget-view+json": {
       "version_major": 2,
       "version_minor": 0,
       "model_id": "211dd7e7d157472cbb155efdea2c6705"
      }
     },
     "metadata": {}
    },
    {
     "output_type": "stream",
     "name": "stdout",
     "text": [
      "\nBuilding index...\nDone.\n"
     ]
    }
   ],
   "source": [
    "vectorizer = TfidfVectorizer(min_df=10,max_df=.9,analyzer='char', ngram_range=(1,4))\n",
    "X = vectorizer.fit_transform(npd_data_red['S-TITLE'])\n",
    "\n",
    "index = AnnoyIndex(X.shape[1], metric='euclidean')\n",
    "\n",
    "for i,v in tqdm(enumerate(X)):\n",
    "    index.add_item(i, v.todense().T)\n",
    "print('Building index...')\n",
    "index.build(50)\n",
    "print('Done.')"
   ]
  },
  {
   "source": [
    "# Annotation: title loop"
   ],
   "cell_type": "markdown",
   "metadata": {}
  },
  {
   "cell_type": "code",
   "execution_count": 593,
   "metadata": {},
   "outputs": [],
   "source": [
    "\n",
    "row_idx = 0\n",
    "all_annotations = []\n",
    "stop_at = meta_merged_sel.shape[0]"
   ]
  },
  {
   "cell_type": "code",
   "execution_count": 616,
   "metadata": {},
   "outputs": [
    {
     "output_type": "stream",
     "name": "stdout",
     "text": [
      "Done.\nSaving to ./link_dump/jisc_links/jisc_links_1900.pickle\nAnnotate next year\n"
     ]
    }
   ],
   "source": [
    "\n",
    "if row_idx >= stop_at:\n",
    "    out_path = f'./link_dump/jisc_links/jisc_links_{target_year}.pickle'\n",
    "    with open(out_path,'wb') as out_pickle:\n",
    "        pickle.dump(all_annotations,out_pickle)\n",
    "    df = insert_annotations(Path('./output_data/MPD_export_1846_1920_JISC.csv'),\n",
    "                        Path(f'./link_dump/jisc_links/jisc_links_{target_year}.pickle'),col='JISC')\n",
    "    iteration+=1\n",
    "    print('Done.')\n",
    "    print(f'Saving to {out_path}')\n",
    "    print('Annotate next year')\n",
    "else:\n",
    "    print(f\"at {row_idx+1} of {stop_at} newspapers\")\n",
    "\n",
    "    row = meta_merged_sel.iloc[row_idx]\n",
    "    title = row[\"Newspaper Title\"]\n",
    "    norm_title = row[\"Normalised Title\"]\n",
    "    \n",
    "    vector = vectorizer.transform([title+' '+norm_title]).todense().reshape(-1).T\n",
    "    candidates = index.get_nns_by_vector(vector,5)\n",
    "    annotations = annotate(\n",
    "      [(c,row['System ID'],npd_data_red.iloc[c]['id'],npd_data_red.iloc[c]['chain_id']) for c in candidates],\n",
    "        options=['same', 'different'],\n",
    "        display_fn=lambda c :  print(row[\"Normalised Title\"].upper(),'||',row['Newspaper Title'].upper(), \"||\" ,\n",
    "                                        row['First geographical subject heading'],\n",
    "                                        '\\n--->\\n', \n",
    "                                        npd_data_red.iloc[c[0]]['S-TITLE'], \" || \",\n",
    "                                        npd_data_red.iloc[c[0]]['DISTRICT'])\n",
    "        )"
   ]
  },
  {
   "cell_type": "code",
   "execution_count": 615,
   "metadata": {},
   "outputs": [
    {
     "output_type": "execute_result",
     "data": {
      "text/plain": [
       "55"
      ]
     },
     "metadata": {},
     "execution_count": 615
    }
   ],
   "source": [
    "row_idx+=1\n",
    "all_annotations.extend(annotations)\n",
    "len(all_annotations)"
   ]
  },
  {
   "source": [
    "# Check manually later\n",
    "\n",
    "\n",
    "## Provincial\n",
    "\n",
    "Freeman's Journal and Daily Commercial Advertiser: 1847 \n",
    "\n",
    "BANER AC AMSERAU CYMRU: 1858, 1860, 1883,\n",
    "\n",
    "WREXHAM ADVERTISER: 1858, 1860, 1863, 1865? 1900\n",
    "\n",
    "IPSWICH JOURNAL: 1890, 1893?, 1895, 1898, 1900\n",
    "\n",
    "HULL PACKET: 1883\n",
    "\n",
    "NORTHERN STAR: 1846, 1847, 1851\n",
    "\n",
    "GOLEUAD: 1883\n",
    "\n",
    "YORK HERALD: 1888\n",
    "\n",
    "## Other\n",
    "\n",
    "GRAPHIC: 1873\n",
    "\n",
    "THE ERA: 1846, 1851, 1856, 1858, 1860, 1865, 1880\n",
    "\n",
    "ILLUSTRATED POLICE NEWS: 1868\n",
    "\n",
    "MORNING CHRONICLE: 1863, 1865\n",
    "\n",
    "MORNING POST: 1870, 1890, 1900\n",
    "\n",
    "PALL MALL GAZETTE: 1865, 1890\n",
    "\n",
    "ISLE OF MAN TIMES: 1870, 1873, 1875, 1878, 1880, 1885\n",
    "\n",
    "GUERNSEY STAR: 1870, 1873, 1875, 1878, 1880, 1885, 1890, 1895, 1900\n",
    "\n",
    "DAILY NEWS (London): 1890\n",
    "\n",
    "PROTESTAN STANDARD: 1890\n",
    "\n",
    "\n",
    "\n",
    "\n"
   ],
   "cell_type": "markdown",
   "metadata": {}
  },
  {
   "cell_type": "code",
   "execution_count": null,
   "metadata": {},
   "outputs": [],
   "source": [
    "### Manually added\n",
    "## Provincial\n",
    "\n",
    "Freeman's Journal and Daily Commercial Advertiser: 1847 \n",
    "\n",
    "BANER AC AMSERAU CYMRU: 1858, 1860, 1883,\n",
    "\n",
    "WREXHAM ADVERTISER: 1858, 1860, 1863, 1865? 1900\n",
    "\n",
    "IPSWICH JOURNAL: 1890, 1893?, 1895, 1898, 1900\n",
    "\n",
    "HULL PACKET: ?1883\n",
    "\n",
    "NORTHERN STAR: 1846, 1847, 1851\n",
    "\n",
    "GOLEUAD: 1883\n",
    "\n",
    "YORK HERALD: 1888"
   ]
  },
  {
   "source": [
    "## Missing links"
   ],
   "cell_type": "markdown",
   "metadata": {}
  },
  {
   "cell_type": "code",
   "execution_count": 5,
   "metadata": {},
   "outputs": [
    {
     "output_type": "execute_result",
     "data": {
      "text/plain": [
       "[PosixPath('link_dump/jisc_links/jisc_links_1865.pickle'),\n",
       " PosixPath('link_dump/jisc_links/jisc_links_1860.pickle'),\n",
       " PosixPath('link_dump/jisc_links/jisc_links_1900.pickle'),\n",
       " PosixPath('link_dump/jisc_links/jisc_links_1856.pickle'),\n",
       " PosixPath('link_dump/jisc_links/jisc_links_1895.pickle'),\n",
       " PosixPath('link_dump/jisc_links/jisc_links_1847.pickle'),\n",
       " PosixPath('link_dump/jisc_links/jisc_links_1885.pickle'),\n",
       " PosixPath('link_dump/jisc_links/jisc_links_1870.pickle'),\n",
       " PosixPath('link_dump/jisc_links/jisc_links_1851.pickle'),\n",
       " PosixPath('link_dump/jisc_links/jisc_links_1880.pickle'),\n",
       " PosixPath('link_dump/jisc_links/jisc_links_1875.pickle'),\n",
       " PosixPath('link_dump/jisc_links/jisc_links_1890.pickle')]"
      ]
     },
     "metadata": {},
     "execution_count": 5
    }
   ],
   "source": [
    "list(Path(f'./link_dump/jisc_links/').glob(\"*.pickle\"))"
   ]
  },
  {
   "cell_type": "code",
   "execution_count": null,
   "metadata": {},
   "outputs": [],
   "source": []
  }
 ]
}