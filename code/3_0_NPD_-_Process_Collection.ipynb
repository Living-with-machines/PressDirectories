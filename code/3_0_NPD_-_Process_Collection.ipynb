{
 "cells": [
  {
   "cell_type": "code",
   "execution_count": 6,
   "metadata": {},
   "outputs": [
    {
     "output_type": "stream",
     "name": "stdout",
     "text": [
      "The autoreload extension is already loaded. To reload it, use:\n  %reload_ext autoreload\n"
     ]
    }
   ],
   "source": [
    "%load_ext autoreload"
   ]
  },
  {
   "cell_type": "code",
   "execution_count": 7,
   "metadata": {},
   "outputs": [],
   "source": [
    "%autoreload 2"
   ]
  },
  {
   "cell_type": "code",
   "execution_count": 8,
   "metadata": {},
   "outputs": [],
   "source": [
    "from tools.collection_tools import Collection\n",
    "from tools.linking_tools import Annotator\n",
    "from tools.helpers import range_to_pagenumbers, clean_all_csv\n",
    "from pathlib import Path\n",
    "import pandas as pd\n",
    "import pickle"
   ]
  },
  {
   "cell_type": "markdown",
   "metadata": {},
   "source": [
    "## Process corpus"
   ]
  },
  {
   "cell_type": "code",
   "execution_count": 9,
   "metadata": {},
   "outputs": [],
   "source": [
    "ROOT = Path('/deezy_datadrive/kaspar-playground/npd')\n",
    "DATA = ROOT / 'Data'\n",
    "IN_PATH = DATA / \"Original\"\n",
    "OUT_PATH = DATA /  \"Processed\"\n",
    "MODELS_PATH = ROOT / 'Models'"
   ]
  },
  {
   "cell_type": "code",
   "execution_count": 10,
   "metadata": {},
   "outputs": [],
   "source": [
    "editions_all = pickle.load(open('../editions_all.pickle','rb'))"
   ]
  },
  {
   "cell_type": "code",
   "execution_count": 11,
   "metadata": {},
   "outputs": [],
   "source": [
    "#selected_years = [int(p.name.split(\"_\")[1]) for p in list(IN_PATH.glob('MPD_*'))]\n",
    "#selected_years = [1846,1910]\n",
    "#selected_years = [1846,1847,1851,1856,1858,\n",
    "#                  1860,1863,1865,1868,1870,\n",
    "#                  1873,1875,1878,1880,1883,\n",
    "#                  1885,1888,1890,1893,1895,\n",
    "#                  1898,1900,1903,1905,1908,\n",
    "#                  1910,1913,1915,1918,1920\n",
    "#                 ]\n",
    "\n",
    "selected_years = [1846,1847,1851,1856,1858,\n",
    "                  1860,1863,1865,1868,\n",
    "                  1870,1873,1875,1878,\n",
    "                  1880,1883,1885,1888,\n",
    "                  1890,1893,1895,1898,\n",
    "                  1900,1905,1910,1915,1920\n",
    "                 ]\n",
    "\n",
    "\n",
    "editions = { y : editions_all[y] for y in selected_years }"
   ]
  },
  {
   "cell_type": "code",
   "execution_count": 12,
   "metadata": {},
   "outputs": [],
   "source": [
    "editions = range_to_pagenumbers(editions)"
   ]
  },
  {
   "cell_type": "code",
   "execution_count": 13,
   "metadata": {},
   "outputs": [],
   "source": [
    "segmentation_model = MODELS_PATH / 'structure_tagger' / 'best-model.pt'\n",
    "semantic_model = MODELS_PATH / 'lemmas_tagger' / 'best-model.pt'"
   ]
  },
  {
   "cell_type": "code",
   "execution_count": 14,
   "metadata": {},
   "outputs": [],
   "source": [
    "collection = Collection(editions,IN_PATH,OUT_PATH)"
   ]
  },
  {
   "cell_type": "markdown",
   "metadata": {},
   "source": [
    "## Complete processing"
   ]
  },
  {
   "cell_type": "code",
   "execution_count": 19,
   "metadata": {
    "tags": []
   },
   "outputs": [
    {
     "name": "stdout",
     "output_type": "stream",
     "text": [
      "Processing 1846.\n",
      "Parsing structure...\n",
      "Structure not parsed yet, creating data...\n",
      "2021-03-12 10:02:02,810 loading file /deezy_datadrive/kaspar-playground/npd/Models/structure_tagger/best-model.pt\n"
     ]
    },
    {
     "data": {
      "application/vnd.jupyter.widget-view+json": {
       "model_id": "ceef1c8478d743e68ec344847644609a",
       "version_major": 2,
       "version_minor": 0
      },
      "text/plain": [
       "HBox(children=(FloatProgress(value=0.0, max=254.0), HTML(value='')))"
      ]
     },
     "metadata": {},
     "output_type": "display_data"
    },
    {
     "name": "stdout",
     "output_type": "stream",
     "text": [
      "\n",
      "Annotating lemmas...\n",
      "2021-03-12 10:11:06,179 loading file /deezy_datadrive/kaspar-playground/npd/Models/lemmas_tagger/best-model.pt\n"
     ]
    },
    {
     "data": {
      "application/vnd.jupyter.widget-view+json": {
       "model_id": "4769c93eeb8740fc9c5ece61714cbf19",
       "version_major": 2,
       "version_minor": 0
      },
      "text/plain": [
       "HBox(children=(FloatProgress(value=0.0, max=273.0), HTML(value='')))"
      ]
     },
     "metadata": {},
     "output_type": "display_data"
    },
    {
     "name": "stdout",
     "output_type": "stream",
     "text": [
      "\n",
      "Saving...\n",
      "Done!\n",
      "Processing 1847.\n",
      "Parsing structure...\n",
      "Structure not parsed yet, creating data...\n",
      "2021-03-12 10:11:59,692 loading file /deezy_datadrive/kaspar-playground/npd/Models/structure_tagger/best-model.pt\n"
     ]
    },
    {
     "data": {
      "application/vnd.jupyter.widget-view+json": {
       "model_id": "bd7ebdc4e8474ecdb8b917ee1b8cde4a",
       "version_major": 2,
       "version_minor": 0
      },
      "text/plain": [
       "HBox(children=(FloatProgress(value=0.0, max=275.0), HTML(value='')))"
      ]
     },
     "metadata": {},
     "output_type": "display_data"
    },
    {
     "name": "stdout",
     "output_type": "stream",
     "text": [
      "\n",
      "Annotating lemmas...\n",
      "2021-03-12 10:21:54,706 loading file /deezy_datadrive/kaspar-playground/npd/Models/lemmas_tagger/best-model.pt\n"
     ]
    },
    {
     "data": {
      "application/vnd.jupyter.widget-view+json": {
       "model_id": "f38301d6228a4d3e8d171db4e254de80",
       "version_major": 2,
       "version_minor": 0
      },
      "text/plain": [
       "HBox(children=(FloatProgress(value=0.0, max=295.0), HTML(value='')))"
      ]
     },
     "metadata": {},
     "output_type": "display_data"
    },
    {
     "name": "stdout",
     "output_type": "stream",
     "text": [
      "\n",
      "Saving...\n",
      "Done!\n",
      "Processing 1851.\n",
      "Parsing structure...\n",
      "Structure not parsed yet, creating data...\n",
      "2021-03-12 10:22:51,652 loading file /deezy_datadrive/kaspar-playground/npd/Models/structure_tagger/best-model.pt\n"
     ]
    },
    {
     "data": {
      "application/vnd.jupyter.widget-view+json": {
       "model_id": "8b411fa7475c4e59872a1ee8d8725c27",
       "version_major": 2,
       "version_minor": 0
      },
      "text/plain": [
       "HBox(children=(FloatProgress(value=0.0, max=285.0), HTML(value='')))"
      ]
     },
     "metadata": {},
     "output_type": "display_data"
    },
    {
     "name": "stdout",
     "output_type": "stream",
     "text": [
      "\n",
      "Annotating lemmas...\n",
      "2021-03-12 10:33:10,224 loading file /deezy_datadrive/kaspar-playground/npd/Models/lemmas_tagger/best-model.pt\n"
     ]
    },
    {
     "data": {
      "application/vnd.jupyter.widget-view+json": {
       "model_id": "5035ed297060414dac60846f4ad8d129",
       "version_major": 2,
       "version_minor": 0
      },
      "text/plain": [
       "HBox(children=(FloatProgress(value=0.0, max=320.0), HTML(value='')))"
      ]
     },
     "metadata": {},
     "output_type": "display_data"
    },
    {
     "name": "stdout",
     "output_type": "stream",
     "text": [
      "\n",
      "Saving...\n",
      "Done!\n",
      "Processing 1856.\n",
      "Parsing structure...\n",
      "Structure not parsed yet, creating data...\n",
      "2021-03-12 10:34:11,312 loading file /deezy_datadrive/kaspar-playground/npd/Models/structure_tagger/best-model.pt\n"
     ]
    },
    {
     "data": {
      "application/vnd.jupyter.widget-view+json": {
       "model_id": "89af208e096d4d608ea4e1c23f6f9d47",
       "version_major": 2,
       "version_minor": 0
      },
      "text/plain": [
       "HBox(children=(FloatProgress(value=0.0, max=75.0), HTML(value='')))"
      ]
     },
     "metadata": {},
     "output_type": "display_data"
    },
    {
     "name": "stdout",
     "output_type": "stream",
     "text": [
      "\n",
      "Annotating lemmas...\n",
      "2021-03-12 10:45:22,263 loading file /deezy_datadrive/kaspar-playground/npd/Models/lemmas_tagger/best-model.pt\n"
     ]
    },
    {
     "data": {
      "application/vnd.jupyter.widget-view+json": {
       "model_id": "06f2ff5888234783a4b95b76dd3cb0f8",
       "version_major": 2,
       "version_minor": 0
      },
      "text/plain": [
       "HBox(children=(FloatProgress(value=0.0, max=375.0), HTML(value='')))"
      ]
     },
     "metadata": {},
     "output_type": "display_data"
    },
    {
     "name": "stdout",
     "output_type": "stream",
     "text": [
      "\n",
      "Saving...\n",
      "Done!\n",
      "Processing 1858.\n",
      "Parsing structure...\n",
      "Structure not parsed yet, creating data...\n",
      "2021-03-12 10:46:33,129 loading file /deezy_datadrive/kaspar-playground/npd/Models/structure_tagger/best-model.pt\n"
     ]
    },
    {
     "data": {
      "application/vnd.jupyter.widget-view+json": {
       "model_id": "514fd7e2804d43b8a589794d9fb24344",
       "version_major": 2,
       "version_minor": 0
      },
      "text/plain": [
       "HBox(children=(FloatProgress(value=0.0, max=81.0), HTML(value='')))"
      ]
     },
     "metadata": {},
     "output_type": "display_data"
    },
    {
     "name": "stdout",
     "output_type": "stream",
     "text": [
      "\n",
      "Annotating lemmas...\n",
      "2021-03-12 10:58:26,484 loading file /deezy_datadrive/kaspar-playground/npd/Models/lemmas_tagger/best-model.pt\n"
     ]
    },
    {
     "data": {
      "application/vnd.jupyter.widget-view+json": {
       "model_id": "9adecb306662478db1ca1c0b4bf37a60",
       "version_major": 2,
       "version_minor": 0
      },
      "text/plain": [
       "HBox(children=(FloatProgress(value=0.0, max=386.0), HTML(value='')))"
      ]
     },
     "metadata": {},
     "output_type": "display_data"
    },
    {
     "name": "stderr",
     "output_type": "stream",
     "text": [
      "IOPub message rate exceeded.\n",
      "The notebook server will temporarily stop sending output\n",
      "to the client in order to avoid crashing it.\n",
      "To change this limit, set the config variable\n",
      "`--NotebookApp.iopub_msg_rate_limit`.\n",
      "\n",
      "Current values:\n",
      "NotebookApp.iopub_msg_rate_limit=1000.0 (msgs/sec)\n",
      "NotebookApp.rate_limit_window=3.0 (secs)\n",
      "\n"
     ]
    },
    {
     "name": "stdout",
     "output_type": "stream",
     "text": [
      "\n",
      "Saving...\n",
      "Done!\n",
      "Processing 1868.\n",
      "Parsing structure...\n",
      "Structure not parsed yet, creating data...\n",
      "2021-03-12 11:44:54,514 loading file /deezy_datadrive/kaspar-playground/npd/Models/structure_tagger/best-model.pt\n"
     ]
    },
    {
     "data": {
      "application/vnd.jupyter.widget-view+json": {
       "model_id": "2c76001e97e94bf5af00219c540a8dce",
       "version_major": 2,
       "version_minor": 0
      },
      "text/plain": [
       "HBox(children=(FloatProgress(value=0.0, max=103.0), HTML(value='')))"
      ]
     },
     "metadata": {},
     "output_type": "display_data"
    },
    {
     "name": "stdout",
     "output_type": "stream",
     "text": [
      "\n",
      "Annotating lemmas...\n",
      "2021-03-12 11:59:44,053 loading file /deezy_datadrive/kaspar-playground/npd/Models/lemmas_tagger/best-model.pt\n"
     ]
    },
    {
     "data": {
      "application/vnd.jupyter.widget-view+json": {
       "model_id": "eeae378887b647dab9df75e7b5598c44",
       "version_major": 2,
       "version_minor": 0
      },
      "text/plain": [
       "HBox(children=(FloatProgress(value=0.0, max=596.0), HTML(value='')))"
      ]
     },
     "metadata": {},
     "output_type": "display_data"
    },
    {
     "name": "stdout",
     "output_type": "stream",
     "text": [
      "\n",
      "Saving...\n",
      "Done!\n",
      "Processing 1870.\n",
      "Parsing structure...\n",
      "Structure not parsed yet, creating data...\n",
      "2021-03-12 12:01:22,282 loading file /deezy_datadrive/kaspar-playground/npd/Models/structure_tagger/best-model.pt\n"
     ]
    },
    {
     "data": {
      "application/vnd.jupyter.widget-view+json": {
       "model_id": "ac13445621004448acb8a2112381083b",
       "version_major": 2,
       "version_minor": 0
      },
      "text/plain": [
       "HBox(children=(FloatProgress(value=0.0, max=103.0), HTML(value='')))"
      ]
     },
     "metadata": {},
     "output_type": "display_data"
    },
    {
     "name": "stdout",
     "output_type": "stream",
     "text": [
      "\n",
      "Annotating lemmas...\n",
      "2021-03-12 12:16:08,079 loading file /deezy_datadrive/kaspar-playground/npd/Models/lemmas_tagger/best-model.pt\n"
     ]
    },
    {
     "data": {
      "application/vnd.jupyter.widget-view+json": {
       "model_id": "48368b74cf914142bd80638d30a1b705",
       "version_major": 2,
       "version_minor": 0
      },
      "text/plain": [
       "HBox(children=(FloatProgress(value=0.0, max=604.0), HTML(value='')))"
      ]
     },
     "metadata": {},
     "output_type": "display_data"
    },
    {
     "name": "stdout",
     "output_type": "stream",
     "text": [
      "\n",
      "Saving...\n",
      "Done!\n",
      "Processing 1873.\n",
      "Parsing structure...\n",
      "Structure not parsed yet, creating data...\n",
      "2021-03-12 12:17:49,944 loading file /deezy_datadrive/kaspar-playground/npd/Models/structure_tagger/best-model.pt\n"
     ]
    },
    {
     "data": {
      "application/vnd.jupyter.widget-view+json": {
       "model_id": "d8bf2e462e2f4588b52867ebc32fa53f",
       "version_major": 2,
       "version_minor": 0
      },
      "text/plain": [
       "HBox(children=(FloatProgress(value=0.0, max=108.0), HTML(value='')))"
      ]
     },
     "metadata": {},
     "output_type": "display_data"
    },
    {
     "name": "stdout",
     "output_type": "stream",
     "text": [
      "\n",
      "Annotating lemmas...\n",
      "2021-03-12 12:33:39,967 loading file /deezy_datadrive/kaspar-playground/npd/Models/lemmas_tagger/best-model.pt\n"
     ]
    },
    {
     "data": {
      "application/vnd.jupyter.widget-view+json": {
       "model_id": "1aeec30b0fe64c1588403a4336d8b46e",
       "version_major": 2,
       "version_minor": 0
      },
      "text/plain": [
       "HBox(children=(FloatProgress(value=0.0, max=645.0), HTML(value='')))"
      ]
     },
     "metadata": {},
     "output_type": "display_data"
    },
    {
     "name": "stdout",
     "output_type": "stream",
     "text": [
      "\n",
      "Saving...\n",
      "Done!\n",
      "Processing 1875.\n",
      "Parsing structure...\n",
      "Structure not parsed yet, creating data...\n",
      "2021-03-12 12:35:33,776 loading file /deezy_datadrive/kaspar-playground/npd/Models/structure_tagger/best-model.pt\n"
     ]
    },
    {
     "data": {
      "application/vnd.jupyter.widget-view+json": {
       "model_id": "3a2884cb74934f31a24595aac6166fbe",
       "version_major": 2,
       "version_minor": 0
      },
      "text/plain": [
       "HBox(children=(FloatProgress(value=0.0, max=113.0), HTML(value='')))"
      ]
     },
     "metadata": {},
     "output_type": "display_data"
    },
    {
     "name": "stdout",
     "output_type": "stream",
     "text": [
      "\n",
      "Annotating lemmas...\n",
      "2021-03-12 12:52:07,541 loading file /deezy_datadrive/kaspar-playground/npd/Models/lemmas_tagger/best-model.pt\n"
     ]
    },
    {
     "data": {
      "application/vnd.jupyter.widget-view+json": {
       "model_id": "c561d73652354b49b7d51e6cb7060475",
       "version_major": 2,
       "version_minor": 0
      },
      "text/plain": [
       "HBox(children=(FloatProgress(value=0.0, max=671.0), HTML(value='')))"
      ]
     },
     "metadata": {},
     "output_type": "display_data"
    },
    {
     "name": "stdout",
     "output_type": "stream",
     "text": [
      "\n",
      "Saving...\n",
      "Done!\n",
      "Processing 1878.\n",
      "Parsing structure...\n",
      "Structure not parsed yet, creating data...\n",
      "2021-03-12 12:54:06,107 loading file /deezy_datadrive/kaspar-playground/npd/Models/structure_tagger/best-model.pt\n"
     ]
    },
    {
     "data": {
      "application/vnd.jupyter.widget-view+json": {
       "model_id": "de59323b71924910bd5ff92816195d01",
       "version_major": 2,
       "version_minor": 0
      },
      "text/plain": [
       "HBox(children=(FloatProgress(value=0.0, max=104.0), HTML(value='')))"
      ]
     },
     "metadata": {},
     "output_type": "display_data"
    },
    {
     "name": "stdout",
     "output_type": "stream",
     "text": [
      "\n",
      "Annotating lemmas...\n",
      "2021-03-12 13:11:28,825 loading file /deezy_datadrive/kaspar-playground/npd/Models/lemmas_tagger/best-model.pt\n"
     ]
    },
    {
     "data": {
      "application/vnd.jupyter.widget-view+json": {
       "model_id": "0d66aee6d1064e268b3aabd36728980d",
       "version_major": 2,
       "version_minor": 0
      },
      "text/plain": [
       "HBox(children=(FloatProgress(value=0.0, max=694.0), HTML(value='')))"
      ]
     },
     "metadata": {},
     "output_type": "display_data"
    },
    {
     "name": "stdout",
     "output_type": "stream",
     "text": [
      "\n",
      "Saving...\n",
      "Done!\n",
      "Processing 1880.\n",
      "Parsing structure...\n",
      "Structure not parsed yet, creating data...\n",
      "2021-03-12 13:13:28,487 loading file /deezy_datadrive/kaspar-playground/npd/Models/structure_tagger/best-model.pt\n"
     ]
    },
    {
     "data": {
      "application/vnd.jupyter.widget-view+json": {
       "model_id": "b9092c4e50e34be0aca9319608688f88",
       "version_major": 2,
       "version_minor": 0
      },
      "text/plain": [
       "HBox(children=(FloatProgress(value=0.0, max=106.0), HTML(value='')))"
      ]
     },
     "metadata": {},
     "output_type": "display_data"
    },
    {
     "name": "stdout",
     "output_type": "stream",
     "text": [
      "\n",
      "Annotating lemmas...\n",
      "2021-03-12 13:31:42,269 loading file /deezy_datadrive/kaspar-playground/npd/Models/lemmas_tagger/best-model.pt\n"
     ]
    },
    {
     "data": {
      "application/vnd.jupyter.widget-view+json": {
       "model_id": "f711bf17cb454908967d2c78fdf25cf3",
       "version_major": 2,
       "version_minor": 0
      },
      "text/plain": [
       "HBox(children=(FloatProgress(value=0.0, max=720.0), HTML(value='')))"
      ]
     },
     "metadata": {},
     "output_type": "display_data"
    },
    {
     "name": "stdout",
     "output_type": "stream",
     "text": [
      "\n",
      "Saving...\n",
      "Done!\n",
      "Processing 1883.\n",
      "Parsing structure...\n",
      "Structure not parsed yet, creating data...\n",
      "2021-03-12 13:33:48,880 loading file /deezy_datadrive/kaspar-playground/npd/Models/structure_tagger/best-model.pt\n"
     ]
    },
    {
     "data": {
      "application/vnd.jupyter.widget-view+json": {
       "model_id": "00bd949e9cbb477ea160ab6c93664a61",
       "version_major": 2,
       "version_minor": 0
      },
      "text/plain": [
       "HBox(children=(FloatProgress(value=0.0, max=115.0), HTML(value='')))"
      ]
     },
     "metadata": {},
     "output_type": "display_data"
    },
    {
     "name": "stdout",
     "output_type": "stream",
     "text": [
      "\n",
      "Annotating lemmas...\n",
      "2021-03-12 13:53:07,445 loading file /deezy_datadrive/kaspar-playground/npd/Models/lemmas_tagger/best-model.pt\n"
     ]
    },
    {
     "data": {
      "application/vnd.jupyter.widget-view+json": {
       "model_id": "7139b9e9aabf4333ab4171b23ae27a41",
       "version_major": 2,
       "version_minor": 0
      },
      "text/plain": [
       "HBox(children=(FloatProgress(value=0.0, max=772.0), HTML(value='')))"
      ]
     },
     "metadata": {},
     "output_type": "display_data"
    },
    {
     "name": "stdout",
     "output_type": "stream",
     "text": [
      "\n",
      "Saving...\n",
      "Done!\n",
      "Processing 1885.\n",
      "Parsing structure...\n",
      "Structure not parsed yet, creating data...\n",
      "2021-03-12 13:55:21,161 loading file /deezy_datadrive/kaspar-playground/npd/Models/structure_tagger/best-model.pt\n"
     ]
    },
    {
     "data": {
      "application/vnd.jupyter.widget-view+json": {
       "model_id": "47ea9ac241594171b16982e2260b9ffe",
       "version_major": 2,
       "version_minor": 0
      },
      "text/plain": [
       "HBox(children=(FloatProgress(value=0.0, max=120.0), HTML(value='')))"
      ]
     },
     "metadata": {},
     "output_type": "display_data"
    },
    {
     "name": "stdout",
     "output_type": "stream",
     "text": [
      "\n",
      "Annotating lemmas...\n",
      "2021-03-12 14:15:22,438 loading file /deezy_datadrive/kaspar-playground/npd/Models/lemmas_tagger/best-model.pt\n"
     ]
    },
    {
     "data": {
      "application/vnd.jupyter.widget-view+json": {
       "model_id": "794c57eae9e0469f9af7f07a5e44d3de",
       "version_major": 2,
       "version_minor": 0
      },
      "text/plain": [
       "HBox(children=(FloatProgress(value=0.0, max=791.0), HTML(value='')))"
      ]
     },
     "metadata": {},
     "output_type": "display_data"
    },
    {
     "name": "stdout",
     "output_type": "stream",
     "text": [
      "\n",
      "Saving...\n",
      "Done!\n",
      "Processing 1888.\n",
      "Parsing structure...\n",
      "Structure not parsed yet, creating data...\n",
      "2021-03-12 14:17:40,197 loading file /deezy_datadrive/kaspar-playground/npd/Models/structure_tagger/best-model.pt\n"
     ]
    },
    {
     "data": {
      "application/vnd.jupyter.widget-view+json": {
       "model_id": "7f227eb7bcc44c4b81344bcaeea58f63",
       "version_major": 2,
       "version_minor": 0
      },
      "text/plain": [
       "HBox(children=(FloatProgress(value=0.0, max=128.0), HTML(value='')))"
      ]
     },
     "metadata": {},
     "output_type": "display_data"
    },
    {
     "name": "stdout",
     "output_type": "stream",
     "text": [
      "\n",
      "Annotating lemmas...\n",
      "2021-03-12 14:38:28,579 loading file /deezy_datadrive/kaspar-playground/npd/Models/lemmas_tagger/best-model.pt\n"
     ]
    },
    {
     "data": {
      "application/vnd.jupyter.widget-view+json": {
       "model_id": "1c7f3e4a1e5c4877a0b60c3b662cf10c",
       "version_major": 2,
       "version_minor": 0
      },
      "text/plain": [
       "HBox(children=(FloatProgress(value=0.0, max=820.0), HTML(value='')))"
      ]
     },
     "metadata": {},
     "output_type": "display_data"
    },
    {
     "name": "stdout",
     "output_type": "stream",
     "text": [
      "\n",
      "Saving...\n",
      "Done!\n",
      "Processing 1890.\n",
      "Parsing structure...\n",
      "Structure not parsed yet, creating data...\n",
      "2021-03-12 14:40:55,668 loading file /deezy_datadrive/kaspar-playground/npd/Models/structure_tagger/best-model.pt\n"
     ]
    },
    {
     "data": {
      "application/vnd.jupyter.widget-view+json": {
       "model_id": "c67fdb1d02d141c7909e966cffcfeb74",
       "version_major": 2,
       "version_minor": 0
      },
      "text/plain": [
       "HBox(children=(FloatProgress(value=0.0, max=128.0), HTML(value='')))"
      ]
     },
     "metadata": {},
     "output_type": "display_data"
    },
    {
     "name": "stdout",
     "output_type": "stream",
     "text": [
      "\n",
      "Annotating lemmas...\n",
      "2021-03-12 15:01:40,512 loading file /deezy_datadrive/kaspar-playground/npd/Models/lemmas_tagger/best-model.pt\n"
     ]
    },
    {
     "data": {
      "application/vnd.jupyter.widget-view+json": {
       "model_id": "3b74123b07134d4ca4f61eef2188e1b0",
       "version_major": 2,
       "version_minor": 0
      },
      "text/plain": [
       "HBox(children=(FloatProgress(value=0.0, max=822.0), HTML(value='')))"
      ]
     },
     "metadata": {},
     "output_type": "display_data"
    },
    {
     "name": "stdout",
     "output_type": "stream",
     "text": [
      "\n",
      "Saving...\n",
      "Done!\n",
      "Processing 1893.\n",
      "Parsing structure...\n",
      "Structure not parsed yet, creating data...\n",
      "2021-03-12 15:04:07,420 loading file /deezy_datadrive/kaspar-playground/npd/Models/structure_tagger/best-model.pt\n"
     ]
    },
    {
     "data": {
      "application/vnd.jupyter.widget-view+json": {
       "model_id": "688732e9303c43729c7ec8f7cf76d3fb",
       "version_major": 2,
       "version_minor": 0
      },
      "text/plain": [
       "HBox(children=(FloatProgress(value=0.0, max=134.0), HTML(value='')))"
      ]
     },
     "metadata": {},
     "output_type": "display_data"
    },
    {
     "name": "stdout",
     "output_type": "stream",
     "text": [
      "\n",
      "Annotating lemmas...\n",
      "2021-03-12 15:25:41,107 loading file /deezy_datadrive/kaspar-playground/npd/Models/lemmas_tagger/best-model.pt\n"
     ]
    },
    {
     "data": {
      "application/vnd.jupyter.widget-view+json": {
       "model_id": "6905a48554034e15b9c8820ae28c80b2",
       "version_major": 2,
       "version_minor": 0
      },
      "text/plain": [
       "HBox(children=(FloatProgress(value=0.0, max=852.0), HTML(value='')))"
      ]
     },
     "metadata": {},
     "output_type": "display_data"
    },
    {
     "name": "stdout",
     "output_type": "stream",
     "text": [
      "\n",
      "Saving...\n",
      "Done!\n",
      "Processing 1895.\n",
      "Parsing structure...\n",
      "Structure not parsed yet, creating data...\n",
      "2021-03-12 15:28:14,519 loading file /deezy_datadrive/kaspar-playground/npd/Models/structure_tagger/best-model.pt\n"
     ]
    },
    {
     "data": {
      "application/vnd.jupyter.widget-view+json": {
       "model_id": "3ef224b658bf48698c2fc958af43518c",
       "version_major": 2,
       "version_minor": 0
      },
      "text/plain": [
       "HBox(children=(FloatProgress(value=0.0, max=134.0), HTML(value='')))"
      ]
     },
     "metadata": {},
     "output_type": "display_data"
    },
    {
     "name": "stdout",
     "output_type": "stream",
     "text": [
      "\n",
      "Annotating lemmas...\n",
      "2021-03-12 15:49:44,513 loading file /deezy_datadrive/kaspar-playground/npd/Models/lemmas_tagger/best-model.pt\n"
     ]
    },
    {
     "data": {
      "application/vnd.jupyter.widget-view+json": {
       "model_id": "13e3d3d3f3f44fd398d024f0487288f6",
       "version_major": 2,
       "version_minor": 0
      },
      "text/plain": [
       "HBox(children=(FloatProgress(value=0.0, max=837.0), HTML(value='')))"
      ]
     },
     "metadata": {},
     "output_type": "display_data"
    },
    {
     "name": "stdout",
     "output_type": "stream",
     "text": [
      "\n",
      "Saving...\n",
      "Done!\n",
      "Processing 1898.\n",
      "Parsing structure...\n",
      "Structure not parsed yet, creating data...\n",
      "2021-03-12 15:52:16,698 loading file /deezy_datadrive/kaspar-playground/npd/Models/structure_tagger/best-model.pt\n"
     ]
    },
    {
     "data": {
      "application/vnd.jupyter.widget-view+json": {
       "model_id": "f0b194ed377c4c16870229dbe3885039",
       "version_major": 2,
       "version_minor": 0
      },
      "text/plain": [
       "HBox(children=(FloatProgress(value=0.0, max=141.0), HTML(value='')))"
      ]
     },
     "metadata": {},
     "output_type": "display_data"
    },
    {
     "name": "stdout",
     "output_type": "stream",
     "text": [
      "\n",
      "Annotating lemmas...\n",
      "2021-03-12 16:14:29,526 loading file /deezy_datadrive/kaspar-playground/npd/Models/lemmas_tagger/best-model.pt\n"
     ]
    },
    {
     "data": {
      "application/vnd.jupyter.widget-view+json": {
       "model_id": "609d15dac56d4abfad0f25c884187d5b",
       "version_major": 2,
       "version_minor": 0
      },
      "text/plain": [
       "HBox(children=(FloatProgress(value=0.0, max=885.0), HTML(value='')))"
      ]
     },
     "metadata": {},
     "output_type": "display_data"
    },
    {
     "name": "stdout",
     "output_type": "stream",
     "text": [
      "\n",
      "Saving...\n",
      "Done!\n",
      "Processing 1900.\n",
      "Parsing structure...\n",
      "Structure not parsed yet, creating data...\n",
      "2021-03-12 16:17:06,107 loading file /deezy_datadrive/kaspar-playground/npd/Models/structure_tagger/best-model.pt\n"
     ]
    },
    {
     "data": {
      "application/vnd.jupyter.widget-view+json": {
       "model_id": "d7942dfcc7224cb0b3516368fc17f0e7",
       "version_major": 2,
       "version_minor": 0
      },
      "text/plain": [
       "HBox(children=(FloatProgress(value=0.0, max=144.0), HTML(value='')))"
      ]
     },
     "metadata": {},
     "output_type": "display_data"
    },
    {
     "name": "stdout",
     "output_type": "stream",
     "text": [
      "\n",
      "Annotating lemmas...\n",
      "2021-03-12 16:39:30,571 loading file /deezy_datadrive/kaspar-playground/npd/Models/lemmas_tagger/best-model.pt\n"
     ]
    },
    {
     "data": {
      "application/vnd.jupyter.widget-view+json": {
       "model_id": "e0a3de97b50741208b908f0f99514710",
       "version_major": 2,
       "version_minor": 0
      },
      "text/plain": [
       "HBox(children=(FloatProgress(value=0.0, max=905.0), HTML(value='')))"
      ]
     },
     "metadata": {},
     "output_type": "display_data"
    },
    {
     "name": "stdout",
     "output_type": "stream",
     "text": [
      "\n",
      "Saving...\n",
      "Done!\n",
      "Processing 1903.\n",
      "Parsing structure...\n",
      "Structure not parsed yet, creating data...\n",
      "2021-03-12 16:42:10,673 loading file /deezy_datadrive/kaspar-playground/npd/Models/structure_tagger/best-model.pt\n"
     ]
    },
    {
     "data": {
      "application/vnd.jupyter.widget-view+json": {
       "model_id": "ce4a17c796cc4fb9a2f37979119d1d95",
       "version_major": 2,
       "version_minor": 0
      },
      "text/plain": [
       "HBox(children=(FloatProgress(value=0.0, max=144.0), HTML(value='')))"
      ]
     },
     "metadata": {},
     "output_type": "display_data"
    },
    {
     "name": "stdout",
     "output_type": "stream",
     "text": [
      "\n",
      "Annotating lemmas...\n",
      "2021-03-12 17:04:15,472 loading file /deezy_datadrive/kaspar-playground/npd/Models/lemmas_tagger/best-model.pt\n"
     ]
    },
    {
     "data": {
      "application/vnd.jupyter.widget-view+json": {
       "model_id": "2e2918a0d8d9439484effd803ecc1014",
       "version_major": 2,
       "version_minor": 0
      },
      "text/plain": [
       "HBox(children=(FloatProgress(value=0.0, max=916.0), HTML(value='')))"
      ]
     },
     "metadata": {},
     "output_type": "display_data"
    },
    {
     "name": "stdout",
     "output_type": "stream",
     "text": [
      "\n",
      "Saving...\n",
      "Done!\n",
      "Processing 1905.\n",
      "Parsing structure...\n",
      "Structure not parsed yet, creating data...\n",
      "2021-03-12 17:06:55,588 loading file /deezy_datadrive/kaspar-playground/npd/Models/structure_tagger/best-model.pt\n"
     ]
    },
    {
     "data": {
      "application/vnd.jupyter.widget-view+json": {
       "model_id": "35cc09494b624e41af9e67d4acea5dea",
       "version_major": 2,
       "version_minor": 0
      },
      "text/plain": [
       "HBox(children=(FloatProgress(value=0.0, max=147.0), HTML(value='')))"
      ]
     },
     "metadata": {},
     "output_type": "display_data"
    },
    {
     "name": "stdout",
     "output_type": "stream",
     "text": [
      "\n",
      "Annotating lemmas...\n",
      "2021-03-12 17:29:14,785 loading file /deezy_datadrive/kaspar-playground/npd/Models/lemmas_tagger/best-model.pt\n"
     ]
    },
    {
     "data": {
      "application/vnd.jupyter.widget-view+json": {
       "model_id": "0bcb10f4c7164476871711c7808d15b3",
       "version_major": 2,
       "version_minor": 0
      },
      "text/plain": [
       "HBox(children=(FloatProgress(value=0.0, max=959.0), HTML(value='')))"
      ]
     },
     "metadata": {},
     "output_type": "display_data"
    },
    {
     "name": "stdout",
     "output_type": "stream",
     "text": [
      "\n",
      "Saving...\n",
      "Done!\n",
      "Processing 1908.\n",
      "Parsing structure...\n",
      "Structure not parsed yet, creating data...\n",
      "2021-03-12 17:31:56,704 loading file /deezy_datadrive/kaspar-playground/npd/Models/structure_tagger/best-model.pt\n"
     ]
    },
    {
     "data": {
      "application/vnd.jupyter.widget-view+json": {
       "model_id": "f9d9757f78ea4aa2935bc6690753c0ab",
       "version_major": 2,
       "version_minor": 0
      },
      "text/plain": [
       "HBox(children=(FloatProgress(value=0.0, max=127.0), HTML(value='')))"
      ]
     },
     "metadata": {},
     "output_type": "display_data"
    },
    {
     "name": "stdout",
     "output_type": "stream",
     "text": [
      "\n",
      "Annotating lemmas...\n",
      "2021-03-12 17:50:45,201 loading file /deezy_datadrive/kaspar-playground/npd/Models/lemmas_tagger/best-model.pt\n"
     ]
    },
    {
     "data": {
      "application/vnd.jupyter.widget-view+json": {
       "model_id": "86618a1922da4685ae820b1898009ce3",
       "version_major": 2,
       "version_minor": 0
      },
      "text/plain": [
       "HBox(children=(FloatProgress(value=0.0, max=918.0), HTML(value='')))"
      ]
     },
     "metadata": {},
     "output_type": "display_data"
    },
    {
     "name": "stdout",
     "output_type": "stream",
     "text": [
      "\n",
      "Saving...\n",
      "Done!\n",
      "Processing 1910.\n",
      "Parsing structure...\n",
      "Structure not parsed yet, creating data...\n",
      "2021-03-12 17:52:58,533 loading file /deezy_datadrive/kaspar-playground/npd/Models/structure_tagger/best-model.pt\n"
     ]
    },
    {
     "data": {
      "application/vnd.jupyter.widget-view+json": {
       "model_id": "329dd02af9914131af427fc51b818849",
       "version_major": 2,
       "version_minor": 0
      },
      "text/plain": [
       "HBox(children=(FloatProgress(value=0.0, max=130.0), HTML(value='')))"
      ]
     },
     "metadata": {},
     "output_type": "display_data"
    },
    {
     "name": "stdout",
     "output_type": "stream",
     "text": [
      "\n",
      "Annotating lemmas...\n",
      "2021-03-12 18:11:21,319 loading file /deezy_datadrive/kaspar-playground/npd/Models/lemmas_tagger/best-model.pt\n"
     ]
    },
    {
     "data": {
      "application/vnd.jupyter.widget-view+json": {
       "model_id": "bef07c1627b1447883cdb6ca1b2d7423",
       "version_major": 2,
       "version_minor": 0
      },
      "text/plain": [
       "HBox(children=(FloatProgress(value=0.0, max=916.0), HTML(value='')))"
      ]
     },
     "metadata": {},
     "output_type": "display_data"
    },
    {
     "name": "stdout",
     "output_type": "stream",
     "text": [
      "\n",
      "Saving...\n",
      "Done!\n",
      "Processing 1913.\n",
      "Parsing structure...\n",
      "Structure not parsed yet, creating data...\n",
      "2021-03-12 18:13:33,810 loading file /deezy_datadrive/kaspar-playground/npd/Models/structure_tagger/best-model.pt\n"
     ]
    },
    {
     "data": {
      "application/vnd.jupyter.widget-view+json": {
       "model_id": "69c2d9217c964dbaa27d2d03ba06d1eb",
       "version_major": 2,
       "version_minor": 0
      },
      "text/plain": [
       "HBox(children=(FloatProgress(value=0.0, max=130.0), HTML(value='')))"
      ]
     },
     "metadata": {},
     "output_type": "display_data"
    },
    {
     "name": "stdout",
     "output_type": "stream",
     "text": [
      "\n",
      "Annotating lemmas...\n",
      "2021-03-12 18:32:18,676 loading file /deezy_datadrive/kaspar-playground/npd/Models/lemmas_tagger/best-model.pt\n"
     ]
    },
    {
     "data": {
      "application/vnd.jupyter.widget-view+json": {
       "model_id": "90b7c1f8d8ae4157a18374757ac4c76d",
       "version_major": 2,
       "version_minor": 0
      },
      "text/plain": [
       "HBox(children=(FloatProgress(value=0.0, max=924.0), HTML(value='')))"
      ]
     },
     "metadata": {},
     "output_type": "display_data"
    },
    {
     "name": "stdout",
     "output_type": "stream",
     "text": [
      "\n",
      "Saving...\n",
      "Done!\n",
      "Processing 1915.\n",
      "Parsing structure...\n",
      "Structure not parsed yet, creating data...\n",
      "2021-03-12 18:34:31,539 loading file /deezy_datadrive/kaspar-playground/npd/Models/structure_tagger/best-model.pt\n"
     ]
    },
    {
     "data": {
      "application/vnd.jupyter.widget-view+json": {
       "model_id": "63d5a475c21946709cea8fec0569b443",
       "version_major": 2,
       "version_minor": 0
      },
      "text/plain": [
       "HBox(children=(FloatProgress(value=0.0, max=130.0), HTML(value='')))"
      ]
     },
     "metadata": {},
     "output_type": "display_data"
    },
    {
     "name": "stdout",
     "output_type": "stream",
     "text": [
      "\n",
      "Annotating lemmas...\n",
      "2021-03-12 18:53:51,452 loading file /deezy_datadrive/kaspar-playground/npd/Models/lemmas_tagger/best-model.pt\n"
     ]
    },
    {
     "data": {
      "application/vnd.jupyter.widget-view+json": {
       "model_id": "590f6cd9b2024749b2bce7999c247fac",
       "version_major": 2,
       "version_minor": 0
      },
      "text/plain": [
       "HBox(children=(FloatProgress(value=0.0, max=936.0), HTML(value='')))"
      ]
     },
     "metadata": {},
     "output_type": "display_data"
    },
    {
     "name": "stdout",
     "output_type": "stream",
     "text": [
      "\n",
      "Saving...\n",
      "Done!\n",
      "Processing 1918.\n",
      "Parsing structure...\n",
      "Structure not parsed yet, creating data...\n",
      "2021-03-12 18:56:10,146 loading file /deezy_datadrive/kaspar-playground/npd/Models/structure_tagger/best-model.pt\n"
     ]
    },
    {
     "data": {
      "application/vnd.jupyter.widget-view+json": {
       "model_id": "3e63d9933c3345eda8aa962906a612f0",
       "version_major": 2,
       "version_minor": 0
      },
      "text/plain": [
       "HBox(children=(FloatProgress(value=0.0, max=132.0), HTML(value='')))"
      ]
     },
     "metadata": {},
     "output_type": "display_data"
    },
    {
     "name": "stdout",
     "output_type": "stream",
     "text": [
      "\n",
      "Annotating lemmas...\n",
      "2021-03-12 19:15:22,049 loading file /deezy_datadrive/kaspar-playground/npd/Models/lemmas_tagger/best-model.pt\n"
     ]
    },
    {
     "data": {
      "application/vnd.jupyter.widget-view+json": {
       "model_id": "a8e6672a36b44b9585b9a53d39b07a74",
       "version_major": 2,
       "version_minor": 0
      },
      "text/plain": [
       "HBox(children=(FloatProgress(value=0.0, max=949.0), HTML(value='')))"
      ]
     },
     "metadata": {},
     "output_type": "display_data"
    },
    {
     "name": "stdout",
     "output_type": "stream",
     "text": [
      "\n",
      "Saving...\n",
      "Done!\n",
      "Processing 1920.\n",
      "Parsing structure...\n",
      "Structure not parsed yet, creating data...\n",
      "2021-03-12 19:17:51,967 loading file /deezy_datadrive/kaspar-playground/npd/Models/structure_tagger/best-model.pt\n"
     ]
    },
    {
     "data": {
      "application/vnd.jupyter.widget-view+json": {
       "model_id": "88da56e91864461692456def057b1193",
       "version_major": 2,
       "version_minor": 0
      },
      "text/plain": [
       "HBox(children=(FloatProgress(value=0.0, max=131.0), HTML(value='')))"
      ]
     },
     "metadata": {},
     "output_type": "display_data"
    },
    {
     "name": "stdout",
     "output_type": "stream",
     "text": [
      "\n",
      "Annotating lemmas...\n",
      "2021-03-12 19:36:29,947 loading file /deezy_datadrive/kaspar-playground/npd/Models/lemmas_tagger/best-model.pt\n"
     ]
    },
    {
     "data": {
      "application/vnd.jupyter.widget-view+json": {
       "model_id": "4fc056daca534ac0ae85913e63154ae0",
       "version_major": 2,
       "version_minor": 0
      },
      "text/plain": [
       "HBox(children=(FloatProgress(value=0.0, max=926.0), HTML(value='')))"
      ]
     },
     "metadata": {},
     "output_type": "display_data"
    },
    {
     "name": "stdout",
     "output_type": "stream",
     "text": [
      "\n",
      "Saving...\n",
      "Done!\n"
     ]
    }
   ],
   "source": [
    "collection.process(segmentation_model, semantic_model,assume_london=True,override=True)"
   ]
  },
  {
   "cell_type": "code",
   "execution_count": null,
   "metadata": {},
   "outputs": [],
   "source": [
    "npd_collection = collection.load()"
   ]
  },
  {
   "cell_type": "code",
   "execution_count": null,
   "metadata": {},
   "outputs": [],
   "source": [
    "npd_collection.keys()"
   ]
  },
  {
   "cell_type": "markdown",
   "metadata": {},
   "source": [
    "## Classify links"
   ]
  },
  {
   "cell_type": "code",
   "execution_count": 15,
   "metadata": {},
   "outputs": [
    {
     "output_type": "stream",
     "name": "stdout",
     "text": [
      "2021-04-23 10:04:58,429 loading file /deezy_datadrive/kaspar-playground/npd/Models/link_classifier/best-model.pt\n"
     ]
    },
    {
     "output_type": "display_data",
     "data": {
      "text/plain": "HBox(children=(FloatProgress(value=0.0, description='Downloading', max=570.0, style=ProgressStyle(description_…",
      "application/vnd.jupyter.widget-view+json": {
       "version_major": 2,
       "version_minor": 0,
       "model_id": "91ace4b4b7e54b9abfa592cec75af4e1"
      }
     },
     "metadata": {}
    },
    {
     "output_type": "stream",
     "name": "stdout",
     "text": [
      "\n"
     ]
    }
   ],
   "source": [
    "model = Annotator.load_model(MODELS_PATH / 'link_classifier'/ 'best-model.pt')"
   ]
  },
  {
   "cell_type": "code",
   "execution_count": 16,
   "metadata": {},
   "outputs": [],
   "source": [
    "clean_all_csv()"
   ]
  },
  {
   "cell_type": "code",
   "execution_count": 18,
   "metadata": {},
   "outputs": [
    {
     "output_type": "display_data",
     "data": {
      "text/plain": "HBox(children=(FloatProgress(value=0.0, max=26.0), HTML(value='')))",
      "application/vnd.jupyter.widget-view+json": {
       "version_major": 2,
       "version_minor": 0,
       "model_id": "2c512dd6203b419d95ed9795e49bb097"
      }
     },
     "metadata": {}
    },
    {
     "output_type": "stream",
     "name": "stdout",
     "text": [
      "\n",
      "number of books in the collections:  26\n",
      "number of entries in the collection:  43361\n",
      "1846 1847\n",
      "Data vectorized.\n",
      "(43361, 17)\n",
      "43361 548\n",
      "Building Index!\n",
      "Finished!\n"
     ]
    },
    {
     "output_type": "display_data",
     "data": {
      "text/plain": "HBox(children=(FloatProgress(value=0.0, max=538.0), HTML(value='')))",
      "application/vnd.jupyter.widget-view+json": {
       "version_major": 2,
       "version_minor": 0,
       "model_id": "1b9c8bf976b044369d7ad2326461aaf8"
      }
     },
     "metadata": {}
    },
    {
     "output_type": "stream",
     "name": "stdout",
     "text": [
      "\n",
      "1847 1851\n",
      "Data vectorized.\n",
      "(43361, 17)\n",
      "43361 559\n",
      "Building Index!\n",
      "Finished!\n"
     ]
    },
    {
     "output_type": "display_data",
     "data": {
      "text/plain": "HBox(children=(FloatProgress(value=0.0, max=548.0), HTML(value='')))",
      "application/vnd.jupyter.widget-view+json": {
       "version_major": 2,
       "version_minor": 0,
       "model_id": "75eab7971147489f9944d563b2914edb"
      }
     },
     "metadata": {}
    }
   ],
   "source": [
    "fields = ['S-TITLE', 'S-POL', 'DISTRICT',\n",
    "          'COUNTY', 'S-PRICE','D-EST', 'D-PUB', \n",
    "          'E-LOC', 'E-ORG', 'E-PER']\n",
    "to_folder = Path('./link_dump/predictions/')\n",
    "collection.link_records(model=model,path=Path('./csv_dump_final'),fields=fields,to_folder=to_folder)"
   ]
  },
  {
   "cell_type": "code",
   "execution_count": null,
   "metadata": {},
   "outputs": [],
   "source": []
  }
 ],
 "metadata": {
  "kernelspec": {
   "display_name": "Python 3",
   "language": "python",
   "name": "python3"
  },
  "language_info": {
   "codemirror_mode": {
    "name": "ipython",
    "version": 3
   },
   "file_extension": ".py",
   "mimetype": "text/x-python",
   "name": "python",
   "nbconvert_exporter": "python",
   "pygments_lexer": "ipython3",
   "version": "3.7.5"
  }
 },
 "nbformat": 4,
 "nbformat_minor": 2
}