{
 "cells": [
  {
   "cell_type": "markdown",
   "metadata": {},
   "source": [
    "# Analysis: Political Bias in the JISC corpus\n",
    "\n"
   ]
  },
  {
   "cell_type": "markdown",
   "metadata": {},
   "source": [
    "## Load Data and Packages"
   ]
  },
  {
   "cell_type": "code",
   "execution_count": 17,
   "metadata": {},
   "outputs": [
    {
     "name": "stdout",
     "output_type": "stream",
     "text": [
      "The autoreload extension is already loaded. To reload it, use:\n",
      "  %reload_ext autoreload\n"
     ]
    }
   ],
   "source": [
    "%load_ext autoreload\n",
    "%autoreload 2"
   ]
  },
  {
   "cell_type": "code",
   "execution_count": 18,
   "metadata": {},
   "outputs": [],
   "source": [
    "import pandas as pd\n",
    "import numpy as np\n",
    "from pathlib import Path\n",
    "from tools.helper_functions import *\n",
    "from tools.mappings import *\n",
    "from scipy.stats import entropy\n",
    "from collections import defaultdict,Counter\n",
    "import seaborn as sns\n",
    "sns.set()"
   ]
  },
  {
   "cell_type": "code",
   "execution_count": 19,
   "metadata": {},
   "outputs": [],
   "source": [
    "# set path for storing the images\n",
    "figures_path = Path('figures')\n",
    "figures_path.mkdir(exist_ok=True)"
   ]
  },
  {
   "cell_type": "markdown",
   "metadata": {},
   "source": [
    "## Preprocess Data"
   ]
  },
  {
   "cell_type": "code",
   "execution_count": 20,
   "metadata": {},
   "outputs": [
    {
     "name": "stdout",
     "output_type": "stream",
     "text": [
      "(36573, 19)\n",
      "(38170, 20)\n"
     ]
    }
   ],
   "source": [
    "path = Path('../data/Press_Directories_1846_1920_JISC_final.csv')\n",
    "df = pd.read_csv(path,index_col=0)\n",
    "print(df[~df['POLITICS'].isnull()].shape)\n",
    "df = complete_records(df,'POLITICS')\n",
    "print(df[~df['POLITICS'].isnull()].shape)"
   ]
  },
  {
   "cell_type": "code",
   "execution_count": 21,
   "metadata": {},
   "outputs": [],
   "source": [
    "df['first_price'] = df['PRICE'].apply(lambda x: x.split('<SEP>')[0] if isinstance(x,str) else x)\n",
    "df['first_price'] = df['first_price'].apply(lambda x: convert_price.get(x,None))\n",
    "df = complete_records(df,'first_price')\n",
    "df['first_price_red'] = df.first_price.apply(reduce_price,ceil=ceil)\n"
   ]
  },
  {
   "cell_type": "code",
   "execution_count": null,
   "metadata": {},
   "outputs": [],
   "source": [
    "#df[(df.CATEGORY.isin(['provincial','irish','scottish','welsh','irish'])) & (df.YEAR <= 1900)]['POLITICS'].value_counts()"
   ]
  },
  {
   "cell_type": "markdown",
   "metadata": {},
   "source": [
    "## Appendix Section C: Reclassification"
   ]
  },
  {
   "cell_type": "code",
   "execution_count": 22,
   "metadata": {},
   "outputs": [
    {
     "name": "stdout",
     "output_type": "stream",
     "text": [
      "Mapped to LIBERAL:  \"liberal\"; \"liberal, moderate\"; \"whig\"; \"liberal, liberal\"; \"liberal, free-trade\"; \"ultra, liberal\"; \"liberal, independent\"; \"liberal, ultra\"; \"independent, liberal\"; \"liberal, non-comformist\"; \"advanced, liberal, non-comformist\"; \"moderate, liberal\"; \"utlra, liberal\"; \"republican\"; \"advanced, liberal\"; \"independent, li\"; \"independent, advanced, liberal\"; \"liberal, conservative, independent\"; \"liberal, tory, independent\"; \"tory, liberal\"; \"nationalist, liberal\"; \"national, liberal\"\n",
      "\n",
      "Mapped to CONSERVATIVE:  \"conservative\"; \"tory\"; \"tory, old\"; \"high, tory\"; \"protestant, conservative\"; \"constitutional\"; \"anti-whig\"; \"independent, conservative\"; \"moderate, conservative\"; \"conservative, conservative\"; \"llberal, conservative\"; \"conservative, independent\"; \"unionist\"; \"liberal, unionist\"; \"independent, constitutional\"; \"conservative, unionist\"; \"conservative, constitutional\"; \"unionist, conservative\"; \"unionist, liberal\"; \"unionist, independent\"\n",
      "\n",
      "Mapped to NON-ALIGNED:  \"neutral\"; \"liberal, conservative\"; \"no-politics\"; \"neutral, neutral\"; \"tory, neutral\"; \"neutral, national\"; \"conservative, liberal\"; \"non-political\"; \"non-party\"; \"non-political, non-sectarian\"; \"progressive\"\n",
      "\n",
      "Mapped to RADICAL:  \"radical\"; \"radical, advanced, liberal\"; \"liberal, radical\"\n",
      "\n",
      "Mapped to INDEPENDENT:  \"independent\"\n",
      "\n",
      "Mapped to IRISH NATIONALIST:  \"repeal\"; \"national\"; \"national, independent\"; \"irish, national, catholic\"; \"nationalist\"; \"independent, nationalist\"; \"nationalist, nationalist\"\n",
      "\n",
      "Mapped to DENOMINATIONAL:  \"evangelical\"; \"protestant\"; \"roman-catholic, ultramontane\"; \"ultramontane\"; \"catholic, national\"; \"catholic\"; \"orange\"; \"presbyterian\"; \"independent, protestant\"; \"church-of-ireland\"; \"national, catholic\"; \"roman, catholic\"; \"orange, protestant\"; \"church of england\"; \"church-of-england\"; \"roman-catholic\"; \"church-of-irelad\"\n",
      "\n",
      "Mapped to OTHER:  \"industrial\"\n",
      "\n",
      "Mapped to LABOUR:  \"liberal, radical, labour\"\n",
      "\n"
     ]
    }
   ],
   "source": [
    "temp = defaultdict(list)\n",
    "for k,v in remap_politics.items():\n",
    "    temp[v].append(k)\n",
    "for k,v in  temp.items():\n",
    "    v = ['\"{}\"'.format(','.join(i.split(\";\"))) for i in v]\n",
    "    print(f'Mapped to {k.upper()}: ', '; '.join(v),)\n",
    "    print()"
   ]
  },
  {
   "cell_type": "code",
   "execution_count": 23,
   "metadata": {},
   "outputs": [],
   "source": [
    "df['POLITICS-2'] = df['POLITICS'].copy()\n",
    "df.replace({'POLITICS-2':remap_politics},inplace=True)"
   ]
  },
  {
   "cell_type": "code",
   "execution_count": 24,
   "metadata": {},
   "outputs": [
    {
     "data": {
      "text/plain": [
       "(27260, 24)"
      ]
     },
     "execution_count": 24,
     "metadata": {},
     "output_type": "execute_result"
    }
   ],
   "source": [
    "df_prov = df[df['CATEGORY'].isin(['provincial','welsh','scottish','irish'])]\n",
    "df_prov = df_prov[df_prov.YEAR <= 1900]\n",
    "df_prov.shape"
   ]
  },
  {
   "cell_type": "markdown",
   "metadata": {},
   "source": [
    "## Figure 5"
   ]
  },
  {
   "cell_type": "code",
   "execution_count": null,
   "metadata": {},
   "outputs": [],
   "source": [
    "len(df['POLITICS'].value_counts()),len(df['POLITICS-2'].value_counts())"
   ]
  },
  {
   "cell_type": "code",
   "execution_count": null,
   "metadata": {},
   "outputs": [],
   "source": [
    "df_prov['POLITICS-2'].unique()"
   ]
  },
  {
   "cell_type": "code",
   "execution_count": null,
   "metadata": {},
   "outputs": [],
   "source": [
    "labels = set(i.strip() for l in df_prov['POLITICS'].unique() for i in str(l).split(';'))\n",
    "len(labels)"
   ]
  },
  {
   "cell_type": "code",
   "execution_count": null,
   "metadata": {},
   "outputs": [],
   "source": [
    "pd.Series(dict(Counter(l for l in df_prov['POLITICS-2']).most_common()[:20])).plot(kind='bar')"
   ]
  },
  {
   "cell_type": "code",
   "execution_count": null,
   "metadata": {},
   "outputs": [],
   "source": [
    "pd.Series(dict(Counter(i.strip() for l in df_prov['POLITICS'] for i in str(l).split(';')).most_common()[:10])).plot(kind='bar')"
   ]
  },
  {
   "cell_type": "code",
   "execution_count": null,
   "metadata": {},
   "outputs": [],
   "source": [
    "pd.Series(dict(Counter(i.strip() for l in df_prov['POLITICS-2'] for i in str(l).split(';')).most_common()[:10])).plot(kind='bar')"
   ]
  },
  {
   "cell_type": "markdown",
   "metadata": {},
   "source": [
    "# Figure 6"
   ]
  },
  {
   "cell_type": "code",
   "execution_count": null,
   "metadata": {},
   "outputs": [],
   "source": [
    "#import pickle\n",
    "#path = Path('output_data/MPD_export_1846_1920_JISC_ref.csv')\n",
    "#df = pd.read_csv(path,index_col=0)\n",
    "#df = complete_records(df,'S-POL')\n",
    "#df['S-POL-2'] = df['S-POL'].copy()\n",
    "#df['S-POL-2'].fillna('nan',inplace=True)\n",
    "#mapping = pickle.load(open('newspaper_metadata/pol_mapping.pickle','rb'))\n",
    "#df.replace({'S-POL-2':mapping},inplace=True)\n",
    "#df['IN_JISC'] = False\n",
    "#df.loc[df['JISC'] > 0,'IN_JISC'] = True\n",
    "#df_prov = df[df['CATEGORY'].isin(['provincial','welsh','scottish','irish'])]\n",
    "#df_prov = df_prov[df_prov.year <= 1900]\n",
    "#df_prov.reset_index(inplace=True)\n",
    "#df_prov.shape"
   ]
  },
  {
   "cell_type": "code",
   "execution_count": null,
   "metadata": {},
   "outputs": [],
   "source": [
    "#df_prov.shape"
   ]
  },
  {
   "cell_type": "code",
   "execution_count": null,
   "metadata": {},
   "outputs": [],
   "source": [
    "#counts_by_year = df_prov.groupby(['YEAR'])['index'].count()\n",
    "#counts_by_year_jisc = df_prov[df_prov.IN_JISC==True].groupby(['YEAR'])['index'].count()\n"
   ]
  },
  {
   "cell_type": "code",
   "execution_count": null,
   "metadata": {},
   "outputs": [],
   "source": [
    "#df_prov"
   ]
  },
  {
   "cell_type": "code",
   "execution_count": null,
   "metadata": {},
   "outputs": [],
   "source": [
    "plot_comparison_selected_categories([(\"liberal\",'orange'),(\"conservative\",\"blue\")],df_prov,'POLITICS-2')"
   ]
  },
  {
   "cell_type": "code",
   "execution_count": null,
   "metadata": {},
   "outputs": [],
   "source": [
    "plot_comparison_selected_categories([(\"non-aligned\",'green'),(\"independent\",\"y\")],df_prov,'POLITICS-2')"
   ]
  },
  {
   "cell_type": "markdown",
   "metadata": {},
   "source": [
    "## Divergence"
   ]
  },
  {
   "cell_type": "code",
   "execution_count": null,
   "metadata": {},
   "outputs": [],
   "source": [
    "\n",
    "#def kl_divergence(df, labels, smoothing_factor):\n",
    "#    df['num_pol_labels'] = df['S-POL'].apply(lambda x: len(str(x).split(';')))\n",
    "#    pol_labels_all = df.groupby('year')['num_pol_labels'].sum()\n",
    "#    pol_labels_jisc = df[df.IN_JISC==True].groupby('year')['num_pol_labels'].sum()\n",
    "#\n",
    "#    dfs_jisc, dfs_all = [], []\n",
    "#    for l in labels: \n",
    "#        dfs_jisc.append(df[df.IN_JISC==True].groupby('year')[l].sum())\n",
    "#        dfs_all.append(df.groupby('year')[l].sum())\n",
    "#\n",
    "#    \n",
    "#    \n",
    "#    dfs_jisc = pd.concat(dfs_jisc,axis=1)\n",
    "#    dfs_all = pd.concat(dfs_all,axis=1)\n",
    "#\n",
    "#    df_probs_jisc = dfs_jisc.divide(pol_labels_jisc,axis=0)\n",
    "#    df_probs_jisc = (df_probs_jisc + smoothing_factor\n",
    "#                        ).divide(\n",
    "#                            (df_probs_jisc+smoothing_factor).sum(axis=1), axis=0) \n",
    "#\n",
    "#    df_probs_all = dfs_all.divide(pol_labels_all,axis=0)\n",
    "#    df_probs_all = (df_probs_all + smoothing_factor\n",
    "#                        ).divide(\n",
    "#                            (df_probs_all+smoothing_factor).sum(axis=1), axis=0)\n",
    "#\n",
    "#    entropies = {}\n",
    "#    for year in dfs_all.index:\n",
    "#        entropies[year] = entropy(df_probs_all.loc[year],df_probs_jisc.loc[year])\n",
    "#\n",
    "#\n",
    "#    return pd.DataFrame.from_dict(entropies,orient='index')"
   ]
  },
  {
   "cell_type": "code",
   "execution_count": null,
   "metadata": {},
   "outputs": [],
   "source": [
    "\n",
    "\n",
    "#def kl_divergence(df,labels,smoothing=0.001):\n",
    "#\n",
    "#    props_pop, props_sample = [], []\n",
    "#\n",
    "#    for label in labels:\n",
    "#        pol_prop = df.groupby(['S-POL-2','year'])['id'].count() / df.groupby(['year'])['id'].count()\n",
    "#        \n",
    "#        pol_prop_jisc = df[df['IN_JISC']==True].groupby(['S-POL-2','year'])['id'].count() / df[df['IN_JISC']==True].groupby(['year'])['id'].count()\n",
    "#        \n",
    "#        if isinstance(label,str):\n",
    "#            pol_prop = pol_prop.loc[label,:].droplevel('S-POL-2')\n",
    "#            try:\n",
    "#                pol_prop_jisc = pol_prop_jisc.loc[label,:].droplevel('S-POL-2')\n",
    "#            except:\n",
    "#                pol_prop_jisc = pd.Series([.0]*len(df.year.unique()),index=df.year.unique())\n",
    "#            \n",
    "#         \n",
    "#        elif isinstance(label,list):\n",
    "#            pol_prop = pol_prop.loc[label,:].groupby('year').sum()\n",
    "#            #print(pol_prop)\n",
    "#            try:\n",
    "#                pol_prop_jisc = pol_prop_jisc.loc[label,:].groupby('year').sum()\n",
    "#            except:\n",
    "#                pol_prop_jisc = pd.Series([.0]*len(df.year.unique()),index=df.year.unique())\n",
    "#            \n",
    "#        props_pop.append(pol_prop); props_sample.append(pol_prop_jisc) \n",
    "#    props_pop, props_sample = pd.concat(props_pop, axis=1).fillna(0),pd.concat(props_sample, axis=1).fillna(0)\n",
    "#    props_pop+=smoothing\n",
    "#    props_sample+=smoothing\n",
    "#    entropies = {}\n",
    "#    for year in props_pop.index:\n",
    "#        entropies[year] = jensenshannon(props_pop.loc[year],props_sample.loc[year])\n",
    "#    #return entropies\n",
    "#    return props_pop,props_sample,pd.DataFrame.from_dict(entropies,orient='index')\n",
    "\n",
    "\n",
    "#def divergence(df,labels,measure='jensenshannon',target='S-POL-2'):\n",
    "#\n",
    "#    props_pop, props_sample = [], []\n",
    "#\n",
    "#    for label in labels:\n",
    "#        pol_prop = df.groupby([target,'year'])['id'].count() / df.groupby(['year'])['id'].count()\n",
    "#        \n",
    "#        pol_prop_jisc = df[df['IN_JISC']==True].groupby([target,'year'])['id'].count() / df[df['IN_JISC']==True].groupby(['year'])['id'].count()\n",
    "#        \n",
    "#        if isinstance(label,str):\n",
    "#            pol_prop = pol_prop.loc[label,:].droplevel(target)\n",
    "#            try:\n",
    "#                pol_prop_jisc = pol_prop_jisc.loc[label,:].droplevel(target)\n",
    "#            except:\n",
    "#                pol_prop_jisc = pd.Series([.0]*len(df.year.unique()),index=df.year.unique())\n",
    "#            \n",
    "#         \n",
    "#        elif isinstance(label,list):\n",
    "#            pol_prop = pol_prop.loc[label,:].groupby('year').sum()\n",
    "#            #print(pol_prop)\n",
    "#            try:\n",
    "#                pol_prop_jisc = pol_prop_jisc.loc[label,:].groupby('year').sum()\n",
    "#            except:\n",
    "#                pol_prop_jisc = pd.Series([.0]*len(df.year.unique()),index=df.year.unique())\n",
    "#            \n",
    "#        props_pop.append(pol_prop); props_sample.append(pol_prop_jisc) \n",
    "#    props_pop, props_sample = pd.concat(props_pop, axis=1).fillna(0),pd.concat(props_sample, axis=1).fillna(0)\n",
    "#\n",
    "#    scores = {}\n",
    "#    for year in props_pop.index:\n",
    "#        exec(f'scores[year] = {measure}(props_pop.loc[year],props_sample.loc[year])')\n",
    "#    #return entropies\n",
    "#    return props_pop,props_sample,pd.DataFrame.from_dict(scores,orient='index')\n",
    "    \n",
    "    \n",
    "#entropies  = kl_divergence(df_prov,[['non-aligned','independent'],'liberal','conservative','nan'],smoothing=0.001)\n",
    "#props_sample.columns = [['non-aligned','independent'],'liberal','conservative']\n",
    "#pd.Series(entropies).plot()\n",
    "#entropies  = kl_divergence(df_prov,[['non-aligned','independent'],'liberal','conservative','nan'],smoothing=.00001)\n",
    "#props_sample.columns = [['non-aligned','independent'],'liberal','conservative']\n",
    "#pd.Series(entropies).plot()\n"
   ]
  },
  {
   "cell_type": "code",
   "execution_count": null,
   "metadata": {},
   "outputs": [],
   "source": [
    "\n",
    "#def plot_divergence(labels,smoothing_factors):\n",
    "#    results = []\n",
    "#    for sm in smoothing_factors:\n",
    "#        results.append(prob_divergence(df_prov, labels, sm)[-1])\n",
    "#    df_results = pd.concat(results,axis=1)\n",
    "#    df_results.columns = smoothing_factors\n",
    "#    df_results.plot() \n",
    "#plot_kl_divergence(df_prov, ['liberal','conservative','neutral_independent'], 0.001)"
   ]
  },
  {
   "cell_type": "code",
   "execution_count": null,
   "metadata": {},
   "outputs": [],
   "source": [
    "target = 'POLITICS-2'\n",
    "parties = [p for p in df_prov[target].unique() if isinstance(p,str)]\n",
    "_,_,d= divergence(df_prov,parties,target=target) # df_prov[target].unique()\n",
    "fig = d.plot(legend=False).get_figure()\n",
    "fig.savefig(figures_path / 'jsd_pols.png')"
   ]
  },
  {
   "cell_type": "code",
   "execution_count": null,
   "metadata": {},
   "outputs": [],
   "source": [
    "parties"
   ]
  },
  {
   "cell_type": "code",
   "execution_count": null,
   "metadata": {},
   "outputs": [],
   "source": [
    "labels = ['conservative','liberal','non-aligned','independent']\n",
    "prop_ppp,prop_sample, _ = divergence(df_prov, labels)\n",
    "\n",
    "prop_ppp.columns = labels\n",
    "prop_sample.columns = labels\n",
    "\n",
    "kl_ps = []\n",
    "for year in prop_ppp.index:\n",
    "    \n",
    "    kl_ps.append(list(map(kl_p,zip(prop_ppp.loc[year],prop_sample.loc[year]))))\n",
    "\n",
    "kl_ps_df = pd.DataFrame(kl_ps, columns=labels)\n",
    "fig = kl_ps_df.plot(legend=False).get_figure()\n",
    "fig.savefig(figures_path / 'partial_kl.png')"
   ]
  },
  {
   "cell_type": "markdown",
   "metadata": {},
   "source": [
    "## Price and place as other dimensions of bias "
   ]
  },
  {
   "cell_type": "code",
   "execution_count": 25,
   "metadata": {},
   "outputs": [
    {
     "data": {
      "text/plain": [
       "[0.0, 0.5, 1.0, 2.0, 3.0, 4.0, 5.0, 6.0]"
      ]
     },
     "execution_count": 25,
     "metadata": {},
     "output_type": "execute_result"
    }
   ],
   "source": [
    "df_prov.loc[df_prov['first_price_red'] > 6.0,'first_price_red'] = 6\n",
    "selected_prices = list(df_prov.first_price_red.value_counts().index)\n",
    "selected_prices.sort()\n",
    "selected_prices"
   ]
  },
  {
   "cell_type": "markdown",
   "metadata": {},
   "source": [
    "## Figure 9"
   ]
  },
  {
   "cell_type": "code",
   "execution_count": 31,
   "metadata": {},
   "outputs": [],
   "source": [
    "props_pop.columns = selected_prices\n",
    "props_sample.columns = selected_prices"
   ]
  },
  {
   "cell_type": "code",
   "execution_count": 32,
   "metadata": {},
   "outputs": [
    {
     "data": {
      "image/png": "[encoded data removed]",
      "text/plain": [
       "<Figure size 432x288 with 1 Axes>"
      ]
     },
     "metadata": {},
     "output_type": "display_data"
    }
   ],
   "source": [
    "fig = props_pop.plot(kind='area').get_figure()\n",
    "fig.savefig('images/price_area_pop.png')"
   ]
  },
  {
   "cell_type": "code",
   "execution_count": 33,
   "metadata": {},
   "outputs": [
    {
     "data": {
      "image/png": "[encoded data removed]",
      "text/plain": [
       "<Figure size 432x288 with 1 Axes>"
      ]
     },
     "metadata": {},
     "output_type": "display_data"
    }
   ],
   "source": [
    "fig = props_sample.plot(kind='area',legend=False).get_figure()\n",
    "fig.savefig('images/price_area_sample.png')"
   ]
  },
  {
   "cell_type": "markdown",
   "metadata": {},
   "source": [
    "## Figure 10"
   ]
  },
  {
   "cell_type": "code",
   "execution_count": 30,
   "metadata": {},
   "outputs": [
    {
     "data": {
      "image/png": "[encoded data removed]",
      "text/plain": [
       "<Figure size 432x288 with 1 Axes>"
      ]
     },
     "metadata": {},
     "output_type": "display_data"
    }
   ],
   "source": [
    "target = 'first_price_red'\n",
    "props_pop,props_sample,d = divergence(df_prov,selected_prices,target=target)\n",
    "fig = d.plot(legend=False,ylim=(.0,max(d.values)[0]+.01)).get_figure()\n",
    "fig.savefig(figures_path / 'jsd_price.png')\n"
   ]
  },
  {
   "cell_type": "code",
   "execution_count": 38,
   "metadata": {},
   "outputs": [],
   "source": [
    "labels = selected_prices\n",
    "\n",
    "props_pop.columns = labels\n",
    "props_sample.columns = labels\n",
    "\n",
    "kl_ps = []\n",
    "for year in props_pop.index:\n",
    "    \n",
    "    kl_ps.append(list(map(kl_p,zip(props_pop.loc[year],props_sample.loc[year]))))\n",
    "\n",
    "kl_ps_df = pd.DataFrame(kl_ps, columns=labels)\n",
    "kl_ps_df.index = df_prov.YEAR.unique()\n"
   ]
  },
  {
   "cell_type": "code",
   "execution_count": 39,
   "metadata": {},
   "outputs": [
    {
     "data": {
      "text/plain": [
       "0.0    0.003031\n",
       "6.0    0.005432\n",
       "0.5    0.013040\n",
       "5.0    0.022233\n",
       "3.0    0.026328\n",
       "4.0    0.037046\n",
       "2.0    0.047575\n",
       "1.0    0.055974\n",
       "dtype: float64"
      ]
     },
     "execution_count": 39,
     "metadata": {},
     "output_type": "execute_result"
    }
   ],
   "source": [
    "kl_ps_df.std(axis=0).sort_values()"
   ]
  },
  {
   "cell_type": "code",
   "execution_count": 40,
   "metadata": {},
   "outputs": [
    {
     "data": {
      "image/png": "[encoded data removed]",
      "text/plain": [
       "<Figure size 432x288 with 1 Axes>"
      ]
     },
     "metadata": {},
     "output_type": "display_data"
    }
   ],
   "source": [
    "fig = kl_ps_df[[1.0,2.0,4.0]].plot(legend=True, color=['#2ca02c','#d62728','#8c564b']).get_figure()"
   ]
  },
  {
   "cell_type": "code",
   "execution_count": 43,
   "metadata": {},
   "outputs": [],
   "source": [
    "#fig = kl_ps_df.plot(legend=False, lw=2,\n",
    "#                    style=['.-','.-','.--','.--','.-','.--','.-','.-'],\n",
    "#                    color=['grey','grey','#2ca02c','#d62728','grey','#8c564b','grey','grey']\n",
    "#).get_figure()\n",
    "#fig.savefig(figures_path / 'partial_price_kl.png')"
   ]
  },
  {
   "cell_type": "markdown",
   "metadata": {},
   "source": [
    "## Appendix E"
   ]
  },
  {
   "cell_type": "code",
   "execution_count": 45,
   "metadata": {},
   "outputs": [
    {
     "data": {
      "image/png": "[encoded data removed]",
      "text/plain": [
       "<Figure size 432x288 with 1 Axes>"
      ]
     },
     "metadata": {},
     "output_type": "display_data"
    }
   ],
   "source": [
    "df_prov[(~df_prov['first_price'].isnull()) & (df_prov['first_price'] <= 12.0)].groupby('YEAR')['first_price'].mean().plot()\n",
    "fig = df_prov[df_prov.IN_JISC > 0].groupby('YEAR')['first_price_red'].mean().plot().get_figure()\n",
    "fig.savefig(figures_path/'price_avg_comp.png')"
   ]
  },
  {
   "cell_type": "markdown",
   "metadata": {},
   "source": [
    "## Figure 11"
   ]
  },
  {
   "cell_type": "code",
   "execution_count": 47,
   "metadata": {},
   "outputs": [
    {
     "data": {
      "text/plain": [
       "(88, 88)"
      ]
     },
     "execution_count": 47,
     "metadata": {},
     "output_type": "execute_result"
    }
   ],
   "source": [
    "df_prov_gb = df_prov[df_prov.CATEGORY.isin(['provincial','welsh','scottish'])]\n",
    "counties = df_prov_gb.COUNTY_PUB.value_counts()\n",
    "selected_counties = list(counties[counties > 1].index)\n",
    "len(counties),len(selected_counties)"
   ]
  },
  {
   "cell_type": "code",
   "execution_count": null,
   "metadata": {},
   "outputs": [],
   "source": []
  }
 ],
 "metadata": {
  "interpreter": {
   "hash": "5d002d29fc59799ec58342307c50be960f7297ba8a27d201097020f600ad239f"
  },
  "kernelspec": {
   "display_name": "Python 3 (ipykernel)",
   "language": "python",
   "name": "python3"
  },
  "language_info": {
   "codemirror_mode": {
    "name": "ipython",
    "version": 3
   },
   "file_extension": ".py",
   "mimetype": "text/x-python",
   "name": "python",
   "nbconvert_exporter": "python",
   "pygments_lexer": "ipython3",
   "version": "3.9.7"
  },
  "metadata": {
   "interpreter": {
    "hash": "5d002d29fc59799ec58342307c50be960f7297ba8a27d201097020f600ad239f"
   }
  }
 },
 "nbformat": 4,
 "nbformat_minor": 2
}
