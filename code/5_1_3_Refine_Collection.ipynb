{
 "metadata": {
  "language_info": {
   "codemirror_mode": {
    "name": "ipython",
    "version": 3
   },
   "file_extension": ".py",
   "mimetype": "text/x-python",
   "name": "python",
   "nbconvert_exporter": "python",
   "pygments_lexer": "ipython3",
   "version": "3.7.5"
  },
  "orig_nbformat": 2,
  "kernelspec": {
   "name": "python375jvsc74a57bd05d002d29fc59799ec58342307c50be960f7297ba8a27d201097020f600ad239f",
   "display_name": "Python 3.7.5 64-bit ('py37torch': conda)"
  },
  "metadata": {
   "interpreter": {
    "hash": "5d002d29fc59799ec58342307c50be960f7297ba8a27d201097020f600ad239f"
   }
  }
 },
 "nbformat": 4,
 "nbformat_minor": 2,
 "cells": [
  {
   "cell_type": "code",
   "execution_count": 1,
   "metadata": {},
   "outputs": [],
   "source": [
    "%load_ext autoreload\n",
    "%autoreload 2"
   ]
  },
  {
   "cell_type": "code",
   "execution_count": 2,
   "metadata": {},
   "outputs": [
    {
     "output_type": "stream",
     "name": "stderr",
     "text": [
      "/data/anaconda/envs/py37torch/lib/python3.7/site-packages/tqdm/std.py:668: FutureWarning: The Panel class is removed from pandas. Accessing it from the top-level namespace will also be removed in the next version\n  from pandas import Panel\n"
     ]
    }
   ],
   "source": [
    "import pandas as pd\n",
    "from pathlib import Path\n",
    "from tools.extensions import AnnotationTask"
   ]
  },
  {
   "cell_type": "code",
   "execution_count": 19,
   "metadata": {},
   "outputs": [],
   "source": [
    "df = pd.read_csv('output_data/MPD_export_1846_1920.csv', index_col=0)\n"
   ]
  },
  {
   "cell_type": "code",
   "execution_count": 27,
   "metadata": {},
   "outputs": [
    {
     "output_type": "execute_result",
     "data": {
      "text/plain": [
       "      index            id                           S-TITLE         S-POL  \\\n",
       "4000    707  MPD_1860_707               WESTERN FLYING POST  conservative   \n",
       "4001    708  MPD_1860_708                    YORK HERALD .        liberal   \n",
       "4002    709  MPD_1860_709               YORKSHIRE GAZETTE .  conservative   \n",
       "4003    710  MPD_1860_710  RACING CALENDER ( JOHNSON'S ) .        neutral   \n",
       "4004    711  MPD_1860_711                         VYOWRON .       liberal   \n",
       "\n",
       "        CATEGORY                           DISTRICT DISTRICT_PUB  \\\n",
       "4000  provincial     yeovil . — ( somersetshire . )       yeovil   \n",
       "4001  provincial           york . — ( yorkshire . )         york   \n",
       "4002  provincial           york . — ( yorkshire . )         york   \n",
       "4003  provincial           york . — ( yorkshire . )         york   \n",
       "4004       welsh  aberdare . — ( glamorganshire . )     aberdare   \n",
       "\n",
       "              COUNTY                 S-PRICE D-EST     D-PUB  \\\n",
       "4000   somersetshire               4d<SEP>5d  1736   Tuesday   \n",
       "4001       yorkshire             3½d<SEP>4½d  1790  Saturday   \n",
       "4002       yorkshire             3½d<SEP>4½d  1819  Saturday   \n",
       "4003       yorkshire              one guinea  1821    Weekly   \n",
       "4004  glamorganshire  2 ½ d<SEP>3 ½ d<SEP>1d  1851  Saturday   \n",
       "\n",
       "                                                  E-LOC E-ORG  \\\n",
       "4000  Somerset<SEP>Dorset<SEP>Wilts<SEP>Devon<SEP>Co...   NaN   \n",
       "4001  York<SEP>Durham<SEP>Cumberland<SEP>Northumberl...   NaN   \n",
       "4002                    York<SEP>North and East Ridings   NaN   \n",
       "4003                                                NaN   NaN   \n",
       "4004                                     Glamorganshire   NaN   \n",
       "\n",
       "                                                 E-PER S-TITLE-ALT  \\\n",
       "4000                                      James Jarvis         NaN   \n",
       "4001  Alfred Ely Hargrove<SEP>William Wallace Hargrove         NaN   \n",
       "4002                               J . Lancelot Foster         NaN   \n",
       "4003                                       R . Johnson         NaN   \n",
       "4004                               Josiah Thomas Jones         NaN   \n",
       "\n",
       "                                                   TEXT  \\\n",
       "4000                                                      \n",
       "4001                                                      \n",
       "4002  VYOWRON . Saturday , Price 2 ½ d . and 3 ½ d ....   \n",
       "4003                                                      \n",
       "4004  NORTH WALES CHRONICLE AND ADVER - — TISER FOR ...   \n",
       "\n",
       "                                   DISTRICT_DESCRIPTION  year    chain_id  \n",
       "4000                                                NaN  1860  CID_000198  \n",
       "4001                                                NaN  1860  CID_000613  \n",
       "4002  This is a large and populous parish in the cou...  1860  CID_000316  \n",
       "4003                                                NaN  1860  CID_002275  \n",
       "4004  ; This is a delightfully situate and improving...  1860         NaN  "
      ],
      "text/html": "<div>\n<style scoped>\n    .dataframe tbody tr th:only-of-type {\n        vertical-align: middle;\n    }\n\n    .dataframe tbody tr th {\n        vertical-align: top;\n    }\n\n    .dataframe thead th {\n        text-align: right;\n    }\n</style>\n<table border=\"1\" class=\"dataframe\">\n  <thead>\n    <tr style=\"text-align: right;\">\n      <th></th>\n      <th>index</th>\n      <th>id</th>\n      <th>S-TITLE</th>\n      <th>S-POL</th>\n      <th>CATEGORY</th>\n      <th>DISTRICT</th>\n      <th>DISTRICT_PUB</th>\n      <th>COUNTY</th>\n      <th>S-PRICE</th>\n      <th>D-EST</th>\n      <th>D-PUB</th>\n      <th>E-LOC</th>\n      <th>E-ORG</th>\n      <th>E-PER</th>\n      <th>S-TITLE-ALT</th>\n      <th>TEXT</th>\n      <th>DISTRICT_DESCRIPTION</th>\n      <th>year</th>\n      <th>chain_id</th>\n    </tr>\n  </thead>\n  <tbody>\n    <tr>\n      <th>4000</th>\n      <td>707</td>\n      <td>MPD_1860_707</td>\n      <td>WESTERN FLYING POST</td>\n      <td>conservative</td>\n      <td>provincial</td>\n      <td>yeovil . — ( somersetshire . )</td>\n      <td>yeovil</td>\n      <td>somersetshire</td>\n      <td>4d&lt;SEP&gt;5d</td>\n      <td>1736</td>\n      <td>Tuesday</td>\n      <td>Somerset&lt;SEP&gt;Dorset&lt;SEP&gt;Wilts&lt;SEP&gt;Devon&lt;SEP&gt;Co...</td>\n      <td>NaN</td>\n      <td>James Jarvis</td>\n      <td>NaN</td>\n      <td></td>\n      <td>NaN</td>\n      <td>1860</td>\n      <td>CID_000198</td>\n    </tr>\n    <tr>\n      <th>4001</th>\n      <td>708</td>\n      <td>MPD_1860_708</td>\n      <td>YORK HERALD .</td>\n      <td>liberal</td>\n      <td>provincial</td>\n      <td>york . — ( yorkshire . )</td>\n      <td>york</td>\n      <td>yorkshire</td>\n      <td>3½d&lt;SEP&gt;4½d</td>\n      <td>1790</td>\n      <td>Saturday</td>\n      <td>York&lt;SEP&gt;Durham&lt;SEP&gt;Cumberland&lt;SEP&gt;Northumberl...</td>\n      <td>NaN</td>\n      <td>Alfred Ely Hargrove&lt;SEP&gt;William Wallace Hargrove</td>\n      <td>NaN</td>\n      <td></td>\n      <td>NaN</td>\n      <td>1860</td>\n      <td>CID_000613</td>\n    </tr>\n    <tr>\n      <th>4002</th>\n      <td>709</td>\n      <td>MPD_1860_709</td>\n      <td>YORKSHIRE GAZETTE .</td>\n      <td>conservative</td>\n      <td>provincial</td>\n      <td>york . — ( yorkshire . )</td>\n      <td>york</td>\n      <td>yorkshire</td>\n      <td>3½d&lt;SEP&gt;4½d</td>\n      <td>1819</td>\n      <td>Saturday</td>\n      <td>York&lt;SEP&gt;North and East Ridings</td>\n      <td>NaN</td>\n      <td>J . Lancelot Foster</td>\n      <td>NaN</td>\n      <td>VYOWRON . Saturday , Price 2 ½ d . and 3 ½ d ....</td>\n      <td>This is a large and populous parish in the cou...</td>\n      <td>1860</td>\n      <td>CID_000316</td>\n    </tr>\n    <tr>\n      <th>4003</th>\n      <td>710</td>\n      <td>MPD_1860_710</td>\n      <td>RACING CALENDER ( JOHNSON'S ) .</td>\n      <td>neutral</td>\n      <td>provincial</td>\n      <td>york . — ( yorkshire . )</td>\n      <td>york</td>\n      <td>yorkshire</td>\n      <td>one guinea</td>\n      <td>1821</td>\n      <td>Weekly</td>\n      <td>NaN</td>\n      <td>NaN</td>\n      <td>R . Johnson</td>\n      <td>NaN</td>\n      <td></td>\n      <td>NaN</td>\n      <td>1860</td>\n      <td>CID_002275</td>\n    </tr>\n    <tr>\n      <th>4004</th>\n      <td>711</td>\n      <td>MPD_1860_711</td>\n      <td>VYOWRON .</td>\n      <td>liberal</td>\n      <td>welsh</td>\n      <td>aberdare . — ( glamorganshire . )</td>\n      <td>aberdare</td>\n      <td>glamorganshire</td>\n      <td>2 ½ d&lt;SEP&gt;3 ½ d&lt;SEP&gt;1d</td>\n      <td>1851</td>\n      <td>Saturday</td>\n      <td>Glamorganshire</td>\n      <td>NaN</td>\n      <td>Josiah Thomas Jones</td>\n      <td>NaN</td>\n      <td>NORTH WALES CHRONICLE AND ADVER - — TISER FOR ...</td>\n      <td>; This is a delightfully situate and improving...</td>\n      <td>1860</td>\n      <td>NaN</td>\n    </tr>\n  </tbody>\n</table>\n</div>"
     },
     "metadata": {},
     "execution_count": 27
    }
   ],
   "source": [
    "task.df[4000:4005]"
   ]
  },
  {
   "source": [
    "# Create data for annotation in INCEpTION"
   ],
   "cell_type": "markdown",
   "metadata": {}
  },
  {
   "cell_type": "code",
   "execution_count": 26,
   "metadata": {},
   "outputs": [
    {
     "output_type": "stream",
     "name": "stderr",
     "text": [
      "/data/anaconda/envs/py37torch/lib/python3.7/site-packages/tqdm/std.py:668: FutureWarning: The Panel class is removed from pandas. Accessing it from the top-level namespace will also be removed in the next version\n  from pandas import Panel\n"
     ]
    }
   ],
   "source": [
    "task_name = 'description'\n",
    "task = AnnotationTask(df,task_name)\n",
    "task.sample(n=100)\n",
    "task.export_sample()\n"
   ]
  },
  {
   "source": [
    "# Load annotations and train a model"
   ],
   "cell_type": "markdown",
   "metadata": {}
  },
  {
   "cell_type": "code",
   "execution_count": 21,
   "metadata": {},
   "outputs": [
    {
     "output_type": "stream",
     "name": "stdout",
     "text": [
      "51 62 74\n"
     ]
    }
   ],
   "source": [
    "task.create_training_data(clip_bioes=True)\n",
    "\n"
   ]
  },
  {
   "cell_type": "code",
   "execution_count": 23,
   "metadata": {
    "tags": []
   },
   "outputs": [],
   "source": [
    "task.train_model()"
   ]
  },
  {
   "source": [
    "## Apply model and export"
   ],
   "cell_type": "markdown",
   "metadata": {}
  },
  {
   "cell_type": "code",
   "execution_count": 28,
   "metadata": {},
   "outputs": [
    {
     "output_type": "stream",
     "name": "stdout",
     "text": [
      "2021-04-28 13:29:13,127 loading file annotations/description/model/tagger/best-model.pt\n",
      "  9%|▉         | 4001/43361 [06:14<47:05, 13.93it/s]2021-04-28 13:35:28,770 Warning: An empty Sentence was created! Are there empty strings in your dataset?\n",
      "2021-04-28 13:35:28,771 Warning: An empty Sentence was created! Are there empty strings in your dataset?\n",
      "2021-04-28 13:35:28,830 Warning: An empty Sentence was created! Are there empty strings in your dataset?\n",
      " 10%|▉         | 4299/43361 [06:37<55:51, 11.65it/s]  2021-04-28 13:35:52,095 Warning: An empty Sentence was created! Are there empty strings in your dataset?\n",
      " 12%|█▏        | 5146/43361 [07:44<49:14, 12.93it/s]2021-04-28 13:36:58,759 Warning: An empty Sentence was created! Are there empty strings in your dataset?\n",
      " 12%|█▏        | 5148/43361 [07:44<44:28, 14.32it/s]2021-04-28 13:36:58,760 Warning: An empty Sentence was created! Are there empty strings in your dataset?\n",
      "2021-04-28 13:36:58,761 Warning: An empty Sentence was created! Are there empty strings in your dataset?\n",
      "2021-04-28 13:36:58,762 Warning: An empty Sentence was created! Are there empty strings in your dataset?\n",
      "2021-04-28 13:36:58,763 Warning: An empty Sentence was created! Are there empty strings in your dataset?\n",
      "2021-04-28 13:36:58,764 Warning: An empty Sentence was created! Are there empty strings in your dataset?\n",
      "2021-04-28 13:36:58,765 Warning: An empty Sentence was created! Are there empty strings in your dataset?\n",
      "2021-04-28 13:36:58,765 Warning: An empty Sentence was created! Are there empty strings in your dataset?\n",
      "2021-04-28 13:36:58,766 Warning: An empty Sentence was created! Are there empty strings in your dataset?\n",
      "2021-04-28 13:36:58,767 Warning: An empty Sentence was created! Are there empty strings in your dataset?\n",
      "2021-04-28 13:36:58,767 Warning: An empty Sentence was created! Are there empty strings in your dataset?\n",
      " 15%|█▍        | 6375/43361 [09:16<52:43, 11.69it/s]2021-04-28 13:38:31,186 Warning: An empty Sentence was created! Are there empty strings in your dataset?\n",
      "2021-04-28 13:38:31,187 Warning: An empty Sentence was created! Are there empty strings in your dataset?\n",
      "2021-04-28 13:38:31,188 Warning: An empty Sentence was created! Are there empty strings in your dataset?\n",
      "2021-04-28 13:38:31,189 Warning: An empty Sentence was created! Are there empty strings in your dataset?\n",
      "2021-04-28 13:38:31,189 Warning: An empty Sentence was created! Are there empty strings in your dataset?\n",
      "2021-04-28 13:38:31,190 Warning: An empty Sentence was created! Are there empty strings in your dataset?\n",
      "2021-04-28 13:38:31,190 Warning: An empty Sentence was created! Are there empty strings in your dataset?\n",
      "2021-04-28 13:38:31,191 Warning: An empty Sentence was created! Are there empty strings in your dataset?\n",
      "2021-04-28 13:38:31,192 Warning: An empty Sentence was created! Are there empty strings in your dataset?\n",
      "2021-04-28 13:38:31,192 Warning: An empty Sentence was created! Are there empty strings in your dataset?\n",
      "2021-04-28 13:38:31,193 Warning: An empty Sentence was created! Are there empty strings in your dataset?\n",
      "2021-04-28 13:38:31,194 Warning: An empty Sentence was created! Are there empty strings in your dataset?\n",
      "2021-04-28 13:38:31,195 Warning: An empty Sentence was created! Are there empty strings in your dataset?\n",
      " 18%|█▊        | 7698/43361 [10:54<41:44, 14.24it/s]2021-04-28 13:40:09,133 Warning: An empty Sentence was created! Are there empty strings in your dataset?\n",
      "2021-04-28 13:40:09,134 Warning: An empty Sentence was created! Are there empty strings in your dataset?\n",
      "2021-04-28 13:40:09,135 Warning: An empty Sentence was created! Are there empty strings in your dataset?\n",
      "2021-04-28 13:40:09,135 Warning: An empty Sentence was created! Are there empty strings in your dataset?\n",
      " 21%|██        | 9044/43361 [12:33<40:31, 14.11it/s]2021-04-28 13:41:47,650 Warning: An empty Sentence was created! Are there empty strings in your dataset?\n",
      " 21%|██        | 9046/43361 [12:33<38:22, 14.90it/s]2021-04-28 13:41:47,652 Warning: An empty Sentence was created! Are there empty strings in your dataset?\n",
      "2021-04-28 13:41:47,652 Warning: An empty Sentence was created! Are there empty strings in your dataset?\n",
      "2021-04-28 13:41:47,653 Warning: An empty Sentence was created! Are there empty strings in your dataset?\n",
      "2021-04-28 13:41:47,653 Warning: An empty Sentence was created! Are there empty strings in your dataset?\n",
      "2021-04-28 13:41:47,654 Warning: An empty Sentence was created! Are there empty strings in your dataset?\n",
      "2021-04-28 13:41:47,655 Warning: An empty Sentence was created! Are there empty strings in your dataset?\n",
      "2021-04-28 13:41:47,655 Warning: An empty Sentence was created! Are there empty strings in your dataset?\n",
      "2021-04-28 13:41:47,656 Warning: An empty Sentence was created! Are there empty strings in your dataset?\n",
      " 24%|██▍       | 10513/43361 [14:19<43:47, 12.50it/s]2021-04-28 13:43:33,255 Warning: An empty Sentence was created! Are there empty strings in your dataset?\n",
      "2021-04-28 13:43:33,256 Warning: An empty Sentence was created! Are there empty strings in your dataset?\n",
      " 28%|██▊       | 12076/43361 [16:11<40:59, 12.72it/s]2021-04-28 13:45:25,881 Warning: An empty Sentence was created! Are there empty strings in your dataset?\n",
      "2021-04-28 13:45:25,882 Warning: An empty Sentence was created! Are there empty strings in your dataset?\n",
      " 32%|███▏      | 13747/43361 [18:11<37:09, 13.28it/s]2021-04-28 13:47:25,387 Warning: An empty Sentence was created! Are there empty strings in your dataset?\n",
      " 32%|███▏      | 13753/43361 [18:11<35:04, 14.07it/s]2021-04-28 13:47:25,889 Warning: An empty Sentence was created! Are there empty strings in your dataset?\n",
      " 36%|███▌      | 15545/43361 [20:16<40:30, 11.45it/s]2021-04-28 13:49:31,146 Warning: An empty Sentence was created! Are there empty strings in your dataset?\n",
      " 40%|████      | 17455/43361 [22:30<30:56, 13.96it/s]2021-04-28 13:51:45,233 Warning: An empty Sentence was created! Are there empty strings in your dataset?\n",
      "2021-04-28 13:51:45,234 Warning: An empty Sentence was created! Are there empty strings in your dataset?\n",
      " 45%|████▍     | 19473/43361 [24:49<28:15, 14.09it/s]2021-04-28 13:54:03,931 Warning: An empty Sentence was created! Are there empty strings in your dataset?\n",
      "2021-04-28 13:54:03,932 Warning: An empty Sentence was created! Are there empty strings in your dataset?\n",
      " 45%|████▍     | 19477/43361 [24:49<24:22, 16.34it/s]2021-04-28 13:54:04,077 Warning: An empty Sentence was created! Are there empty strings in your dataset?\n",
      "2021-04-28 13:54:04,078 Warning: An empty Sentence was created! Are there empty strings in your dataset?\n",
      " 50%|████▉     | 21673/43361 [27:16<22:01, 16.41it/s]2021-04-28 13:56:30,780 Warning: An empty Sentence was created! Are there empty strings in your dataset?\n",
      " 50%|████▉     | 21676/43361 [27:16<22:43, 15.91it/s]2021-04-28 13:56:30,980 Warning: An empty Sentence was created! Are there empty strings in your dataset?\n",
      " 52%|█████▏    | 22494/43361 [28:14<25:10, 13.81it/s]2021-04-28 13:57:28,896 Warning: An empty Sentence was created! Are there empty strings in your dataset?\n",
      " 55%|█████▍    | 23826/43361 [29:43<25:20, 12.84it/s]2021-04-28 13:58:58,186 Warning: An empty Sentence was created! Are there empty strings in your dataset?\n",
      " 55%|█████▍    | 23829/43361 [29:44<23:05, 14.10it/s]2021-04-28 13:58:58,350 Warning: An empty Sentence was created! Are there empty strings in your dataset?\n",
      " 60%|██████    | 26123/43361 [32:15<19:05, 15.05it/s]2021-04-28 14:01:29,490 Warning: An empty Sentence was created! Are there empty strings in your dataset?\n",
      " 60%|██████    | 26125/43361 [32:15<17:41, 16.24it/s]2021-04-28 14:01:29,492 Warning: An empty Sentence was created! Are there empty strings in your dataset?\n",
      " 60%|██████    | 26127/43361 [32:15<18:50, 15.24it/s]2021-04-28 14:01:29,642 Warning: An empty Sentence was created! Are there empty strings in your dataset?\n",
      " 66%|██████▌   | 28416/43361 [34:49<15:53, 15.67it/s]2021-04-28 14:04:03,322 Warning: An empty Sentence was created! Are there empty strings in your dataset?\n",
      " 66%|██████▌   | 28419/43361 [34:49<15:56, 15.63it/s]2021-04-28 14:04:03,432 Warning: An empty Sentence was created! Are there empty strings in your dataset?\n",
      " 66%|██████▌   | 28421/43361 [34:49<17:01, 14.62it/s]2021-04-28 14:04:03,589 Warning: An empty Sentence was created! Are there empty strings in your dataset?\n",
      " 71%|███████   | 30832/43361 [37:24<12:22, 16.86it/s]2021-04-28 14:06:38,497 Warning: An empty Sentence was created! Are there empty strings in your dataset?\n",
      " 71%|███████   | 30835/43361 [37:24<13:42, 15.23it/s]2021-04-28 14:06:38,642 Warning: An empty Sentence was created! Are there empty strings in your dataset?\n",
      " 77%|███████▋  | 33335/43361 [40:04<10:34, 15.79it/s]2021-04-28 14:09:18,246 Warning: An empty Sentence was created! Are there empty strings in your dataset?\n",
      " 77%|███████▋  | 33337/43361 [40:04<11:38, 14.36it/s]2021-04-28 14:09:18,415 Warning: An empty Sentence was created! Are there empty strings in your dataset?\n",
      "2021-04-28 14:09:18,416 Warning: An empty Sentence was created! Are there empty strings in your dataset?\n",
      " 83%|████████▎ | 35815/43361 [42:43<07:44, 16.25it/s]2021-04-28 14:11:57,774 Warning: An empty Sentence was created! Are there empty strings in your dataset?\n",
      " 83%|████████▎ | 35817/43361 [42:43<08:07, 15.46it/s]2021-04-28 14:11:57,918 Warning: An empty Sentence was created! Are there empty strings in your dataset?\n",
      "2021-04-28 14:11:57,919 Warning: An empty Sentence was created! Are there empty strings in your dataset?\n",
      " 88%|████████▊ | 38127/43361 [45:01<04:23, 19.86it/s]2021-04-28 14:14:15,858 Warning: An empty Sentence was created! Are there empty strings in your dataset?\n",
      "2021-04-28 14:14:15,903 Warning: An empty Sentence was created! Are there empty strings in your dataset?\n",
      " 88%|████████▊ | 38131/43361 [45:01<04:01, 21.67it/s]2021-04-28 14:14:16,152 Warning: An empty Sentence was created! Are there empty strings in your dataset?\n",
      "2021-04-28 14:14:16,153 Warning: An empty Sentence was created! Are there empty strings in your dataset?\n",
      " 94%|█████████▎| 40640/43361 [47:26<02:42, 16.73it/s]2021-04-28 14:16:40,392 Warning: An empty Sentence was created! Are there empty strings in your dataset?\n",
      "2021-04-28 14:16:40,393 Warning: An empty Sentence was created! Are there empty strings in your dataset?\n",
      " 94%|█████████▎| 40645/43361 [47:26<02:11, 20.59it/s]2021-04-28 14:16:40,435 Warning: An empty Sentence was created! Are there empty strings in your dataset?\n",
      " 94%|█████████▎| 40648/43361 [47:26<02:02, 22.17it/s]2021-04-28 14:16:40,546 Warning: An empty Sentence was created! Are there empty strings in your dataset?\n",
      "2021-04-28 14:16:40,639 Warning: An empty Sentence was created! Are there empty strings in your dataset?\n",
      " 94%|█████████▍| 40656/43361 [47:26<02:02, 22.04it/s]2021-04-28 14:16:40,887 Warning: An empty Sentence was created! Are there empty strings in your dataset?\n",
      "2021-04-28 14:16:40,931 Warning: An empty Sentence was created! Are there empty strings in your dataset?\n",
      " 94%|█████████▍| 40660/43361 [47:26<01:54, 23.53it/s]2021-04-28 14:16:41,197 Warning: An empty Sentence was created! Are there empty strings in your dataset?\n",
      "2021-04-28 14:16:41,198 Warning: An empty Sentence was created! Are there empty strings in your dataset?\n",
      " 94%|█████████▍| 40663/43361 [47:26<02:05, 21.43it/s]2021-04-28 14:16:41,199 Warning: An empty Sentence was created! Are there empty strings in your dataset?\n",
      " 99%|█████████▉| 42939/43361 [49:40<00:22, 18.81it/s]2021-04-28 14:18:54,793 Warning: An empty Sentence was created! Are there empty strings in your dataset?\n",
      " 99%|█████████▉| 42945/43361 [49:40<00:21, 19.77it/s]2021-04-28 14:18:54,952 Warning: An empty Sentence was created! Are there empty strings in your dataset?\n",
      "2021-04-28 14:18:54,953 Warning: An empty Sentence was created! Are there empty strings in your dataset?\n",
      " 99%|█████████▉| 42948/43361 [49:40<00:18, 21.89it/s]2021-04-28 14:18:55,206 Warning: An empty Sentence was created! Are there empty strings in your dataset?\n",
      "2021-04-28 14:18:55,207 Warning: An empty Sentence was created! Are there empty strings in your dataset?\n",
      " 99%|█████████▉| 42951/43361 [49:40<00:19, 21.11it/s]2021-04-28 14:18:55,209 Warning: An empty Sentence was created! Are there empty strings in your dataset?\n",
      "100%|██████████| 43361/43361 [50:05<00:00, 14.43it/s]\n"
     ]
    }
   ],
   "source": [
    "task.apply_model(Path('annotations/description/model/tagger/best-model.pt'))"
   ]
  },
  {
   "cell_type": "code",
   "execution_count": 29,
   "metadata": {},
   "outputs": [],
   "source": [
    "task.extract_tag('Description')"
   ]
  },
  {
   "cell_type": "code",
   "execution_count": 30,
   "metadata": {},
   "outputs": [],
   "source": [
    "task.save()"
   ]
  },
  {
   "source": [
    "# Appendix\n",
    "## Output Descriptions for STM"
   ],
   "cell_type": "markdown",
   "metadata": {}
  },
  {
   "cell_type": "code",
   "execution_count": 5,
   "metadata": {},
   "outputs": [
    {
     "output_type": "execute_result",
     "data": {
      "text/plain": [
       "(43361, 21)"
      ]
     },
     "metadata": {},
     "execution_count": 5
    }
   ],
   "source": [
    "df_task = pd.read_csv('output_data/MPD_export_1846_1920_description.csv', index_col=0)\n",
    "\n",
    "df_jisc = pd.read_csv('output_data/MPD_export_1846_1920_JISC.csv', index_col=0)\n",
    "df_merged = df_task.merge(df_jisc['JISC'],left_index=True,right_index=True)\n",
    "df_merged.shape"
   ]
  },
  {
   "cell_type": "code",
   "execution_count": 6,
   "metadata": {},
   "outputs": [],
   "source": [
    "df_merged.loc[~df_merged.JISC.isnull(),'JISC'] = 1\n",
    "df_merged['JISC'].fillna(0,inplace=True)\n"
   ]
  },
  {
   "cell_type": "code",
   "execution_count": 7,
   "metadata": {},
   "outputs": [],
   "source": [
    "out_stm = Path('output_data/stm')\n",
    "out_stm.mkdir(exist_ok=True)"
   ]
  },
  {
   "cell_type": "code",
   "execution_count": 9,
   "metadata": {},
   "outputs": [],
   "source": [
    "df_merged[['year','COUNTY','JISC','S-POL','extract_description']].to_csv(out_stm / 'MPD_export_1846_1920_stm_jisc_export.csv' )"
   ]
  },
  {
   "cell_type": "code",
   "execution_count": 42,
   "metadata": {},
   "outputs": [],
   "source": [
    "\n",
    "df_merged_sub = df_merged[df_merged['S-POL'].isin(['liberal', 'conservative','independent','neutral'])]\n",
    "df_merged_sub[['year','COUNTY','JISC','S-POL','extract_description']].to_csv(out_stm / 'MPD_export_1846_1920_stm_pol_export.csv' )"
   ]
  },
  {
   "cell_type": "code",
   "execution_count": null,
   "metadata": {},
   "outputs": [],
   "source": []
  }
 ]
}