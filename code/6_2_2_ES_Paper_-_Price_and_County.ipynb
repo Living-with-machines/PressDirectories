{
 "cells": [
  {
   "cell_type": "code",
   "execution_count": 1,
   "metadata": {},
   "outputs": [],
   "source": [
    "%matplotlib inline\n",
    "import pandas as pd\n",
    "import numpy as np\n",
    "import seaborn as sns\n",
    "import math\n",
    "import matplotlib.pyplot as plt\n",
    "from scipy.stats import entropy\n",
    "from collections import defaultdict, Counter\n",
    "from tools.record_tools import complete_records\n",
    "from scipy.spatial.distance import jensenshannon\n",
    "sns.set()"
   ]
  },
  {
   "cell_type": "code",
   "execution_count": 2,
   "metadata": {},
   "outputs": [],
   "source": [
    "def divergence(df,labels,measure='jensenshannon',target='first_price_int'):\n",
    "\n",
    "    props_pop, props_sample = [], []\n",
    "\n",
    "    for label in labels:\n",
    "        pol_prop = df.groupby([target,'year'])['id'].count() / df.groupby(['year'])['id'].count()\n",
    "        \n",
    "        pol_prop_jisc = df[df['IN_JISC']==True].groupby([target,'year'])['id'].count() / df[df['IN_JISC']==True].groupby(['year'])['id'].count()\n",
    "        \n",
    "            \n",
    "        if isinstance(label,list):\n",
    "            pol_prop = pol_prop.loc[label,:].groupby('year').sum()\n",
    "            #print(pol_prop)\n",
    "            try:\n",
    "                pol_prop_jisc = pol_prop_jisc.loc[label,:].groupby('year').sum()\n",
    "            except:\n",
    "                pol_prop_jisc = pd.Series([.0]*len(df.year.unique()),index=df.year.unique())\n",
    "        else:\n",
    "            pol_prop = pol_prop.loc[label,:].droplevel(target)\n",
    "            try:\n",
    "                pol_prop_jisc = pol_prop_jisc.loc[label,:].droplevel(target)\n",
    "            except:\n",
    "                pol_prop_jisc = pd.Series([.0]*len(df.year.unique()),index=df.year.unique())\n",
    "            \n",
    "            \n",
    "        props_pop.append(pol_prop); props_sample.append(pol_prop_jisc) \n",
    "    props_pop, props_sample = pd.concat(props_pop, axis=1).fillna(0),pd.concat(props_sample, axis=1).fillna(0)\n",
    "\n",
    "    scores = {}\n",
    "\n",
    "    for year in props_pop.index:\n",
    "        exec(f'scores[year] = {measure}(props_pop.loc[year],props_sample.loc[year])')\n",
    "\n",
    "    return props_pop,props_sample,pd.DataFrame.from_dict(scores,orient='index')"
   ]
  },
  {
   "cell_type": "markdown",
   "metadata": {},
   "source": [
    "# Price"
   ]
  },
  {
   "cell_type": "code",
   "execution_count": 3,
   "metadata": {},
   "outputs": [],
   "source": [
    "df = pd.read_csv('output_data/MPD_export_1846_1920_JISC_ref.csv', index_col=0)\n",
    "df['IN_JISC'] = False\n",
    "df.loc[df['JISC'] > 0,'IN_JISC'] = True"
   ]
  },
  {
   "cell_type": "code",
   "execution_count": 4,
   "metadata": {},
   "outputs": [],
   "source": [
    "df = complete_records(df,'S-POL')"
   ]
  },
  {
   "cell_type": "code",
   "execution_count": 7,
   "metadata": {},
   "outputs": [],
   "source": [
    "convert_price = {'1d':1, '2d':2 ,'½ d':.5,'3d':3,\n",
    "    '1 ½ d':1.5, '6d':6,'4d':4, \n",
    "    '5d':5, '3 ½ d':3.5, '4 ½ d':4.5,\n",
    "    '2 ½ d':2.5, '1s':12, 'Gratis':.0, \n",
    "    '9d':9, '7d':7, '8d':8, 'gratis':0, \n",
    "    '5s':60, '21s':252, '10s':120, '20s':240, \n",
    "    '2s':24, '8s':96, '£ 3 3s':756, '12s':144, \n",
    "    '1':1,'One Halfpenny':.5, '1 ½':1.5, \n",
    "    '26s':312, '7s':84,'½<CON>d':.5, \n",
    "    '2':2,'£ 1 12s':384,'24s':288, \n",
    "    '3 ½':3.5,'15s':189, 'Halfpenny':.5,\n",
    "    '£ 1 19s':468,'40s':480,'1 ½ 4':1.5,\n",
    "    '13s':156, '£ 1 10s':360, '6':6, \n",
    "    ' ½ d':.5, '6s':72,'Gra':0, \n",
    "    '42s':504,'5 ½ d':5.5,'One Penny':1,\n",
    "    'Sixpence':72, '£ 2 2s':504, '£2 ':480,\n",
    "    '4s':48,'£ 1 5s':252,'£ 2 16s':672 ,\n",
    "    '4 ½':4.5,'3s':36}\n",
    "\n",
    "\n",
    "df['first_price'] = df['S-PRICE'].apply(lambda x: x.split('<SEP>')[0] if isinstance(x,str) else x)\n",
    "df['first_price'] = df['first_price'].apply(lambda x: convert_price.get(x,None))\n",
    "df = complete_records(df,'first_price')\n"
   ]
  },
  {
   "cell_type": "code",
   "execution_count": 8,
   "metadata": {},
   "outputs": [
    {
     "data": {
      "text/plain": [
       "((42231, 24), (43374, 24))"
      ]
     },
     "execution_count": 8,
     "metadata": {},
     "output_type": "execute_result"
    }
   ],
   "source": [
    "df_with_price = df[~df.first_price.isna()]\n",
    "df_with_price.shape,df.shape"
   ]
  },
  {
   "cell_type": "code",
   "execution_count": 9,
   "metadata": {},
   "outputs": [
    {
     "name": "stdout",
     "output_type": "stream",
     "text": [
      "1143\n",
      "2.635219255775349\n"
     ]
    }
   ],
   "source": [
    "print((df.shape[0] - df_with_price.shape[0]))\n",
    "print(((df.shape[0] - df_with_price.shape[0]) / df.shape[0]) * 100) \n"
   ]
  },
  {
   "cell_type": "code",
   "execution_count": 10,
   "metadata": {},
   "outputs": [
    {
     "name": "stderr",
     "output_type": "stream",
     "text": [
      "/data/anaconda/envs/py37torch/lib/python3.7/site-packages/ipykernel_launcher.py:16: SettingWithCopyWarning: \n",
      "A value is trying to be set on a copy of a slice from a DataFrame.\n",
      "Try using .loc[row_indexer,col_indexer] = value instead\n",
      "\n",
      "See the caveats in the documentation: https://pandas.pydata.org/pandas-docs/stable/user_guide/indexing.html#returning-a-view-versus-a-copy\n",
      "  app.launch_new_instance()\n"
     ]
    }
   ],
   "source": [
    "#df.first_price_int.value_counts()\n",
    "\n",
    "def reduce_price(x,ceil=True):\n",
    "    try:\n",
    "        if float(x) <= 1.0:\n",
    "            return float(x)\n",
    "        else:\n",
    "            if ceil:\n",
    "                return float(math.ceil(x))\n",
    "            else:\n",
    "                return float(x)\n",
    "    except:\n",
    "        return None\n",
    "\n",
    "ceil = True\n",
    "df_with_price['first_price_red'] = df_with_price.first_price.apply(reduce_price,ceil=ceil)\n"
   ]
  },
  {
   "cell_type": "code",
   "execution_count": 11,
   "metadata": {},
   "outputs": [],
   "source": [
    "df_prov_with_price = df_with_price[df_with_price.CATEGORY.isin(['provincial','welsh','scottish','irish'])]\n",
    "df_prov_with_price = df_prov_with_price[df_prov_with_price.year <= 1900]\n"
   ]
  },
  {
   "cell_type": "code",
   "execution_count": 12,
   "metadata": {},
   "outputs": [
    {
     "data": {
      "text/plain": [
       "[0.0, 0.5, 1.0, 2.0, 3.0, 4.0, 5.0, 6.0]"
      ]
     },
     "execution_count": 12,
     "metadata": {},
     "output_type": "execute_result"
    }
   ],
   "source": [
    "df_prov_with_price.loc[df_prov_with_price['first_price_red'] > 6.0,'first_price_red'] = 6\n",
    "selected_prices = list(df_prov_with_price.first_price_red.value_counts().index)\n",
    "selected_prices.sort()\n",
    "\n",
    "selected_prices"
   ]
  },
  {
   "cell_type": "code",
   "execution_count": 13,
   "metadata": {},
   "outputs": [
    {
     "data": {
      "image/png": "[encoded data removed]",
      "text/plain": [
       "<Figure size 432x288 with 1 Axes>"
      ]
     },
     "metadata": {},
     "output_type": "display_data"
    }
   ],
   "source": [
    "target = 'first_price_red'\n",
    "props_pop,props_sample,d= divergence(df_prov_with_price,selected_prices,target=target)\n",
    "fig = d.plot(legend=False,ylim=(.0,max(d.values)[0]+.01)).get_figure()\n",
    "fig.savefig('images/jsd_price.png')\n"
   ]
  },
  {
   "cell_type": "code",
   "execution_count": 14,
   "metadata": {},
   "outputs": [],
   "source": [
    "props_pop.columns = selected_prices\n",
    "props_sample.columns = selected_prices"
   ]
  },
  {
   "cell_type": "code",
   "execution_count": 15,
   "metadata": {},
   "outputs": [
    {
     "data": {
      "image/png": "[encoded data removed]",
      "text/plain": [
       "<Figure size 432x288 with 1 Axes>"
      ]
     },
     "metadata": {},
     "output_type": "display_data"
    }
   ],
   "source": [
    "fig = props_pop.plot(kind='area').get_figure()\n",
    "fig.savefig('images/price_area_pop.png')"
   ]
  },
  {
   "cell_type": "code",
   "execution_count": 16,
   "metadata": {},
   "outputs": [
    {
     "data": {
      "image/png": "[encoded data removed]",
      "text/plain": [
       "<Figure size 432x288 with 1 Axes>"
      ]
     },
     "metadata": {},
     "output_type": "display_data"
    }
   ],
   "source": [
    "fig = props_sample.plot(kind='area',legend=False).get_figure()\n",
    "fig.savefig('images/price_area_sample.png')"
   ]
  },
  {
   "cell_type": "code",
   "execution_count": 17,
   "metadata": {},
   "outputs": [
    {
     "data": {
      "image/png": "[encoded data removed]",
      "text/plain": [
       "<Figure size 432x288 with 1 Axes>"
      ]
     },
     "metadata": {},
     "output_type": "display_data"
    }
   ],
   "source": [
    "df_prov_with_price[(~df_prov_with_price['first_price'].isnull()) & (df_prov_with_price['first_price'] <= 12.0)].groupby('year')['first_price'].mean().plot()\n",
    "fig = df_prov_with_price[df_prov_with_price.IN_JISC==True].groupby('year')['first_price_red'].mean().plot().get_figure()\n",
    "fig.savefig('images/price_avg_comp.png')"
   ]
  },
  {
   "cell_type": "code",
   "execution_count": 18,
   "metadata": {},
   "outputs": [],
   "source": [
    "labels = selected_prices\n",
    "\n",
    "props_pop.columns = labels\n",
    "props_sample.columns = labels\n",
    "\n",
    "#kl_p = lambda x: x[0] * np.log(2*x[0]/(x[0]+x[1]))\n",
    "def kl_p(x):\n",
    "    if x[0]+x[1] > .0:\n",
    "        return x[0] * np.log(2*x[0]/(x[0]+x[1]))\n",
    "    else:\n",
    "        return .0\n",
    "\n",
    "kl_ps = []\n",
    "for year in props_pop.index:\n",
    "    \n",
    "    kl_ps.append(list(map(kl_p,zip(props_pop.loc[year],props_sample.loc[year]))))\n",
    "\n",
    "kl_ps_df = pd.DataFrame(kl_ps, columns=labels)\n",
    "kl_ps_df.index = df_prov_with_price.year.unique()\n"
   ]
  },
  {
   "cell_type": "code",
   "execution_count": 23,
   "metadata": {},
   "outputs": [
    {
     "data": {
      "text/plain": [
       "0.0    0.003053\n",
       "6.0    0.005391\n",
       "0.5    0.013710\n",
       "5.0    0.019963\n",
       "3.0    0.026489\n",
       "4.0    0.036790\n",
       "2.0    0.047743\n",
       "1.0    0.055442\n",
       "dtype: float64"
      ]
     },
     "execution_count": 23,
     "metadata": {},
     "output_type": "execute_result"
    }
   ],
   "source": [
    "kl_ps_df.std(axis=0).sort_values()"
   ]
  },
  {
   "cell_type": "code",
   "execution_count": 30,
   "metadata": {},
   "outputs": [
    {
     "data": {
      "text/plain": [
       "<matplotlib.axes._subplots.AxesSubplot at 0x7f0ff2d81c50>"
      ]
     },
     "execution_count": 30,
     "metadata": {},
     "output_type": "execute_result"
    },
    {
     "data": {
      "image/png": "[encoded data removed]",
      "text/plain": [
       "<Figure size 432x288 with 1 Axes>"
      ]
     },
     "metadata": {},
     "output_type": "display_data"
    }
   ],
   "source": [
    "fig = kl_ps_df[[1.0,2.0,4.0]].plot(legend=True, color=['#2ca02c','#d62728','#8c564b']).get_figure()\n"
   ]
  },
  {
   "cell_type": "code",
   "execution_count": null,
   "metadata": {},
   "outputs": [],
   "source": [
    "fig = kl_ps_df.plot(legend=False, lw=2,\n",
    "                    style=['.-','.-','.--','.--','.-','.--','.-','.-'],\n",
    "                    color=['grey','grey','#2ca02c','#d62728','grey','#8c564b','grey','grey']\n",
    ").get_figure()\n",
    "fig.savefig('images/partial_price_kl.png')"
   ]
  },
  {
   "cell_type": "markdown",
   "metadata": {},
   "source": [
    "# Place"
   ]
  },
  {
   "cell_type": "code",
   "execution_count": 32,
   "metadata": {},
   "outputs": [],
   "source": [
    "df_prov= df[df.CATEGORY.isin(['provincial','welsh','scottish','irish'])]\n",
    "df_prov = df_prov[df_prov.year <= 1900]"
   ]
  },
  {
   "cell_type": "code",
   "execution_count": 33,
   "metadata": {},
   "outputs": [
    {
     "data": {
      "text/plain": [
       "(88, 88)"
      ]
     },
     "execution_count": 33,
     "metadata": {},
     "output_type": "execute_result"
    }
   ],
   "source": [
    "df_prov_gb = df_prov[df_prov.CATEGORY.isin(['provincial','welsh','scottish'])]\n",
    "counties = df_prov_gb.COUNTY.value_counts()\n",
    "selected_counties = list(counties[counties > 1].index)\n",
    "len(counties),len(selected_counties)"
   ]
  },
  {
   "cell_type": "code",
   "execution_count": 34,
   "metadata": {},
   "outputs": [
    {
     "name": "stderr",
     "output_type": "stream",
     "text": [
      "/data/anaconda/envs/py37torch/lib/python3.7/site-packages/IPython/core/interactiveshell.py:3063: DtypeWarning: Columns (5,17,18,29,33,34,35,36,37) have mixed types.Specify dtype option on import or set low_memory=False.\n",
      "  interactivity=interactivity, compiler=compiler, result=result)\n"
     ]
    }
   ],
   "source": [
    "gaz = pd.read_csv('newspaper_metadata/british_isles_gazetteer.csv')\n",
    "#gaz.head()"
   ]
  },
  {
   "cell_type": "code",
   "execution_count": 35,
   "metadata": {},
   "outputs": [],
   "source": [
    "#gaz.columns"
   ]
  },
  {
   "cell_type": "code",
   "execution_count": 36,
   "metadata": {},
   "outputs": [],
   "source": [
    "places = [l.split('\\t') for l in open('newspaper_metadata/county_names_with_wik.txt','r').read().split('\\n')]\n",
    "places_df = pd.DataFrame(places, columns=['name','wiki'])\n",
    "#places_df"
   ]
  },
  {
   "cell_type": "code",
   "execution_count": 37,
   "metadata": {},
   "outputs": [
    {
     "data": {
      "text/plain": [
       "(88, 6)"
      ]
     },
     "execution_count": 37,
     "metadata": {},
     "output_type": "execute_result"
    }
   ],
   "source": [
    "places_joined_df = places_df.merge(gaz[['wikidata_id','english_label','latitude','longitude']],left_on='wiki',right_on='wikidata_id',how='left')\n",
    "places_joined_df.shape"
   ]
  },
  {
   "cell_type": "code",
   "execution_count": 38,
   "metadata": {},
   "outputs": [
    {
     "data": {
      "text/html": [
       "<div>\n",
       "<style scoped>\n",
       "    .dataframe tbody tr th:only-of-type {\n",
       "        vertical-align: middle;\n",
       "    }\n",
       "\n",
       "    .dataframe tbody tr th {\n",
       "        vertical-align: top;\n",
       "    }\n",
       "\n",
       "    .dataframe thead th {\n",
       "        text-align: right;\n",
       "    }\n",
       "</style>\n",
       "<table border=\"1\" class=\"dataframe\">\n",
       "  <thead>\n",
       "    <tr style=\"text-align: right;\">\n",
       "      <th></th>\n",
       "      <th>name</th>\n",
       "      <th>wiki</th>\n",
       "      <th>wikidata_id</th>\n",
       "      <th>english_label</th>\n",
       "      <th>latitude</th>\n",
       "      <th>longitude</th>\n",
       "    </tr>\n",
       "  </thead>\n",
       "  <tbody>\n",
       "    <tr>\n",
       "      <th>0</th>\n",
       "      <td>buckinghamshire</td>\n",
       "      <td>Q67285329</td>\n",
       "      <td>Q67285329</td>\n",
       "      <td>Buckinghamshire</td>\n",
       "      <td>51.828022</td>\n",
       "      <td>-0.790426</td>\n",
       "    </tr>\n",
       "    <tr>\n",
       "      <th>1</th>\n",
       "      <td>oxfordshire</td>\n",
       "      <td>Q67311417</td>\n",
       "      <td>Q67311417</td>\n",
       "      <td>Oxfordshire</td>\n",
       "      <td>51.808471</td>\n",
       "      <td>-1.287156</td>\n",
       "    </tr>\n",
       "    <tr>\n",
       "      <th>2</th>\n",
       "      <td>devonshire</td>\n",
       "      <td>Q67393660</td>\n",
       "      <td>Q67393660</td>\n",
       "      <td>Devon</td>\n",
       "      <td>50.752867</td>\n",
       "      <td>-3.817742</td>\n",
       "    </tr>\n",
       "    <tr>\n",
       "      <th>3</th>\n",
       "      <td>somersetshire</td>\n",
       "      <td>Q67461071</td>\n",
       "      <td>Q67461071</td>\n",
       "      <td>Somerset</td>\n",
       "      <td>51.149935</td>\n",
       "      <td>-2.878137</td>\n",
       "    </tr>\n",
       "    <tr>\n",
       "      <th>4</th>\n",
       "      <td>bedfordshire</td>\n",
       "      <td>Q67387552</td>\n",
       "      <td>Q67387552</td>\n",
       "      <td>Bedfordshire</td>\n",
       "      <td>52.079580</td>\n",
       "      <td>-0.448204</td>\n",
       "    </tr>\n",
       "    <tr>\n",
       "      <th>...</th>\n",
       "      <td>...</td>\n",
       "      <td>...</td>\n",
       "      <td>...</td>\n",
       "      <td>...</td>\n",
       "      <td>...</td>\n",
       "      <td>...</td>\n",
       "    </tr>\n",
       "    <tr>\n",
       "      <th>83</th>\n",
       "      <td>salop</td>\n",
       "      <td>Q67574371</td>\n",
       "      <td>Q67574371</td>\n",
       "      <td>Shropshire</td>\n",
       "      <td>52.642392</td>\n",
       "      <td>-2.714801</td>\n",
       "    </tr>\n",
       "    <tr>\n",
       "      <th>84</th>\n",
       "      <td>isle of wight</td>\n",
       "      <td>Q9679</td>\n",
       "      <td>Q9679</td>\n",
       "      <td>Isle of Wight</td>\n",
       "      <td>50.666667</td>\n",
       "      <td>-1.266667</td>\n",
       "    </tr>\n",
       "    <tr>\n",
       "      <th>85</th>\n",
       "      <td>berwickshire</td>\n",
       "      <td>Q786649</td>\n",
       "      <td>Q786649</td>\n",
       "      <td>Berwickshire</td>\n",
       "      <td>55.750000</td>\n",
       "      <td>-2.500000</td>\n",
       "    </tr>\n",
       "    <tr>\n",
       "      <th>86</th>\n",
       "      <td>shetland isles</td>\n",
       "      <td>Q47134</td>\n",
       "      <td>Q47134</td>\n",
       "      <td>Shetland Islands</td>\n",
       "      <td>60.303800</td>\n",
       "      <td>-1.268900</td>\n",
       "    </tr>\n",
       "    <tr>\n",
       "      <th>87</th>\n",
       "      <td>isle of anglesey</td>\n",
       "      <td>Q168159</td>\n",
       "      <td>Q168159</td>\n",
       "      <td>Anglesey</td>\n",
       "      <td>53.293975</td>\n",
       "      <td>-4.376728</td>\n",
       "    </tr>\n",
       "  </tbody>\n",
       "</table>\n",
       "<p>88 rows × 6 columns</p>\n",
       "</div>"
      ],
      "text/plain": [
       "                name       wiki wikidata_id     english_label   latitude  \\\n",
       "0    buckinghamshire  Q67285329   Q67285329   Buckinghamshire  51.828022   \n",
       "1        oxfordshire  Q67311417   Q67311417       Oxfordshire  51.808471   \n",
       "2         devonshire  Q67393660   Q67393660             Devon  50.752867   \n",
       "3      somersetshire  Q67461071   Q67461071          Somerset  51.149935   \n",
       "4       bedfordshire  Q67387552   Q67387552      Bedfordshire  52.079580   \n",
       "..               ...        ...         ...               ...        ...   \n",
       "83             salop  Q67574371   Q67574371        Shropshire  52.642392   \n",
       "84     isle of wight      Q9679       Q9679     Isle of Wight  50.666667   \n",
       "85      berwickshire    Q786649     Q786649      Berwickshire  55.750000   \n",
       "86    shetland isles     Q47134      Q47134  Shetland Islands  60.303800   \n",
       "87  isle of anglesey    Q168159     Q168159          Anglesey  53.293975   \n",
       "\n",
       "    longitude  \n",
       "0   -0.790426  \n",
       "1   -1.287156  \n",
       "2   -3.817742  \n",
       "3   -2.878137  \n",
       "4   -0.448204  \n",
       "..        ...  \n",
       "83  -2.714801  \n",
       "84  -1.266667  \n",
       "85  -2.500000  \n",
       "86  -1.268900  \n",
       "87  -4.376728  \n",
       "\n",
       "[88 rows x 6 columns]"
      ]
     },
     "execution_count": 38,
     "metadata": {},
     "output_type": "execute_result"
    }
   ],
   "source": [
    "places_joined_df"
   ]
  },
  {
   "cell_type": "code",
   "execution_count": 39,
   "metadata": {},
   "outputs": [],
   "source": [
    "#sum(places_joined_df.latitude.isnull())"
   ]
  },
  {
   "cell_type": "code",
   "execution_count": 40,
   "metadata": {},
   "outputs": [],
   "source": [
    "#df_prov_gb['COUNTY_2'] = df_prov_gb.COUNTY"
   ]
  },
  {
   "cell_type": "code",
   "execution_count": 41,
   "metadata": {},
   "outputs": [],
   "source": [
    "df_prov_gb_joined = df_prov_gb.merge(places_joined_df,left_on='COUNTY',right_on='name',how='left')"
   ]
  },
  {
   "cell_type": "code",
   "execution_count": 42,
   "metadata": {},
   "outputs": [
    {
     "data": {
      "text/html": [
       "<div>\n",
       "<style scoped>\n",
       "    .dataframe tbody tr th:only-of-type {\n",
       "        vertical-align: middle;\n",
       "    }\n",
       "\n",
       "    .dataframe tbody tr th {\n",
       "        vertical-align: top;\n",
       "    }\n",
       "\n",
       "    .dataframe thead th {\n",
       "        text-align: right;\n",
       "    }\n",
       "</style>\n",
       "<table border=\"1\" class=\"dataframe\">\n",
       "  <thead>\n",
       "    <tr style=\"text-align: right;\">\n",
       "      <th></th>\n",
       "      <th>index</th>\n",
       "      <th>id</th>\n",
       "      <th>S-TITLE</th>\n",
       "      <th>S-POL</th>\n",
       "      <th>CATEGORY</th>\n",
       "      <th>DISTRICT</th>\n",
       "      <th>DISTRICT_PUB</th>\n",
       "      <th>COUNTY</th>\n",
       "      <th>S-PRICE</th>\n",
       "      <th>D-EST</th>\n",
       "      <th>...</th>\n",
       "      <th>IN_JISC</th>\n",
       "      <th>value_S-POL_source_idx</th>\n",
       "      <th>first_price</th>\n",
       "      <th>value_first_price_source_idx</th>\n",
       "      <th>name</th>\n",
       "      <th>wiki</th>\n",
       "      <th>wikidata_id</th>\n",
       "      <th>english_label</th>\n",
       "      <th>latitude</th>\n",
       "      <th>longitude</th>\n",
       "    </tr>\n",
       "  </thead>\n",
       "  <tbody>\n",
       "    <tr>\n",
       "      <th>0</th>\n",
       "      <td>129</td>\n",
       "      <td>MPD_1846_129</td>\n",
       "      <td>BUCK'S GAZETTE .</td>\n",
       "      <td>liberal</td>\n",
       "      <td>provincial</td>\n",
       "      <td>aylesbury . — ( buckinghamshire . )</td>\n",
       "      <td>aylesbury</td>\n",
       "      <td>buckinghamshire</td>\n",
       "      <td>4d</td>\n",
       "      <td>Nov . 17 , 1821</td>\n",
       "      <td>...</td>\n",
       "      <td>False</td>\n",
       "      <td>None</td>\n",
       "      <td>4.0</td>\n",
       "      <td>None</td>\n",
       "      <td>buckinghamshire</td>\n",
       "      <td>Q67285329</td>\n",
       "      <td>Q67285329</td>\n",
       "      <td>Buckinghamshire</td>\n",
       "      <td>51.828022</td>\n",
       "      <td>-0.790426</td>\n",
       "    </tr>\n",
       "    <tr>\n",
       "      <th>1</th>\n",
       "      <td>130</td>\n",
       "      <td>MPD_1846_130</td>\n",
       "      <td>BUCK'S HERALD .</td>\n",
       "      <td>conservative</td>\n",
       "      <td>provincial</td>\n",
       "      <td>aylesbury . — ( buckinghamshire . )</td>\n",
       "      <td>aylesbury</td>\n",
       "      <td>buckinghamshire</td>\n",
       "      <td>5d</td>\n",
       "      <td>Jannary 6 , 1832</td>\n",
       "      <td>...</td>\n",
       "      <td>False</td>\n",
       "      <td>None</td>\n",
       "      <td>5.0</td>\n",
       "      <td>None</td>\n",
       "      <td>buckinghamshire</td>\n",
       "      <td>Q67285329</td>\n",
       "      <td>Q67285329</td>\n",
       "      <td>Buckinghamshire</td>\n",
       "      <td>51.828022</td>\n",
       "      <td>-0.790426</td>\n",
       "    </tr>\n",
       "    <tr>\n",
       "      <th>2</th>\n",
       "      <td>131</td>\n",
       "      <td>MPD_1846_131</td>\n",
       "      <td>AYLESBURY NEWS .</td>\n",
       "      <td>liberal</td>\n",
       "      <td>provincial</td>\n",
       "      <td>aylesbury . — ( buckinghamshire . )</td>\n",
       "      <td>aylesbury</td>\n",
       "      <td>buckinghamshire</td>\n",
       "      <td>4d</td>\n",
       "      <td>December 3 , 1836</td>\n",
       "      <td>...</td>\n",
       "      <td>False</td>\n",
       "      <td>None</td>\n",
       "      <td>4.0</td>\n",
       "      <td>None</td>\n",
       "      <td>buckinghamshire</td>\n",
       "      <td>Q67285329</td>\n",
       "      <td>Q67285329</td>\n",
       "      <td>Buckinghamshire</td>\n",
       "      <td>51.828022</td>\n",
       "      <td>-0.790426</td>\n",
       "    </tr>\n",
       "    <tr>\n",
       "      <th>3</th>\n",
       "      <td>132</td>\n",
       "      <td>MPD_1846_132</td>\n",
       "      <td>BANBURY GUARDIAN .</td>\n",
       "      <td>neutral</td>\n",
       "      <td>provincial</td>\n",
       "      <td>banbury . — ( oxfordshire . )</td>\n",
       "      <td>banbury</td>\n",
       "      <td>oxfordshire</td>\n",
       "      <td>5d</td>\n",
       "      <td>July 6 , 1843</td>\n",
       "      <td>...</td>\n",
       "      <td>False</td>\n",
       "      <td>None</td>\n",
       "      <td>5.0</td>\n",
       "      <td>None</td>\n",
       "      <td>oxfordshire</td>\n",
       "      <td>Q67311417</td>\n",
       "      <td>Q67311417</td>\n",
       "      <td>Oxfordshire</td>\n",
       "      <td>51.808471</td>\n",
       "      <td>-1.287156</td>\n",
       "    </tr>\n",
       "    <tr>\n",
       "      <th>4</th>\n",
       "      <td>133</td>\n",
       "      <td>MPD_1846_133</td>\n",
       "      <td>NORTH DEVON ADVERTISER .</td>\n",
       "      <td>conservative</td>\n",
       "      <td>provincial</td>\n",
       "      <td>barnstaple . — ( devonshire . )</td>\n",
       "      <td>barnstaple</td>\n",
       "      <td>devonshire</td>\n",
       "      <td>4d</td>\n",
       "      <td>June , 1832</td>\n",
       "      <td>...</td>\n",
       "      <td>False</td>\n",
       "      <td>None</td>\n",
       "      <td>4.0</td>\n",
       "      <td>None</td>\n",
       "      <td>devonshire</td>\n",
       "      <td>Q67393660</td>\n",
       "      <td>Q67393660</td>\n",
       "      <td>Devon</td>\n",
       "      <td>50.752867</td>\n",
       "      <td>-3.817742</td>\n",
       "    </tr>\n",
       "  </tbody>\n",
       "</table>\n",
       "<p>5 rows × 30 columns</p>\n",
       "</div>"
      ],
      "text/plain": [
       "   index            id                   S-TITLE         S-POL    CATEGORY  \\\n",
       "0    129  MPD_1846_129          BUCK'S GAZETTE .       liberal  provincial   \n",
       "1    130  MPD_1846_130           BUCK'S HERALD .  conservative  provincial   \n",
       "2    131  MPD_1846_131          AYLESBURY NEWS .       liberal  provincial   \n",
       "3    132  MPD_1846_132        BANBURY GUARDIAN .       neutral  provincial   \n",
       "4    133  MPD_1846_133  NORTH DEVON ADVERTISER .  conservative  provincial   \n",
       "\n",
       "                              DISTRICT DISTRICT_PUB           COUNTY S-PRICE  \\\n",
       "0  aylesbury . — ( buckinghamshire . )    aylesbury  buckinghamshire      4d   \n",
       "1  aylesbury . — ( buckinghamshire . )    aylesbury  buckinghamshire      5d   \n",
       "2  aylesbury . — ( buckinghamshire . )    aylesbury  buckinghamshire      4d   \n",
       "3        banbury . — ( oxfordshire . )      banbury      oxfordshire      5d   \n",
       "4      barnstaple . — ( devonshire . )   barnstaple       devonshire      4d   \n",
       "\n",
       "               D-EST  ... IN_JISC value_S-POL_source_idx first_price  \\\n",
       "0    Nov . 17 , 1821  ...   False                   None         4.0   \n",
       "1   Jannary 6 , 1832  ...   False                   None         5.0   \n",
       "2  December 3 , 1836  ...   False                   None         4.0   \n",
       "3      July 6 , 1843  ...   False                   None         5.0   \n",
       "4        June , 1832  ...   False                   None         4.0   \n",
       "\n",
       "  value_first_price_source_idx             name       wiki wikidata_id  \\\n",
       "0                         None  buckinghamshire  Q67285329   Q67285329   \n",
       "1                         None  buckinghamshire  Q67285329   Q67285329   \n",
       "2                         None  buckinghamshire  Q67285329   Q67285329   \n",
       "3                         None      oxfordshire  Q67311417   Q67311417   \n",
       "4                         None       devonshire  Q67393660   Q67393660   \n",
       "\n",
       "     english_label   latitude  longitude  \n",
       "0  Buckinghamshire  51.828022  -0.790426  \n",
       "1  Buckinghamshire  51.828022  -0.790426  \n",
       "2  Buckinghamshire  51.828022  -0.790426  \n",
       "3      Oxfordshire  51.808471  -1.287156  \n",
       "4            Devon  50.752867  -3.817742  \n",
       "\n",
       "[5 rows x 30 columns]"
      ]
     },
     "execution_count": 42,
     "metadata": {},
     "output_type": "execute_result"
    }
   ],
   "source": [
    "df_prov_gb_joined.head()"
   ]
  },
  {
   "cell_type": "code",
   "execution_count": 43,
   "metadata": {},
   "outputs": [],
   "source": [
    "#county_names = '\\n'.join(df_prov_gb.COUNTY.unique())\n",
    "#with open('newspaper_metadata/county_names.txt','w') as out_doc:\n",
    "#    out_doc.write(county_names)"
   ]
  },
  {
   "cell_type": "code",
   "execution_count": 44,
   "metadata": {},
   "outputs": [
    {
     "data": {
      "text/plain": [
       "<matplotlib.axes._subplots.AxesSubplot at 0x7f95cd33e150>"
      ]
     },
     "execution_count": 44,
     "metadata": {},
     "output_type": "execute_result"
    },
    {
     "data": {
      "image/png": "[encoded data removed]",
      "text/plain": [
       "<Figure size 432x288 with 1 Axes>"
      ]
     },
     "metadata": {},
     "output_type": "display_data"
    }
   ],
   "source": [
    "#df_prov_gb.loc[~df_prov_gb['COUNTY'].isin(selected_counties),'COUNTY_2'] = 'other'\n",
    "selected_counties = df_prov_gb_joined.wikidata_id.unique()\n",
    "props_pop,props_sample,d= divergence(df_prov_gb_joined,selected_counties,target='wikidata_id')\n",
    "d.plot(legend=False,ylim=(.0,max(d.values)[0]+.01))\n"
   ]
  },
  {
   "cell_type": "code",
   "execution_count": 45,
   "metadata": {},
   "outputs": [],
   "source": [
    "#df_prov_gb[df_prov_gb.COUNTY_2=='other']"
   ]
  },
  {
   "cell_type": "code",
   "execution_count": 46,
   "metadata": {},
   "outputs": [],
   "source": [
    "#print(selected_counties)"
   ]
  },
  {
   "cell_type": "code",
   "execution_count": 47,
   "metadata": {},
   "outputs": [],
   "source": [
    "labels = selected_counties\n",
    "\n",
    "props_pop.columns = labels\n",
    "props_sample.columns = labels\n",
    "\n",
    "def kl_p(x):\n",
    "    if x[0]+x[1] > .0:\n",
    "        return x[0] * np.log(2*x[0]/(x[0]+x[1]))\n",
    "    else:\n",
    "        return .0\n",
    "        \n",
    "\n",
    "kl_ps = []\n",
    "for year in props_pop.index:\n",
    "    kl_ps.append(list(map(kl_p,zip(props_pop.loc[year],props_sample.loc[year]))))\n"
   ]
  },
  {
   "cell_type": "code",
   "execution_count": 48,
   "metadata": {},
   "outputs": [
    {
     "data": {
      "text/html": [
       "<div>\n",
       "<style scoped>\n",
       "    .dataframe tbody tr th:only-of-type {\n",
       "        vertical-align: middle;\n",
       "    }\n",
       "\n",
       "    .dataframe tbody tr th {\n",
       "        vertical-align: top;\n",
       "    }\n",
       "\n",
       "    .dataframe thead th {\n",
       "        text-align: right;\n",
       "    }\n",
       "</style>\n",
       "<table border=\"1\" class=\"dataframe\">\n",
       "  <thead>\n",
       "    <tr style=\"text-align: right;\">\n",
       "      <th></th>\n",
       "      <th>Q67285329</th>\n",
       "      <th>Q67311417</th>\n",
       "      <th>Q67393660</th>\n",
       "      <th>Q67461071</th>\n",
       "      <th>Q67387552</th>\n",
       "      <th>Q67535553</th>\n",
       "      <th>Q67575123</th>\n",
       "      <th>Q67311452</th>\n",
       "      <th>Q67533486</th>\n",
       "      <th>Q163</th>\n",
       "      <th>...</th>\n",
       "      <th>Q100166</th>\n",
       "      <th>Q17582096</th>\n",
       "      <th>Q38825</th>\n",
       "      <th>Q1244778</th>\n",
       "      <th>Q67317108</th>\n",
       "      <th>Q85631961</th>\n",
       "      <th>Q9679</th>\n",
       "      <th>Q786649</th>\n",
       "      <th>Q47134</th>\n",
       "      <th>Q168159</th>\n",
       "    </tr>\n",
       "    <tr>\n",
       "      <th>year</th>\n",
       "      <th></th>\n",
       "      <th></th>\n",
       "      <th></th>\n",
       "      <th></th>\n",
       "      <th></th>\n",
       "      <th></th>\n",
       "      <th></th>\n",
       "      <th></th>\n",
       "      <th></th>\n",
       "      <th></th>\n",
       "      <th></th>\n",
       "      <th></th>\n",
       "      <th></th>\n",
       "      <th></th>\n",
       "      <th></th>\n",
       "      <th></th>\n",
       "      <th></th>\n",
       "      <th></th>\n",
       "      <th></th>\n",
       "      <th></th>\n",
       "      <th></th>\n",
       "    </tr>\n",
       "  </thead>\n",
       "  <tbody>\n",
       "    <tr>\n",
       "      <th>1846</th>\n",
       "      <td>0.006665</td>\n",
       "      <td>-0.007851</td>\n",
       "      <td>0.003756</td>\n",
       "      <td>-0.002689</td>\n",
       "      <td>0.004443</td>\n",
       "      <td>-0.005336</td>\n",
       "      <td>0.002043</td>\n",
       "      <td>-0.035683</td>\n",
       "      <td>0.008887</td>\n",
       "      <td>-0.038840</td>\n",
       "      <td>...</td>\n",
       "      <td>0.000000</td>\n",
       "      <td>0.000000</td>\n",
       "      <td>0.000000</td>\n",
       "      <td>0.000000</td>\n",
       "      <td>0.000000</td>\n",
       "      <td>0.000000</td>\n",
       "      <td>0.000000</td>\n",
       "      <td>0.000000</td>\n",
       "      <td>0.000000</td>\n",
       "      <td>0.000000</td>\n",
       "    </tr>\n",
       "    <tr>\n",
       "      <th>1847</th>\n",
       "      <td>0.006539</td>\n",
       "      <td>-0.007878</td>\n",
       "      <td>0.005050</td>\n",
       "      <td>-0.001483</td>\n",
       "      <td>0.004359</td>\n",
       "      <td>-0.005490</td>\n",
       "      <td>0.015258</td>\n",
       "      <td>-0.034464</td>\n",
       "      <td>0.013078</td>\n",
       "      <td>-0.036780</td>\n",
       "      <td>...</td>\n",
       "      <td>0.000000</td>\n",
       "      <td>0.000000</td>\n",
       "      <td>0.000000</td>\n",
       "      <td>0.000000</td>\n",
       "      <td>0.000000</td>\n",
       "      <td>0.000000</td>\n",
       "      <td>0.000000</td>\n",
       "      <td>0.000000</td>\n",
       "      <td>0.000000</td>\n",
       "      <td>0.000000</td>\n",
       "    </tr>\n",
       "    <tr>\n",
       "      <th>1851</th>\n",
       "      <td>0.006438</td>\n",
       "      <td>-0.007048</td>\n",
       "      <td>0.003615</td>\n",
       "      <td>-0.002609</td>\n",
       "      <td>0.004292</td>\n",
       "      <td>-0.005164</td>\n",
       "      <td>0.019314</td>\n",
       "      <td>-0.020655</td>\n",
       "      <td>0.010730</td>\n",
       "      <td>-0.045150</td>\n",
       "      <td>...</td>\n",
       "      <td>0.000000</td>\n",
       "      <td>0.000000</td>\n",
       "      <td>0.000000</td>\n",
       "      <td>0.000000</td>\n",
       "      <td>0.000000</td>\n",
       "      <td>0.000000</td>\n",
       "      <td>0.000000</td>\n",
       "      <td>0.000000</td>\n",
       "      <td>0.000000</td>\n",
       "      <td>0.000000</td>\n",
       "    </tr>\n",
       "    <tr>\n",
       "      <th>1856</th>\n",
       "      <td>0.006614</td>\n",
       "      <td>-0.006427</td>\n",
       "      <td>0.001587</td>\n",
       "      <td>-0.000356</td>\n",
       "      <td>0.002646</td>\n",
       "      <td>-0.003028</td>\n",
       "      <td>0.015874</td>\n",
       "      <td>-0.018355</td>\n",
       "      <td>0.019842</td>\n",
       "      <td>-0.040717</td>\n",
       "      <td>...</td>\n",
       "      <td>0.000000</td>\n",
       "      <td>0.000000</td>\n",
       "      <td>0.000000</td>\n",
       "      <td>0.000000</td>\n",
       "      <td>0.000000</td>\n",
       "      <td>0.000000</td>\n",
       "      <td>0.000000</td>\n",
       "      <td>0.000000</td>\n",
       "      <td>0.000000</td>\n",
       "      <td>0.000000</td>\n",
       "    </tr>\n",
       "    <tr>\n",
       "      <th>1858</th>\n",
       "      <td>0.007374</td>\n",
       "      <td>-0.006247</td>\n",
       "      <td>0.002171</td>\n",
       "      <td>0.002171</td>\n",
       "      <td>0.004916</td>\n",
       "      <td>-0.003022</td>\n",
       "      <td>-0.002231</td>\n",
       "      <td>-0.016532</td>\n",
       "      <td>0.018435</td>\n",
       "      <td>-0.041774</td>\n",
       "      <td>...</td>\n",
       "      <td>0.001229</td>\n",
       "      <td>0.000000</td>\n",
       "      <td>0.000000</td>\n",
       "      <td>0.000000</td>\n",
       "      <td>0.000000</td>\n",
       "      <td>0.000000</td>\n",
       "      <td>0.000000</td>\n",
       "      <td>0.000000</td>\n",
       "      <td>0.000000</td>\n",
       "      <td>0.000000</td>\n",
       "    </tr>\n",
       "    <tr>\n",
       "      <th>1860</th>\n",
       "      <td>0.007052</td>\n",
       "      <td>-0.005817</td>\n",
       "      <td>0.003421</td>\n",
       "      <td>0.002637</td>\n",
       "      <td>0.004030</td>\n",
       "      <td>-0.005345</td>\n",
       "      <td>-0.003688</td>\n",
       "      <td>-0.015353</td>\n",
       "      <td>0.017127</td>\n",
       "      <td>-0.039615</td>\n",
       "      <td>...</td>\n",
       "      <td>0.001007</td>\n",
       "      <td>0.001007</td>\n",
       "      <td>0.000000</td>\n",
       "      <td>0.000000</td>\n",
       "      <td>0.000000</td>\n",
       "      <td>0.000000</td>\n",
       "      <td>0.000000</td>\n",
       "      <td>0.000000</td>\n",
       "      <td>0.000000</td>\n",
       "      <td>0.000000</td>\n",
       "    </tr>\n",
       "    <tr>\n",
       "      <th>1863</th>\n",
       "      <td>0.006796</td>\n",
       "      <td>-0.005163</td>\n",
       "      <td>0.001423</td>\n",
       "      <td>0.003382</td>\n",
       "      <td>0.003398</td>\n",
       "      <td>-0.005565</td>\n",
       "      <td>-0.002188</td>\n",
       "      <td>-0.014614</td>\n",
       "      <td>0.016139</td>\n",
       "      <td>-0.036266</td>\n",
       "      <td>...</td>\n",
       "      <td>0.001699</td>\n",
       "      <td>0.001699</td>\n",
       "      <td>0.002548</td>\n",
       "      <td>0.000849</td>\n",
       "      <td>0.001699</td>\n",
       "      <td>0.000000</td>\n",
       "      <td>0.000000</td>\n",
       "      <td>0.000000</td>\n",
       "      <td>0.000000</td>\n",
       "      <td>0.000000</td>\n",
       "    </tr>\n",
       "    <tr>\n",
       "      <th>1865</th>\n",
       "      <td>0.006224</td>\n",
       "      <td>-0.005993</td>\n",
       "      <td>0.001023</td>\n",
       "      <td>0.002199</td>\n",
       "      <td>0.003890</td>\n",
       "      <td>-0.005343</td>\n",
       "      <td>-0.002754</td>\n",
       "      <td>-0.027070</td>\n",
       "      <td>0.015559</td>\n",
       "      <td>-0.035956</td>\n",
       "      <td>...</td>\n",
       "      <td>0.001556</td>\n",
       "      <td>0.001556</td>\n",
       "      <td>0.001556</td>\n",
       "      <td>0.000778</td>\n",
       "      <td>0.000000</td>\n",
       "      <td>0.000000</td>\n",
       "      <td>0.000000</td>\n",
       "      <td>0.000000</td>\n",
       "      <td>0.000000</td>\n",
       "      <td>0.000000</td>\n",
       "    </tr>\n",
       "    <tr>\n",
       "      <th>1868</th>\n",
       "      <td>0.007421</td>\n",
       "      <td>-0.006496</td>\n",
       "      <td>0.000438</td>\n",
       "      <td>-0.000100</td>\n",
       "      <td>0.004453</td>\n",
       "      <td>-0.005912</td>\n",
       "      <td>-0.002153</td>\n",
       "      <td>-0.016872</td>\n",
       "      <td>0.013358</td>\n",
       "      <td>-0.026446</td>\n",
       "      <td>...</td>\n",
       "      <td>0.001484</td>\n",
       "      <td>0.001484</td>\n",
       "      <td>0.001484</td>\n",
       "      <td>0.000742</td>\n",
       "      <td>0.000000</td>\n",
       "      <td>0.000000</td>\n",
       "      <td>0.000000</td>\n",
       "      <td>0.000000</td>\n",
       "      <td>0.000000</td>\n",
       "      <td>0.000000</td>\n",
       "    </tr>\n",
       "    <tr>\n",
       "      <th>1870</th>\n",
       "      <td>0.007146</td>\n",
       "      <td>-0.005989</td>\n",
       "      <td>0.004411</td>\n",
       "      <td>-0.000983</td>\n",
       "      <td>0.005002</td>\n",
       "      <td>-0.004118</td>\n",
       "      <td>-0.002866</td>\n",
       "      <td>-0.011463</td>\n",
       "      <td>0.014292</td>\n",
       "      <td>-0.031096</td>\n",
       "      <td>...</td>\n",
       "      <td>0.001429</td>\n",
       "      <td>0.001429</td>\n",
       "      <td>0.002144</td>\n",
       "      <td>0.000715</td>\n",
       "      <td>0.000000</td>\n",
       "      <td>0.000715</td>\n",
       "      <td>0.000000</td>\n",
       "      <td>0.000000</td>\n",
       "      <td>0.000000</td>\n",
       "      <td>0.000000</td>\n",
       "    </tr>\n",
       "    <tr>\n",
       "      <th>1873</th>\n",
       "      <td>0.005111</td>\n",
       "      <td>-0.005396</td>\n",
       "      <td>0.003824</td>\n",
       "      <td>-0.001406</td>\n",
       "      <td>0.005111</td>\n",
       "      <td>-0.004502</td>\n",
       "      <td>-0.000967</td>\n",
       "      <td>-0.009838</td>\n",
       "      <td>0.012777</td>\n",
       "      <td>-0.027660</td>\n",
       "      <td>...</td>\n",
       "      <td>0.001278</td>\n",
       "      <td>0.001278</td>\n",
       "      <td>0.001917</td>\n",
       "      <td>0.000639</td>\n",
       "      <td>0.000639</td>\n",
       "      <td>0.000000</td>\n",
       "      <td>0.006388</td>\n",
       "      <td>0.000639</td>\n",
       "      <td>0.000639</td>\n",
       "      <td>0.000000</td>\n",
       "    </tr>\n",
       "    <tr>\n",
       "      <th>1875</th>\n",
       "      <td>0.005453</td>\n",
       "      <td>-0.005363</td>\n",
       "      <td>0.003792</td>\n",
       "      <td>-0.000766</td>\n",
       "      <td>0.004847</td>\n",
       "      <td>-0.004193</td>\n",
       "      <td>0.000097</td>\n",
       "      <td>-0.009578</td>\n",
       "      <td>0.012724</td>\n",
       "      <td>-0.026444</td>\n",
       "      <td>...</td>\n",
       "      <td>0.001818</td>\n",
       "      <td>0.001212</td>\n",
       "      <td>0.001818</td>\n",
       "      <td>0.000606</td>\n",
       "      <td>0.000606</td>\n",
       "      <td>0.000000</td>\n",
       "      <td>0.006059</td>\n",
       "      <td>0.000606</td>\n",
       "      <td>0.000606</td>\n",
       "      <td>0.000000</td>\n",
       "    </tr>\n",
       "    <tr>\n",
       "      <th>1878</th>\n",
       "      <td>0.005023</td>\n",
       "      <td>-0.005637</td>\n",
       "      <td>0.004922</td>\n",
       "      <td>-0.000623</td>\n",
       "      <td>0.005023</td>\n",
       "      <td>-0.004964</td>\n",
       "      <td>-0.001013</td>\n",
       "      <td>-0.005581</td>\n",
       "      <td>0.011720</td>\n",
       "      <td>-0.025692</td>\n",
       "      <td>...</td>\n",
       "      <td>0.001674</td>\n",
       "      <td>0.000558</td>\n",
       "      <td>0.001674</td>\n",
       "      <td>0.000000</td>\n",
       "      <td>0.000558</td>\n",
       "      <td>0.000558</td>\n",
       "      <td>0.005581</td>\n",
       "      <td>0.000558</td>\n",
       "      <td>0.000558</td>\n",
       "      <td>0.000000</td>\n",
       "    </tr>\n",
       "    <tr>\n",
       "      <th>1880</th>\n",
       "      <td>0.004269</td>\n",
       "      <td>-0.005588</td>\n",
       "      <td>0.005329</td>\n",
       "      <td>-0.000423</td>\n",
       "      <td>0.005336</td>\n",
       "      <td>-0.004682</td>\n",
       "      <td>-0.000423</td>\n",
       "      <td>-0.003937</td>\n",
       "      <td>0.012273</td>\n",
       "      <td>-0.026769</td>\n",
       "      <td>...</td>\n",
       "      <td>0.002134</td>\n",
       "      <td>0.000534</td>\n",
       "      <td>0.001601</td>\n",
       "      <td>0.000000</td>\n",
       "      <td>0.001067</td>\n",
       "      <td>0.001067</td>\n",
       "      <td>0.005870</td>\n",
       "      <td>0.000534</td>\n",
       "      <td>0.000534</td>\n",
       "      <td>0.000000</td>\n",
       "    </tr>\n",
       "    <tr>\n",
       "      <th>1883</th>\n",
       "      <td>0.004440</td>\n",
       "      <td>-0.005982</td>\n",
       "      <td>0.004878</td>\n",
       "      <td>-0.003035</td>\n",
       "      <td>0.005427</td>\n",
       "      <td>-0.005613</td>\n",
       "      <td>-0.001095</td>\n",
       "      <td>-0.009336</td>\n",
       "      <td>0.012827</td>\n",
       "      <td>-0.021201</td>\n",
       "      <td>...</td>\n",
       "      <td>0.001973</td>\n",
       "      <td>0.000493</td>\n",
       "      <td>0.001973</td>\n",
       "      <td>0.001973</td>\n",
       "      <td>0.000493</td>\n",
       "      <td>0.001480</td>\n",
       "      <td>0.006413</td>\n",
       "      <td>0.000493</td>\n",
       "      <td>0.000493</td>\n",
       "      <td>0.000493</td>\n",
       "    </tr>\n",
       "    <tr>\n",
       "      <th>1885</th>\n",
       "      <td>0.005141</td>\n",
       "      <td>-0.005654</td>\n",
       "      <td>0.006175</td>\n",
       "      <td>-0.001964</td>\n",
       "      <td>0.005609</td>\n",
       "      <td>-0.005304</td>\n",
       "      <td>0.000312</td>\n",
       "      <td>-0.007547</td>\n",
       "      <td>0.018228</td>\n",
       "      <td>-0.028283</td>\n",
       "      <td>...</td>\n",
       "      <td>0.001870</td>\n",
       "      <td>0.000467</td>\n",
       "      <td>0.001870</td>\n",
       "      <td>0.000467</td>\n",
       "      <td>0.000935</td>\n",
       "      <td>0.001402</td>\n",
       "      <td>0.007011</td>\n",
       "      <td>0.000467</td>\n",
       "      <td>0.000467</td>\n",
       "      <td>0.000467</td>\n",
       "    </tr>\n",
       "    <tr>\n",
       "      <th>1888</th>\n",
       "      <td>0.005251</td>\n",
       "      <td>-0.006301</td>\n",
       "      <td>0.004965</td>\n",
       "      <td>-0.000703</td>\n",
       "      <td>0.005689</td>\n",
       "      <td>-0.006044</td>\n",
       "      <td>-0.000081</td>\n",
       "      <td>-0.008465</td>\n",
       "      <td>0.014878</td>\n",
       "      <td>-0.007889</td>\n",
       "      <td>...</td>\n",
       "      <td>0.001313</td>\n",
       "      <td>0.000438</td>\n",
       "      <td>0.001313</td>\n",
       "      <td>0.000438</td>\n",
       "      <td>0.000875</td>\n",
       "      <td>0.001750</td>\n",
       "      <td>0.005689</td>\n",
       "      <td>0.000438</td>\n",
       "      <td>0.000875</td>\n",
       "      <td>0.000438</td>\n",
       "    </tr>\n",
       "    <tr>\n",
       "      <th>1890</th>\n",
       "      <td>0.005604</td>\n",
       "      <td>-0.006576</td>\n",
       "      <td>0.003833</td>\n",
       "      <td>-0.001303</td>\n",
       "      <td>0.004311</td>\n",
       "      <td>-0.006214</td>\n",
       "      <td>-0.000704</td>\n",
       "      <td>-0.009804</td>\n",
       "      <td>0.013363</td>\n",
       "      <td>-0.009804</td>\n",
       "      <td>...</td>\n",
       "      <td>0.001293</td>\n",
       "      <td>0.000862</td>\n",
       "      <td>0.001293</td>\n",
       "      <td>0.000431</td>\n",
       "      <td>0.000862</td>\n",
       "      <td>0.001724</td>\n",
       "      <td>0.005173</td>\n",
       "      <td>0.000431</td>\n",
       "      <td>0.000862</td>\n",
       "      <td>0.000431</td>\n",
       "    </tr>\n",
       "    <tr>\n",
       "      <th>1893</th>\n",
       "      <td>0.006112</td>\n",
       "      <td>-0.006510</td>\n",
       "      <td>0.004495</td>\n",
       "      <td>-0.001868</td>\n",
       "      <td>0.006112</td>\n",
       "      <td>-0.006116</td>\n",
       "      <td>-0.000176</td>\n",
       "      <td>-0.010902</td>\n",
       "      <td>0.012632</td>\n",
       "      <td>-0.020128</td>\n",
       "      <td>...</td>\n",
       "      <td>0.001222</td>\n",
       "      <td>0.000815</td>\n",
       "      <td>0.001222</td>\n",
       "      <td>0.000407</td>\n",
       "      <td>0.001222</td>\n",
       "      <td>0.001630</td>\n",
       "      <td>0.004482</td>\n",
       "      <td>0.000815</td>\n",
       "      <td>0.000815</td>\n",
       "      <td>0.000815</td>\n",
       "    </tr>\n",
       "    <tr>\n",
       "      <th>1895</th>\n",
       "      <td>0.005776</td>\n",
       "      <td>-0.007000</td>\n",
       "      <td>0.003135</td>\n",
       "      <td>-0.002252</td>\n",
       "      <td>0.006189</td>\n",
       "      <td>-0.006358</td>\n",
       "      <td>-0.002252</td>\n",
       "      <td>0.016323</td>\n",
       "      <td>0.012378</td>\n",
       "      <td>-0.023360</td>\n",
       "      <td>...</td>\n",
       "      <td>0.001238</td>\n",
       "      <td>0.000825</td>\n",
       "      <td>0.001650</td>\n",
       "      <td>0.000413</td>\n",
       "      <td>0.001238</td>\n",
       "      <td>0.000825</td>\n",
       "      <td>0.004538</td>\n",
       "      <td>0.000413</td>\n",
       "      <td>0.000825</td>\n",
       "      <td>0.000825</td>\n",
       "    </tr>\n",
       "    <tr>\n",
       "      <th>1898</th>\n",
       "      <td>0.003836</td>\n",
       "      <td>-0.007240</td>\n",
       "      <td>0.002148</td>\n",
       "      <td>-0.002987</td>\n",
       "      <td>0.005754</td>\n",
       "      <td>-0.006959</td>\n",
       "      <td>-0.002246</td>\n",
       "      <td>0.014403</td>\n",
       "      <td>0.012658</td>\n",
       "      <td>-0.025906</td>\n",
       "      <td>...</td>\n",
       "      <td>0.000767</td>\n",
       "      <td>0.000767</td>\n",
       "      <td>0.001534</td>\n",
       "      <td>0.000384</td>\n",
       "      <td>0.001151</td>\n",
       "      <td>0.000767</td>\n",
       "      <td>0.004987</td>\n",
       "      <td>0.000767</td>\n",
       "      <td>0.000767</td>\n",
       "      <td>0.000767</td>\n",
       "    </tr>\n",
       "    <tr>\n",
       "      <th>1900</th>\n",
       "      <td>0.005192</td>\n",
       "      <td>-0.007477</td>\n",
       "      <td>0.001007</td>\n",
       "      <td>-0.003094</td>\n",
       "      <td>0.005563</td>\n",
       "      <td>-0.006821</td>\n",
       "      <td>-0.002134</td>\n",
       "      <td>0.013371</td>\n",
       "      <td>0.013351</td>\n",
       "      <td>-0.027453</td>\n",
       "      <td>...</td>\n",
       "      <td>0.000742</td>\n",
       "      <td>0.000742</td>\n",
       "      <td>0.001113</td>\n",
       "      <td>0.000742</td>\n",
       "      <td>0.001483</td>\n",
       "      <td>0.000371</td>\n",
       "      <td>0.004450</td>\n",
       "      <td>0.000371</td>\n",
       "      <td>0.000742</td>\n",
       "      <td>0.000742</td>\n",
       "    </tr>\n",
       "  </tbody>\n",
       "</table>\n",
       "<p>22 rows × 85 columns</p>\n",
       "</div>"
      ],
      "text/plain": [
       "      Q67285329  Q67311417  Q67393660  Q67461071  Q67387552  Q67535553  \\\n",
       "year                                                                     \n",
       "1846   0.006665  -0.007851   0.003756  -0.002689   0.004443  -0.005336   \n",
       "1847   0.006539  -0.007878   0.005050  -0.001483   0.004359  -0.005490   \n",
       "1851   0.006438  -0.007048   0.003615  -0.002609   0.004292  -0.005164   \n",
       "1856   0.006614  -0.006427   0.001587  -0.000356   0.002646  -0.003028   \n",
       "1858   0.007374  -0.006247   0.002171   0.002171   0.004916  -0.003022   \n",
       "1860   0.007052  -0.005817   0.003421   0.002637   0.004030  -0.005345   \n",
       "1863   0.006796  -0.005163   0.001423   0.003382   0.003398  -0.005565   \n",
       "1865   0.006224  -0.005993   0.001023   0.002199   0.003890  -0.005343   \n",
       "1868   0.007421  -0.006496   0.000438  -0.000100   0.004453  -0.005912   \n",
       "1870   0.007146  -0.005989   0.004411  -0.000983   0.005002  -0.004118   \n",
       "1873   0.005111  -0.005396   0.003824  -0.001406   0.005111  -0.004502   \n",
       "1875   0.005453  -0.005363   0.003792  -0.000766   0.004847  -0.004193   \n",
       "1878   0.005023  -0.005637   0.004922  -0.000623   0.005023  -0.004964   \n",
       "1880   0.004269  -0.005588   0.005329  -0.000423   0.005336  -0.004682   \n",
       "1883   0.004440  -0.005982   0.004878  -0.003035   0.005427  -0.005613   \n",
       "1885   0.005141  -0.005654   0.006175  -0.001964   0.005609  -0.005304   \n",
       "1888   0.005251  -0.006301   0.004965  -0.000703   0.005689  -0.006044   \n",
       "1890   0.005604  -0.006576   0.003833  -0.001303   0.004311  -0.006214   \n",
       "1893   0.006112  -0.006510   0.004495  -0.001868   0.006112  -0.006116   \n",
       "1895   0.005776  -0.007000   0.003135  -0.002252   0.006189  -0.006358   \n",
       "1898   0.003836  -0.007240   0.002148  -0.002987   0.005754  -0.006959   \n",
       "1900   0.005192  -0.007477   0.001007  -0.003094   0.005563  -0.006821   \n",
       "\n",
       "      Q67575123  Q67311452  Q67533486      Q163  ...   Q100166  Q17582096  \\\n",
       "year                                             ...                        \n",
       "1846   0.002043  -0.035683   0.008887 -0.038840  ...  0.000000   0.000000   \n",
       "1847   0.015258  -0.034464   0.013078 -0.036780  ...  0.000000   0.000000   \n",
       "1851   0.019314  -0.020655   0.010730 -0.045150  ...  0.000000   0.000000   \n",
       "1856   0.015874  -0.018355   0.019842 -0.040717  ...  0.000000   0.000000   \n",
       "1858  -0.002231  -0.016532   0.018435 -0.041774  ...  0.001229   0.000000   \n",
       "1860  -0.003688  -0.015353   0.017127 -0.039615  ...  0.001007   0.001007   \n",
       "1863  -0.002188  -0.014614   0.016139 -0.036266  ...  0.001699   0.001699   \n",
       "1865  -0.002754  -0.027070   0.015559 -0.035956  ...  0.001556   0.001556   \n",
       "1868  -0.002153  -0.016872   0.013358 -0.026446  ...  0.001484   0.001484   \n",
       "1870  -0.002866  -0.011463   0.014292 -0.031096  ...  0.001429   0.001429   \n",
       "1873  -0.000967  -0.009838   0.012777 -0.027660  ...  0.001278   0.001278   \n",
       "1875   0.000097  -0.009578   0.012724 -0.026444  ...  0.001818   0.001212   \n",
       "1878  -0.001013  -0.005581   0.011720 -0.025692  ...  0.001674   0.000558   \n",
       "1880  -0.000423  -0.003937   0.012273 -0.026769  ...  0.002134   0.000534   \n",
       "1883  -0.001095  -0.009336   0.012827 -0.021201  ...  0.001973   0.000493   \n",
       "1885   0.000312  -0.007547   0.018228 -0.028283  ...  0.001870   0.000467   \n",
       "1888  -0.000081  -0.008465   0.014878 -0.007889  ...  0.001313   0.000438   \n",
       "1890  -0.000704  -0.009804   0.013363 -0.009804  ...  0.001293   0.000862   \n",
       "1893  -0.000176  -0.010902   0.012632 -0.020128  ...  0.001222   0.000815   \n",
       "1895  -0.002252   0.016323   0.012378 -0.023360  ...  0.001238   0.000825   \n",
       "1898  -0.002246   0.014403   0.012658 -0.025906  ...  0.000767   0.000767   \n",
       "1900  -0.002134   0.013371   0.013351 -0.027453  ...  0.000742   0.000742   \n",
       "\n",
       "        Q38825  Q1244778  Q67317108  Q85631961     Q9679   Q786649    Q47134  \\\n",
       "year                                                                           \n",
       "1846  0.000000  0.000000   0.000000   0.000000  0.000000  0.000000  0.000000   \n",
       "1847  0.000000  0.000000   0.000000   0.000000  0.000000  0.000000  0.000000   \n",
       "1851  0.000000  0.000000   0.000000   0.000000  0.000000  0.000000  0.000000   \n",
       "1856  0.000000  0.000000   0.000000   0.000000  0.000000  0.000000  0.000000   \n",
       "1858  0.000000  0.000000   0.000000   0.000000  0.000000  0.000000  0.000000   \n",
       "1860  0.000000  0.000000   0.000000   0.000000  0.000000  0.000000  0.000000   \n",
       "1863  0.002548  0.000849   0.001699   0.000000  0.000000  0.000000  0.000000   \n",
       "1865  0.001556  0.000778   0.000000   0.000000  0.000000  0.000000  0.000000   \n",
       "1868  0.001484  0.000742   0.000000   0.000000  0.000000  0.000000  0.000000   \n",
       "1870  0.002144  0.000715   0.000000   0.000715  0.000000  0.000000  0.000000   \n",
       "1873  0.001917  0.000639   0.000639   0.000000  0.006388  0.000639  0.000639   \n",
       "1875  0.001818  0.000606   0.000606   0.000000  0.006059  0.000606  0.000606   \n",
       "1878  0.001674  0.000000   0.000558   0.000558  0.005581  0.000558  0.000558   \n",
       "1880  0.001601  0.000000   0.001067   0.001067  0.005870  0.000534  0.000534   \n",
       "1883  0.001973  0.001973   0.000493   0.001480  0.006413  0.000493  0.000493   \n",
       "1885  0.001870  0.000467   0.000935   0.001402  0.007011  0.000467  0.000467   \n",
       "1888  0.001313  0.000438   0.000875   0.001750  0.005689  0.000438  0.000875   \n",
       "1890  0.001293  0.000431   0.000862   0.001724  0.005173  0.000431  0.000862   \n",
       "1893  0.001222  0.000407   0.001222   0.001630  0.004482  0.000815  0.000815   \n",
       "1895  0.001650  0.000413   0.001238   0.000825  0.004538  0.000413  0.000825   \n",
       "1898  0.001534  0.000384   0.001151   0.000767  0.004987  0.000767  0.000767   \n",
       "1900  0.001113  0.000742   0.001483   0.000371  0.004450  0.000371  0.000742   \n",
       "\n",
       "       Q168159  \n",
       "year            \n",
       "1846  0.000000  \n",
       "1847  0.000000  \n",
       "1851  0.000000  \n",
       "1856  0.000000  \n",
       "1858  0.000000  \n",
       "1860  0.000000  \n",
       "1863  0.000000  \n",
       "1865  0.000000  \n",
       "1868  0.000000  \n",
       "1870  0.000000  \n",
       "1873  0.000000  \n",
       "1875  0.000000  \n",
       "1878  0.000000  \n",
       "1880  0.000000  \n",
       "1883  0.000493  \n",
       "1885  0.000467  \n",
       "1888  0.000438  \n",
       "1890  0.000431  \n",
       "1893  0.000815  \n",
       "1895  0.000825  \n",
       "1898  0.000767  \n",
       "1900  0.000742  \n",
       "\n",
       "[22 rows x 85 columns]"
      ]
     },
     "execution_count": 48,
     "metadata": {},
     "output_type": "execute_result"
    }
   ],
   "source": [
    "\n",
    "kl_ps_df = pd.DataFrame(kl_ps, columns=labels)\n",
    "kl_ps_df.index = props_pop.index\n",
    "kl_ps_df"
   ]
  },
  {
   "cell_type": "code",
   "execution_count": 49,
   "metadata": {},
   "outputs": [],
   "source": [
    "kl_ps_df.drop('Q84',inplace=True, axis=1)"
   ]
  },
  {
   "cell_type": "code",
   "execution_count": 101,
   "metadata": {},
   "outputs": [],
   "source": [
    "#kl_ps_df['hampshire']"
   ]
  },
  {
   "cell_type": "code",
   "execution_count": 50,
   "metadata": {},
   "outputs": [
    {
     "data": {
      "text/plain": [
       "Index([           1846,            1847,            1851,            1856,\n",
       "                  1858,            1860,            1863,            1865,\n",
       "                  1868,            1870,            1873,            1875,\n",
       "                  1878,            1880,            1883,            1885,\n",
       "                  1888,            1890,            1893,            1895,\n",
       "                  1898,            1900,           'sum',          'mean',\n",
       "                'name',          'wiki',   'wikidata_id', 'english_label',\n",
       "            'latitude',     'longitude'],\n",
       "      dtype='object')"
      ]
     },
     "execution_count": 50,
     "metadata": {},
     "output_type": "execute_result"
    }
   ],
   "source": [
    "to_kepler = kl_ps_df.T\n",
    "to_kepler['sum'] = to_kepler.sum(axis=1)\n",
    "to_kepler['mean'] = to_kepler.mean(axis=1)\n",
    "to_kepler = to_kepler.merge(places_joined_df,left_index=True,right_on='wikidata_id')\n",
    "to_kepler.columns"
   ]
  },
  {
   "cell_type": "code",
   "execution_count": 51,
   "metadata": {},
   "outputs": [],
   "source": [
    "to_kepler['sum_std'] = (to_kepler['sum'] - to_kepler['sum'].mean()) / to_kepler['sum'].std() \n",
    "to_kepler['mean_std'] = (to_kepler['mean'] - to_kepler['mean'].mean()) / to_kepler['mean'].std() "
   ]
  },
  {
   "cell_type": "code",
   "execution_count": 52,
   "metadata": {},
   "outputs": [
    {
     "data": {
      "text/plain": [
       "<matplotlib.axes._subplots.AxesSubplot at 0x7f95cd31abd0>"
      ]
     },
     "execution_count": 52,
     "metadata": {},
     "output_type": "execute_result"
    },
    {
     "data": {
      "image/png": "[encoded data removed]",
      "text/plain": [
       "<Figure size 432x288 with 1 Axes>"
      ]
     },
     "metadata": {},
     "output_type": "display_data"
    }
   ],
   "source": [
    "to_kepler['mean_std'].plot(kind='density')"
   ]
  },
  {
   "cell_type": "code",
   "execution_count": 53,
   "metadata": {},
   "outputs": [
    {
     "data": {
      "text/plain": [
       "<matplotlib.axes._subplots.AxesSubplot at 0x7f95cd9f0e50>"
      ]
     },
     "execution_count": 53,
     "metadata": {},
     "output_type": "execute_result"
    },
    {
     "data": {
      "image/png": "[encoded data removed]",
      "text/plain": [
       "<Figure size 432x288 with 1 Axes>"
      ]
     },
     "metadata": {},
     "output_type": "display_data"
    }
   ],
   "source": [
    "to_kepler['mean_std_int'] = to_kepler['mean_std'].astype(np.int64)\n",
    "to_kepler.loc[to_kepler['mean_std_int'] >= 3,'mean_std_int'] = 3\n",
    "to_kepler.loc[to_kepler['mean_std_int'] <= -3,'mean_std_int'] = -3\n",
    "to_kepler['mean_std_int'].plot(kind='hist')\n"
   ]
  },
  {
   "cell_type": "code",
   "execution_count": 54,
   "metadata": {},
   "outputs": [
    {
     "data": {
      "text/plain": [
       "array([ 0, -1,  1, -3,  2,  3, -2])"
      ]
     },
     "execution_count": 54,
     "metadata": {},
     "output_type": "execute_result"
    }
   ],
   "source": [
    "to_kepler['mean_std_int'].unique()"
   ]
  },
  {
   "cell_type": "code",
   "execution_count": null,
   "metadata": {},
   "outputs": [],
   "source": [
    "# https://raw.githubusercontent.com/Living-with-machines/MapReader/dev/mapreader/persistent_data/nls_6in_2ed.json?token=ACYUO4HLOEAS45R6VWGYYTTBNUSBM   "
   ]
  },
  {
   "cell_type": "code",
   "execution_count": 56,
   "metadata": {},
   "outputs": [],
   "source": [
    "to_kepler[['mean','mean_std','mean_std_int','wikidata_id','english_label','latitude','longitude']].to_csv('output_visualisation/kepler_place.csv')"
   ]
  },
  {
   "cell_type": "code",
   "execution_count": 151,
   "metadata": {},
   "outputs": [
    {
     "data": {
      "text/plain": [
       "Index(['Q67479626', 'Q163', 'Q23346', 'Q67574558', 'Q67311452', 'Q67443130',\n",
       "       'Q67533486', 'Q67531563', 'Q67574715', 'Q67532100'],\n",
       "      dtype='object')"
      ]
     },
     "execution_count": 151,
     "metadata": {},
     "output_type": "execute_result"
    }
   ],
   "source": [
    "\n",
    "highest_divs = kl_ps_df.abs().sum(axis=0)\n",
    "sel = highest_divs.sort_values(ascending=False)[:10].index\n",
    "sel"
   ]
  },
  {
   "cell_type": "code",
   "execution_count": 152,
   "metadata": {},
   "outputs": [
    {
     "data": {
      "image/png": "[encoded data removed]",
      "text/plain": [
       "<Figure size 432x288 with 1 Axes>"
      ]
     },
     "metadata": {},
     "output_type": "display_data"
    }
   ],
   "source": [
    "fig = kl_ps_df[sel].plot(legend=True).get_figure()"
   ]
  },
  {
   "cell_type": "code",
   "execution_count": null,
   "metadata": {},
   "outputs": [],
   "source": []
  },
  {
   "cell_type": "markdown",
   "metadata": {},
   "source": [
    "# Combined"
   ]
  },
  {
   "cell_type": "code",
   "execution_count": 23,
   "metadata": {},
   "outputs": [
    {
     "name": "stderr",
     "output_type": "stream",
     "text": [
      "/data/anaconda/envs/py37torch/lib/python3.7/site-packages/ipykernel_launcher.py:2: SettingWithCopyWarning: \n",
      "A value is trying to be set on a copy of a slice from a DataFrame.\n",
      "Try using .loc[row_indexer,col_indexer] = value instead\n",
      "\n",
      "See the caveats in the documentation: https://pandas.pydata.org/pandas-docs/stable/user_guide/indexing.html#returning-a-view-versus-a-copy\n",
      "  \n",
      "/data/anaconda/envs/py37torch/lib/python3.7/site-packages/pandas/core/generic.py:6245: SettingWithCopyWarning: \n",
      "A value is trying to be set on a copy of a slice from a DataFrame\n",
      "\n",
      "See the caveats in the documentation: https://pandas.pydata.org/pandas-docs/stable/user_guide/indexing.html#returning-a-view-versus-a-copy\n",
      "  self._update_inplace(new_data)\n",
      "/data/anaconda/envs/py37torch/lib/python3.7/site-packages/pandas/core/generic.py:6666: SettingWithCopyWarning: \n",
      "A value is trying to be set on a copy of a slice from a DataFrame.\n",
      "Try using .loc[row_indexer,col_indexer] = value instead\n",
      "\n",
      "See the caveats in the documentation: https://pandas.pydata.org/pandas-docs/stable/user_guide/indexing.html#returning-a-view-versus-a-copy\n",
      "  regex=regex,\n"
     ]
    }
   ],
   "source": [
    "import pickle\n",
    "df_prov_gb['S-POL-2'] = df_prov_gb['S-POL'].copy()\n",
    "df_prov_gb['S-POL-2'].fillna('nan',inplace=True)\n",
    "mapping = pickle.load(open('newspaper_metadata/pol_mapping.pickle','rb'))\n",
    "df_prov_gb.replace({'S-POL-2':mapping},inplace=True)"
   ]
  },
  {
   "cell_type": "code",
   "execution_count": 25,
   "metadata": {},
   "outputs": [
    {
     "name": "stderr",
     "output_type": "stream",
     "text": [
      "/data/anaconda/envs/py37torch/lib/python3.7/site-packages/ipykernel_launcher.py:1: SettingWithCopyWarning: \n",
      "A value is trying to be set on a copy of a slice from a DataFrame.\n",
      "Try using .loc[row_indexer,col_indexer] = value instead\n",
      "\n",
      "See the caveats in the documentation: https://pandas.pydata.org/pandas-docs/stable/user_guide/indexing.html#returning-a-view-versus-a-copy\n",
      "  \"\"\"Entry point for launching an IPython kernel.\n"
     ]
    }
   ],
   "source": [
    "df_prov_gb['combined'] = df_prov_gb.apply(lambda x: f'{x[\"S-POL-2\"]}_{x[\"COUNTY\"]}',axis=1)"
   ]
  },
  {
   "cell_type": "code",
   "execution_count": 26,
   "metadata": {},
   "outputs": [
    {
     "data": {
      "text/plain": [
       "<matplotlib.axes._subplots.AxesSubplot at 0x7f3191236350>"
      ]
     },
     "execution_count": 26,
     "metadata": {},
     "output_type": "execute_result"
    },
    {
     "data": {
      "image/png": "[encoded data removed]",
      "text/plain": [
       "<Figure size 432x288 with 1 Axes>"
      ]
     },
     "metadata": {},
     "output_type": "display_data"
    }
   ],
   "source": [
    "selected = df_prov_gb['combined'].unique()\n",
    "props_pop,props_sample,d= divergence(df_prov_gb,selected,target='combined')\n",
    "d.plot(legend=False,ylim=(.0,max(d.values)[0]+.01))\n"
   ]
  },
  {
   "cell_type": "code",
   "execution_count": 27,
   "metadata": {},
   "outputs": [],
   "source": [
    "labels = selected\n",
    "\n",
    "props_pop.columns = labels\n",
    "props_sample.columns = labels\n",
    "\n",
    "def kl_p(x):\n",
    "    if x[0]+x[1] > .0:\n",
    "        return x[0] * np.log(2*x[0]/(x[0]+x[1]))\n",
    "    else:\n",
    "        return .0\n",
    "        \n",
    "\n",
    "kl_ps = []\n",
    "for year in props_pop.index:\n",
    "    kl_ps.append(list(map(kl_p,zip(props_pop.loc[year],props_sample.loc[year]))))\n"
   ]
  },
  {
   "cell_type": "code",
   "execution_count": 31,
   "metadata": {},
   "outputs": [
    {
     "data": {
      "text/plain": [
       "Index(['liberal_yorkshire', 'non-aligned_yorkshire', 'non-aligned_lancashire',\n",
       "       'conservative_lancashire', 'liberal_kent'],\n",
       "      dtype='object')"
      ]
     },
     "execution_count": 31,
     "metadata": {},
     "output_type": "execute_result"
    }
   ],
   "source": [
    "kl_ps_df = pd.DataFrame(kl_ps, columns=labels)\n",
    "highest_divs = kl_ps_df.abs().sum(axis=0)\n",
    "sel = highest_divs.sort_values(ascending=False)[:5].index\n",
    "sel"
   ]
  },
  {
   "cell_type": "code",
   "execution_count": 32,
   "metadata": {},
   "outputs": [
    {
     "data": {
      "image/png": "[encoded data removed]",
      "text/plain": [
       "<Figure size 432x288 with 1 Axes>"
      ]
     },
     "metadata": {},
     "output_type": "display_data"
    }
   ],
   "source": [
    "fig = kl_ps_df[sel].plot(legend=True).get_figure()"
   ]
  },
  {
   "cell_type": "markdown",
   "metadata": {},
   "source": [
    "# Fin."
   ]
  },
  {
   "cell_type": "code",
   "execution_count": 286,
   "metadata": {},
   "outputs": [],
   "source": [
    "#df_prov.loc[~df.COUNTY.isin(selected_counties),'COUNTY'] = 'other'"
   ]
  },
  {
   "cell_type": "code",
   "execution_count": 287,
   "metadata": {},
   "outputs": [],
   "source": [
    "def compute_typicality(selected_county,df,jisc=True):\n",
    "\n",
    "    def typicality_scores(selected_sample,df_sel):\n",
    "        results = []\n",
    "        \n",
    "        for i,row in selected_sample.iterrows():\n",
    "            pol = row['S-POL']    \n",
    "            price = row['first_price_int']\n",
    "            if pol is np.nan or price is np.nan: continue\n",
    "\n",
    "\n",
    "            p_a = df_sel[df_sel['S-POL']==pol].shape[0] / df_sel.shape[0]\n",
    "            p_a_b_nom = df_sel[(df_sel['S-POL']==pol) & (df_sel['first_price_int']==price)].shape[0] \n",
    "            p_a_b_denom = df_sel[df_sel['S-POL']==pol].shape[0] \n",
    "            p_a_b =  p_a_b_nom / p_a_b_denom\n",
    "            results.append(p_a*p_a_b)\n",
    "\n",
    "        return results\n",
    "\n",
    "\n",
    "    results_general = [] #defaultdict(list)\n",
    "    results_yearly =  defaultdict(list)\n",
    "\n",
    "    for year in df.year.unique():\n",
    "\n",
    "        if year > 1900: continue\n",
    "        df_sel_county = df[(df.COUNTY==selected_county) & (df.year == year)]\n",
    "        if df_sel_county.shape[0] <= 0: continue\n",
    "        \n",
    "        sample = df_sel_county[~df.JISC.isnull()]\n",
    "        if sample.shape[0] <= 0: continue\n",
    "        sample_typ = typicality_scores(sample,df_sel_county)\n",
    "        for _ in range(100):\n",
    "            random_sample = df_sel_county.sample(sample.shape[0])\n",
    "            random_sample_typ = typicality_scores(random_sample,df_sel_county)\n",
    "            results_general.append(np.nanmean(sample_typ) - np.nanmean(random_sample_typ))\n",
    "            results_yearly[year].append(np.nanmean(sample_typ) - np.nanmean(random_sample_typ))\n",
    "        \n",
    "    results_yearly = {y:np.nanmean(scores) for y, scores in results_yearly.items()}\n",
    "    return results_general,results_yearly\n",
    "    \n"
   ]
  },
  {
   "cell_type": "code",
   "execution_count": 251,
   "metadata": {
    "tags": []
   },
   "outputs": [
    {
     "ename": "KeyboardInterrupt",
     "evalue": "",
     "output_type": "error",
     "traceback": [
      "\u001b[0;31m---------------------------------------------------------------------------\u001b[0m",
      "\u001b[0;31mKeyboardInterrupt\u001b[0m                         Traceback (most recent call last)",
      "\u001b[0;32m<ipython-input-251-be349494c733>\u001b[0m in \u001b[0;36m<module>\u001b[0;34m\u001b[0m\n\u001b[0;32m----> 1\u001b[0;31m \u001b[0mpd\u001b[0m\u001b[0;34m.\u001b[0m\u001b[0mSeries\u001b[0m\u001b[0;34m(\u001b[0m\u001b[0mcompute_typicality\u001b[0m\u001b[0;34m(\u001b[0m\u001b[0;34m'lancashire'\u001b[0m\u001b[0;34m,\u001b[0m\u001b[0mdf\u001b[0m\u001b[0;34m)\u001b[0m\u001b[0;34m[\u001b[0m\u001b[0;36m0\u001b[0m\u001b[0;34m]\u001b[0m\u001b[0;34m)\u001b[0m\u001b[0;34m.\u001b[0m\u001b[0mplot\u001b[0m\u001b[0;34m(\u001b[0m\u001b[0mkind\u001b[0m\u001b[0;34m=\u001b[0m\u001b[0;34m'hist'\u001b[0m\u001b[0;34m,\u001b[0m\u001b[0malpha\u001b[0m\u001b[0;34m=\u001b[0m\u001b[0;36m.5\u001b[0m\u001b[0;34m,\u001b[0m\u001b[0mbins\u001b[0m\u001b[0;34m=\u001b[0m\u001b[0;36m50\u001b[0m\u001b[0;34m)\u001b[0m\u001b[0;34m\u001b[0m\u001b[0;34m\u001b[0m\u001b[0m\n\u001b[0m\u001b[1;32m      2\u001b[0m \u001b[0mpd\u001b[0m\u001b[0;34m.\u001b[0m\u001b[0mSeries\u001b[0m\u001b[0;34m(\u001b[0m\u001b[0mcompute_typicality\u001b[0m\u001b[0;34m(\u001b[0m\u001b[0;34m'oxfordshire'\u001b[0m\u001b[0;34m,\u001b[0m\u001b[0mdf\u001b[0m\u001b[0;34m)\u001b[0m\u001b[0;34m[\u001b[0m\u001b[0;36m0\u001b[0m\u001b[0;34m]\u001b[0m\u001b[0;34m)\u001b[0m\u001b[0;34m.\u001b[0m\u001b[0mplot\u001b[0m\u001b[0;34m(\u001b[0m\u001b[0mkind\u001b[0m\u001b[0;34m=\u001b[0m\u001b[0;34m'hist'\u001b[0m\u001b[0;34m,\u001b[0m\u001b[0malpha\u001b[0m\u001b[0;34m=\u001b[0m\u001b[0;36m.75\u001b[0m\u001b[0;34m,\u001b[0m\u001b[0mbins\u001b[0m\u001b[0;34m=\u001b[0m\u001b[0;36m50\u001b[0m\u001b[0;34m)\u001b[0m\u001b[0;34m\u001b[0m\u001b[0;34m\u001b[0m\u001b[0m\n\u001b[1;32m      3\u001b[0m \u001b[0;34m\u001b[0m\u001b[0m\n\u001b[1;32m      4\u001b[0m \u001b[0;34m\u001b[0m\u001b[0m\n",
      "\u001b[0;32m<ipython-input-250-37ebeecadaf0>\u001b[0m in \u001b[0;36mcompute_typicality\u001b[0;34m(selected_county, df, jisc)\u001b[0m\n\u001b[1;32m     33\u001b[0m         \u001b[0;32mfor\u001b[0m \u001b[0m_\u001b[0m \u001b[0;32min\u001b[0m \u001b[0mrange\u001b[0m\u001b[0;34m(\u001b[0m\u001b[0;36m100\u001b[0m\u001b[0;34m)\u001b[0m\u001b[0;34m:\u001b[0m\u001b[0;34m\u001b[0m\u001b[0;34m\u001b[0m\u001b[0m\n\u001b[1;32m     34\u001b[0m             \u001b[0mrandom_sample\u001b[0m \u001b[0;34m=\u001b[0m \u001b[0mdf_sel_county\u001b[0m\u001b[0;34m.\u001b[0m\u001b[0msample\u001b[0m\u001b[0;34m(\u001b[0m\u001b[0msample\u001b[0m\u001b[0;34m.\u001b[0m\u001b[0mshape\u001b[0m\u001b[0;34m[\u001b[0m\u001b[0;36m0\u001b[0m\u001b[0;34m]\u001b[0m\u001b[0;34m)\u001b[0m\u001b[0;34m\u001b[0m\u001b[0;34m\u001b[0m\u001b[0m\n\u001b[0;32m---> 35\u001b[0;31m             \u001b[0mrandom_sample_typ\u001b[0m \u001b[0;34m=\u001b[0m \u001b[0mtypicality_scores\u001b[0m\u001b[0;34m(\u001b[0m\u001b[0mrandom_sample\u001b[0m\u001b[0;34m,\u001b[0m\u001b[0mdf_sel_county\u001b[0m\u001b[0;34m)\u001b[0m\u001b[0;34m\u001b[0m\u001b[0;34m\u001b[0m\u001b[0m\n\u001b[0m\u001b[1;32m     36\u001b[0m             \u001b[0mresults_general\u001b[0m\u001b[0;34m.\u001b[0m\u001b[0mappend\u001b[0m\u001b[0;34m(\u001b[0m\u001b[0mnp\u001b[0m\u001b[0;34m.\u001b[0m\u001b[0mnanmean\u001b[0m\u001b[0;34m(\u001b[0m\u001b[0msample_typ\u001b[0m\u001b[0;34m)\u001b[0m \u001b[0;34m-\u001b[0m \u001b[0mnp\u001b[0m\u001b[0;34m.\u001b[0m\u001b[0mnanmean\u001b[0m\u001b[0;34m(\u001b[0m\u001b[0mrandom_sample_typ\u001b[0m\u001b[0;34m)\u001b[0m\u001b[0;34m)\u001b[0m\u001b[0;34m\u001b[0m\u001b[0;34m\u001b[0m\u001b[0m\n\u001b[1;32m     37\u001b[0m             \u001b[0mresults_yearly\u001b[0m\u001b[0;34m[\u001b[0m\u001b[0myear\u001b[0m\u001b[0;34m]\u001b[0m\u001b[0;34m.\u001b[0m\u001b[0mappend\u001b[0m\u001b[0;34m(\u001b[0m\u001b[0mnp\u001b[0m\u001b[0;34m.\u001b[0m\u001b[0mnanmean\u001b[0m\u001b[0;34m(\u001b[0m\u001b[0msample_typ\u001b[0m\u001b[0;34m)\u001b[0m \u001b[0;34m-\u001b[0m \u001b[0mnp\u001b[0m\u001b[0;34m.\u001b[0m\u001b[0mnanmean\u001b[0m\u001b[0;34m(\u001b[0m\u001b[0mrandom_sample_typ\u001b[0m\u001b[0;34m)\u001b[0m\u001b[0;34m)\u001b[0m\u001b[0;34m\u001b[0m\u001b[0;34m\u001b[0m\u001b[0m\n",
      "\u001b[0;32m<ipython-input-250-37ebeecadaf0>\u001b[0m in \u001b[0;36mtypicality_scores\u001b[0;34m(selected_sample, df_sel)\u001b[0m\n\u001b[1;32m     12\u001b[0m             \u001b[0mp_a\u001b[0m \u001b[0;34m=\u001b[0m \u001b[0mdf_sel\u001b[0m\u001b[0;34m[\u001b[0m\u001b[0mdf_sel\u001b[0m\u001b[0;34m[\u001b[0m\u001b[0;34m'S-POL'\u001b[0m\u001b[0;34m]\u001b[0m\u001b[0;34m==\u001b[0m\u001b[0mpol\u001b[0m\u001b[0;34m]\u001b[0m\u001b[0;34m.\u001b[0m\u001b[0mshape\u001b[0m\u001b[0;34m[\u001b[0m\u001b[0;36m0\u001b[0m\u001b[0;34m]\u001b[0m \u001b[0;34m/\u001b[0m \u001b[0mdf_sel\u001b[0m\u001b[0;34m.\u001b[0m\u001b[0mshape\u001b[0m\u001b[0;34m[\u001b[0m\u001b[0;36m0\u001b[0m\u001b[0;34m]\u001b[0m\u001b[0;34m\u001b[0m\u001b[0;34m\u001b[0m\u001b[0m\n\u001b[1;32m     13\u001b[0m             \u001b[0mp_a_b_nom\u001b[0m \u001b[0;34m=\u001b[0m \u001b[0mdf_sel\u001b[0m\u001b[0;34m[\u001b[0m\u001b[0;34m(\u001b[0m\u001b[0mdf_sel\u001b[0m\u001b[0;34m[\u001b[0m\u001b[0;34m'S-POL'\u001b[0m\u001b[0;34m]\u001b[0m\u001b[0;34m==\u001b[0m\u001b[0mpol\u001b[0m\u001b[0;34m)\u001b[0m \u001b[0;34m&\u001b[0m \u001b[0;34m(\u001b[0m\u001b[0mdf_sel\u001b[0m\u001b[0;34m[\u001b[0m\u001b[0;34m'first_price_int'\u001b[0m\u001b[0;34m]\u001b[0m\u001b[0;34m==\u001b[0m\u001b[0mprice\u001b[0m\u001b[0;34m)\u001b[0m\u001b[0;34m]\u001b[0m\u001b[0;34m.\u001b[0m\u001b[0mshape\u001b[0m\u001b[0;34m[\u001b[0m\u001b[0;36m0\u001b[0m\u001b[0;34m]\u001b[0m\u001b[0;34m\u001b[0m\u001b[0;34m\u001b[0m\u001b[0m\n\u001b[0;32m---> 14\u001b[0;31m             \u001b[0mp_a_b_denom\u001b[0m \u001b[0;34m=\u001b[0m \u001b[0mdf_sel\u001b[0m\u001b[0;34m[\u001b[0m\u001b[0mdf_sel\u001b[0m\u001b[0;34m[\u001b[0m\u001b[0;34m'S-POL'\u001b[0m\u001b[0;34m]\u001b[0m\u001b[0;34m==\u001b[0m\u001b[0mpol\u001b[0m\u001b[0;34m]\u001b[0m\u001b[0;34m.\u001b[0m\u001b[0mshape\u001b[0m\u001b[0;34m[\u001b[0m\u001b[0;36m0\u001b[0m\u001b[0;34m]\u001b[0m\u001b[0;34m\u001b[0m\u001b[0;34m\u001b[0m\u001b[0m\n\u001b[0m\u001b[1;32m     15\u001b[0m             \u001b[0mp_a_b\u001b[0m \u001b[0;34m=\u001b[0m  \u001b[0mp_a_b_nom\u001b[0m \u001b[0;34m/\u001b[0m \u001b[0mp_a_b_denom\u001b[0m\u001b[0;34m\u001b[0m\u001b[0;34m\u001b[0m\u001b[0m\n\u001b[1;32m     16\u001b[0m             \u001b[0mresults\u001b[0m\u001b[0;34m.\u001b[0m\u001b[0mappend\u001b[0m\u001b[0;34m(\u001b[0m\u001b[0mp_a\u001b[0m\u001b[0;34m*\u001b[0m\u001b[0mp_a_b\u001b[0m\u001b[0;34m)\u001b[0m\u001b[0;34m\u001b[0m\u001b[0;34m\u001b[0m\u001b[0m\n",
      "\u001b[0;32m/data/anaconda/envs/py37torch/lib/python3.7/site-packages/pandas/core/frame.py\u001b[0m in \u001b[0;36m__getitem__\u001b[0;34m(self, key)\u001b[0m\n\u001b[1;32m   2789\u001b[0m         \u001b[0;31m# Do we have a (boolean) 1d indexer?\u001b[0m\u001b[0;34m\u001b[0m\u001b[0;34m\u001b[0m\u001b[0;34m\u001b[0m\u001b[0m\n\u001b[1;32m   2790\u001b[0m         \u001b[0;32mif\u001b[0m \u001b[0mcom\u001b[0m\u001b[0;34m.\u001b[0m\u001b[0mis_bool_indexer\u001b[0m\u001b[0;34m(\u001b[0m\u001b[0mkey\u001b[0m\u001b[0;34m)\u001b[0m\u001b[0;34m:\u001b[0m\u001b[0;34m\u001b[0m\u001b[0;34m\u001b[0m\u001b[0m\n\u001b[0;32m-> 2791\u001b[0;31m             \u001b[0;32mreturn\u001b[0m \u001b[0mself\u001b[0m\u001b[0;34m.\u001b[0m\u001b[0m_getitem_bool_array\u001b[0m\u001b[0;34m(\u001b[0m\u001b[0mkey\u001b[0m\u001b[0;34m)\u001b[0m\u001b[0;34m\u001b[0m\u001b[0;34m\u001b[0m\u001b[0m\n\u001b[0m\u001b[1;32m   2792\u001b[0m \u001b[0;34m\u001b[0m\u001b[0m\n\u001b[1;32m   2793\u001b[0m         \u001b[0;31m# We are left with two options: a single key, and a collection of keys,\u001b[0m\u001b[0;34m\u001b[0m\u001b[0;34m\u001b[0m\u001b[0;34m\u001b[0m\u001b[0m\n",
      "\u001b[0;32m/data/anaconda/envs/py37torch/lib/python3.7/site-packages/pandas/core/frame.py\u001b[0m in \u001b[0;36m_getitem_bool_array\u001b[0;34m(self, key)\u001b[0m\n\u001b[1;32m   2843\u001b[0m         \u001b[0mkey\u001b[0m \u001b[0;34m=\u001b[0m \u001b[0mcheck_bool_indexer\u001b[0m\u001b[0;34m(\u001b[0m\u001b[0mself\u001b[0m\u001b[0;34m.\u001b[0m\u001b[0mindex\u001b[0m\u001b[0;34m,\u001b[0m \u001b[0mkey\u001b[0m\u001b[0;34m)\u001b[0m\u001b[0;34m\u001b[0m\u001b[0;34m\u001b[0m\u001b[0m\n\u001b[1;32m   2844\u001b[0m         \u001b[0mindexer\u001b[0m \u001b[0;34m=\u001b[0m \u001b[0mkey\u001b[0m\u001b[0;34m.\u001b[0m\u001b[0mnonzero\u001b[0m\u001b[0;34m(\u001b[0m\u001b[0;34m)\u001b[0m\u001b[0;34m[\u001b[0m\u001b[0;36m0\u001b[0m\u001b[0;34m]\u001b[0m\u001b[0;34m\u001b[0m\u001b[0;34m\u001b[0m\u001b[0m\n\u001b[0;32m-> 2845\u001b[0;31m         \u001b[0;32mreturn\u001b[0m \u001b[0mself\u001b[0m\u001b[0;34m.\u001b[0m\u001b[0m_take_with_is_copy\u001b[0m\u001b[0;34m(\u001b[0m\u001b[0mindexer\u001b[0m\u001b[0;34m,\u001b[0m \u001b[0maxis\u001b[0m\u001b[0;34m=\u001b[0m\u001b[0;36m0\u001b[0m\u001b[0;34m)\u001b[0m\u001b[0;34m\u001b[0m\u001b[0;34m\u001b[0m\u001b[0m\n\u001b[0m\u001b[1;32m   2846\u001b[0m \u001b[0;34m\u001b[0m\u001b[0m\n\u001b[1;32m   2847\u001b[0m     \u001b[0;32mdef\u001b[0m \u001b[0m_getitem_multilevel\u001b[0m\u001b[0;34m(\u001b[0m\u001b[0mself\u001b[0m\u001b[0;34m,\u001b[0m \u001b[0mkey\u001b[0m\u001b[0;34m)\u001b[0m\u001b[0;34m:\u001b[0m\u001b[0;34m\u001b[0m\u001b[0;34m\u001b[0m\u001b[0m\n",
      "\u001b[0;32m/data/anaconda/envs/py37torch/lib/python3.7/site-packages/pandas/core/generic.py\u001b[0m in \u001b[0;36m_take_with_is_copy\u001b[0;34m(self, indices, axis, **kwargs)\u001b[0m\n\u001b[1;32m   3407\u001b[0m         \u001b[0mSee\u001b[0m \u001b[0mthe\u001b[0m \u001b[0mdocstring\u001b[0m \u001b[0mof\u001b[0m\u001b[0;31m \u001b[0m\u001b[0;31m`\u001b[0m\u001b[0mtake\u001b[0m\u001b[0;31m`\u001b[0m \u001b[0;32mfor\u001b[0m \u001b[0mfull\u001b[0m \u001b[0mexplanation\u001b[0m \u001b[0mof\u001b[0m \u001b[0mthe\u001b[0m \u001b[0mparameters\u001b[0m\u001b[0;34m.\u001b[0m\u001b[0;34m\u001b[0m\u001b[0;34m\u001b[0m\u001b[0m\n\u001b[1;32m   3408\u001b[0m         \"\"\"\n\u001b[0;32m-> 3409\u001b[0;31m         \u001b[0mresult\u001b[0m \u001b[0;34m=\u001b[0m \u001b[0mself\u001b[0m\u001b[0;34m.\u001b[0m\u001b[0mtake\u001b[0m\u001b[0;34m(\u001b[0m\u001b[0mindices\u001b[0m\u001b[0;34m=\u001b[0m\u001b[0mindices\u001b[0m\u001b[0;34m,\u001b[0m \u001b[0maxis\u001b[0m\u001b[0;34m=\u001b[0m\u001b[0maxis\u001b[0m\u001b[0;34m,\u001b[0m \u001b[0;34m**\u001b[0m\u001b[0mkwargs\u001b[0m\u001b[0;34m)\u001b[0m\u001b[0;34m\u001b[0m\u001b[0;34m\u001b[0m\u001b[0m\n\u001b[0m\u001b[1;32m   3410\u001b[0m         \u001b[0;31m# Maybe set copy if we didn't actually change the index.\u001b[0m\u001b[0;34m\u001b[0m\u001b[0;34m\u001b[0m\u001b[0;34m\u001b[0m\u001b[0m\n\u001b[1;32m   3411\u001b[0m         \u001b[0;32mif\u001b[0m \u001b[0;32mnot\u001b[0m \u001b[0mresult\u001b[0m\u001b[0;34m.\u001b[0m\u001b[0m_get_axis\u001b[0m\u001b[0;34m(\u001b[0m\u001b[0maxis\u001b[0m\u001b[0;34m)\u001b[0m\u001b[0;34m.\u001b[0m\u001b[0mequals\u001b[0m\u001b[0;34m(\u001b[0m\u001b[0mself\u001b[0m\u001b[0;34m.\u001b[0m\u001b[0m_get_axis\u001b[0m\u001b[0;34m(\u001b[0m\u001b[0maxis\u001b[0m\u001b[0;34m)\u001b[0m\u001b[0;34m)\u001b[0m\u001b[0;34m:\u001b[0m\u001b[0;34m\u001b[0m\u001b[0;34m\u001b[0m\u001b[0m\n",
      "\u001b[0;32m/data/anaconda/envs/py37torch/lib/python3.7/site-packages/pandas/core/generic.py\u001b[0m in \u001b[0;36mtake\u001b[0;34m(self, indices, axis, is_copy, **kwargs)\u001b[0m\n\u001b[1;32m   3393\u001b[0m \u001b[0;34m\u001b[0m\u001b[0m\n\u001b[1;32m   3394\u001b[0m         new_data = self._data.take(\n\u001b[0;32m-> 3395\u001b[0;31m             \u001b[0mindices\u001b[0m\u001b[0;34m,\u001b[0m \u001b[0maxis\u001b[0m\u001b[0;34m=\u001b[0m\u001b[0mself\u001b[0m\u001b[0;34m.\u001b[0m\u001b[0m_get_block_manager_axis\u001b[0m\u001b[0;34m(\u001b[0m\u001b[0maxis\u001b[0m\u001b[0;34m)\u001b[0m\u001b[0;34m,\u001b[0m \u001b[0mverify\u001b[0m\u001b[0;34m=\u001b[0m\u001b[0;32mTrue\u001b[0m\u001b[0;34m\u001b[0m\u001b[0;34m\u001b[0m\u001b[0m\n\u001b[0m\u001b[1;32m   3396\u001b[0m         )\n\u001b[1;32m   3397\u001b[0m         \u001b[0;32mreturn\u001b[0m \u001b[0mself\u001b[0m\u001b[0;34m.\u001b[0m\u001b[0m_constructor\u001b[0m\u001b[0;34m(\u001b[0m\u001b[0mnew_data\u001b[0m\u001b[0;34m)\u001b[0m\u001b[0;34m.\u001b[0m\u001b[0m__finalize__\u001b[0m\u001b[0;34m(\u001b[0m\u001b[0mself\u001b[0m\u001b[0;34m)\u001b[0m\u001b[0;34m\u001b[0m\u001b[0;34m\u001b[0m\u001b[0m\n",
      "\u001b[0;32m/data/anaconda/envs/py37torch/lib/python3.7/site-packages/pandas/core/internals/managers.py\u001b[0m in \u001b[0;36mtake\u001b[0;34m(self, indexer, axis, verify, convert)\u001b[0m\n\u001b[1;32m   1392\u001b[0m         \u001b[0mnew_labels\u001b[0m \u001b[0;34m=\u001b[0m \u001b[0mself\u001b[0m\u001b[0;34m.\u001b[0m\u001b[0maxes\u001b[0m\u001b[0;34m[\u001b[0m\u001b[0maxis\u001b[0m\u001b[0;34m]\u001b[0m\u001b[0;34m.\u001b[0m\u001b[0mtake\u001b[0m\u001b[0;34m(\u001b[0m\u001b[0mindexer\u001b[0m\u001b[0;34m)\u001b[0m\u001b[0;34m\u001b[0m\u001b[0;34m\u001b[0m\u001b[0m\n\u001b[1;32m   1393\u001b[0m         return self.reindex_indexer(\n\u001b[0;32m-> 1394\u001b[0;31m             \u001b[0mnew_axis\u001b[0m\u001b[0;34m=\u001b[0m\u001b[0mnew_labels\u001b[0m\u001b[0;34m,\u001b[0m \u001b[0mindexer\u001b[0m\u001b[0;34m=\u001b[0m\u001b[0mindexer\u001b[0m\u001b[0;34m,\u001b[0m \u001b[0maxis\u001b[0m\u001b[0;34m=\u001b[0m\u001b[0maxis\u001b[0m\u001b[0;34m,\u001b[0m \u001b[0mallow_dups\u001b[0m\u001b[0;34m=\u001b[0m\u001b[0;32mTrue\u001b[0m\u001b[0;34m\u001b[0m\u001b[0;34m\u001b[0m\u001b[0m\n\u001b[0m\u001b[1;32m   1395\u001b[0m         )\n\u001b[1;32m   1396\u001b[0m \u001b[0;34m\u001b[0m\u001b[0m\n",
      "\u001b[0;32m/data/anaconda/envs/py37torch/lib/python3.7/site-packages/pandas/core/internals/managers.py\u001b[0m in \u001b[0;36mreindex_indexer\u001b[0;34m(self, new_axis, indexer, axis, fill_value, allow_dups, copy)\u001b[0m\n\u001b[1;32m   1265\u001b[0m                     ),\n\u001b[1;32m   1266\u001b[0m                 )\n\u001b[0;32m-> 1267\u001b[0;31m                 \u001b[0;32mfor\u001b[0m \u001b[0mblk\u001b[0m \u001b[0;32min\u001b[0m \u001b[0mself\u001b[0m\u001b[0;34m.\u001b[0m\u001b[0mblocks\u001b[0m\u001b[0;34m\u001b[0m\u001b[0;34m\u001b[0m\u001b[0m\n\u001b[0m\u001b[1;32m   1268\u001b[0m             ]\n\u001b[1;32m   1269\u001b[0m \u001b[0;34m\u001b[0m\u001b[0m\n",
      "\u001b[0;32m/data/anaconda/envs/py37torch/lib/python3.7/site-packages/pandas/core/internals/managers.py\u001b[0m in \u001b[0;36m<listcomp>\u001b[0;34m(.0)\u001b[0m\n\u001b[1;32m   1265\u001b[0m                     ),\n\u001b[1;32m   1266\u001b[0m                 )\n\u001b[0;32m-> 1267\u001b[0;31m                 \u001b[0;32mfor\u001b[0m \u001b[0mblk\u001b[0m \u001b[0;32min\u001b[0m \u001b[0mself\u001b[0m\u001b[0;34m.\u001b[0m\u001b[0mblocks\u001b[0m\u001b[0;34m\u001b[0m\u001b[0;34m\u001b[0m\u001b[0m\n\u001b[0m\u001b[1;32m   1268\u001b[0m             ]\n\u001b[1;32m   1269\u001b[0m \u001b[0;34m\u001b[0m\u001b[0m\n",
      "\u001b[0;32m/data/anaconda/envs/py37torch/lib/python3.7/site-packages/pandas/core/internals/blocks.py\u001b[0m in \u001b[0;36mtake_nd\u001b[0;34m(self, indexer, axis, new_mgr_locs, fill_tuple)\u001b[0m\n\u001b[1;32m   1289\u001b[0m \u001b[0;34m\u001b[0m\u001b[0m\n\u001b[1;32m   1290\u001b[0m         new_values = algos.take_nd(\n\u001b[0;32m-> 1291\u001b[0;31m             \u001b[0mvalues\u001b[0m\u001b[0;34m,\u001b[0m \u001b[0mindexer\u001b[0m\u001b[0;34m,\u001b[0m \u001b[0maxis\u001b[0m\u001b[0;34m=\u001b[0m\u001b[0maxis\u001b[0m\u001b[0;34m,\u001b[0m \u001b[0mallow_fill\u001b[0m\u001b[0;34m=\u001b[0m\u001b[0mallow_fill\u001b[0m\u001b[0;34m,\u001b[0m \u001b[0mfill_value\u001b[0m\u001b[0;34m=\u001b[0m\u001b[0mfill_value\u001b[0m\u001b[0;34m\u001b[0m\u001b[0;34m\u001b[0m\u001b[0m\n\u001b[0m\u001b[1;32m   1292\u001b[0m         )\n\u001b[1;32m   1293\u001b[0m \u001b[0;34m\u001b[0m\u001b[0m\n",
      "\u001b[0;32m/data/anaconda/envs/py37torch/lib/python3.7/site-packages/pandas/core/algorithms.py\u001b[0m in \u001b[0;36mtake_nd\u001b[0;34m(arr, indexer, axis, out, fill_value, allow_fill)\u001b[0m\n\u001b[1;32m   1619\u001b[0m             \u001b[0;32mif\u001b[0m \u001b[0mdtype\u001b[0m \u001b[0;34m!=\u001b[0m \u001b[0marr\u001b[0m\u001b[0;34m.\u001b[0m\u001b[0mdtype\u001b[0m \u001b[0;32mand\u001b[0m \u001b[0;34m(\u001b[0m\u001b[0mout\u001b[0m \u001b[0;32mis\u001b[0m \u001b[0;32mNone\u001b[0m \u001b[0;32mor\u001b[0m \u001b[0mout\u001b[0m\u001b[0;34m.\u001b[0m\u001b[0mdtype\u001b[0m \u001b[0;34m!=\u001b[0m \u001b[0mdtype\u001b[0m\u001b[0;34m)\u001b[0m\u001b[0;34m:\u001b[0m\u001b[0;34m\u001b[0m\u001b[0;34m\u001b[0m\u001b[0m\n\u001b[1;32m   1620\u001b[0m                 \u001b[0;31m# check if promotion is actually required based on indexer\u001b[0m\u001b[0;34m\u001b[0m\u001b[0;34m\u001b[0m\u001b[0;34m\u001b[0m\u001b[0m\n\u001b[0;32m-> 1621\u001b[0;31m                 \u001b[0mmask\u001b[0m \u001b[0;34m=\u001b[0m \u001b[0mindexer\u001b[0m \u001b[0;34m==\u001b[0m \u001b[0;34m-\u001b[0m\u001b[0;36m1\u001b[0m\u001b[0;34m\u001b[0m\u001b[0;34m\u001b[0m\u001b[0m\n\u001b[0m\u001b[1;32m   1622\u001b[0m                 \u001b[0mneeds_masking\u001b[0m \u001b[0;34m=\u001b[0m \u001b[0mmask\u001b[0m\u001b[0;34m.\u001b[0m\u001b[0many\u001b[0m\u001b[0;34m(\u001b[0m\u001b[0;34m)\u001b[0m\u001b[0;34m\u001b[0m\u001b[0;34m\u001b[0m\u001b[0m\n\u001b[1;32m   1623\u001b[0m                 \u001b[0mmask_info\u001b[0m \u001b[0;34m=\u001b[0m \u001b[0mmask\u001b[0m\u001b[0;34m,\u001b[0m \u001b[0mneeds_masking\u001b[0m\u001b[0;34m\u001b[0m\u001b[0;34m\u001b[0m\u001b[0m\n",
      "\u001b[0;31mKeyboardInterrupt\u001b[0m: "
     ]
    }
   ],
   "source": [
    "\n",
    "pd.Series(compute_typicality('lancashire',df)[0]).plot(kind='hist',alpha=.5,bins=50)\n",
    "pd.Series(compute_typicality('oxfordshire',df)[0]).plot(kind='hist',alpha=.75,bins=50)\n",
    "\n",
    "\n"
   ]
  },
  {
   "cell_type": "code",
   "execution_count": null,
   "metadata": {},
   "outputs": [],
   "source": [
    "pd.Series(compute_typicality('bedfordshire',df)[1]).plot()\n",
    "#pd.Series(compute_typicality('devonshire',df)[1]).plot()"
   ]
  },
  {
   "cell_type": "code",
   "execution_count": null,
   "metadata": {},
   "outputs": [],
   "source": [
    "compute_typicality('essex',df)[1]"
   ]
  },
  {
   "cell_type": "code",
   "execution_count": null,
   "metadata": {},
   "outputs": [],
   "source": []
  }
 ],
 "metadata": {
  "interpreter": {
   "hash": "5d002d29fc59799ec58342307c50be960f7297ba8a27d201097020f600ad239f"
  },
  "kernelspec": {
   "display_name": "Python 3 (ipykernel)",
   "language": "python",
   "name": "python3"
  },
  "language_info": {
   "codemirror_mode": {
    "name": "ipython",
    "version": 3
   },
   "file_extension": ".py",
   "mimetype": "text/x-python",
   "name": "python",
   "nbconvert_exporter": "python",
   "pygments_lexer": "ipython3",
   "version": "3.9.7"
  },
  "metadata": {
   "interpreter": {
    "hash": "5d002d29fc59799ec58342307c50be960f7297ba8a27d201097020f600ad239f"
   }
  }
 },
 "nbformat": 4,
 "nbformat_minor": 2
}
