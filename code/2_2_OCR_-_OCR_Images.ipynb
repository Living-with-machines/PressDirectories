{
 "cells": [
  {
   "cell_type": "code",
   "execution_count": 65,
   "metadata": {},
   "outputs": [],
   "source": [
    "%matplotlib inline\n",
    "from PIL import Image\n",
    "import pytesseract\n",
    "from tqdm.notebook import tqdm\n",
    "from pathlib import Path\n",
    "import warnings\n",
    "import pickle"
   ]
  },
  {
   "cell_type": "code",
   "execution_count": 66,
   "metadata": {},
   "outputs": [],
   "source": [
    "PATH_TESSERACT,LANG = (\"/deezy_datadrive/kaspar-playground/tesseract/tesstrain/data\",\"npd_2\")\n",
    "tessdata_dir_config = f'--tessdata-dir \"{PATH_TESSERACT}\"  --psm 4'"
   ]
  },
  {
   "cell_type": "code",
   "execution_count": 67,
   "metadata": {},
   "outputs": [],
   "source": [
    "with open('../editions_all.pickle','rb') as in_pickle:\n",
    "    editions = pickle.load(in_pickle)"
   ]
  },
  {
   "cell_type": "code",
   "execution_count": 68,
   "metadata": {},
   "outputs": [
    {
     "data": {
      "text/plain": [
       "{1846: [(39, 106), (111, 212), (213, 300)],\n",
       " 1847: [(69, 140), (151, 263), (265, 357)],\n",
       " 1851: [(79, 147), (157, 275), (277, 381)],\n",
       " 1855: [(19, 35), (35, 65), (65, 86)],\n",
       " 1856: [(21, 35), (35, 71), (71, 96)],\n",
       " 1857: [(19, 33), (34, 72), (73, 94)],\n",
       " 1858: [(19, 34), (35, 75), (75, 101)],\n",
       " 1860: [(21, 36), (37, 84), (85, 112)],\n",
       " 1861: [(29, 46), (47, 98), (99, 127)],\n",
       " 1862: [(22, 40), (41, 96), (97, 126)],\n",
       " 1863: [(23, 40), (41, 95), (96, 124)],\n",
       " 1864: [(15, 28), (29, 85), (86, 115)],\n",
       " 1865: [(15, 27), (29, 87), (88, 116)],\n",
       " 1866: [(19, 31), (33, 92), (93, 120)],\n",
       " 1867: [(26, 39), (40, 108), (109, 135)],\n",
       " 1868: [(17, 31), (32, 95), (96, 122)],\n",
       " 1869: [(19, 33), (34, 99), (100, 126)],\n",
       " 1870: [(17, 31), (32, 100), (101, 126)],\n",
       " 1871: [(16, 31), (32, 101), (102, 125)],\n",
       " 1872: [(24, 37), (38, 108), (109, 131)],\n",
       " 1873: [(21, 35), (36, 107), (108, 131)],\n",
       " 1874: [(25, 38), (39, 112), (113, 136)],\n",
       " 1875: [(22, 37), (38, 113), (114, 137)],\n",
       " 1877: [(22, 38), (39, 124), (125, 150)],\n",
       " 1878: [(26, 45), (46, 109), (110, 134)],\n",
       " 1879: [(25, 42), (43, 107), (108, 132)],\n",
       " 1880: [(27, 45), (46, 110), (112, 136)],\n",
       " 1881: [(29, 48), (49, 115), (117, 143)],\n",
       " 1882: [(33, 52), (53, 121), (123, 149)],\n",
       " 1883: [(33, 52), (53, 123), (125, 151)],\n",
       " 1884: [(33, 53), (54, 126), (128, 154)],\n",
       " 1885: [(35, 55), (56, 129), (131, 159)],\n",
       " 1886: [(25, 45), (46, 123), (125, 153)],\n",
       " 1888: [(44, 67), (68, 146), (149, 178)],\n",
       " 1889: [(45, 67), (69, 147), (150, 180)],\n",
       " 1890: [(49, 68), (69, 148), (151, 183)],\n",
       " 1891: [(53, 81), (82, 163), (165, 198)],\n",
       " 1893: [(54, 75), (81, 164), (166, 199)],\n",
       " 1894: [(56, 77), (83, 165), (167, 201)],\n",
       " 1895: [(61, 83), (87, 168), (170, 203)],\n",
       " 1896: [(61, 82), (87, 171), (172, 202)],\n",
       " 1897: [(63, 86), (89, 174), (177, 212)],\n",
       " 1898: [(64, 85), (93, 179), (183, 219)],\n",
       " 1899: [(63, 84), (89, 177), (181, 217)],\n",
       " 1900: [(53, 73), (81, 172), (175, 211)],\n",
       " 1901: [(58, 79), (87, 178), (181, 217)],\n",
       " 1902: [(58, 79), (87, 177), (181, 217)],\n",
       " 1903: [(70, 91), (103, 193), (197, 233)],\n",
       " 1904: [(73, 92), (101, 191), (195, 236)],\n",
       " 1905: [(66, 89), (103, 194), (209, 247)],\n",
       " 1906: [(70, 91), (105, 194), (215, 255)],\n",
       " 1907: [(64, 82), (99, 180), (203, 242)],\n",
       " 1908: [(66, 84), (99, 179), (205, 245)],\n",
       " 1909: [(59, 76), (95, 175), (201, 243)],\n",
       " 1910: [(65, 85), (103, 182), (207, 249)],\n",
       " 1911: [(67, 87), (89, 167), (169, 203)],\n",
       " 1912: [(69, 89), (91, 169), (171, 205)],\n",
       " 1913: [(69, 89), (91, 169), (171, 205)],\n",
       " 1914: [(85, 105), (107, 191), (193, 219)],\n",
       " 1915: [(87, 107), (109, 194), (197, 223)],\n",
       " 1916: [(87, 107), (109, 196), (198, 225)],\n",
       " 1917: [(85, 105), (107, 194), (197, 223)],\n",
       " 1918: [(87, 107), (109, 196), (199, 225)],\n",
       " 1919: [(87, 107), (109, 196), (199, 225)],\n",
       " 1920: [(13, 33), (35, 121), (123, 151)]}"
      ]
     },
     "execution_count": 68,
     "metadata": {},
     "output_type": "execute_result"
    }
   ],
   "source": [
    "editions"
   ]
  },
  {
   "cell_type": "code",
   "execution_count": 69,
   "metadata": {},
   "outputs": [],
   "source": [
    "def generate_paths(editions,\n",
    "                   column=True,\n",
    "                   source='Image_processed_final',\n",
    "                   root=Path('/deezy_datadrive/kaspar-playground/npd/Data/Original')):\n",
    "    \n",
    "    \n",
    "    \n",
    "    def generate_path(year,page,column=column): \n",
    "        if column:\n",
    "            return [\n",
    "                root / f'MPD_{year}/{source}/MPD_{year}_{str(page).zfill(3)}_right.png',\n",
    "                root / f'MPD_{year}/{source}/MPD_{year}_{str(page).zfill(3)}_left.png'\n",
    "            ]\n",
    "        \n",
    "        return [root / f'MPD_{year}/{source}/MPD_{year}_{str(page).zfill(3)}.png']\n",
    "    \n",
    "    paths = []\n",
    "    for year,pranges in editions.items():\n",
    "        for prange in pranges:\n",
    "            paths.extend([f for p in range(*prange) for f in generate_path(year,p)])\n",
    "            \n",
    "    return [p for p in paths if p.is_file()]\n"
   ]
  },
  {
   "cell_type": "code",
   "execution_count": 57,
   "metadata": {},
   "outputs": [],
   "source": [
    "editions_old =  {k:v for k,v in editions.items() if k < 1855}\n",
    "image_paths_old = generate_paths(editions_old, column=False)"
   ]
  },
  {
   "cell_type": "code",
   "execution_count": 58,
   "metadata": {},
   "outputs": [
    {
     "data": {
      "text/plain": [
       "819"
      ]
     },
     "execution_count": 58,
     "metadata": {},
     "output_type": "execute_result"
    }
   ],
   "source": [
    "len(image_paths_old)"
   ]
  },
  {
   "cell_type": "code",
   "execution_count": 60,
   "metadata": {},
   "outputs": [],
   "source": [
    "editions_new =  {k:v for k,v in editions.items() if k >= 1855}\n",
    "image_paths_new = generate_paths(editions_new, column=True)"
   ]
  },
  {
   "cell_type": "code",
   "execution_count": 61,
   "metadata": {},
   "outputs": [
    {
     "data": {
      "text/plain": [
       "14664"
      ]
     },
     "execution_count": 61,
     "metadata": {},
     "output_type": "execute_result"
    }
   ],
   "source": [
    "len(image_paths_new)"
   ]
  },
  {
   "cell_type": "code",
   "execution_count": null,
   "metadata": {},
   "outputs": [],
   "source": [
    "image_path = image_paths_old + image_paths_new"
   ]
  },
  {
   "cell_type": "code",
   "execution_count": 43,
   "metadata": {},
   "outputs": [
    {
     "data": {
      "text/plain": [
       "14206"
      ]
     },
     "execution_count": 43,
     "metadata": {},
     "output_type": "execute_result"
    }
   ],
   "source": [
    "len(image_paths)"
   ]
  },
  {
   "cell_type": "code",
   "execution_count": 73,
   "metadata": {},
   "outputs": [
    {
     "data": {
      "application/vnd.jupyter.widget-view+json": {
       "model_id": "544df59144d342e9a52fd9f7bd3e7cd2",
       "version_major": 2,
       "version_minor": 0
      },
      "text/plain": [
       "HBox(children=(FloatProgress(value=0.0, max=458.0), HTML(value='')))"
      ]
     },
     "metadata": {},
     "output_type": "display_data"
    },
    {
     "name": "stdout",
     "output_type": "stream",
     "text": [
      "\n"
     ]
    }
   ],
   "source": [
    "warnings.filterwarnings('ignore')\n",
    "\n",
    "for im_p in tqdm(image_paths): \n",
    "    (im_p.parent.parent / 'Plain Text').mkdir(exist_ok=True)\n",
    "    \n",
    "    txt_path = im_p.parent.parent / 'Plain Text' / (im_p.stem + \".txt\")\n",
    "    if txt_path.is_file(): continue\n",
    "    image = Image.open(im_p)\n",
    "    tessout = pytesseract.image_to_string(image, lang=LANG, \n",
    "                                          config=tessdata_dir_config)\n",
    "    with open(txt_path,'wt') as txt_out:\n",
    "             txt_out.write(tessout)\n"
   ]
  },
  {
   "cell_type": "markdown",
   "metadata": {},
   "source": [
    "## Fin."
   ]
  }
 ],
 "metadata": {
  "kernelspec": {
   "display_name": "Python 3",
   "language": "python",
   "name": "python3"
  },
  "language_info": {
   "codemirror_mode": {
    "name": "ipython",
    "version": 3
   },
   "file_extension": ".py",
   "mimetype": "text/x-python",
   "name": "python",
   "nbconvert_exporter": "python",
   "pygments_lexer": "ipython3",
   "version": "3.7.5"
  }
 },
 "nbformat": 4,
 "nbformat_minor": 4
}
